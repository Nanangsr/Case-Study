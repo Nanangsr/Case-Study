{
 "cells": [
  {
   "cell_type": "markdown",
   "id": "fd8695f6",
   "metadata": {},
   "source": [
    "**Nama : Nanang Safiu Ridho**\n",
    "\n",
    "**Repository GitHub : https://github.com/Nanangsr/Case-Study/tree/main**\n",
    "\n",
    "**Linkedin  : https://www.linkedin.com/in/nanang-safiu-ridho-804112248/**"
   ]
  },
  {
   "cell_type": "markdown",
   "id": "b63e2333",
   "metadata": {},
   "source": [
    "GitHub merender file Jupyter Notebook (.ipynb) secara statis saat dilihat di browser, sehingga output visualisasi seperti plot dari Plotly atau Matplotlib sering tidak muncul."
   ]
  },
  {
   "cell_type": "markdown",
   "id": "435e3878",
   "metadata": {},
   "source": [
    "# Setup Database dan Notebook"
   ]
  },
  {
   "cell_type": "code",
   "execution_count": 1,
   "id": "0a3b9c6e",
   "metadata": {},
   "outputs": [
    {
     "name": "stdout",
     "output_type": "stream",
     "text": [
      "Requirement already satisfied: nbformat>=4.2.0 in c:\\users\\asus\\appdata\\local\\programs\\python\\python310\\lib\\site-packages (5.10.4)\n",
      "Requirement already satisfied: fastjsonschema>=2.15 in c:\\users\\asus\\appdata\\local\\programs\\python\\python310\\lib\\site-packages (from nbformat>=4.2.0) (2.21.2)\n",
      "Requirement already satisfied: jsonschema>=2.6 in c:\\users\\asus\\appdata\\local\\programs\\python\\python310\\lib\\site-packages (from nbformat>=4.2.0) (4.23.0)\n",
      "Requirement already satisfied: jupyter-core!=5.0.*,>=4.12 in c:\\users\\asus\\appdata\\roaming\\python\\python310\\site-packages (from nbformat>=4.2.0) (5.7.2)\n",
      "Requirement already satisfied: traitlets>=5.1 in c:\\users\\asus\\appdata\\roaming\\python\\python310\\site-packages (from nbformat>=4.2.0) (5.14.3)\n",
      "Requirement already satisfied: attrs>=22.2.0 in c:\\users\\asus\\appdata\\local\\programs\\python\\python310\\lib\\site-packages (from jsonschema>=2.6->nbformat>=4.2.0) (25.3.0)\n",
      "Requirement already satisfied: jsonschema-specifications>=2023.03.6 in c:\\users\\asus\\appdata\\local\\programs\\python\\python310\\lib\\site-packages (from jsonschema>=2.6->nbformat>=4.2.0) (2024.10.1)\n",
      "Requirement already satisfied: referencing>=0.28.4 in c:\\users\\asus\\appdata\\local\\programs\\python\\python310\\lib\\site-packages (from jsonschema>=2.6->nbformat>=4.2.0) (0.36.2)\n",
      "Requirement already satisfied: rpds-py>=0.7.1 in c:\\users\\asus\\appdata\\local\\programs\\python\\python310\\lib\\site-packages (from jsonschema>=2.6->nbformat>=4.2.0) (0.24.0)\n",
      "Requirement already satisfied: platformdirs>=2.5 in c:\\users\\asus\\appdata\\roaming\\python\\python310\\site-packages (from jupyter-core!=5.0.*,>=4.12->nbformat>=4.2.0) (4.3.6)\n",
      "Requirement already satisfied: pywin32>=300 in c:\\users\\asus\\appdata\\roaming\\python\\python310\\site-packages (from jupyter-core!=5.0.*,>=4.12->nbformat>=4.2.0) (308)\n",
      "Requirement already satisfied: typing-extensions>=4.4.0 in c:\\users\\asus\\appdata\\local\\programs\\python\\python310\\lib\\site-packages (from referencing>=0.28.4->jsonschema>=2.6->nbformat>=4.2.0) (4.15.0)\n",
      "Koneksi ke Supabase berhasil via REST API!\n",
      "\n",
      "Memuat data dari tabel...\n",
      "Tabel 'employees' berhasil dimuat: 2010 rows                    \n",
      "Tabel 'dim_companies' berhasil dimuat: 4 rows                    \n",
      "Tabel 'dim_areas' berhasil dimuat: 4 rows                    \n",
      "Tabel 'dim_positions' berhasil dimuat: 6 rows                    \n",
      "Tabel 'dim_departments' berhasil dimuat: 6 rows                    \n",
      "Tabel 'dim_divisions' berhasil dimuat: 5 rows                    \n",
      "Tabel 'dim_directorates' berhasil dimuat: 3 rows                    \n",
      "Tabel 'dim_grades' berhasil dimuat: 3 rows                    \n",
      "Tabel 'dim_education' berhasil dimuat: 4 rows                    \n",
      "Tabel 'dim_majors' berhasil dimuat: 6 rows                    \n",
      "Tabel 'dim_competency_pillars' berhasil dimuat: 10 rows                    \n",
      "Tabel 'performance_yearly' berhasil dimuat: 10050 rows                    \n",
      "Tabel 'competencies_yearly' berhasil dimuat: 100500 rows                    \n",
      "Tabel 'profiles_psych' berhasil dimuat: 2010 rows                    \n",
      "Tabel 'strengths' berhasil dimuat: 28140 rows                    \n",
      "Tabel 'papi_scores' berhasil dimuat: 40200 rows                    \n",
      "\n",
      "Semua data berhasil dimuat!\n",
      "\n",
      "Contoh: employees shape = (2010, 13)\n",
      "\n",
      "Ringkasan Data:\n",
      "  - employees: 2010 rows x 13 columns\n",
      "  - dim_companies: 4 rows x 2 columns\n",
      "  - dim_areas: 4 rows x 2 columns\n",
      "  - dim_positions: 6 rows x 2 columns\n",
      "  - dim_departments: 6 rows x 2 columns\n"
     ]
    }
   ],
   "source": [
    "import pandas as pd\n",
    "import numpy as np\n",
    "import requests\n",
    "import os\n",
    "from dotenv import load_dotenv\n",
    "import plotly.express as px\n",
    "import plotly.graph_objects as go\n",
    "from sklearn.ensemble import RandomForestClassifier\n",
    "from sklearn.preprocessing import OneHotEncoder\n",
    "from sklearn.compose import ColumnTransformer\n",
    "from sklearn.pipeline import Pipeline\n",
    "from sklearn.impute import SimpleImputer\n",
    "\n",
    "import sys\n",
    "!{sys.executable} -m pip install \"nbformat>=4.2.0\"\n",
    "load_dotenv()\n",
    "\n",
    "# Setup\n",
    "SUPABASE_URL = os.getenv(\"SUPABASE_URL\")\n",
    "SUPABASE_KEY = os.getenv(\"SUPABASE_KEY\")\n",
    "\n",
    "headers = {\n",
    "    \"apikey\": SUPABASE_KEY,\n",
    "    \"Authorization\": f\"Bearer {SUPABASE_KEY}\",\n",
    "    \"Prefer\": \"count=exact\" \n",
    "}\n",
    "\n",
    "def load_table(table_name, batch_size=1000):\n",
    "    all_data = []\n",
    "    offset = 0\n",
    "    \n",
    "    try:\n",
    "        while True:\n",
    "            url = f\"{SUPABASE_URL}/rest/v1/{table_name}?select=*&limit={batch_size}&offset={offset}\"\n",
    "            response = requests.get(url, headers=headers)\n",
    "            response.raise_for_status()\n",
    "            \n",
    "            batch = response.json()\n",
    "\n",
    "            if not batch:\n",
    "                break\n",
    "            \n",
    "            all_data.extend(batch)\n",
    "            offset += batch_size\n",
    "            \n",
    "            print(f\"Loading {table_name}: {len(all_data)} rows...\", end='\\r')\n",
    "            \n",
    "            if len(batch) < batch_size:\n",
    "                break\n",
    "        \n",
    "        df = pd.DataFrame(all_data)\n",
    "        print(f\"Tabel '{table_name}' berhasil dimuat: {len(df)} rows                    \")\n",
    "        return df\n",
    "        \n",
    "    except Exception as e:\n",
    "        print(f\"Gagal memuat '{table_name}': {e}\")\n",
    "        return pd.DataFrame()\n",
    "\n",
    "# Test koneksi\n",
    "try:\n",
    "    test_url = f\"{SUPABASE_URL}/rest/v1/\"\n",
    "    response = requests.get(test_url, headers=headers)\n",
    "    print(\"Koneksi ke Supabase berhasil via REST API!\\n\")\n",
    "except Exception as e:\n",
    "    print(f\"Koneksi gagal: {e}\")\n",
    "    exit()\n",
    "\n",
    "# Load semua tabel\n",
    "table_names = [\n",
    "    \"employees\", \"dim_companies\", \"dim_areas\", \"dim_positions\", \n",
    "    \"dim_departments\", \"dim_divisions\", \"dim_directorates\", \n",
    "    \"dim_grades\", \"dim_education\", \"dim_majors\",\n",
    "    \"dim_competency_pillars\", \"performance_yearly\", \n",
    "    \"competencies_yearly\", \"profiles_psych\", \"strengths\", \"papi_scores\"\n",
    "]\n",
    "\n",
    "dfs = {}\n",
    "print(\"Memuat data dari tabel...\")\n",
    "for name in table_names:\n",
    "    dfs[name] = load_table(name)\n",
    "\n",
    "print(\"\\nSemua data berhasil dimuat!\")\n",
    "print(f\"\\nContoh: employees shape = {dfs['employees'].shape}\")\n",
    "\n",
    "# Cek beberapa tabel untuk verifikasi\n",
    "print(\"\\nRingkasan Data:\")\n",
    "for name in table_names[:5]: \n",
    "    print(f\"  - {name}: {len(dfs[name])} rows x {len(dfs[name].columns)} columns\")"
   ]
  },
  {
   "cell_type": "markdown",
   "id": "ef8aeb50",
   "metadata": {},
   "source": [
    "# Pembersihan & Persiapan Data"
   ]
  },
  {
   "cell_type": "code",
   "execution_count": 2,
   "id": "5a7b1998",
   "metadata": {},
   "outputs": [
    {
     "name": "stdout",
     "output_type": "stream",
     "text": [
      "Dataset utama siap untuk dianalisis:\n"
     ]
    },
    {
     "data": {
      "text/html": [
       "<div>\n",
       "<style scoped>\n",
       "    .dataframe tbody tr th:only-of-type {\n",
       "        vertical-align: middle;\n",
       "    }\n",
       "\n",
       "    .dataframe tbody tr th {\n",
       "        vertical-align: top;\n",
       "    }\n",
       "\n",
       "    .dataframe thead th {\n",
       "        text-align: right;\n",
       "    }\n",
       "</style>\n",
       "<table border=\"1\" class=\"dataframe\">\n",
       "  <thead>\n",
       "    <tr style=\"text-align: right;\">\n",
       "      <th></th>\n",
       "      <th>employee_id</th>\n",
       "      <th>fullname</th>\n",
       "      <th>nip</th>\n",
       "      <th>company_id</th>\n",
       "      <th>area_id</th>\n",
       "      <th>position_id</th>\n",
       "      <th>department_id</th>\n",
       "      <th>division_id</th>\n",
       "      <th>directorate_id</th>\n",
       "      <th>grade_id</th>\n",
       "      <th>...</th>\n",
       "      <th>rating</th>\n",
       "      <th>is_top_performer</th>\n",
       "      <th>pauli</th>\n",
       "      <th>faxtor</th>\n",
       "      <th>disc</th>\n",
       "      <th>disc_word</th>\n",
       "      <th>mbti</th>\n",
       "      <th>iq</th>\n",
       "      <th>gtq</th>\n",
       "      <th>tiki</th>\n",
       "    </tr>\n",
       "  </thead>\n",
       "  <tbody>\n",
       "    <tr>\n",
       "      <th>0</th>\n",
       "      <td>EMP100000</td>\n",
       "      <td>Rendra Pratama</td>\n",
       "      <td>806137</td>\n",
       "      <td>1</td>\n",
       "      <td>4</td>\n",
       "      <td>1</td>\n",
       "      <td>6</td>\n",
       "      <td>3</td>\n",
       "      <td>3</td>\n",
       "      <td>2</td>\n",
       "      <td>...</td>\n",
       "      <td>3.0</td>\n",
       "      <td>False</td>\n",
       "      <td>86</td>\n",
       "      <td>75</td>\n",
       "      <td>SI</td>\n",
       "      <td>Steadiness-Influencer</td>\n",
       "      <td>None</td>\n",
       "      <td>94.0</td>\n",
       "      <td>33.0</td>\n",
       "      <td>2</td>\n",
       "    </tr>\n",
       "    <tr>\n",
       "      <th>1</th>\n",
       "      <td>EMP100001</td>\n",
       "      <td>Wulan Setiawan</td>\n",
       "      <td>476388</td>\n",
       "      <td>4</td>\n",
       "      <td>4</td>\n",
       "      <td>4</td>\n",
       "      <td>5</td>\n",
       "      <td>5</td>\n",
       "      <td>3</td>\n",
       "      <td>1</td>\n",
       "      <td>...</td>\n",
       "      <td>3.0</td>\n",
       "      <td>False</td>\n",
       "      <td>48</td>\n",
       "      <td>52</td>\n",
       "      <td>DS</td>\n",
       "      <td>Dominant-Steadiness</td>\n",
       "      <td>INTP</td>\n",
       "      <td>94.0</td>\n",
       "      <td>17.0</td>\n",
       "      <td>3</td>\n",
       "    </tr>\n",
       "    <tr>\n",
       "      <th>2</th>\n",
       "      <td>EMP100002</td>\n",
       "      <td>Julia Jatmiko Situmorang</td>\n",
       "      <td>941921</td>\n",
       "      <td>1</td>\n",
       "      <td>3</td>\n",
       "      <td>5</td>\n",
       "      <td>1</td>\n",
       "      <td>1</td>\n",
       "      <td>3</td>\n",
       "      <td>1</td>\n",
       "      <td>...</td>\n",
       "      <td>4.0</td>\n",
       "      <td>False</td>\n",
       "      <td>66</td>\n",
       "      <td>38</td>\n",
       "      <td>DC</td>\n",
       "      <td>Dominant-Conscientious</td>\n",
       "      <td>None</td>\n",
       "      <td>109.0</td>\n",
       "      <td>20.0</td>\n",
       "      <td>3</td>\n",
       "    </tr>\n",
       "    <tr>\n",
       "      <th>3</th>\n",
       "      <td>EMP100003</td>\n",
       "      <td>Oka Halim</td>\n",
       "      <td>751615</td>\n",
       "      <td>1</td>\n",
       "      <td>3</td>\n",
       "      <td>4</td>\n",
       "      <td>2</td>\n",
       "      <td>1</td>\n",
       "      <td>1</td>\n",
       "      <td>2</td>\n",
       "      <td>...</td>\n",
       "      <td>3.0</td>\n",
       "      <td>False</td>\n",
       "      <td>39</td>\n",
       "      <td>63</td>\n",
       "      <td>SI</td>\n",
       "      <td>Steadiness-Influencer</td>\n",
       "      <td>ENTJ</td>\n",
       "      <td>85.0</td>\n",
       "      <td>39.0</td>\n",
       "      <td>3</td>\n",
       "    </tr>\n",
       "    <tr>\n",
       "      <th>4</th>\n",
       "      <td>EMP100004</td>\n",
       "      <td>Dwi Pratama</td>\n",
       "      <td>443809</td>\n",
       "      <td>3</td>\n",
       "      <td>4</td>\n",
       "      <td>6</td>\n",
       "      <td>5</td>\n",
       "      <td>3</td>\n",
       "      <td>3</td>\n",
       "      <td>1</td>\n",
       "      <td>...</td>\n",
       "      <td>4.0</td>\n",
       "      <td>False</td>\n",
       "      <td>75</td>\n",
       "      <td>100</td>\n",
       "      <td>None</td>\n",
       "      <td>Steadiness-Conscientious</td>\n",
       "      <td>INTJ</td>\n",
       "      <td>134.0</td>\n",
       "      <td>21.0</td>\n",
       "      <td>9</td>\n",
       "    </tr>\n",
       "  </tbody>\n",
       "</table>\n",
       "<p>5 rows × 26 columns</p>\n",
       "</div>"
      ],
      "text/plain": [
       "  employee_id                  fullname     nip  company_id  area_id  \\\n",
       "0   EMP100000            Rendra Pratama  806137           1        4   \n",
       "1   EMP100001            Wulan Setiawan  476388           4        4   \n",
       "2   EMP100002  Julia Jatmiko Situmorang  941921           1        3   \n",
       "3   EMP100003                 Oka Halim  751615           1        3   \n",
       "4   EMP100004               Dwi Pratama  443809           3        4   \n",
       "\n",
       "   position_id  department_id  division_id  directorate_id  grade_id  ...  \\\n",
       "0            1              6            3               3         2  ...   \n",
       "1            4              5            5               3         1  ...   \n",
       "2            5              1            1               3         1  ...   \n",
       "3            4              2            1               1         2  ...   \n",
       "4            6              5            3               3         1  ...   \n",
       "\n",
       "   rating  is_top_performer  pauli faxtor  disc                 disc_word  \\\n",
       "0     3.0             False     86     75    SI     Steadiness-Influencer   \n",
       "1     3.0             False     48     52    DS       Dominant-Steadiness   \n",
       "2     4.0             False     66     38    DC    Dominant-Conscientious   \n",
       "3     3.0             False     39     63    SI     Steadiness-Influencer   \n",
       "4     4.0             False     75    100  None  Steadiness-Conscientious   \n",
       "\n",
       "   mbti     iq   gtq  tiki  \n",
       "0  None   94.0  33.0     2  \n",
       "1  INTP   94.0  17.0     3  \n",
       "2  None  109.0  20.0     3  \n",
       "3  ENTJ   85.0  39.0     3  \n",
       "4  INTJ  134.0  21.0     9  \n",
       "\n",
       "[5 rows x 26 columns]"
      ]
     },
     "execution_count": 2,
     "metadata": {},
     "output_type": "execute_result"
    }
   ],
   "source": [
    "# Gabungkan data demografis dasar dari tabel dimensi ke tabel utama 'employees'\n",
    "df_main = dfs['employees'].copy()\n",
    "df_main = pd.merge(df_main, dfs['dim_grades'], on='grade_id', how='left')\n",
    "df_main = pd.merge(df_main, dfs['dim_education'], on='education_id', how='left')\n",
    "df_main = pd.merge(df_main, dfs['dim_positions'], on='position_id', how='left')\n",
    "\n",
    "# Ambil data kinerja tahun terakhir saja agar relevan\n",
    "df_performance = dfs['performance_yearly'][dfs['performance_yearly']['year'] == dfs['performance_yearly']['year'].max()]\n",
    "df_main = pd.merge(df_main, df_performance[['employee_id', 'rating']], on='employee_id', how='left')\n",
    "\n",
    "# Tandai top performer\n",
    "df_main['is_top_performer'] = df_main['rating'] == 5\n",
    "\n",
    "df_profiles = dfs['profiles_psych'].copy()\n",
    "df_profiles['mbti'] = df_profiles['mbti'].str.upper().str.strip()\n",
    "df_main = pd.merge(df_main, df_profiles, on='employee_id', how='left')\n",
    "\n",
    "print(\"Dataset utama siap untuk dianalisis:\")\n",
    "df_main.head()"
   ]
  },
  {
   "cell_type": "markdown",
   "id": "ccf14865",
   "metadata": {},
   "source": [
    "# Eksplorasi Faktor Kontekstual"
   ]
  },
  {
   "cell_type": "markdown",
   "id": "8def0940",
   "metadata": {},
   "source": [
    "## Distribusi Top Performer Berdasarkan Jenjang Jabatan"
   ]
  },
  {
   "cell_type": "code",
   "execution_count": 16,
   "id": "0e2e6fcb",
   "metadata": {},
   "outputs": [
    {
     "data": {
      "application/vnd.plotly.v1+json": {
       "config": {
        "plotlyServerURL": "https://plot.ly"
       },
       "data": [
        {
         "alignmentgroup": "True",
         "bingroup": "x",
         "histnorm": "percent",
         "hovertemplate": "is_top_performer=False<br>Jenjang Jabatan=%{x}<br>percent=%{y}<extra></extra>",
         "legendgroup": "False",
         "marker": {
          "color": "#636efa",
          "pattern": {
           "shape": ""
          }
         },
         "name": "False",
         "offsetgroup": "False",
         "orientation": "v",
         "showlegend": true,
         "type": "histogram",
         "x": [
          "IV",
          "III",
          "III",
          "IV",
          "III",
          "III",
          "III",
          "V",
          "III",
          "V",
          "V",
          "IV",
          "V",
          "IV",
          "V",
          "IV",
          "III",
          "IV",
          "V",
          "IV",
          "IV",
          "V",
          "V",
          "IV",
          "III",
          "V",
          "IV",
          "III",
          "IV",
          "III",
          "V",
          "V",
          "IV",
          "V",
          "IV",
          "III",
          "III",
          "III",
          "V",
          "IV",
          "III",
          "III",
          "V",
          "III",
          "V",
          "IV",
          "III",
          "V",
          "V",
          "V",
          "IV",
          "III",
          "V",
          "IV",
          "III",
          "V",
          "III",
          "III",
          "III",
          "III",
          "III",
          "V",
          "V",
          "III",
          "III",
          "V",
          "III",
          "IV",
          "V",
          "V",
          "IV",
          "IV",
          "V",
          "V",
          "V",
          "III",
          "V",
          "IV",
          "IV",
          "V",
          "IV",
          "III",
          "IV",
          "IV",
          "III",
          "V",
          "III",
          "IV",
          "V",
          "III",
          "III",
          "III",
          "V",
          "IV",
          "IV",
          "V",
          "V",
          "V",
          "III",
          "IV",
          "III",
          "V",
          "IV",
          "V",
          "IV",
          "IV",
          "III",
          "V",
          "IV",
          "III",
          "V",
          "V",
          "V",
          "IV",
          "IV",
          "III",
          "V",
          "V",
          "III",
          "III",
          "III",
          "III",
          "III",
          "V",
          "V",
          "III",
          "V",
          "III",
          "IV",
          "IV",
          "III",
          "III",
          "IV",
          "III",
          "III",
          "V",
          "III",
          "V",
          "III",
          "IV",
          "III",
          "III",
          "V",
          "V",
          "V",
          "IV",
          "III",
          "IV",
          "III",
          "III",
          "V",
          "III",
          "III",
          "V",
          "IV",
          "III",
          "V",
          "V",
          "V",
          "IV",
          "III",
          "III",
          "V",
          "III",
          "V",
          "III",
          "III",
          "III",
          "V",
          "V",
          "IV",
          "III",
          "V",
          "V",
          "III",
          "III",
          "IV",
          "III",
          "IV",
          "IV",
          "V",
          "V",
          "IV",
          "IV",
          "IV",
          "V",
          "III",
          "III",
          "III",
          "V",
          "V",
          "IV",
          "IV",
          "III",
          "IV",
          "III",
          "V",
          "V",
          "V",
          "III",
          "IV",
          "III",
          "IV",
          "IV",
          "III",
          "III",
          "IV",
          "V",
          "V",
          "V",
          "III",
          "IV",
          "IV",
          "IV",
          "V",
          "IV",
          "IV",
          "IV",
          "III",
          "V",
          "III",
          "IV",
          "III",
          "IV",
          "IV",
          "III",
          "IV",
          "IV",
          "III",
          "V",
          "IV",
          "III",
          "V",
          "IV",
          "III",
          "IV",
          "III",
          "IV",
          "IV",
          "V",
          "III",
          "V",
          "IV",
          "III",
          "IV",
          "IV",
          "IV",
          "III",
          "V",
          "IV",
          "III",
          "IV",
          "IV",
          "IV",
          "V",
          "IV",
          "IV",
          "III",
          "III",
          "III",
          "III",
          "V",
          "IV",
          "V",
          "III",
          "IV",
          "IV",
          "V",
          "III",
          "IV",
          "IV",
          "IV",
          "III",
          "IV",
          "IV",
          "V",
          "III",
          "IV",
          "V",
          "IV",
          "V",
          "IV",
          "IV",
          "V",
          "V",
          "IV",
          "III",
          "III",
          "IV",
          "V",
          "V",
          "V",
          "V",
          "IV",
          "III",
          "III",
          "III",
          "IV",
          "III",
          "IV",
          "V",
          "IV",
          "V",
          "III",
          "V",
          "III",
          "IV",
          "V",
          "IV",
          "III",
          "V",
          "III",
          "V",
          "III",
          "III",
          "III",
          "III",
          "IV",
          "V",
          "V",
          "IV",
          "IV",
          "III",
          "IV",
          "IV",
          "V",
          "V",
          "III",
          "V",
          "V",
          "IV",
          "V",
          "V",
          "IV",
          "IV",
          "III",
          "III",
          "IV",
          "IV",
          "III",
          "V",
          "IV",
          "V",
          "V",
          "V",
          "IV",
          "V",
          "V",
          "III",
          "III",
          "V",
          "III",
          "III",
          "V",
          "V",
          "IV",
          "III",
          "III",
          "V",
          "V",
          "V",
          "III",
          "V",
          "III",
          "V",
          "III",
          "V",
          "III",
          "V",
          "V",
          "IV",
          "V",
          "V",
          "V",
          "III",
          "III",
          "IV",
          "III",
          "III",
          "III",
          "III",
          "IV",
          "III",
          "III",
          "IV",
          "III",
          "V",
          "III",
          "V",
          "III",
          "IV",
          "IV",
          "III",
          "III",
          "III",
          "IV",
          "IV",
          "IV",
          "III",
          "III",
          "IV",
          "IV",
          "IV",
          "V",
          "III",
          "IV",
          "III",
          "V",
          "V",
          "III",
          "III",
          "V",
          "V",
          "V",
          "IV",
          "IV",
          "V",
          "III",
          "III",
          "III",
          "V",
          "V",
          "V",
          "IV",
          "III",
          "III",
          "V",
          "V",
          "V",
          "III",
          "V",
          "III",
          "III",
          "III",
          "V",
          "V",
          "V",
          "III",
          "IV",
          "IV",
          "IV",
          "IV",
          "III",
          "V",
          "III",
          "III",
          "V",
          "III",
          "V",
          "III",
          "IV",
          "IV",
          "IV",
          "IV",
          "III",
          "III",
          "III",
          "IV",
          "IV",
          "IV",
          "V",
          "IV",
          "III",
          "III",
          "III",
          "IV",
          "III",
          "IV",
          "V",
          "III",
          "IV",
          "III",
          "IV",
          "IV",
          "V",
          "V",
          "V",
          "III",
          "III",
          "V",
          "V",
          "IV",
          "V",
          "V",
          "V",
          "IV",
          "V",
          "IV",
          "III",
          "III",
          "V",
          "V",
          "III",
          "V",
          "IV",
          "IV",
          "III",
          "IV",
          "III",
          "V",
          "IV",
          "V",
          "V",
          "V",
          "III",
          "V",
          "III",
          "V",
          "V",
          "V",
          "IV",
          "III",
          "III",
          "IV",
          "III",
          "IV",
          "IV",
          "III",
          "III",
          "IV",
          "V",
          "V",
          "IV",
          "III",
          "III",
          "V",
          "IV",
          "III",
          "V",
          "IV",
          "III",
          "III",
          "III",
          "IV",
          "V",
          "V",
          "V",
          "V",
          "IV",
          "III",
          "V",
          "V",
          "V",
          "III",
          "IV",
          "V",
          "III",
          "III",
          "V",
          "V",
          "III",
          "III",
          "V",
          "V",
          "IV",
          "IV",
          "V",
          "III",
          "III",
          "V",
          "V",
          "V",
          "III",
          "V",
          "IV",
          "IV",
          "IV",
          "V",
          "III",
          "IV",
          "IV",
          "III",
          "III",
          "V",
          "V",
          "V",
          "V",
          "IV",
          "III",
          "V",
          "V",
          "IV",
          "IV",
          "V",
          "IV",
          "IV",
          "V",
          "V",
          "IV",
          "IV",
          "III",
          "III",
          "III",
          "III",
          "III",
          "III",
          "V",
          "IV",
          "III",
          "V",
          "III",
          "V",
          "III",
          "IV",
          "IV",
          "V",
          "III",
          "III",
          "V",
          "III",
          "V",
          "V",
          "III",
          "IV",
          "V",
          "V",
          "III",
          "IV",
          "IV",
          "IV",
          "III",
          "IV",
          "IV",
          "III",
          "V",
          "IV",
          "IV",
          "III",
          "III",
          "III",
          "V",
          "III",
          "III",
          "IV",
          "IV",
          "IV",
          "IV",
          "III",
          "V",
          "V",
          "III",
          "IV",
          "III",
          "V",
          "IV",
          "V",
          "V",
          "IV",
          "IV",
          "V",
          "V",
          "IV",
          "III",
          "III",
          "IV",
          "IV",
          "III",
          "V",
          "IV",
          "III",
          "V",
          "V",
          "V",
          "III",
          "III",
          "V",
          "IV",
          "IV",
          "IV",
          "V",
          "III",
          "IV",
          "III",
          "IV",
          "IV",
          "IV",
          "III",
          "III",
          "III",
          "III",
          "III",
          "IV",
          "V",
          "III",
          "III",
          "III",
          "III",
          "III",
          "V",
          "IV",
          "IV",
          "IV",
          "IV",
          "IV",
          "V",
          "IV",
          "IV",
          "IV",
          "III",
          "III",
          "IV",
          "III",
          "III",
          "IV",
          "V",
          "V",
          "V",
          "IV",
          "V",
          "V",
          "III",
          "IV",
          "IV",
          "III",
          "V",
          "V",
          "IV",
          "V",
          "V",
          "V",
          "V",
          "III",
          "IV",
          "V",
          "V",
          "III",
          "III",
          "III",
          "V",
          "IV",
          "V",
          "V",
          "IV",
          "IV",
          "IV",
          "V",
          "V",
          "V",
          "IV",
          "III",
          "IV",
          "IV",
          "IV",
          "V",
          "III",
          "IV",
          "V",
          "III",
          "IV",
          "IV",
          "III",
          "III",
          "IV",
          "IV",
          "V",
          "V",
          "V",
          "V",
          "III",
          "V",
          "IV",
          "IV",
          "IV",
          "V",
          "III",
          "III",
          "V",
          "IV",
          "V",
          "IV",
          "V",
          "III",
          "V",
          "V",
          "III",
          "V",
          "V",
          "III",
          "IV",
          "V",
          "III",
          "III",
          "IV",
          "III",
          "V",
          "IV",
          "V",
          "IV",
          "III",
          "V",
          "V",
          "IV",
          "IV",
          "IV",
          "III",
          "III",
          "III",
          "III",
          "V",
          "III",
          "III",
          "IV",
          "III",
          "III",
          "V",
          "IV",
          "III",
          "V",
          "IV",
          "V",
          "IV",
          "IV",
          "IV",
          "V",
          "III",
          "V",
          "V",
          "IV",
          "V",
          "III",
          "IV",
          "IV",
          "V",
          "III",
          "IV",
          "IV",
          "V",
          "V",
          "V",
          "IV",
          "IV",
          "V",
          "V",
          "III",
          "V",
          "IV",
          "V",
          "III",
          "III",
          "V",
          "IV",
          "IV",
          "III",
          "V",
          "V",
          "V",
          "IV",
          "V",
          "V",
          "V",
          "V",
          "IV",
          "III",
          "V",
          "V",
          "IV",
          "V",
          "IV",
          "V",
          "IV",
          "V",
          "IV",
          "III",
          "V",
          "V",
          "V",
          "V",
          "V",
          "V",
          "III",
          "V",
          "V",
          "III",
          "III",
          "V",
          "V",
          "III",
          "IV",
          "IV",
          "III",
          "IV",
          "IV",
          "IV",
          "V",
          "III",
          "IV",
          "III",
          "V",
          "III",
          "III",
          "III",
          "IV",
          "IV",
          "IV",
          "V",
          "IV",
          "III",
          "V",
          "IV",
          "V",
          "V",
          "V",
          "IV",
          "III",
          "V",
          "V",
          "III",
          "III",
          "V",
          "III",
          "III",
          "III",
          "V",
          "IV",
          "V",
          "IV",
          "III",
          "IV",
          "III",
          "IV",
          "IV",
          "III",
          "III",
          "IV",
          "III",
          "III",
          "III",
          "V",
          "V",
          "IV",
          "IV",
          "III",
          "III",
          "III",
          "V",
          "III",
          "III",
          "V",
          "V",
          "V",
          "IV",
          "IV",
          "IV",
          "V",
          "III",
          "IV",
          "V",
          "III",
          "V",
          "IV",
          "IV",
          "V",
          "III",
          "V",
          "V",
          "III",
          "IV",
          "V",
          "V",
          "III",
          "V",
          "IV",
          "V",
          "IV",
          "V",
          "IV",
          "V",
          "V",
          "V",
          "IV",
          "IV",
          "V",
          "V",
          "III",
          "III",
          "V",
          "V",
          "V",
          "III",
          "III",
          "III",
          "III",
          "IV",
          "III",
          "IV",
          "V",
          "V",
          "III",
          "V",
          "IV",
          "III",
          "V",
          "III",
          "III",
          "IV",
          "III",
          "III",
          "IV",
          "IV",
          "V",
          "III",
          "IV",
          "V",
          "III",
          "III",
          "III",
          "III",
          "III",
          "III",
          "V",
          "III",
          "III",
          "V",
          "III",
          "III",
          "V",
          "III",
          "III",
          "V",
          "V",
          "V",
          "V",
          "III",
          "III",
          "V",
          "III",
          "V",
          "III",
          "V",
          "V",
          "III",
          "V",
          "V",
          "IV",
          "III",
          "V",
          "IV",
          "V",
          "V",
          "IV",
          "V",
          "IV",
          "V",
          "III",
          "III",
          "V",
          "III",
          "V",
          "V",
          "V",
          "IV",
          "III",
          "V",
          "V",
          "IV",
          "V",
          "III",
          "III",
          "V",
          "V",
          "III",
          "IV",
          "III",
          "III",
          "III",
          "IV",
          "III",
          "III",
          "III",
          "IV",
          "V",
          "V",
          "III",
          "III",
          "IV",
          "III",
          "III",
          "V",
          "III",
          "IV",
          "IV",
          "IV",
          "III",
          "IV",
          "IV",
          "V",
          "III",
          "V",
          "IV",
          "IV",
          "IV",
          "III",
          "IV",
          "V",
          "III",
          "IV",
          "IV",
          "V",
          "IV",
          "V",
          "V",
          "V",
          "V",
          "IV",
          "III",
          "III",
          "V",
          "III",
          "III",
          "IV",
          "IV",
          "IV",
          "III",
          "III",
          "III",
          "V",
          "IV",
          "IV",
          "III",
          "V",
          "V",
          "III",
          "IV",
          "V",
          "IV",
          "IV",
          "V",
          "V",
          "V",
          "IV",
          "V",
          "V",
          "III",
          "III",
          "IV",
          "III",
          "IV",
          "III",
          "V",
          "IV",
          "V",
          "III",
          "V",
          "V",
          "IV",
          "IV",
          "III",
          "III",
          "IV",
          "V",
          "V",
          "V",
          "V",
          "IV",
          "IV",
          "III",
          "IV",
          "V",
          "V",
          "IV",
          "III",
          "IV",
          "IV",
          "IV",
          "V",
          "V",
          "III",
          "V",
          "IV",
          "V",
          "IV",
          "IV",
          "IV",
          "IV",
          "V",
          "V",
          "III",
          "IV",
          "III",
          "IV",
          "IV",
          "III",
          "III",
          "IV",
          "III",
          "III",
          "III",
          "IV",
          "IV",
          "V",
          "III",
          "V",
          "V",
          "III",
          "IV",
          "III",
          "III",
          "IV",
          "IV",
          "IV",
          "V",
          "IV",
          "IV",
          "III",
          "III",
          "III",
          "III",
          "V",
          "IV",
          "V",
          "IV",
          "III",
          "V",
          "V",
          "IV",
          "III",
          "IV",
          "V",
          "III",
          "IV",
          "III",
          "III",
          "V",
          "III",
          "V",
          "V",
          "V",
          "V",
          "IV",
          "IV",
          "IV",
          "IV",
          "III",
          "IV",
          "V",
          "IV",
          "III",
          "V",
          "III",
          "V",
          "III",
          "IV",
          "IV",
          "V",
          "V",
          "V",
          "IV",
          "IV",
          "IV",
          "IV",
          "IV",
          "III",
          "V",
          "IV",
          "V",
          "III",
          "IV",
          "III",
          "V",
          "III",
          "III",
          "IV",
          "V",
          "III",
          "V",
          "IV",
          "III",
          "IV",
          "V",
          "V",
          "IV",
          "III",
          "III",
          "V",
          "III",
          "V",
          "V",
          "III",
          "V",
          "IV",
          "III",
          "IV",
          "III",
          "III",
          "IV",
          "V",
          "III",
          "V",
          "V",
          "III",
          "V",
          "IV",
          "III",
          "III",
          "V",
          "V",
          "V",
          "V",
          "IV",
          "III",
          "V",
          "IV",
          "IV",
          "III",
          "V",
          "IV",
          "V",
          "IV",
          "V",
          "III",
          "IV",
          "V",
          "IV",
          "IV",
          "V",
          "III",
          "III",
          "IV",
          "IV",
          "IV",
          "V",
          "IV",
          "IV",
          "V",
          "III",
          "IV",
          "III",
          "III",
          "IV",
          "IV",
          "V",
          "III",
          "V",
          "III",
          "IV",
          "IV",
          "III",
          "IV",
          "III",
          "V",
          "IV",
          "IV",
          "V",
          "III",
          "IV",
          "V",
          "IV",
          "V",
          "III",
          "III",
          "III",
          "III",
          "III",
          "III",
          "III",
          "IV",
          "V",
          "III",
          "III",
          "IV",
          "V",
          "V",
          "III",
          "V",
          "V",
          "III",
          "IV",
          "IV",
          "IV",
          "IV",
          "III",
          "III",
          "III",
          "V",
          "III",
          "IV",
          "V",
          "III",
          "III",
          "III",
          "III",
          "V",
          "V",
          "IV",
          "III",
          "III",
          "IV",
          "IV",
          "III",
          "V",
          "V",
          "IV",
          "IV",
          "III",
          "III",
          "III",
          "IV",
          "III",
          "IV",
          "III",
          "V",
          "V",
          "III",
          "III",
          "IV",
          "V",
          "III",
          "V",
          "IV",
          "III",
          "V",
          "IV",
          "V",
          "IV",
          "III",
          "V",
          "IV",
          "III",
          "III",
          "V",
          "V",
          "IV",
          "III",
          "IV",
          "V",
          "IV",
          "III",
          "IV",
          "V",
          "IV",
          "V",
          "V",
          "IV",
          "IV",
          "III",
          "V",
          "III",
          "V",
          "III",
          "V",
          "III",
          "V",
          "IV",
          "III",
          "IV",
          "V",
          "V",
          "IV",
          "III",
          "III",
          "V",
          "IV",
          "V",
          "IV",
          "III",
          "III",
          "V",
          "III",
          "IV",
          "IV",
          "V",
          "IV",
          "III",
          "V",
          "V",
          "III",
          "V",
          "V",
          "III",
          "III",
          "III",
          "III",
          "III",
          "III",
          "V",
          "V",
          "V",
          "V",
          "III",
          "III",
          "III",
          "III",
          "III",
          "III",
          "IV",
          "V",
          "V",
          "IV",
          "IV",
          "V",
          "V",
          "III",
          "V",
          "IV",
          "V",
          "V",
          "IV",
          "III",
          "III",
          "III",
          "V",
          "V",
          "IV",
          "III",
          "III",
          "III",
          "V",
          "V",
          "V",
          "V",
          "V",
          "V",
          "IV",
          "IV",
          "III",
          "IV",
          "V",
          "IV",
          "V",
          "IV",
          "V",
          "IV",
          "IV",
          "V",
          "III",
          "IV",
          "IV",
          "III",
          "IV",
          "IV",
          "IV",
          "IV",
          "IV",
          "IV",
          "V",
          "III",
          "III",
          "III",
          "III",
          "IV",
          "IV",
          "III",
          "III",
          "IV",
          "V",
          "V",
          "IV",
          "V",
          "IV",
          "III",
          "V",
          "III",
          "IV",
          "IV",
          "IV",
          "IV",
          "V",
          "IV",
          "IV",
          "IV",
          "V",
          "V",
          "V",
          "III",
          "IV",
          "V",
          "IV",
          "V",
          "III",
          "IV",
          "III",
          "IV",
          "IV",
          "III",
          "IV",
          "IV",
          "V",
          "IV",
          "IV",
          "III",
          "V",
          "IV",
          "III",
          "III",
          "III",
          "IV",
          "IV",
          "V",
          "IV",
          "IV",
          "IV",
          "V",
          "IV",
          "IV",
          "III",
          "IV",
          "IV",
          "IV",
          "III",
          "IV",
          "III",
          "IV",
          "IV",
          "IV",
          "III",
          "III",
          "IV",
          "IV",
          "V",
          "IV",
          "V",
          "IV",
          "III",
          "V",
          "IV",
          "IV",
          "III",
          "III",
          "IV",
          "V",
          "V",
          "IV",
          "III",
          "IV",
          "III",
          "III",
          "V",
          "V",
          "III",
          "III",
          "IV",
          "III",
          "V",
          "IV",
          "IV",
          "IV",
          "IV",
          "IV",
          "IV",
          "V",
          "V",
          "IV",
          "IV",
          "V",
          "IV",
          "III",
          "V",
          "III",
          "IV",
          "V",
          "III",
          "III",
          "IV",
          "III",
          "IV",
          "V",
          "V",
          "III",
          "IV",
          "III",
          "V",
          "III",
          "III",
          "V",
          "IV",
          "III",
          "III",
          "V",
          "IV",
          "V",
          "III",
          "V",
          "III",
          "V",
          "III",
          "V",
          "V",
          "IV",
          "III",
          "IV",
          "IV",
          "III",
          "V",
          "V",
          "III",
          "V",
          "IV",
          "III",
          "III",
          "IV",
          "III",
          "V",
          "V",
          "III",
          "IV",
          "IV",
          "V",
          "IV",
          "IV",
          "III",
          "V",
          "IV",
          "V",
          "III",
          "III",
          "V",
          "III",
          "III",
          "IV",
          "IV",
          "III",
          "III",
          "III",
          "III",
          "IV",
          "V",
          "IV",
          "III",
          "IV",
          "V",
          "III",
          "V",
          "V",
          "V",
          "III",
          "III",
          "IV",
          "IV",
          "III",
          "IV",
          "V",
          "V",
          "V",
          "V",
          "IV",
          "V",
          "IV",
          "V",
          "IV",
          "IV",
          "V",
          "IV",
          "V",
          "IV",
          "IV",
          "IV",
          "III",
          "V",
          "IV",
          "IV",
          "III",
          "IV",
          "III",
          "IV",
          "III",
          "V",
          "III",
          "IV",
          "IV",
          "V",
          "III",
          "IV",
          "V",
          "V",
          "III",
          "IV",
          "V",
          "III",
          "V",
          "IV",
          "III",
          "V",
          "IV",
          "III",
          "III",
          "IV",
          "V",
          "IV",
          "V",
          "V",
          "IV",
          "III",
          "V",
          "III",
          "V",
          "V",
          "III",
          "IV",
          "V",
          "IV",
          "III",
          "IV",
          "IV",
          "IV",
          "III",
          "III",
          "V",
          "III",
          "V",
          "IV",
          "III",
          "IV",
          "IV",
          "III",
          "V",
          "III",
          "III",
          "III",
          "IV",
          "IV",
          "V",
          "V",
          "V",
          "III",
          "III",
          "III",
          "III",
          "V",
          "III",
          "V",
          "III",
          "V",
          "V",
          "III",
          "IV",
          "IV",
          "III",
          "III",
          "IV",
          "IV",
          "V",
          "IV",
          "III",
          "III",
          "V",
          "IV",
          "IV",
          "IV",
          "III",
          "III",
          "V",
          "V"
         ],
         "xaxis": "x",
         "yaxis": "y"
        },
        {
         "alignmentgroup": "True",
         "bingroup": "x",
         "histnorm": "percent",
         "hovertemplate": "is_top_performer=True<br>Jenjang Jabatan=%{x}<br>percent=%{y}<extra></extra>",
         "legendgroup": "True",
         "marker": {
          "color": "#EF553B",
          "pattern": {
           "shape": ""
          }
         },
         "name": "True",
         "offsetgroup": "True",
         "orientation": "v",
         "showlegend": true,
         "type": "histogram",
         "x": [
          "V",
          "V",
          "IV",
          "IV",
          "IV",
          "III",
          "III",
          "III",
          "V",
          "III",
          "V",
          "IV",
          "III",
          "IV",
          "IV",
          "IV",
          "V",
          "IV",
          "IV",
          "III",
          "IV",
          "III",
          "III",
          "V",
          "III",
          "V",
          "III",
          "III",
          "IV",
          "III",
          "III",
          "IV",
          "III",
          "IV",
          "V",
          "III",
          "V",
          "V",
          "IV",
          "V",
          "IV",
          "IV",
          "IV",
          "V",
          "III",
          "V",
          "IV",
          "V",
          "V",
          "III",
          "V",
          "IV",
          "IV",
          "IV",
          "IV",
          "III",
          "III",
          "III",
          "III",
          "IV",
          "IV",
          "III",
          "V",
          "V",
          "IV",
          "IV",
          "IV",
          "V",
          "V",
          "V",
          "V",
          "V",
          "V",
          "IV",
          "V",
          "V",
          "IV",
          "IV",
          "V",
          "IV",
          "III",
          "V",
          "III",
          "IV",
          "V",
          "III",
          "III",
          "IV",
          "V",
          "III",
          "IV",
          "III",
          "V",
          "IV",
          "V",
          "IV",
          "III",
          "IV",
          "IV",
          "III",
          "III",
          "III",
          "III",
          "V",
          "III",
          "IV",
          "IV",
          "IV",
          "III",
          "IV",
          "IV",
          "III",
          "III",
          "V",
          "IV",
          "III",
          "III",
          "III",
          "V",
          "IV",
          "IV",
          "IV",
          "III",
          "IV",
          "V",
          "III",
          "III",
          "V",
          "IV",
          "V",
          "IV",
          "III",
          "III",
          "V",
          "V",
          "V",
          "III",
          "V",
          "IV",
          "IV",
          "V",
          "V",
          "III",
          "IV",
          "III",
          "IV",
          "V",
          "IV",
          "V",
          "III",
          "V",
          "IV",
          "V",
          "IV",
          "V",
          "V",
          "IV",
          "IV",
          "V",
          "IV",
          "IV",
          "V",
          "IV",
          "V",
          "IV",
          "III",
          "IV",
          "III"
         ],
         "xaxis": "x",
         "yaxis": "y"
        }
       ],
       "layout": {
        "barmode": "group",
        "legend": {
         "title": {
          "text": "is_top_performer"
         },
         "tracegroupgap": 0
        },
        "template": {
         "data": {
          "bar": [
           {
            "error_x": {
             "color": "#2a3f5f"
            },
            "error_y": {
             "color": "#2a3f5f"
            },
            "marker": {
             "line": {
              "color": "#E5ECF6",
              "width": 0.5
             },
             "pattern": {
              "fillmode": "overlay",
              "size": 10,
              "solidity": 0.2
             }
            },
            "type": "bar"
           }
          ],
          "barpolar": [
           {
            "marker": {
             "line": {
              "color": "#E5ECF6",
              "width": 0.5
             },
             "pattern": {
              "fillmode": "overlay",
              "size": 10,
              "solidity": 0.2
             }
            },
            "type": "barpolar"
           }
          ],
          "carpet": [
           {
            "aaxis": {
             "endlinecolor": "#2a3f5f",
             "gridcolor": "white",
             "linecolor": "white",
             "minorgridcolor": "white",
             "startlinecolor": "#2a3f5f"
            },
            "baxis": {
             "endlinecolor": "#2a3f5f",
             "gridcolor": "white",
             "linecolor": "white",
             "minorgridcolor": "white",
             "startlinecolor": "#2a3f5f"
            },
            "type": "carpet"
           }
          ],
          "choropleth": [
           {
            "colorbar": {
             "outlinewidth": 0,
             "ticks": ""
            },
            "type": "choropleth"
           }
          ],
          "contour": [
           {
            "colorbar": {
             "outlinewidth": 0,
             "ticks": ""
            },
            "colorscale": [
             [
              0,
              "#0d0887"
             ],
             [
              0.1111111111111111,
              "#46039f"
             ],
             [
              0.2222222222222222,
              "#7201a8"
             ],
             [
              0.3333333333333333,
              "#9c179e"
             ],
             [
              0.4444444444444444,
              "#bd3786"
             ],
             [
              0.5555555555555556,
              "#d8576b"
             ],
             [
              0.6666666666666666,
              "#ed7953"
             ],
             [
              0.7777777777777778,
              "#fb9f3a"
             ],
             [
              0.8888888888888888,
              "#fdca26"
             ],
             [
              1,
              "#f0f921"
             ]
            ],
            "type": "contour"
           }
          ],
          "contourcarpet": [
           {
            "colorbar": {
             "outlinewidth": 0,
             "ticks": ""
            },
            "type": "contourcarpet"
           }
          ],
          "heatmap": [
           {
            "colorbar": {
             "outlinewidth": 0,
             "ticks": ""
            },
            "colorscale": [
             [
              0,
              "#0d0887"
             ],
             [
              0.1111111111111111,
              "#46039f"
             ],
             [
              0.2222222222222222,
              "#7201a8"
             ],
             [
              0.3333333333333333,
              "#9c179e"
             ],
             [
              0.4444444444444444,
              "#bd3786"
             ],
             [
              0.5555555555555556,
              "#d8576b"
             ],
             [
              0.6666666666666666,
              "#ed7953"
             ],
             [
              0.7777777777777778,
              "#fb9f3a"
             ],
             [
              0.8888888888888888,
              "#fdca26"
             ],
             [
              1,
              "#f0f921"
             ]
            ],
            "type": "heatmap"
           }
          ],
          "heatmapgl": [
           {
            "colorbar": {
             "outlinewidth": 0,
             "ticks": ""
            },
            "colorscale": [
             [
              0,
              "#0d0887"
             ],
             [
              0.1111111111111111,
              "#46039f"
             ],
             [
              0.2222222222222222,
              "#7201a8"
             ],
             [
              0.3333333333333333,
              "#9c179e"
             ],
             [
              0.4444444444444444,
              "#bd3786"
             ],
             [
              0.5555555555555556,
              "#d8576b"
             ],
             [
              0.6666666666666666,
              "#ed7953"
             ],
             [
              0.7777777777777778,
              "#fb9f3a"
             ],
             [
              0.8888888888888888,
              "#fdca26"
             ],
             [
              1,
              "#f0f921"
             ]
            ],
            "type": "heatmapgl"
           }
          ],
          "histogram": [
           {
            "marker": {
             "pattern": {
              "fillmode": "overlay",
              "size": 10,
              "solidity": 0.2
             }
            },
            "type": "histogram"
           }
          ],
          "histogram2d": [
           {
            "colorbar": {
             "outlinewidth": 0,
             "ticks": ""
            },
            "colorscale": [
             [
              0,
              "#0d0887"
             ],
             [
              0.1111111111111111,
              "#46039f"
             ],
             [
              0.2222222222222222,
              "#7201a8"
             ],
             [
              0.3333333333333333,
              "#9c179e"
             ],
             [
              0.4444444444444444,
              "#bd3786"
             ],
             [
              0.5555555555555556,
              "#d8576b"
             ],
             [
              0.6666666666666666,
              "#ed7953"
             ],
             [
              0.7777777777777778,
              "#fb9f3a"
             ],
             [
              0.8888888888888888,
              "#fdca26"
             ],
             [
              1,
              "#f0f921"
             ]
            ],
            "type": "histogram2d"
           }
          ],
          "histogram2dcontour": [
           {
            "colorbar": {
             "outlinewidth": 0,
             "ticks": ""
            },
            "colorscale": [
             [
              0,
              "#0d0887"
             ],
             [
              0.1111111111111111,
              "#46039f"
             ],
             [
              0.2222222222222222,
              "#7201a8"
             ],
             [
              0.3333333333333333,
              "#9c179e"
             ],
             [
              0.4444444444444444,
              "#bd3786"
             ],
             [
              0.5555555555555556,
              "#d8576b"
             ],
             [
              0.6666666666666666,
              "#ed7953"
             ],
             [
              0.7777777777777778,
              "#fb9f3a"
             ],
             [
              0.8888888888888888,
              "#fdca26"
             ],
             [
              1,
              "#f0f921"
             ]
            ],
            "type": "histogram2dcontour"
           }
          ],
          "mesh3d": [
           {
            "colorbar": {
             "outlinewidth": 0,
             "ticks": ""
            },
            "type": "mesh3d"
           }
          ],
          "parcoords": [
           {
            "line": {
             "colorbar": {
              "outlinewidth": 0,
              "ticks": ""
             }
            },
            "type": "parcoords"
           }
          ],
          "pie": [
           {
            "automargin": true,
            "type": "pie"
           }
          ],
          "scatter": [
           {
            "fillpattern": {
             "fillmode": "overlay",
             "size": 10,
             "solidity": 0.2
            },
            "type": "scatter"
           }
          ],
          "scatter3d": [
           {
            "line": {
             "colorbar": {
              "outlinewidth": 0,
              "ticks": ""
             }
            },
            "marker": {
             "colorbar": {
              "outlinewidth": 0,
              "ticks": ""
             }
            },
            "type": "scatter3d"
           }
          ],
          "scattercarpet": [
           {
            "marker": {
             "colorbar": {
              "outlinewidth": 0,
              "ticks": ""
             }
            },
            "type": "scattercarpet"
           }
          ],
          "scattergeo": [
           {
            "marker": {
             "colorbar": {
              "outlinewidth": 0,
              "ticks": ""
             }
            },
            "type": "scattergeo"
           }
          ],
          "scattergl": [
           {
            "marker": {
             "colorbar": {
              "outlinewidth": 0,
              "ticks": ""
             }
            },
            "type": "scattergl"
           }
          ],
          "scattermapbox": [
           {
            "marker": {
             "colorbar": {
              "outlinewidth": 0,
              "ticks": ""
             }
            },
            "type": "scattermapbox"
           }
          ],
          "scatterpolar": [
           {
            "marker": {
             "colorbar": {
              "outlinewidth": 0,
              "ticks": ""
             }
            },
            "type": "scatterpolar"
           }
          ],
          "scatterpolargl": [
           {
            "marker": {
             "colorbar": {
              "outlinewidth": 0,
              "ticks": ""
             }
            },
            "type": "scatterpolargl"
           }
          ],
          "scatterternary": [
           {
            "marker": {
             "colorbar": {
              "outlinewidth": 0,
              "ticks": ""
             }
            },
            "type": "scatterternary"
           }
          ],
          "surface": [
           {
            "colorbar": {
             "outlinewidth": 0,
             "ticks": ""
            },
            "colorscale": [
             [
              0,
              "#0d0887"
             ],
             [
              0.1111111111111111,
              "#46039f"
             ],
             [
              0.2222222222222222,
              "#7201a8"
             ],
             [
              0.3333333333333333,
              "#9c179e"
             ],
             [
              0.4444444444444444,
              "#bd3786"
             ],
             [
              0.5555555555555556,
              "#d8576b"
             ],
             [
              0.6666666666666666,
              "#ed7953"
             ],
             [
              0.7777777777777778,
              "#fb9f3a"
             ],
             [
              0.8888888888888888,
              "#fdca26"
             ],
             [
              1,
              "#f0f921"
             ]
            ],
            "type": "surface"
           }
          ],
          "table": [
           {
            "cells": {
             "fill": {
              "color": "#EBF0F8"
             },
             "line": {
              "color": "white"
             }
            },
            "header": {
             "fill": {
              "color": "#C8D4E3"
             },
             "line": {
              "color": "white"
             }
            },
            "type": "table"
           }
          ]
         },
         "layout": {
          "annotationdefaults": {
           "arrowcolor": "#2a3f5f",
           "arrowhead": 0,
           "arrowwidth": 1
          },
          "autotypenumbers": "strict",
          "coloraxis": {
           "colorbar": {
            "outlinewidth": 0,
            "ticks": ""
           }
          },
          "colorscale": {
           "diverging": [
            [
             0,
             "#8e0152"
            ],
            [
             0.1,
             "#c51b7d"
            ],
            [
             0.2,
             "#de77ae"
            ],
            [
             0.3,
             "#f1b6da"
            ],
            [
             0.4,
             "#fde0ef"
            ],
            [
             0.5,
             "#f7f7f7"
            ],
            [
             0.6,
             "#e6f5d0"
            ],
            [
             0.7,
             "#b8e186"
            ],
            [
             0.8,
             "#7fbc41"
            ],
            [
             0.9,
             "#4d9221"
            ],
            [
             1,
             "#276419"
            ]
           ],
           "sequential": [
            [
             0,
             "#0d0887"
            ],
            [
             0.1111111111111111,
             "#46039f"
            ],
            [
             0.2222222222222222,
             "#7201a8"
            ],
            [
             0.3333333333333333,
             "#9c179e"
            ],
            [
             0.4444444444444444,
             "#bd3786"
            ],
            [
             0.5555555555555556,
             "#d8576b"
            ],
            [
             0.6666666666666666,
             "#ed7953"
            ],
            [
             0.7777777777777778,
             "#fb9f3a"
            ],
            [
             0.8888888888888888,
             "#fdca26"
            ],
            [
             1,
             "#f0f921"
            ]
           ],
           "sequentialminus": [
            [
             0,
             "#0d0887"
            ],
            [
             0.1111111111111111,
             "#46039f"
            ],
            [
             0.2222222222222222,
             "#7201a8"
            ],
            [
             0.3333333333333333,
             "#9c179e"
            ],
            [
             0.4444444444444444,
             "#bd3786"
            ],
            [
             0.5555555555555556,
             "#d8576b"
            ],
            [
             0.6666666666666666,
             "#ed7953"
            ],
            [
             0.7777777777777778,
             "#fb9f3a"
            ],
            [
             0.8888888888888888,
             "#fdca26"
            ],
            [
             1,
             "#f0f921"
            ]
           ]
          },
          "colorway": [
           "#636efa",
           "#EF553B",
           "#00cc96",
           "#ab63fa",
           "#FFA15A",
           "#19d3f3",
           "#FF6692",
           "#B6E880",
           "#FF97FF",
           "#FECB52"
          ],
          "font": {
           "color": "#2a3f5f"
          },
          "geo": {
           "bgcolor": "white",
           "lakecolor": "white",
           "landcolor": "#E5ECF6",
           "showlakes": true,
           "showland": true,
           "subunitcolor": "white"
          },
          "hoverlabel": {
           "align": "left"
          },
          "hovermode": "closest",
          "mapbox": {
           "style": "light"
          },
          "paper_bgcolor": "white",
          "plot_bgcolor": "#E5ECF6",
          "polar": {
           "angularaxis": {
            "gridcolor": "white",
            "linecolor": "white",
            "ticks": ""
           },
           "bgcolor": "#E5ECF6",
           "radialaxis": {
            "gridcolor": "white",
            "linecolor": "white",
            "ticks": ""
           }
          },
          "scene": {
           "xaxis": {
            "backgroundcolor": "#E5ECF6",
            "gridcolor": "white",
            "gridwidth": 2,
            "linecolor": "white",
            "showbackground": true,
            "ticks": "",
            "zerolinecolor": "white"
           },
           "yaxis": {
            "backgroundcolor": "#E5ECF6",
            "gridcolor": "white",
            "gridwidth": 2,
            "linecolor": "white",
            "showbackground": true,
            "ticks": "",
            "zerolinecolor": "white"
           },
           "zaxis": {
            "backgroundcolor": "#E5ECF6",
            "gridcolor": "white",
            "gridwidth": 2,
            "linecolor": "white",
            "showbackground": true,
            "ticks": "",
            "zerolinecolor": "white"
           }
          },
          "shapedefaults": {
           "line": {
            "color": "#2a3f5f"
           }
          },
          "ternary": {
           "aaxis": {
            "gridcolor": "white",
            "linecolor": "white",
            "ticks": ""
           },
           "baxis": {
            "gridcolor": "white",
            "linecolor": "white",
            "ticks": ""
           },
           "bgcolor": "#E5ECF6",
           "caxis": {
            "gridcolor": "white",
            "linecolor": "white",
            "ticks": ""
           }
          },
          "title": {
           "x": 0.05
          },
          "xaxis": {
           "automargin": true,
           "gridcolor": "white",
           "linecolor": "white",
           "ticks": "",
           "title": {
            "standoff": 15
           },
           "zerolinecolor": "white",
           "zerolinewidth": 2
          },
          "yaxis": {
           "automargin": true,
           "gridcolor": "white",
           "linecolor": "white",
           "ticks": "",
           "title": {
            "standoff": 15
           },
           "zerolinecolor": "white",
           "zerolinewidth": 2
          }
         }
        },
        "title": {
         "text": "Distribusi Top Performer Berdasarkan Jenjang Jabatan"
        },
        "xaxis": {
         "anchor": "y",
         "domain": [
          0,
          1
         ],
         "title": {
          "text": "Jenjang Jabatan"
         }
        },
        "yaxis": {
         "anchor": "x",
         "domain": [
          0,
          1
         ],
         "title": {
          "text": "Persentase dalam Grup (%)"
         }
        }
       }
      }
     },
     "metadata": {},
     "output_type": "display_data"
    }
   ],
   "source": [
    "# Kita mulai dari yang paling dasar: apakah jenjang jabatan (grade) berpengaruh?\n",
    "fig_grade = px.histogram(df_main,\n",
    "                         x='name_x',\n",
    "                         color='is_top_performer',\n",
    "                         barmode='group',\n",
    "                         histnorm='percent',\n",
    "                         title='Distribusi Top Performer Berdasarkan Jenjang Jabatan',\n",
    "                         labels={'name_x': 'Jenjang Jabatan'})\n",
    "fig_grade.update_layout(yaxis_title=\"Persentase dalam Grup (%)\")\n",
    "fig_grade.show()"
   ]
  },
  {
   "cell_type": "markdown",
   "id": "39f67a78",
   "metadata": {},
   "source": [
    "### Interpretasi"
   ]
  },
  {
   "cell_type": "markdown",
   "id": "336d7f88",
   "metadata": {},
   "source": [
    "Baik, mari kita mulai investigasi kita pada area pertama yaitu faktor kontekstual. Pertanyaan yang ingin kita jawab adalah, apakah senioritas atau posisi seseorang berpengaruh terhadap kemungkinan mereka menjadi seorang top performer?\n",
    "\n",
    "Grafik ini membandingkan komposisi top performer di setiap jenjang jabatan. Kita bisa lihat dengan jelas, pada Jenjang Jabatan IV, proporsi top performer (warna oranye) secara signifikan lebih dominan dibandingkan dengan karyawan lainnya. Apa artinya ini bagi kita? Ini bukan sekadar angka. Ini adalah sinyal bahwa Jenjang Jabatan IV kemungkinan adalah sebuah 'posisi kunci' atau 'titik panas' di mana kinerja terbaik paling sering muncul. Apakah ini karena peran di level tersebut memang sangat strategis? Atau apakah proses penempatan talenta kita di level ini sudah sangat efektif?\n",
    "\n",
    "Jadi, temuan kunci pertama kita adalah: **konteks jabatan itu sangat penting, dan Jenjang Jabatan IV adalah area yang perlu kita pelajari lebih dalam sebagai model kesuksesan.**"
   ]
  },
  {
   "cell_type": "markdown",
   "id": "4f8e1193",
   "metadata": {},
   "source": [
    "## Perbandingan Masa Kerja"
   ]
  },
  {
   "cell_type": "code",
   "execution_count": 4,
   "id": "f91b961c",
   "metadata": {},
   "outputs": [
    {
     "data": {
      "application/vnd.plotly.v1+json": {
       "config": {
        "plotlyServerURL": "https://plot.ly"
       },
       "data": [
        {
         "alignmentgroup": "True",
         "boxpoints": "all",
         "hovertemplate": "Grup Karyawan=%{x}<br>Masa Kerja (Bulan)=%{y}<extra></extra>",
         "legendgroup": "",
         "marker": {
          "color": "#636efa"
         },
         "name": "",
         "notched": false,
         "offsetgroup": "",
         "orientation": "v",
         "showlegend": false,
         "type": "box",
         "x": [
          false,
          false,
          false,
          false,
          false,
          false,
          false,
          false,
          false,
          false,
          true,
          true,
          true,
          false,
          false,
          false,
          false,
          false,
          false,
          false,
          false,
          false,
          false,
          false,
          true,
          false,
          true,
          false,
          false,
          false,
          false,
          false,
          false,
          false,
          false,
          false,
          false,
          false,
          false,
          true,
          false,
          true,
          false,
          false,
          false,
          false,
          false,
          false,
          false,
          false,
          true,
          false,
          true,
          false,
          true,
          false,
          false,
          false,
          false,
          true,
          true,
          false,
          false,
          false,
          false,
          false,
          false,
          false,
          false,
          false,
          false,
          false,
          false,
          false,
          false,
          true,
          false,
          false,
          false,
          false,
          false,
          false,
          false,
          false,
          false,
          false,
          false,
          false,
          false,
          false,
          false,
          false,
          false,
          false,
          false,
          false,
          false,
          false,
          false,
          false,
          false,
          false,
          false,
          true,
          false,
          false,
          false,
          false,
          false,
          false,
          false,
          false,
          false,
          false,
          true,
          false,
          false,
          false,
          false,
          false,
          false,
          false,
          false,
          false,
          false,
          false,
          false,
          false,
          false,
          false,
          false,
          false,
          false,
          false,
          false,
          false,
          false,
          false,
          false,
          false,
          false,
          false,
          false,
          false,
          false,
          false,
          false,
          false,
          false,
          false,
          false,
          false,
          false,
          false,
          false,
          false,
          false,
          false,
          false,
          false,
          false,
          false,
          false,
          false,
          false,
          false,
          false,
          false,
          false,
          false,
          false,
          false,
          false,
          false,
          false,
          false,
          false,
          false,
          false,
          false,
          false,
          false,
          false,
          false,
          false,
          false,
          true,
          false,
          false,
          false,
          false,
          false,
          false,
          false,
          false,
          false,
          false,
          false,
          false,
          false,
          false,
          false,
          false,
          false,
          false,
          false,
          false,
          false,
          false,
          false,
          false,
          false,
          false,
          false,
          false,
          false,
          false,
          false,
          false,
          false,
          false,
          false,
          false,
          false,
          false,
          false,
          false,
          false,
          false,
          true,
          false,
          true,
          false,
          false,
          false,
          false,
          false,
          false,
          false,
          false,
          false,
          false,
          false,
          false,
          false,
          false,
          false,
          false,
          false,
          false,
          false,
          false,
          false,
          false,
          false,
          false,
          false,
          false,
          false,
          false,
          false,
          false,
          false,
          false,
          false,
          false,
          false,
          false,
          false,
          false,
          false,
          false,
          false,
          true,
          false,
          false,
          false,
          false,
          false,
          false,
          false,
          false,
          false,
          false,
          false,
          false,
          false,
          false,
          false,
          false,
          false,
          false,
          false,
          false,
          false,
          false,
          false,
          false,
          false,
          false,
          false,
          false,
          false,
          false,
          false,
          false,
          false,
          false,
          false,
          false,
          false,
          false,
          false,
          true,
          false,
          false,
          false,
          false,
          false,
          true,
          false,
          false,
          false,
          false,
          false,
          false,
          true,
          false,
          false,
          false,
          false,
          true,
          false,
          true,
          false,
          false,
          false,
          false,
          false,
          false,
          false,
          false,
          false,
          false,
          false,
          false,
          false,
          false,
          false,
          false,
          false,
          false,
          false,
          false,
          false,
          false,
          false,
          false,
          false,
          false,
          true,
          false,
          true,
          false,
          false,
          false,
          false,
          false,
          false,
          false,
          false,
          false,
          false,
          false,
          false,
          false,
          false,
          false,
          false,
          true,
          false,
          false,
          false,
          false,
          false,
          false,
          false,
          false,
          false,
          false,
          false,
          false,
          false,
          false,
          false,
          false,
          false,
          false,
          false,
          false,
          false,
          true,
          false,
          false,
          false,
          false,
          false,
          false,
          false,
          false,
          false,
          false,
          false,
          false,
          false,
          false,
          false,
          false,
          true,
          false,
          false,
          false,
          false,
          false,
          false,
          false,
          true,
          false,
          true,
          false,
          false,
          false,
          false,
          false,
          false,
          false,
          false,
          false,
          false,
          false,
          false,
          false,
          false,
          false,
          false,
          false,
          false,
          false,
          false,
          false,
          false,
          false,
          false,
          false,
          false,
          false,
          false,
          false,
          false,
          false,
          true,
          false,
          true,
          false,
          false,
          true,
          true,
          false,
          false,
          false,
          false,
          false,
          false,
          false,
          false,
          true,
          false,
          false,
          false,
          false,
          false,
          false,
          false,
          false,
          false,
          true,
          false,
          false,
          false,
          false,
          false,
          false,
          false,
          false,
          false,
          false,
          false,
          false,
          false,
          false,
          false,
          false,
          false,
          false,
          false,
          false,
          false,
          false,
          false,
          false,
          false,
          false,
          true,
          false,
          false,
          false,
          false,
          false,
          false,
          true,
          false,
          false,
          false,
          false,
          true,
          false,
          false,
          false,
          false,
          false,
          false,
          false,
          false,
          false,
          false,
          false,
          true,
          false,
          false,
          false,
          false,
          false,
          false,
          false,
          false,
          false,
          false,
          false,
          true,
          false,
          true,
          false,
          false,
          false,
          true,
          false,
          false,
          false,
          false,
          false,
          false,
          false,
          false,
          false,
          false,
          false,
          false,
          false,
          false,
          true,
          false,
          true,
          false,
          false,
          false,
          false,
          false,
          false,
          false,
          false,
          false,
          false,
          false,
          false,
          false,
          false,
          false,
          false,
          false,
          false,
          false,
          true,
          false,
          false,
          false,
          false,
          false,
          false,
          false,
          false,
          false,
          false,
          false,
          false,
          false,
          true,
          false,
          false,
          true,
          false,
          false,
          false,
          false,
          false,
          false,
          true,
          false,
          false,
          false,
          false,
          false,
          false,
          false,
          false,
          false,
          false,
          false,
          false,
          false,
          false,
          false,
          false,
          false,
          false,
          false,
          false,
          false,
          true,
          false,
          true,
          false,
          false,
          false,
          false,
          false,
          true,
          false,
          false,
          false,
          true,
          true,
          false,
          true,
          false,
          false,
          false,
          false,
          false,
          false,
          false,
          false,
          false,
          false,
          true,
          false,
          false,
          false,
          false,
          false,
          false,
          false,
          false,
          false,
          false,
          false,
          false,
          false,
          false,
          false,
          false,
          false,
          false,
          false,
          false,
          true,
          false,
          false,
          false,
          false,
          false,
          false,
          false,
          false,
          false,
          false,
          false,
          false,
          false,
          false,
          false,
          false,
          false,
          false,
          false,
          false,
          false,
          false,
          false,
          false,
          false,
          false,
          false,
          false,
          true,
          false,
          false,
          false,
          false,
          false,
          false,
          false,
          false,
          false,
          true,
          false,
          false,
          false,
          true,
          false,
          false,
          false,
          false,
          false,
          false,
          false,
          false,
          false,
          false,
          false,
          true,
          false,
          false,
          false,
          false,
          false,
          false,
          false,
          false,
          false,
          false,
          true,
          false,
          false,
          false,
          false,
          false,
          false,
          false,
          true,
          false,
          false,
          true,
          false,
          false,
          false,
          false,
          false,
          false,
          false,
          false,
          false,
          false,
          false,
          false,
          false,
          false,
          false,
          false,
          false,
          false,
          false,
          false,
          false,
          false,
          false,
          true,
          false,
          false,
          false,
          false,
          false,
          false,
          false,
          false,
          false,
          false,
          false,
          false,
          false,
          false,
          false,
          false,
          false,
          true,
          false,
          false,
          false,
          false,
          false,
          false,
          false,
          false,
          false,
          false,
          false,
          false,
          false,
          false,
          false,
          false,
          false,
          false,
          false,
          false,
          false,
          false,
          false,
          false,
          false,
          false,
          true,
          false,
          false,
          false,
          false,
          false,
          true,
          false,
          false,
          false,
          false,
          false,
          false,
          false,
          false,
          false,
          false,
          false,
          false,
          false,
          false,
          false,
          false,
          false,
          false,
          false,
          false,
          false,
          false,
          false,
          false,
          false,
          false,
          false,
          false,
          false,
          false,
          false,
          false,
          false,
          false,
          false,
          false,
          false,
          false,
          false,
          false,
          false,
          false,
          false,
          false,
          true,
          false,
          false,
          false,
          false,
          false,
          false,
          false,
          false,
          false,
          false,
          false,
          false,
          false,
          false,
          false,
          false,
          false,
          false,
          false,
          false,
          false,
          false,
          false,
          false,
          false,
          false,
          false,
          true,
          false,
          false,
          false,
          false,
          false,
          false,
          false,
          false,
          false,
          false,
          false,
          false,
          false,
          false,
          true,
          false,
          true,
          false,
          false,
          false,
          false,
          false,
          false,
          false,
          false,
          false,
          false,
          false,
          false,
          false,
          false,
          false,
          false,
          false,
          false,
          false,
          false,
          false,
          false,
          false,
          false,
          false,
          false,
          false,
          false,
          false,
          false,
          false,
          true,
          false,
          false,
          false,
          true,
          true,
          true,
          false,
          false,
          false,
          false,
          false,
          false,
          false,
          true,
          false,
          false,
          false,
          false,
          false,
          false,
          false,
          false,
          false,
          false,
          false,
          false,
          false,
          false,
          true,
          true,
          false,
          true,
          false,
          false,
          false,
          false,
          false,
          false,
          false,
          false,
          false,
          false,
          false,
          false,
          false,
          false,
          false,
          false,
          true,
          false,
          true,
          false,
          false,
          false,
          false,
          false,
          false,
          false,
          false,
          false,
          false,
          false,
          false,
          false,
          false,
          false,
          false,
          false,
          false,
          false,
          false,
          false,
          false,
          false,
          false,
          false,
          false,
          false,
          false,
          false,
          false,
          false,
          false,
          false,
          false,
          false,
          false,
          false,
          false,
          false,
          false,
          false,
          false,
          false,
          false,
          false,
          true,
          false,
          false,
          false,
          false,
          false,
          false,
          false,
          false,
          false,
          true,
          false,
          false,
          false,
          false,
          false,
          false,
          false,
          false,
          false,
          false,
          false,
          false,
          false,
          false,
          false,
          false,
          true,
          false,
          false,
          false,
          false,
          false,
          false,
          false,
          false,
          true,
          false,
          false,
          false,
          false,
          false,
          false,
          true,
          false,
          false,
          false,
          false,
          true,
          false,
          false,
          false,
          false,
          false,
          false,
          false,
          false,
          false,
          false,
          false,
          false,
          false,
          false,
          false,
          false,
          false,
          false,
          false,
          true,
          false,
          false,
          false,
          false,
          false,
          false,
          false,
          false,
          false,
          false,
          false,
          false,
          false,
          false,
          false,
          false,
          false,
          false,
          false,
          false,
          false,
          false,
          false,
          false,
          true,
          false,
          false,
          false,
          false,
          false,
          true,
          false,
          false,
          false,
          false,
          true,
          false,
          false,
          false,
          false,
          false,
          false,
          false,
          true,
          false,
          false,
          false,
          false,
          false,
          false,
          false,
          false,
          false,
          false,
          false,
          false,
          false,
          false,
          false,
          false,
          false,
          false,
          false,
          false,
          false,
          false,
          false,
          false,
          false,
          false,
          false,
          false,
          false,
          false,
          false,
          false,
          false,
          false,
          false,
          true,
          false,
          false,
          false,
          false,
          false,
          false,
          false,
          false,
          false,
          false,
          false,
          false,
          false,
          false,
          false,
          false,
          false,
          false,
          false,
          false,
          false,
          true,
          true,
          false,
          false,
          false,
          false,
          false,
          false,
          false,
          true,
          false,
          false,
          true,
          false,
          false,
          false,
          false,
          false,
          false,
          false,
          false,
          false,
          false,
          true,
          false,
          true,
          false,
          false,
          false,
          false,
          false,
          true,
          false,
          false,
          false,
          false,
          false,
          false,
          false,
          false,
          false,
          false,
          true,
          false,
          false,
          false,
          false,
          false,
          false,
          false,
          false,
          false,
          false,
          false,
          false,
          false,
          false,
          false,
          false,
          false,
          false,
          true,
          false,
          false,
          false,
          false,
          false,
          false,
          true,
          false,
          false,
          false,
          false,
          false,
          false,
          false,
          false,
          false,
          false,
          false,
          false,
          false,
          false,
          false,
          false,
          false,
          false,
          false,
          false,
          false,
          false,
          false,
          false,
          false,
          false,
          true,
          false,
          false,
          false,
          false,
          false,
          false,
          false,
          false,
          false,
          false,
          false,
          false,
          false,
          false,
          false,
          false,
          false,
          false,
          false,
          false,
          false,
          false,
          true,
          false,
          false,
          false,
          true,
          false,
          false,
          true,
          false,
          false,
          false,
          false,
          false,
          false,
          false,
          false,
          false,
          false,
          false,
          true,
          false,
          false,
          false,
          false,
          true,
          false,
          false,
          false,
          false,
          false,
          false,
          false,
          false,
          false,
          false,
          false,
          true,
          false,
          false,
          false,
          false,
          false,
          false,
          false,
          false,
          false,
          false,
          false,
          false,
          false,
          false,
          false,
          false,
          true,
          false,
          false,
          false,
          false,
          false,
          false,
          false,
          false,
          false,
          false,
          false,
          false,
          false,
          false,
          false,
          false,
          false,
          false,
          false,
          false,
          false,
          false,
          false,
          false,
          false,
          false,
          false,
          false,
          false,
          false,
          false,
          true,
          false,
          false,
          false,
          false,
          false,
          false,
          false,
          false,
          false,
          false,
          true,
          false,
          false,
          false,
          false,
          false,
          false,
          true,
          false,
          false,
          false,
          false,
          true,
          false,
          false,
          false,
          false,
          false,
          false,
          false,
          false,
          true,
          false,
          false,
          false,
          false,
          false,
          false,
          false,
          false,
          false,
          false,
          false,
          false,
          false,
          false,
          false,
          false,
          false,
          false,
          false,
          false,
          false,
          false,
          false,
          true,
          false,
          false,
          false,
          false,
          false,
          false,
          false,
          false,
          false,
          false,
          true,
          false,
          false,
          false,
          false,
          false,
          false,
          false,
          false,
          false,
          false,
          false,
          false,
          true,
          false,
          false,
          false,
          false,
          false,
          false,
          false,
          false,
          false,
          false,
          false,
          false,
          false,
          false,
          false,
          false,
          true,
          false,
          false,
          false,
          false,
          false,
          false,
          false,
          false,
          false,
          false,
          true,
          false,
          false,
          false,
          false,
          false,
          false,
          false,
          false,
          false,
          false,
          true,
          false,
          false,
          true,
          true,
          false,
          false,
          false,
          false,
          false,
          false,
          false,
          true,
          false,
          false,
          false,
          false,
          false,
          false,
          false,
          false,
          false,
          false,
          true,
          false,
          false,
          true,
          false,
          false,
          false,
          false,
          true,
          false,
          false,
          false,
          false,
          false,
          false,
          false,
          false,
          true,
          false,
          false,
          true,
          true,
          false,
          false,
          false,
          false,
          false,
          false,
          false,
          true,
          false,
          false,
          false,
          true,
          false,
          true,
          false,
          false,
          false,
          false,
          false,
          false,
          false,
          true,
          false,
          false,
          false,
          false,
          false,
          false,
          false,
          false,
          false,
          false,
          false,
          false,
          false,
          false,
          false,
          false,
          false,
          false,
          true,
          false,
          false,
          false,
          false,
          false,
          false,
          false,
          false,
          false,
          false,
          false,
          false,
          false,
          false,
          false,
          false,
          false,
          false,
          false,
          false,
          false,
          false,
          false,
          false,
          false,
          false,
          false,
          false,
          false,
          false,
          false,
          false,
          false,
          false,
          false,
          false,
          false,
          false,
          false,
          false,
          false,
          false,
          true,
          false,
          false,
          false,
          false,
          false,
          false,
          false,
          false,
          true,
          false,
          true,
          false,
          false,
          false,
          false,
          false,
          false,
          false,
          false,
          false,
          false,
          false,
          false,
          false,
          true,
          false,
          false,
          false,
          false,
          false,
          false,
          false,
          false,
          false,
          false,
          false,
          true,
          false,
          false,
          false,
          false,
          false,
          true,
          false,
          false,
          false,
          false,
          false,
          false,
          false,
          false,
          false,
          false,
          false,
          false,
          false,
          false,
          false,
          false,
          false,
          false,
          false,
          false,
          false,
          false,
          false,
          false,
          false,
          false,
          false,
          false,
          false,
          false,
          false,
          false,
          false,
          false,
          false,
          false,
          false,
          false,
          false,
          false,
          false,
          false,
          false,
          false,
          false,
          true,
          false,
          false,
          false,
          false,
          false,
          false,
          true,
          false,
          false,
          false,
          false,
          false,
          false,
          false,
          false,
          false,
          true,
          false,
          false,
          false,
          false,
          false,
          true,
          false,
          false,
          false,
          false,
          true,
          false,
          false,
          false,
          false,
          false,
          false,
          false,
          false,
          false,
          true,
          false,
          false,
          false,
          false,
          false,
          false,
          true,
          false,
          false,
          false,
          false,
          false,
          false,
          false,
          true,
          false,
          false,
          false,
          false,
          false,
          false,
          false,
          false,
          false,
          false,
          true,
          false,
          false,
          false,
          false,
          false,
          false,
          false,
          false,
          false,
          false,
          false,
          false,
          false,
          false,
          false,
          false,
          false,
          false,
          false,
          true,
          false,
          false,
          false,
          false,
          true,
          false,
          false,
          false,
          false,
          true,
          false,
          false,
          false,
          true,
          false,
          false,
          false,
          false,
          false,
          false,
          false,
          false,
          false,
          false,
          false,
          false,
          false,
          false,
          false,
          true,
          false,
          false,
          false,
          false,
          false,
          false,
          false,
          false,
          false,
          false,
          false,
          true,
          true,
          false,
          false,
          false,
          false,
          false,
          false,
          false,
          false,
          false,
          false,
          false,
          false,
          false,
          false,
          false,
          false,
          false,
          false,
          false,
          false,
          false,
          false,
          false,
          false,
          false,
          false,
          false,
          false,
          false,
          false,
          false,
          false,
          false,
          false,
          false,
          false,
          false,
          false,
          false,
          true,
          false,
          false,
          false,
          false,
          false,
          false,
          false,
          false,
          false,
          false,
          false,
          false,
          false,
          false,
          false,
          false,
          false,
          false,
          false,
          false,
          false,
          false,
          false,
          false,
          false,
          false,
          false,
          false,
          false,
          false,
          false,
          true,
          false,
          false,
          false,
          false,
          false,
          false,
          true,
          false,
          false,
          true,
          true,
          false,
          false,
          false,
          false,
          false,
          false,
          false,
          false,
          false,
          false,
          false,
          true,
          false,
          false,
          false,
          false,
          false,
          false,
          false,
          false,
          false,
          false,
          false,
          false,
          false,
          false,
          false,
          false,
          false,
          false,
          true,
          false,
          false,
          true,
          false
         ],
         "x0": " ",
         "xaxis": "x",
         "y": [
          64,
          16,
          58,
          15,
          34,
          66,
          82,
          56,
          40,
          77,
          29,
          51,
          3,
          3,
          65,
          28,
          39,
          95,
          53,
          27,
          31,
          81,
          53,
          49,
          44,
          20,
          65,
          132,
          22,
          32,
          56,
          34,
          34,
          37,
          86,
          57,
          54,
          52,
          50,
          65,
          81,
          99,
          28,
          40,
          8,
          38,
          64,
          58,
          50,
          35,
          69,
          98,
          23,
          52,
          22,
          42,
          96,
          60,
          66,
          75,
          44,
          46,
          40,
          42,
          38,
          24,
          65,
          89,
          68,
          61,
          47,
          72,
          45,
          85,
          32,
          24,
          4,
          35,
          39,
          67,
          43,
          85,
          63,
          19,
          16,
          22,
          23,
          12,
          38,
          56,
          27,
          10,
          68,
          57,
          33,
          41,
          77,
          64,
          57,
          46,
          55,
          51,
          22,
          32,
          81,
          16,
          64,
          45,
          58,
          55,
          46,
          44,
          36,
          55,
          15,
          41,
          50,
          39,
          53,
          1,
          52,
          56,
          10,
          54,
          52,
          45,
          67,
          26,
          58,
          17,
          68,
          58,
          46,
          30,
          61,
          14,
          76,
          124,
          42,
          78,
          54,
          67,
          64,
          22,
          20,
          41,
          35,
          7,
          100,
          60,
          69,
          42,
          59,
          66,
          39,
          74,
          66,
          15,
          20,
          45,
          83,
          78,
          38,
          74,
          81,
          18,
          34,
          84,
          77,
          55,
          103,
          44,
          15,
          81,
          74,
          28,
          10,
          19,
          56,
          41,
          44,
          63,
          49,
          16,
          62,
          59,
          59,
          39,
          7,
          78,
          45,
          61,
          86,
          38,
          41,
          29,
          34,
          15,
          66,
          70,
          46,
          29,
          26,
          46,
          75,
          12,
          38,
          54,
          79,
          45,
          56,
          38,
          14,
          59,
          16,
          97,
          10,
          35,
          35,
          14,
          63,
          3,
          88,
          2,
          75,
          48,
          11,
          61,
          53,
          22,
          91,
          17,
          65,
          66,
          19,
          36,
          20,
          36,
          98,
          16,
          19,
          81,
          52,
          40,
          85,
          79,
          28,
          59,
          7,
          82,
          56,
          25,
          65,
          83,
          55,
          49,
          54,
          85,
          4,
          52,
          88,
          42,
          55,
          70,
          95,
          47,
          49,
          61,
          73,
          81,
          53,
          102,
          60,
          48,
          34,
          58,
          47,
          31,
          57,
          73,
          72,
          29,
          35,
          39,
          27,
          15,
          24,
          18,
          54,
          6,
          19,
          20,
          2,
          88,
          65,
          33,
          49,
          65,
          65,
          13,
          25,
          31,
          3,
          95,
          49,
          68,
          24,
          29,
          52,
          61,
          49,
          62,
          20,
          50,
          14,
          70,
          40,
          76,
          31,
          101,
          25,
          42,
          56,
          8,
          48,
          34,
          55,
          86,
          37,
          41,
          25,
          39,
          58,
          47,
          42,
          66,
          26,
          87,
          123,
          53,
          59,
          30,
          66,
          80,
          112,
          7,
          64,
          53,
          65,
          97,
          98,
          62,
          24,
          24,
          52,
          86,
          18,
          90,
          97,
          24,
          6,
          52,
          32,
          44,
          60,
          37,
          65,
          63,
          111,
          51,
          34,
          71,
          20,
          73,
          14,
          58,
          25,
          91,
          27,
          64,
          32,
          43,
          65,
          66,
          98,
          44,
          76,
          50,
          33,
          74,
          35,
          51,
          20,
          61,
          44,
          54,
          36,
          90,
          94,
          56,
          53,
          74,
          91,
          46,
          25,
          55,
          25,
          94,
          26,
          24,
          64,
          29,
          26,
          46,
          70,
          38,
          38,
          32,
          29,
          49,
          81,
          51,
          54,
          83,
          23,
          53,
          50,
          42,
          61,
          31,
          39,
          119,
          94,
          9,
          59,
          34,
          94,
          86,
          50,
          54,
          3,
          24,
          29,
          49,
          80,
          31,
          75,
          23,
          66,
          120,
          19,
          63,
          52,
          27,
          0,
          71,
          51,
          63,
          70,
          81,
          45,
          37,
          28,
          91,
          104,
          48,
          48,
          10,
          26,
          57,
          64,
          32,
          44,
          6,
          45,
          47,
          96,
          98,
          66,
          82,
          28,
          90,
          38,
          23,
          35,
          20,
          22,
          24,
          64,
          12,
          44,
          85,
          74,
          47,
          30,
          64,
          74,
          38,
          58,
          43,
          16,
          36,
          59,
          44,
          47,
          66,
          82,
          44,
          41,
          47,
          46,
          29,
          52,
          59,
          64,
          65,
          37,
          27,
          83,
          56,
          74,
          35,
          63,
          33,
          23,
          79,
          82,
          50,
          18,
          46,
          56,
          1,
          41,
          19,
          20,
          57,
          79,
          34,
          39,
          21,
          47,
          30,
          78,
          57,
          50,
          54,
          77,
          28,
          88,
          22,
          68,
          33,
          69,
          31,
          83,
          2,
          61,
          59,
          79,
          26,
          63,
          0,
          24,
          9,
          27,
          28,
          95,
          79,
          61,
          30,
          72,
          40,
          53,
          15,
          64,
          10,
          48,
          79,
          72,
          55,
          39,
          41,
          58,
          75,
          80,
          18,
          33,
          54,
          84,
          41,
          59,
          52,
          51,
          12,
          73,
          84,
          50,
          58,
          39,
          16,
          12,
          70,
          53,
          71,
          1,
          73,
          52,
          77,
          17,
          45,
          71,
          83,
          87,
          24,
          25,
          86,
          46,
          32,
          81,
          49,
          76,
          77,
          20,
          53,
          38,
          83,
          8,
          19,
          12,
          34,
          8,
          58,
          77,
          54,
          55,
          19,
          76,
          52,
          64,
          54,
          7,
          70,
          69,
          64,
          69,
          26,
          62,
          82,
          72,
          48,
          23,
          56,
          58,
          0,
          29,
          88,
          92,
          76,
          149,
          26,
          36,
          69,
          67,
          55,
          19,
          42,
          36,
          109,
          20,
          79,
          70,
          82,
          76,
          18,
          31,
          63,
          54,
          13,
          80,
          39,
          47,
          28,
          39,
          50,
          125,
          73,
          56,
          36,
          40,
          10,
          93,
          38,
          35,
          39,
          48,
          4,
          80,
          61,
          18,
          15,
          51,
          86,
          76,
          30,
          44,
          31,
          76,
          86,
          85,
          33,
          43,
          13,
          84,
          51,
          35,
          37,
          30,
          28,
          72,
          10,
          44,
          54,
          68,
          35,
          26,
          46,
          76,
          41,
          75,
          102,
          54,
          7,
          68,
          46,
          14,
          87,
          17,
          18,
          48,
          32,
          91,
          37,
          67,
          16,
          58,
          40,
          55,
          41,
          92,
          62,
          36,
          36,
          28,
          25,
          91,
          127,
          68,
          71,
          73,
          42,
          62,
          57,
          41,
          40,
          19,
          80,
          12,
          47,
          79,
          24,
          59,
          68,
          26,
          21,
          41,
          61,
          62,
          87,
          77,
          79,
          12,
          76,
          113,
          86,
          37,
          63,
          62,
          107,
          97,
          72,
          78,
          55,
          15,
          89,
          56,
          37,
          31,
          67,
          55,
          72,
          19,
          41,
          82,
          97,
          40,
          33,
          2,
          36,
          114,
          69,
          65,
          49,
          63,
          26,
          75,
          77,
          89,
          37,
          85,
          54,
          17,
          35,
          42,
          10,
          54,
          58,
          99,
          55,
          15,
          50,
          13,
          29,
          58,
          18,
          16,
          52,
          57,
          7,
          36,
          85,
          77,
          58,
          90,
          63,
          81,
          29,
          61,
          54,
          41,
          49,
          57,
          57,
          33,
          67,
          87,
          13,
          77,
          27,
          63,
          81,
          67,
          44,
          85,
          21,
          53,
          15,
          34,
          74,
          56,
          64,
          43,
          23,
          38,
          14,
          59,
          61,
          73,
          31,
          26,
          18,
          64,
          20,
          19,
          83,
          64,
          59,
          32,
          61,
          65,
          74,
          0,
          80,
          18,
          63,
          3,
          43,
          51,
          38,
          66,
          56,
          31,
          50,
          29,
          56,
          19,
          49,
          43,
          26,
          42,
          54,
          66,
          11,
          37,
          28,
          47,
          46,
          56,
          49,
          72,
          65,
          2,
          15,
          66,
          18,
          52,
          39,
          78,
          65,
          34,
          71,
          114,
          39,
          95,
          22,
          68,
          43,
          16,
          54,
          36,
          48,
          12,
          61,
          34,
          34,
          86,
          60,
          32,
          49,
          56,
          14,
          70,
          20,
          20,
          51,
          3,
          48,
          39,
          43,
          79,
          35,
          29,
          29,
          40,
          56,
          62,
          37,
          59,
          42,
          30,
          53,
          26,
          22,
          72,
          45,
          43,
          75,
          72,
          49,
          8,
          87,
          39,
          66,
          15,
          67,
          33,
          27,
          65,
          44,
          40,
          38,
          59,
          35,
          50,
          36,
          80,
          90,
          56,
          88,
          60,
          7,
          27,
          42,
          72,
          55,
          76,
          25,
          68,
          55,
          98,
          46,
          97,
          42,
          56,
          69,
          35,
          28,
          80,
          0,
          41,
          39,
          68,
          8,
          65,
          33,
          30,
          29,
          83,
          47,
          45,
          31,
          56,
          36,
          41,
          27,
          34,
          48,
          37,
          2,
          43,
          31,
          73,
          50,
          5,
          37,
          58,
          59,
          56,
          55,
          51,
          25,
          23,
          74,
          102,
          28,
          12,
          38,
          33,
          44,
          31,
          78,
          52,
          53,
          4,
          35,
          78,
          13,
          27,
          1,
          52,
          52,
          52,
          29,
          15,
          56,
          63,
          97,
          63,
          46,
          97,
          5,
          29,
          53,
          43,
          29,
          47,
          120,
          3,
          86,
          54,
          33,
          74,
          11,
          57,
          60,
          27,
          9,
          43,
          38,
          46,
          84,
          43,
          9,
          81,
          39,
          65,
          36,
          59,
          51,
          21,
          43,
          63,
          98,
          52,
          30,
          38,
          34,
          36,
          57,
          1,
          40,
          52,
          28,
          48,
          50,
          77,
          18,
          61,
          48,
          78,
          72,
          24,
          42,
          39,
          62,
          96,
          28,
          55,
          25,
          39,
          65,
          61,
          95,
          76,
          65,
          37,
          46,
          37,
          70,
          81,
          46,
          56,
          28,
          74,
          112,
          78,
          128,
          55,
          61,
          56,
          111,
          52,
          1,
          61,
          32,
          89,
          21,
          71,
          44,
          24,
          73,
          19,
          74,
          81,
          58,
          53,
          56,
          75,
          82,
          106,
          76,
          29,
          34,
          11,
          86,
          62,
          23,
          21,
          45,
          54,
          46,
          9,
          21,
          46,
          55,
          37,
          10,
          0,
          55,
          39,
          26,
          68,
          43,
          15,
          84,
          96,
          27,
          58,
          47,
          92,
          22,
          72,
          92,
          63,
          85,
          36,
          58,
          32,
          59,
          46,
          62,
          65,
          40,
          75,
          22,
          34,
          78,
          59,
          41,
          89,
          61,
          26,
          66,
          40,
          56,
          66,
          15,
          16,
          61,
          0,
          37,
          26,
          48,
          92,
          54,
          29,
          89,
          67,
          35,
          85,
          49,
          69,
          16,
          47,
          28,
          57,
          24,
          47,
          62,
          48,
          29,
          78,
          3,
          39,
          20,
          52,
          58,
          58,
          101,
          96,
          61,
          18,
          32,
          27,
          53,
          49,
          134,
          68,
          88,
          46,
          31,
          92,
          67,
          36,
          60,
          30,
          38,
          65,
          75,
          76,
          21,
          64,
          25,
          58,
          93,
          23,
          37,
          30,
          52,
          43,
          55,
          12,
          9,
          21,
          57,
          48,
          24,
          34,
          76,
          40,
          89,
          27,
          57,
          44,
          66,
          60,
          57,
          89,
          33,
          55,
          48,
          76,
          67,
          54,
          114,
          36,
          36,
          27,
          23,
          0,
          29,
          65,
          38,
          40,
          79,
          66,
          27,
          54,
          94,
          39,
          10,
          32,
          28,
          69,
          19,
          60,
          66,
          75,
          71,
          34,
          62,
          64,
          69,
          49,
          42,
          56,
          39,
          56,
          31,
          30,
          92,
          64,
          77,
          26,
          28,
          74,
          110,
          67,
          73,
          48,
          65,
          55,
          44,
          51,
          40,
          14,
          71,
          74,
          61,
          73,
          21,
          45,
          47,
          79,
          20,
          62,
          19,
          7,
          27,
          59,
          56,
          64,
          4,
          64,
          85,
          49,
          111,
          36,
          53,
          42,
          2,
          18,
          74,
          86,
          71,
          43,
          71,
          82,
          23,
          53,
          58,
          46,
          73,
          38,
          24,
          39,
          58,
          1,
          34,
          3,
          13,
          73,
          81,
          33,
          69,
          78,
          53,
          27,
          53,
          90,
          40,
          22,
          68,
          45,
          61,
          55,
          25,
          66,
          25,
          7,
          57,
          62,
          103,
          65,
          54,
          63,
          45,
          67,
          52,
          5,
          73,
          42,
          103,
          25,
          68,
          45,
          68,
          59,
          93,
          22,
          63,
          66,
          76,
          50,
          2,
          37,
          84,
          97,
          35,
          10,
          32,
          76,
          46,
          41,
          110,
          28,
          51,
          95,
          16,
          79,
          9,
          45,
          88,
          43,
          79,
          15,
          37,
          17,
          47,
          13,
          35,
          81,
          64,
          54,
          45,
          39,
          13,
          70,
          65,
          82,
          65,
          48,
          35,
          28,
          54,
          71,
          21,
          77,
          72,
          78,
          6,
          32,
          65,
          24,
          27,
          65,
          59,
          78,
          20,
          25,
          30,
          75,
          92,
          19,
          17,
          35,
          74,
          43,
          20,
          96,
          27,
          37,
          55,
          17,
          25,
          76,
          47,
          25,
          37,
          12,
          87,
          82,
          47,
          54,
          91,
          78,
          52,
          26,
          12,
          43,
          13,
          59,
          39,
          61,
          42,
          61,
          32,
          64,
          7,
          87,
          55,
          84,
          82,
          80,
          90,
          37,
          82,
          39,
          62,
          35,
          16,
          52,
          56,
          49,
          69,
          90,
          32,
          46,
          61,
          48,
          41,
          20,
          69,
          65,
          20,
          42,
          55,
          24,
          88,
          108,
          99,
          52,
          71,
          34,
          45,
          61,
          41,
          50,
          52,
          18,
          64,
          54,
          33,
          43,
          61,
          43,
          57,
          18,
          74,
          75,
          68,
          20,
          96,
          37,
          68,
          57,
          23,
          97,
          43,
          88,
          4,
          61,
          45,
          60,
          24,
          48,
          28,
          55,
          84,
          74,
          37,
          34,
          73,
          74,
          27,
          53,
          64,
          32,
          54,
          48,
          65,
          54,
          46,
          28,
          42,
          33,
          57,
          53,
          38,
          51,
          42,
          51,
          20,
          31,
          11,
          34,
          29,
          63,
          7,
          91,
          84,
          64,
          20,
          49,
          44,
          54,
          48,
          63,
          5,
          62,
          41,
          48,
          47,
          52,
          41,
          78,
          43,
          20,
          89,
          26,
          52,
          26,
          49,
          72,
          27,
          98,
          71,
          56,
          68,
          67,
          79,
          27,
          55,
          35,
          59,
          41,
          65,
          43,
          52,
          56,
          34,
          101,
          133,
          23,
          1,
          17,
          64,
          56,
          55,
          6,
          25,
          128,
          51,
          42,
          69,
          52,
          61,
          126,
          28,
          28,
          61,
          48,
          35,
          46,
          39,
          2,
          29,
          80,
          26,
          56,
          32,
          38,
          85,
          47,
          23,
          62,
          66,
          73,
          48,
          61,
          61,
          56,
          113,
          43,
          12,
          48,
          66,
          44,
          39,
          58,
          22,
          86,
          43,
          72,
          116,
          39,
          10,
          48,
          67,
          40,
          32,
          40,
          57,
          35,
          43,
          20,
          56,
          41,
          36,
          79,
          44,
          19,
          37,
          75,
          68,
          36,
          102,
          86,
          14,
          58,
          8,
          87,
          62,
          37,
          11,
          42,
          51,
          48,
          37,
          56,
          42,
          46,
          24,
          77,
          41,
          45,
          64,
          61,
          52,
          69,
          116,
          42,
          77,
          39,
          106,
          40,
          34,
          33,
          5,
          64,
          17,
          85,
          8,
          38,
          30,
          7,
          27,
          62,
          51,
          67,
          11,
          46,
          59,
          61,
          56,
          45,
          45,
          47,
          55,
          80,
          51,
          76,
          100,
          72,
          69,
          28,
          55,
          56,
          37,
          55,
          53,
          105,
          25,
          6,
          49,
          63,
          49,
          53,
          39,
          0,
          83,
          34,
          38,
          13,
          56,
          40,
          71,
          33,
          92,
          5,
          56,
          16,
          12,
          31,
          29,
          59,
          27,
          28,
          36,
          45,
          4,
          53,
          78,
          71,
          81,
          61,
          75,
          32,
          14,
          12,
          26,
          29,
          45,
          48,
          42,
          75,
          111,
          23,
          90,
          84,
          20,
          58,
          15,
          79,
          35,
          16,
          86,
          20,
          62,
          52,
          54,
          39,
          77,
          54,
          28,
          52,
          61,
          108,
          36,
          66,
          59,
          36,
          68,
          40,
          25,
          31,
          62,
          91,
          82,
          66,
          58,
          88,
          13,
          71,
          14,
          52,
          3,
          47,
          102,
          3,
          53,
          47,
          34,
          84,
          50,
          63,
          83,
          5,
          84,
          66,
          108,
          109,
          5,
          42,
          71,
          4,
          96,
          61,
          58,
          36,
          47,
          49,
          52,
          70,
          11,
          37,
          57,
          35,
          74,
          31,
          88,
          18,
          55,
          61,
          52,
          58,
          52,
          88,
          26,
          24,
          44,
          87,
          48,
          38,
          29,
          40,
          67,
          118,
          50,
          9,
          37,
          81,
          89,
          53,
          86,
          57,
          31,
          7,
          77,
          33,
          27,
          53,
          37,
          42,
          24,
          14,
          50,
          53,
          16,
          64,
          58,
          50,
          50,
          8,
          33,
          79,
          79,
          49,
          75,
          7,
          50
         ],
         "y0": " ",
         "yaxis": "y"
        }
       ],
       "layout": {
        "boxmode": "group",
        "legend": {
         "tracegroupgap": 0
        },
        "template": {
         "data": {
          "bar": [
           {
            "error_x": {
             "color": "#2a3f5f"
            },
            "error_y": {
             "color": "#2a3f5f"
            },
            "marker": {
             "line": {
              "color": "#E5ECF6",
              "width": 0.5
             },
             "pattern": {
              "fillmode": "overlay",
              "size": 10,
              "solidity": 0.2
             }
            },
            "type": "bar"
           }
          ],
          "barpolar": [
           {
            "marker": {
             "line": {
              "color": "#E5ECF6",
              "width": 0.5
             },
             "pattern": {
              "fillmode": "overlay",
              "size": 10,
              "solidity": 0.2
             }
            },
            "type": "barpolar"
           }
          ],
          "carpet": [
           {
            "aaxis": {
             "endlinecolor": "#2a3f5f",
             "gridcolor": "white",
             "linecolor": "white",
             "minorgridcolor": "white",
             "startlinecolor": "#2a3f5f"
            },
            "baxis": {
             "endlinecolor": "#2a3f5f",
             "gridcolor": "white",
             "linecolor": "white",
             "minorgridcolor": "white",
             "startlinecolor": "#2a3f5f"
            },
            "type": "carpet"
           }
          ],
          "choropleth": [
           {
            "colorbar": {
             "outlinewidth": 0,
             "ticks": ""
            },
            "type": "choropleth"
           }
          ],
          "contour": [
           {
            "colorbar": {
             "outlinewidth": 0,
             "ticks": ""
            },
            "colorscale": [
             [
              0,
              "#0d0887"
             ],
             [
              0.1111111111111111,
              "#46039f"
             ],
             [
              0.2222222222222222,
              "#7201a8"
             ],
             [
              0.3333333333333333,
              "#9c179e"
             ],
             [
              0.4444444444444444,
              "#bd3786"
             ],
             [
              0.5555555555555556,
              "#d8576b"
             ],
             [
              0.6666666666666666,
              "#ed7953"
             ],
             [
              0.7777777777777778,
              "#fb9f3a"
             ],
             [
              0.8888888888888888,
              "#fdca26"
             ],
             [
              1,
              "#f0f921"
             ]
            ],
            "type": "contour"
           }
          ],
          "contourcarpet": [
           {
            "colorbar": {
             "outlinewidth": 0,
             "ticks": ""
            },
            "type": "contourcarpet"
           }
          ],
          "heatmap": [
           {
            "colorbar": {
             "outlinewidth": 0,
             "ticks": ""
            },
            "colorscale": [
             [
              0,
              "#0d0887"
             ],
             [
              0.1111111111111111,
              "#46039f"
             ],
             [
              0.2222222222222222,
              "#7201a8"
             ],
             [
              0.3333333333333333,
              "#9c179e"
             ],
             [
              0.4444444444444444,
              "#bd3786"
             ],
             [
              0.5555555555555556,
              "#d8576b"
             ],
             [
              0.6666666666666666,
              "#ed7953"
             ],
             [
              0.7777777777777778,
              "#fb9f3a"
             ],
             [
              0.8888888888888888,
              "#fdca26"
             ],
             [
              1,
              "#f0f921"
             ]
            ],
            "type": "heatmap"
           }
          ],
          "heatmapgl": [
           {
            "colorbar": {
             "outlinewidth": 0,
             "ticks": ""
            },
            "colorscale": [
             [
              0,
              "#0d0887"
             ],
             [
              0.1111111111111111,
              "#46039f"
             ],
             [
              0.2222222222222222,
              "#7201a8"
             ],
             [
              0.3333333333333333,
              "#9c179e"
             ],
             [
              0.4444444444444444,
              "#bd3786"
             ],
             [
              0.5555555555555556,
              "#d8576b"
             ],
             [
              0.6666666666666666,
              "#ed7953"
             ],
             [
              0.7777777777777778,
              "#fb9f3a"
             ],
             [
              0.8888888888888888,
              "#fdca26"
             ],
             [
              1,
              "#f0f921"
             ]
            ],
            "type": "heatmapgl"
           }
          ],
          "histogram": [
           {
            "marker": {
             "pattern": {
              "fillmode": "overlay",
              "size": 10,
              "solidity": 0.2
             }
            },
            "type": "histogram"
           }
          ],
          "histogram2d": [
           {
            "colorbar": {
             "outlinewidth": 0,
             "ticks": ""
            },
            "colorscale": [
             [
              0,
              "#0d0887"
             ],
             [
              0.1111111111111111,
              "#46039f"
             ],
             [
              0.2222222222222222,
              "#7201a8"
             ],
             [
              0.3333333333333333,
              "#9c179e"
             ],
             [
              0.4444444444444444,
              "#bd3786"
             ],
             [
              0.5555555555555556,
              "#d8576b"
             ],
             [
              0.6666666666666666,
              "#ed7953"
             ],
             [
              0.7777777777777778,
              "#fb9f3a"
             ],
             [
              0.8888888888888888,
              "#fdca26"
             ],
             [
              1,
              "#f0f921"
             ]
            ],
            "type": "histogram2d"
           }
          ],
          "histogram2dcontour": [
           {
            "colorbar": {
             "outlinewidth": 0,
             "ticks": ""
            },
            "colorscale": [
             [
              0,
              "#0d0887"
             ],
             [
              0.1111111111111111,
              "#46039f"
             ],
             [
              0.2222222222222222,
              "#7201a8"
             ],
             [
              0.3333333333333333,
              "#9c179e"
             ],
             [
              0.4444444444444444,
              "#bd3786"
             ],
             [
              0.5555555555555556,
              "#d8576b"
             ],
             [
              0.6666666666666666,
              "#ed7953"
             ],
             [
              0.7777777777777778,
              "#fb9f3a"
             ],
             [
              0.8888888888888888,
              "#fdca26"
             ],
             [
              1,
              "#f0f921"
             ]
            ],
            "type": "histogram2dcontour"
           }
          ],
          "mesh3d": [
           {
            "colorbar": {
             "outlinewidth": 0,
             "ticks": ""
            },
            "type": "mesh3d"
           }
          ],
          "parcoords": [
           {
            "line": {
             "colorbar": {
              "outlinewidth": 0,
              "ticks": ""
             }
            },
            "type": "parcoords"
           }
          ],
          "pie": [
           {
            "automargin": true,
            "type": "pie"
           }
          ],
          "scatter": [
           {
            "fillpattern": {
             "fillmode": "overlay",
             "size": 10,
             "solidity": 0.2
            },
            "type": "scatter"
           }
          ],
          "scatter3d": [
           {
            "line": {
             "colorbar": {
              "outlinewidth": 0,
              "ticks": ""
             }
            },
            "marker": {
             "colorbar": {
              "outlinewidth": 0,
              "ticks": ""
             }
            },
            "type": "scatter3d"
           }
          ],
          "scattercarpet": [
           {
            "marker": {
             "colorbar": {
              "outlinewidth": 0,
              "ticks": ""
             }
            },
            "type": "scattercarpet"
           }
          ],
          "scattergeo": [
           {
            "marker": {
             "colorbar": {
              "outlinewidth": 0,
              "ticks": ""
             }
            },
            "type": "scattergeo"
           }
          ],
          "scattergl": [
           {
            "marker": {
             "colorbar": {
              "outlinewidth": 0,
              "ticks": ""
             }
            },
            "type": "scattergl"
           }
          ],
          "scattermapbox": [
           {
            "marker": {
             "colorbar": {
              "outlinewidth": 0,
              "ticks": ""
             }
            },
            "type": "scattermapbox"
           }
          ],
          "scatterpolar": [
           {
            "marker": {
             "colorbar": {
              "outlinewidth": 0,
              "ticks": ""
             }
            },
            "type": "scatterpolar"
           }
          ],
          "scatterpolargl": [
           {
            "marker": {
             "colorbar": {
              "outlinewidth": 0,
              "ticks": ""
             }
            },
            "type": "scatterpolargl"
           }
          ],
          "scatterternary": [
           {
            "marker": {
             "colorbar": {
              "outlinewidth": 0,
              "ticks": ""
             }
            },
            "type": "scatterternary"
           }
          ],
          "surface": [
           {
            "colorbar": {
             "outlinewidth": 0,
             "ticks": ""
            },
            "colorscale": [
             [
              0,
              "#0d0887"
             ],
             [
              0.1111111111111111,
              "#46039f"
             ],
             [
              0.2222222222222222,
              "#7201a8"
             ],
             [
              0.3333333333333333,
              "#9c179e"
             ],
             [
              0.4444444444444444,
              "#bd3786"
             ],
             [
              0.5555555555555556,
              "#d8576b"
             ],
             [
              0.6666666666666666,
              "#ed7953"
             ],
             [
              0.7777777777777778,
              "#fb9f3a"
             ],
             [
              0.8888888888888888,
              "#fdca26"
             ],
             [
              1,
              "#f0f921"
             ]
            ],
            "type": "surface"
           }
          ],
          "table": [
           {
            "cells": {
             "fill": {
              "color": "#EBF0F8"
             },
             "line": {
              "color": "white"
             }
            },
            "header": {
             "fill": {
              "color": "#C8D4E3"
             },
             "line": {
              "color": "white"
             }
            },
            "type": "table"
           }
          ]
         },
         "layout": {
          "annotationdefaults": {
           "arrowcolor": "#2a3f5f",
           "arrowhead": 0,
           "arrowwidth": 1
          },
          "autotypenumbers": "strict",
          "coloraxis": {
           "colorbar": {
            "outlinewidth": 0,
            "ticks": ""
           }
          },
          "colorscale": {
           "diverging": [
            [
             0,
             "#8e0152"
            ],
            [
             0.1,
             "#c51b7d"
            ],
            [
             0.2,
             "#de77ae"
            ],
            [
             0.3,
             "#f1b6da"
            ],
            [
             0.4,
             "#fde0ef"
            ],
            [
             0.5,
             "#f7f7f7"
            ],
            [
             0.6,
             "#e6f5d0"
            ],
            [
             0.7,
             "#b8e186"
            ],
            [
             0.8,
             "#7fbc41"
            ],
            [
             0.9,
             "#4d9221"
            ],
            [
             1,
             "#276419"
            ]
           ],
           "sequential": [
            [
             0,
             "#0d0887"
            ],
            [
             0.1111111111111111,
             "#46039f"
            ],
            [
             0.2222222222222222,
             "#7201a8"
            ],
            [
             0.3333333333333333,
             "#9c179e"
            ],
            [
             0.4444444444444444,
             "#bd3786"
            ],
            [
             0.5555555555555556,
             "#d8576b"
            ],
            [
             0.6666666666666666,
             "#ed7953"
            ],
            [
             0.7777777777777778,
             "#fb9f3a"
            ],
            [
             0.8888888888888888,
             "#fdca26"
            ],
            [
             1,
             "#f0f921"
            ]
           ],
           "sequentialminus": [
            [
             0,
             "#0d0887"
            ],
            [
             0.1111111111111111,
             "#46039f"
            ],
            [
             0.2222222222222222,
             "#7201a8"
            ],
            [
             0.3333333333333333,
             "#9c179e"
            ],
            [
             0.4444444444444444,
             "#bd3786"
            ],
            [
             0.5555555555555556,
             "#d8576b"
            ],
            [
             0.6666666666666666,
             "#ed7953"
            ],
            [
             0.7777777777777778,
             "#fb9f3a"
            ],
            [
             0.8888888888888888,
             "#fdca26"
            ],
            [
             1,
             "#f0f921"
            ]
           ]
          },
          "colorway": [
           "#636efa",
           "#EF553B",
           "#00cc96",
           "#ab63fa",
           "#FFA15A",
           "#19d3f3",
           "#FF6692",
           "#B6E880",
           "#FF97FF",
           "#FECB52"
          ],
          "font": {
           "color": "#2a3f5f"
          },
          "geo": {
           "bgcolor": "white",
           "lakecolor": "white",
           "landcolor": "#E5ECF6",
           "showlakes": true,
           "showland": true,
           "subunitcolor": "white"
          },
          "hoverlabel": {
           "align": "left"
          },
          "hovermode": "closest",
          "mapbox": {
           "style": "light"
          },
          "paper_bgcolor": "white",
          "plot_bgcolor": "#E5ECF6",
          "polar": {
           "angularaxis": {
            "gridcolor": "white",
            "linecolor": "white",
            "ticks": ""
           },
           "bgcolor": "#E5ECF6",
           "radialaxis": {
            "gridcolor": "white",
            "linecolor": "white",
            "ticks": ""
           }
          },
          "scene": {
           "xaxis": {
            "backgroundcolor": "#E5ECF6",
            "gridcolor": "white",
            "gridwidth": 2,
            "linecolor": "white",
            "showbackground": true,
            "ticks": "",
            "zerolinecolor": "white"
           },
           "yaxis": {
            "backgroundcolor": "#E5ECF6",
            "gridcolor": "white",
            "gridwidth": 2,
            "linecolor": "white",
            "showbackground": true,
            "ticks": "",
            "zerolinecolor": "white"
           },
           "zaxis": {
            "backgroundcolor": "#E5ECF6",
            "gridcolor": "white",
            "gridwidth": 2,
            "linecolor": "white",
            "showbackground": true,
            "ticks": "",
            "zerolinecolor": "white"
           }
          },
          "shapedefaults": {
           "line": {
            "color": "#2a3f5f"
           }
          },
          "ternary": {
           "aaxis": {
            "gridcolor": "white",
            "linecolor": "white",
            "ticks": ""
           },
           "baxis": {
            "gridcolor": "white",
            "linecolor": "white",
            "ticks": ""
           },
           "bgcolor": "#E5ECF6",
           "caxis": {
            "gridcolor": "white",
            "linecolor": "white",
            "ticks": ""
           }
          },
          "title": {
           "x": 0.05
          },
          "xaxis": {
           "automargin": true,
           "gridcolor": "white",
           "linecolor": "white",
           "ticks": "",
           "title": {
            "standoff": 15
           },
           "zerolinecolor": "white",
           "zerolinewidth": 2
          },
          "yaxis": {
           "automargin": true,
           "gridcolor": "white",
           "linecolor": "white",
           "ticks": "",
           "title": {
            "standoff": 15
           },
           "zerolinecolor": "white",
           "zerolinewidth": 2
          }
         }
        },
        "title": {
         "text": "Perbandingan Masa Kerja (dalam Bulan)"
        },
        "xaxis": {
         "anchor": "y",
         "domain": [
          0,
          1
         ],
         "title": {
          "text": "Grup Karyawan"
         }
        },
        "yaxis": {
         "anchor": "x",
         "domain": [
          0,
          1
         ],
         "title": {
          "text": "Masa Kerja (Bulan)"
         }
        }
       }
      }
     },
     "metadata": {},
     "output_type": "display_data"
    }
   ],
   "source": [
    "# Selanjutnya, bagaimana dengan masa kerja?\n",
    "fig_yos = px.box(df_main,\n",
    "                 x='is_top_performer',\n",
    "                 y='years_of_service_months',\n",
    "                 title='Perbandingan Masa Kerja (dalam Bulan)',\n",
    "                 labels={'is_top_performer': 'Grup Karyawan', 'years_of_service_months': 'Masa Kerja (Bulan)'},\n",
    "                 points='all')\n",
    "fig_yos.show()"
   ]
  },
  {
   "cell_type": "markdown",
   "id": "a6e26feb",
   "metadata": {},
   "source": [
    "### Interpretasi"
   ]
  },
  {
   "cell_type": "markdown",
   "id": "acee6b4e",
   "metadata": {},
   "source": [
    "Selanjutnya, jika jabatan penting, bagaimana dengan pengalaman yang diukur dari masa kerja?\n",
    "\n",
    "Grafik box plot ini menunjukkan sebaran masa kerja. Garis tengah yang menunjukkan median top performer yang memiliki nilai 52 jika dibandingkan dengan median grup lainnya dengan nilai 49 memang terlihat tidak terlalu berbeda jauh. Namun kita dapat menggali cerita di baliknya, kita dapat mengatakan bahwa kinerja puncak bukanlah sesuatu yang terjadi dalam semalam. Ada proses pematangan. Karyawan butuh waktu untuk belajar, beradaptasi, dan memberikan dampak maksimal. Menariknya, kita melihat lebih sedikit top performer di rentang masa kerja yang sangat singkat.\n",
    "\n",
    "Ini memperkuat temuan kita sebelumnya. Temuan kunci kedua adalah: **pengalaman dan retensi karyawan adalah faktor krusial. Kita tidak hanya harus menempatkan orang di posisi yang tepat, tetapi juga memberi mereka waktu untuk bertumbuh menjadi talenta terbaik.**"
   ]
  },
  {
   "cell_type": "markdown",
   "id": "f6bdfa82",
   "metadata": {},
   "source": [
    "# Eksplorasi Kinerja"
   ]
  },
  {
   "cell_type": "markdown",
   "id": "008a16d7",
   "metadata": {},
   "source": [
    "## Distribusi Top Performer di Setiap Departemen"
   ]
  },
  {
   "cell_type": "code",
   "execution_count": 5,
   "id": "04471e23",
   "metadata": {},
   "outputs": [
    {
     "data": {
      "application/vnd.plotly.v1+json": {
       "config": {
        "plotlyServerURL": "https://plot.ly"
       },
       "data": [
        {
         "alignmentgroup": "True",
         "bingroup": "x",
         "histnorm": "percent",
         "hovertemplate": "is_top_performer=False<br>department_name=%{x}<br>percent=%{y}<extra></extra>",
         "legendgroup": "False",
         "marker": {
          "color": "#636efa",
          "pattern": {
           "shape": ""
          }
         },
         "name": "False",
         "offsetgroup": "False",
         "orientation": "v",
         "showlegend": true,
         "type": "histogram",
         "x": [
          "R&D",
          "Operations",
          "Finance",
          "HR",
          "Operations",
          "HR",
          "HR",
          "IT",
          "Finance",
          "R&D",
          "HR",
          "Finance",
          "Marketing",
          "R&D",
          "IT",
          "IT",
          "HR",
          "R&D",
          "Marketing",
          "IT",
          "HR",
          "HR",
          "Finance",
          "IT",
          "R&D",
          "IT",
          "HR",
          "R&D",
          "IT",
          "Operations",
          "Operations",
          "R&D",
          "Marketing",
          "Operations",
          "HR",
          "HR",
          "Marketing",
          "IT",
          "IT",
          "Marketing",
          "HR",
          "Operations",
          "Finance",
          "Finance",
          "IT",
          "Finance",
          "Marketing",
          "HR",
          "Marketing",
          "Marketing",
          "R&D",
          "Marketing",
          "Operations",
          "Finance",
          "Finance",
          "Finance",
          "HR",
          "HR",
          "HR",
          "IT",
          "Operations",
          "IT",
          "Finance",
          "Operations",
          "IT",
          "IT",
          "IT",
          "IT",
          "Finance",
          "IT",
          "R&D",
          "HR",
          "IT",
          "R&D",
          "R&D",
          "HR",
          "Marketing",
          "Operations",
          "IT",
          "Marketing",
          "Operations",
          "IT",
          "Marketing",
          "R&D",
          "HR",
          "IT",
          "Marketing",
          "Marketing",
          "Finance",
          "R&D",
          "IT",
          "Marketing",
          "R&D",
          "Operations",
          "IT",
          "IT",
          "IT",
          "R&D",
          "Finance",
          "R&D",
          "HR",
          "Marketing",
          "R&D",
          "HR",
          "Finance",
          "Finance",
          "IT",
          "Marketing",
          "HR",
          "Marketing",
          "Finance",
          "Operations",
          "Marketing",
          "R&D",
          "Finance",
          "Finance",
          "Operations",
          "Operations",
          "HR",
          "IT",
          "Finance",
          "HR",
          "Operations",
          "Marketing",
          "Marketing",
          "IT",
          "HR",
          "Marketing",
          "Operations",
          "HR",
          "Finance",
          "Operations",
          "HR",
          "Operations",
          "Operations",
          "Operations",
          "R&D",
          "HR",
          "HR",
          "Finance",
          "Marketing",
          "IT",
          "HR",
          "IT",
          "Finance",
          "R&D",
          "IT",
          "Operations",
          "R&D",
          "IT",
          "Finance",
          "Marketing",
          "HR",
          "HR",
          "IT",
          "Marketing",
          "IT",
          "IT",
          "R&D",
          "Marketing",
          "Operations",
          "IT",
          "R&D",
          "Finance",
          "Marketing",
          "Finance",
          "Marketing",
          "Marketing",
          "Marketing",
          "Finance",
          "HR",
          "R&D",
          "Finance",
          "IT",
          "R&D",
          "Finance",
          "HR",
          "HR",
          "IT",
          "R&D",
          "Marketing",
          "Operations",
          "HR",
          "Operations",
          "HR",
          "Operations",
          "IT",
          "Operations",
          "Marketing",
          "HR",
          "R&D",
          "Finance",
          "R&D",
          "R&D",
          "Marketing",
          "IT",
          "Operations",
          "R&D",
          "Marketing",
          "Finance",
          "R&D",
          "Operations",
          "R&D",
          "Operations",
          "R&D",
          "IT",
          "Finance",
          "IT",
          "HR",
          "IT",
          "IT",
          "R&D",
          "HR",
          "HR",
          "Marketing",
          "Operations",
          "IT",
          "R&D",
          "Operations",
          "Operations",
          "Marketing",
          "Marketing",
          "HR",
          "Marketing",
          "Operations",
          "HR",
          "IT",
          "Marketing",
          "IT",
          "IT",
          "Operations",
          "R&D",
          "Finance",
          "IT",
          "Operations",
          "Operations",
          "IT",
          "HR",
          "R&D",
          "Marketing",
          "Operations",
          "Operations",
          "Operations",
          "Operations",
          "HR",
          "R&D",
          "Operations",
          "IT",
          "HR",
          "Marketing",
          "HR",
          "Finance",
          "IT",
          "R&D",
          "Operations",
          "Operations",
          "IT",
          "Marketing",
          "Operations",
          "R&D",
          "Finance",
          "HR",
          "Operations",
          "Finance",
          "Operations",
          "HR",
          "IT",
          "HR",
          "Operations",
          "IT",
          "HR",
          "Operations",
          "HR",
          "R&D",
          "R&D",
          "R&D",
          "IT",
          "IT",
          "Operations",
          "IT",
          "IT",
          "HR",
          "R&D",
          "IT",
          "HR",
          "Marketing",
          "R&D",
          "Finance",
          "Marketing",
          "Operations",
          "Operations",
          "HR",
          "IT",
          "Marketing",
          "IT",
          "Finance",
          "Operations",
          "Operations",
          "Marketing",
          "IT",
          "IT",
          "HR",
          "Finance",
          "HR",
          "Operations",
          "Finance",
          "Finance",
          "Operations",
          "R&D",
          "Operations",
          "Marketing",
          "Operations",
          "Operations",
          "IT",
          "Marketing",
          "IT",
          "Marketing",
          "R&D",
          "HR",
          "R&D",
          "Marketing",
          "R&D",
          "Finance",
          "Marketing",
          "HR",
          "Marketing",
          "Marketing",
          "R&D",
          "Finance",
          "R&D",
          "Marketing",
          "Operations",
          "Marketing",
          "R&D",
          "Operations",
          "R&D",
          "HR",
          "Operations",
          "HR",
          "IT",
          "IT",
          "Operations",
          "Finance",
          "HR",
          "IT",
          "IT",
          "Operations",
          "Finance",
          "R&D",
          "Finance",
          "Marketing",
          "Finance",
          "R&D",
          "Marketing",
          "Operations",
          "Marketing",
          "Finance",
          "Operations",
          "Finance",
          "R&D",
          "Operations",
          "Finance",
          "IT",
          "Finance",
          "IT",
          "HR",
          "IT",
          "Operations",
          "HR",
          "IT",
          "Operations",
          "IT",
          "Operations",
          "IT",
          "IT",
          "Finance",
          "IT",
          "IT",
          "IT",
          "IT",
          "IT",
          "HR",
          "Finance",
          "R&D",
          "Operations",
          "R&D",
          "R&D",
          "HR",
          "R&D",
          "Marketing",
          "Marketing",
          "HR",
          "HR",
          "R&D",
          "Marketing",
          "Operations",
          "Finance",
          "Operations",
          "IT",
          "IT",
          "Operations",
          "Marketing",
          "Operations",
          "HR",
          "Operations",
          "R&D",
          "Marketing",
          "IT",
          "Finance",
          "R&D",
          "R&D",
          "Operations",
          "Operations",
          "IT",
          "R&D",
          "Operations",
          "IT",
          "Marketing",
          "R&D",
          "IT",
          "HR",
          "HR",
          "HR",
          "R&D",
          "Marketing",
          "Marketing",
          "R&D",
          "Operations",
          "IT",
          "HR",
          "IT",
          "IT",
          "R&D",
          "IT",
          "Operations",
          "Marketing",
          "IT",
          "Marketing",
          "HR",
          "Operations",
          "Finance",
          "Finance",
          "HR",
          "Finance",
          "Marketing",
          "Finance",
          "Operations",
          "Marketing",
          "Marketing",
          "Operations",
          "Operations",
          "R&D",
          "Operations",
          "Operations",
          "R&D",
          "R&D",
          "Operations",
          "IT",
          "IT",
          "Marketing",
          "HR",
          "Finance",
          "Marketing",
          "IT",
          "Operations",
          "Operations",
          "HR",
          "R&D",
          "HR",
          "Finance",
          "Operations",
          "IT",
          "Finance",
          "IT",
          "Finance",
          "R&D",
          "Operations",
          "IT",
          "R&D",
          "Marketing",
          "R&D",
          "Finance",
          "R&D",
          "Marketing",
          "Finance",
          "IT",
          "IT",
          "R&D",
          "HR",
          "Finance",
          "Marketing",
          "HR",
          "Finance",
          "Marketing",
          "R&D",
          "HR",
          "R&D",
          "R&D",
          "R&D",
          "IT",
          "R&D",
          "Operations",
          "Finance",
          "Marketing",
          "Marketing",
          "Operations",
          "IT",
          "Marketing",
          "HR",
          "Operations",
          "IT",
          "Operations",
          "Operations",
          "R&D",
          "HR",
          "R&D",
          "R&D",
          "Operations",
          "R&D",
          "IT",
          "HR",
          "Operations",
          "Marketing",
          "IT",
          "Operations",
          "Marketing",
          "Finance",
          "IT",
          "Operations",
          "R&D",
          "Finance",
          "IT",
          "Finance",
          "IT",
          "HR",
          "IT",
          "HR",
          "Finance",
          "IT",
          "R&D",
          "R&D",
          "IT",
          "Operations",
          "Marketing",
          "Marketing",
          "Marketing",
          "HR",
          "HR",
          "Marketing",
          "Marketing",
          "R&D",
          "Operations",
          "HR",
          "HR",
          "HR",
          "HR",
          "Finance",
          "Marketing",
          "R&D",
          "R&D",
          "IT",
          "Operations",
          "Finance",
          "Finance",
          "Finance",
          "Finance",
          "HR",
          "Finance",
          "Finance",
          "HR",
          "Operations",
          "Finance",
          "Operations",
          "IT",
          "R&D",
          "HR",
          "HR",
          "Operations",
          "R&D",
          "R&D",
          "Marketing",
          "R&D",
          "Marketing",
          "IT",
          "Operations",
          "Operations",
          "HR",
          "Marketing",
          "Operations",
          "Marketing",
          "R&D",
          "IT",
          "IT",
          "IT",
          "Operations",
          "Marketing",
          "IT",
          "R&D",
          "Operations",
          "Marketing",
          "IT",
          "Finance",
          "R&D",
          "HR",
          "R&D",
          "Operations",
          "IT",
          "HR",
          "HR",
          "Finance",
          "R&D",
          "Finance",
          "IT",
          "Marketing",
          "HR",
          "IT",
          "HR",
          "Operations",
          "IT",
          "Operations",
          "IT",
          "Marketing",
          "HR",
          "Operations",
          "R&D",
          "IT",
          "R&D",
          "Marketing",
          "R&D",
          "Operations",
          "Finance",
          "Finance",
          "Operations",
          "Marketing",
          "Operations",
          "HR",
          "Operations",
          "R&D",
          "Marketing",
          "Finance",
          "Finance",
          "R&D",
          "Finance",
          "HR",
          "HR",
          "IT",
          "IT",
          "Operations",
          "Finance",
          "R&D",
          "Operations",
          "Finance",
          "Finance",
          "Finance",
          "Marketing",
          "HR",
          "IT",
          "Marketing",
          "R&D",
          "Operations",
          "Marketing",
          "Operations",
          "Marketing",
          "Operations",
          "R&D",
          "Marketing",
          "Finance",
          "Finance",
          "HR",
          "R&D",
          "Finance",
          "R&D",
          "IT",
          "IT",
          "HR",
          "R&D",
          "Marketing",
          "IT",
          "HR",
          "IT",
          "R&D",
          "R&D",
          "Finance",
          "R&D",
          "R&D",
          "HR",
          "Marketing",
          "HR",
          "HR",
          "R&D",
          "R&D",
          "IT",
          "IT",
          "Finance",
          "Finance",
          "Operations",
          "Operations",
          "Finance",
          "Finance",
          "R&D",
          "Finance",
          "R&D",
          "Operations",
          "R&D",
          "Finance",
          "Finance",
          "Marketing",
          "R&D",
          "HR",
          "Operations",
          "Operations",
          "R&D",
          "Finance",
          "IT",
          "IT",
          "IT",
          "HR",
          "Marketing",
          "Operations",
          "Finance",
          "IT",
          "Operations",
          "Finance",
          "IT",
          "R&D",
          "Operations",
          "Finance",
          "R&D",
          "HR",
          "IT",
          "Finance",
          "R&D",
          "Operations",
          "IT",
          "Operations",
          "Operations",
          "IT",
          "Marketing",
          "IT",
          "HR",
          "Marketing",
          "IT",
          "IT",
          "Marketing",
          "IT",
          "R&D",
          "HR",
          "Finance",
          "HR",
          "Marketing",
          "R&D",
          "R&D",
          "Finance",
          "IT",
          "R&D",
          "IT",
          "Finance",
          "IT",
          "R&D",
          "Finance",
          "HR",
          "R&D",
          "HR",
          "R&D",
          "Marketing",
          "Operations",
          "Operations",
          "Operations",
          "HR",
          "Finance",
          "IT",
          "Marketing",
          "HR",
          "R&D",
          "HR",
          "Finance",
          "Marketing",
          "IT",
          "Finance",
          "HR",
          "IT",
          "Marketing",
          "HR",
          "HR",
          "IT",
          "Operations",
          "HR",
          "Operations",
          "Finance",
          "R&D",
          "Marketing",
          "R&D",
          "R&D",
          "IT",
          "Operations",
          "R&D",
          "R&D",
          "R&D",
          "IT",
          "IT",
          "Operations",
          "HR",
          "Operations",
          "R&D",
          "Marketing",
          "Marketing",
          "Operations",
          "HR",
          "Marketing",
          "Finance",
          "Operations",
          "R&D",
          "Finance",
          "Marketing",
          "Finance",
          "IT",
          "Finance",
          "Marketing",
          "Finance",
          "Operations",
          "HR",
          "IT",
          "Finance",
          "R&D",
          "R&D",
          "R&D",
          "Operations",
          "IT",
          "HR",
          "HR",
          "Operations",
          "HR",
          "Operations",
          "R&D",
          "HR",
          "Finance",
          "Marketing",
          "Marketing",
          "Marketing",
          "Finance",
          "IT",
          "Operations",
          "IT",
          "IT",
          "HR",
          "IT",
          "Operations",
          "Finance",
          "HR",
          "Finance",
          "Marketing",
          "IT",
          "R&D",
          "R&D",
          "Finance",
          "Finance",
          "Operations",
          "Marketing",
          "Marketing",
          "Operations",
          "HR",
          "Marketing",
          "Operations",
          "Marketing",
          "Marketing",
          "Operations",
          "Finance",
          "Finance",
          "Marketing",
          "Operations",
          "HR",
          "Finance",
          "Finance",
          "Marketing",
          "IT",
          "Marketing",
          "HR",
          "IT",
          "Finance",
          "IT",
          "HR",
          "IT",
          "HR",
          "IT",
          "Finance",
          "Finance",
          "HR",
          "R&D",
          "Operations",
          "R&D",
          "IT",
          "IT",
          "Operations",
          "R&D",
          "HR",
          "IT",
          "Marketing",
          "R&D",
          "HR",
          "Marketing",
          "Operations",
          "Operations",
          "Finance",
          "IT",
          "R&D",
          "Finance",
          "HR",
          "IT",
          "HR",
          "Operations",
          "Marketing",
          "Operations",
          "Operations",
          "HR",
          "HR",
          "HR",
          "R&D",
          "Operations",
          "Finance",
          "R&D",
          "Finance",
          "HR",
          "IT",
          "Operations",
          "Finance",
          "HR",
          "HR",
          "R&D",
          "HR",
          "Marketing",
          "HR",
          "HR",
          "Finance",
          "IT",
          "HR",
          "R&D",
          "Operations",
          "HR",
          "R&D",
          "Marketing",
          "Finance",
          "R&D",
          "Operations",
          "Marketing",
          "IT",
          "IT",
          "R&D",
          "Marketing",
          "IT",
          "HR",
          "HR",
          "Operations",
          "IT",
          "Finance",
          "Finance",
          "R&D",
          "Operations",
          "Marketing",
          "HR",
          "Marketing",
          "Marketing",
          "HR",
          "Operations",
          "IT",
          "Finance",
          "IT",
          "Marketing",
          "R&D",
          "IT",
          "HR",
          "Finance",
          "IT",
          "Marketing",
          "R&D",
          "Finance",
          "Operations",
          "Finance",
          "Marketing",
          "Marketing",
          "HR",
          "Operations",
          "R&D",
          "R&D",
          "Marketing",
          "Operations",
          "HR",
          "IT",
          "Finance",
          "Marketing",
          "Marketing",
          "R&D",
          "Operations",
          "R&D",
          "R&D",
          "R&D",
          "Finance",
          "Finance",
          "Marketing",
          "R&D",
          "Operations",
          "R&D",
          "Operations",
          "Operations",
          "HR",
          "IT",
          "Operations",
          "Marketing",
          "IT",
          "Operations",
          "Marketing",
          "Marketing",
          "HR",
          "IT",
          "Marketing",
          "IT",
          "HR",
          "Marketing",
          "Marketing",
          "R&D",
          "IT",
          "HR",
          "R&D",
          "Marketing",
          "Operations",
          "HR",
          "Operations",
          "R&D",
          "HR",
          "Marketing",
          "IT",
          "Marketing",
          "HR",
          "HR",
          "Operations",
          "R&D",
          "R&D",
          "IT",
          "IT",
          "Finance",
          "IT",
          "R&D",
          "IT",
          "IT",
          "HR",
          "IT",
          "Operations",
          "R&D",
          "Marketing",
          "IT",
          "Marketing",
          "Finance",
          "Finance",
          "R&D",
          "Finance",
          "HR",
          "Operations",
          "Marketing",
          "R&D",
          "Finance",
          "R&D",
          "HR",
          "Marketing",
          "HR",
          "Marketing",
          "Finance",
          "HR",
          "IT",
          "Marketing",
          "HR",
          "R&D",
          "HR",
          "Operations",
          "IT",
          "Finance",
          "HR",
          "Finance",
          "HR",
          "Operations",
          "Marketing",
          "HR",
          "Marketing",
          "Finance",
          "Finance",
          "Marketing",
          "Operations",
          "Operations",
          "Marketing",
          "Finance",
          "R&D",
          "HR",
          "HR",
          "Finance",
          "HR",
          "Finance",
          "Marketing",
          "Finance",
          "HR",
          "HR",
          "IT",
          "Operations",
          "HR",
          "Marketing",
          "HR",
          "Operations",
          "HR",
          "R&D",
          "HR",
          "Operations",
          "Marketing",
          "Marketing",
          "Marketing",
          "Marketing",
          "Operations",
          "Operations",
          "HR",
          "HR",
          "Finance",
          "HR",
          "R&D",
          "R&D",
          "HR",
          "HR",
          "R&D",
          "Finance",
          "Finance",
          "HR",
          "Operations",
          "IT",
          "Finance",
          "HR",
          "Operations",
          "R&D",
          "R&D",
          "HR",
          "HR",
          "R&D",
          "Marketing",
          "Marketing",
          "Operations",
          "Marketing",
          "IT",
          "IT",
          "IT",
          "IT",
          "Marketing",
          "HR",
          "Finance",
          "R&D",
          "R&D",
          "IT",
          "HR",
          "IT",
          "R&D",
          "IT",
          "Marketing",
          "Operations",
          "R&D",
          "Finance",
          "Marketing",
          "IT",
          "Marketing",
          "Marketing",
          "R&D",
          "Operations",
          "Finance",
          "Marketing",
          "R&D",
          "IT",
          "R&D",
          "Finance",
          "Finance",
          "HR",
          "HR",
          "Operations",
          "Marketing",
          "IT",
          "Marketing",
          "HR",
          "HR",
          "Marketing",
          "R&D",
          "HR",
          "Operations",
          "HR",
          "R&D",
          "Finance",
          "IT",
          "IT",
          "Marketing",
          "HR",
          "IT",
          "IT",
          "Operations",
          "R&D",
          "IT",
          "R&D",
          "R&D",
          "R&D",
          "R&D",
          "Marketing",
          "HR",
          "IT",
          "Operations",
          "IT",
          "Marketing",
          "HR",
          "Operations",
          "Finance",
          "Marketing",
          "HR",
          "Marketing",
          "Operations",
          "Finance",
          "R&D",
          "HR",
          "Marketing",
          "Operations",
          "R&D",
          "Operations",
          "Operations",
          "HR",
          "R&D",
          "Finance",
          "Marketing",
          "IT",
          "Operations",
          "Finance",
          "Operations",
          "HR",
          "IT",
          "Finance",
          "Operations",
          "R&D",
          "Operations",
          "HR",
          "HR",
          "IT",
          "Finance",
          "HR",
          "R&D",
          "Marketing",
          "Operations",
          "IT",
          "R&D",
          "Finance",
          "Operations",
          "IT",
          "IT",
          "R&D",
          "Operations",
          "R&D",
          "Finance",
          "Finance",
          "HR",
          "Marketing",
          "Operations",
          "HR",
          "IT",
          "R&D",
          "Finance",
          "HR",
          "HR",
          "HR",
          "IT",
          "Finance",
          "Finance",
          "Operations",
          "IT",
          "HR",
          "Finance",
          "IT",
          "IT",
          "R&D",
          "Marketing",
          "HR",
          "R&D",
          "R&D",
          "HR",
          "Finance",
          "Marketing",
          "HR",
          "Finance",
          "Marketing",
          "Marketing",
          "Finance",
          "Finance",
          "Finance",
          "Finance",
          "Finance",
          "IT",
          "Operations",
          "IT",
          "Finance",
          "Finance",
          "Finance",
          "R&D",
          "Operations",
          "Operations",
          "R&D",
          "IT",
          "R&D",
          "IT",
          "IT",
          "Marketing",
          "R&D",
          "Finance",
          "R&D",
          "HR",
          "R&D",
          "Operations",
          "Finance",
          "IT",
          "Marketing",
          "Operations",
          "Marketing",
          "Finance",
          "R&D",
          "Marketing",
          "Marketing",
          "IT",
          "Marketing",
          "Marketing",
          "HR",
          "R&D",
          "Operations",
          "HR",
          "Finance",
          "Operations",
          "R&D",
          "Finance",
          "IT",
          "R&D",
          "Marketing",
          "IT",
          "HR",
          "Finance",
          "R&D",
          "Finance",
          "HR",
          "Operations",
          "R&D",
          "Finance",
          "Operations",
          "Operations",
          "Finance",
          "IT",
          "HR",
          "HR",
          "Marketing",
          "Operations",
          "Operations",
          "HR",
          "HR",
          "Marketing",
          "Operations",
          "IT",
          "HR",
          "Finance",
          "HR",
          "IT",
          "Operations",
          "Operations",
          "Operations",
          "HR",
          "R&D",
          "Operations",
          "Finance",
          "Operations",
          "R&D",
          "Marketing",
          "Marketing",
          "Marketing",
          "Finance",
          "R&D",
          "Finance",
          "Operations",
          "Operations",
          "Finance",
          "Marketing",
          "Marketing",
          "R&D",
          "R&D",
          "IT",
          "Finance",
          "Finance",
          "Marketing",
          "Finance",
          "Marketing",
          "Operations",
          "IT",
          "Marketing",
          "Finance",
          "Marketing",
          "R&D",
          "IT",
          "R&D",
          "Marketing",
          "HR",
          "IT",
          "HR",
          "IT",
          "Operations",
          "Finance",
          "Marketing",
          "Marketing",
          "R&D",
          "R&D",
          "HR",
          "HR",
          "IT",
          "HR",
          "Operations",
          "HR",
          "Operations",
          "Marketing",
          "Finance",
          "IT",
          "Finance",
          "R&D",
          "IT",
          "HR",
          "Operations",
          "Operations",
          "Operations",
          "IT",
          "Finance",
          "IT",
          "Marketing",
          "Operations",
          "IT",
          "Finance",
          "IT",
          "Finance",
          "R&D",
          "IT",
          "IT",
          "Marketing",
          "Finance",
          "Marketing",
          "HR",
          "R&D",
          "Finance",
          "HR",
          "Operations",
          "Operations",
          "HR",
          "Marketing",
          "R&D",
          "Marketing",
          "Marketing",
          "Marketing",
          "Operations",
          "IT",
          "R&D",
          "IT",
          "Finance",
          "HR",
          "Finance",
          "HR",
          "Marketing",
          "R&D",
          "Marketing",
          "Finance",
          "HR",
          "IT",
          "Marketing",
          "HR",
          "HR",
          "Operations",
          "IT",
          "IT",
          "Finance",
          "IT",
          "IT",
          "Finance",
          "IT",
          "HR",
          "Marketing",
          "Operations",
          "IT",
          "Marketing",
          "Operations",
          "IT",
          "HR",
          "Operations",
          "Operations",
          "HR",
          "IT",
          "Operations",
          "Finance",
          "Operations",
          "HR",
          "IT",
          "IT",
          "R&D",
          "Finance",
          "Marketing",
          "Finance",
          "IT",
          "Marketing",
          "Finance",
          "Operations",
          "R&D",
          "Marketing",
          "IT",
          "Marketing",
          "R&D",
          "HR",
          "R&D",
          "Finance",
          "IT",
          "Marketing",
          "Marketing",
          "Marketing",
          "Finance",
          "Marketing",
          "HR",
          "R&D",
          "R&D",
          "IT",
          "Marketing",
          "HR",
          "Operations",
          "Operations",
          "IT",
          "Marketing",
          "Finance",
          "Finance",
          "R&D",
          "Marketing",
          "Finance",
          "IT",
          "Finance",
          "HR",
          "Operations",
          "IT",
          "Marketing",
          "Operations",
          "Marketing",
          "Operations",
          "Marketing",
          "Marketing",
          "Operations",
          "IT",
          "Finance",
          "Marketing",
          "Marketing",
          "Operations",
          "IT",
          "IT",
          "Marketing",
          "Finance",
          "Operations",
          "IT",
          "HR",
          "IT",
          "Finance",
          "Finance",
          "Operations",
          "IT",
          "Finance",
          "Operations",
          "IT",
          "HR",
          "Marketing",
          "R&D",
          "Finance",
          "HR",
          "HR",
          "R&D",
          "Operations",
          "R&D",
          "Marketing",
          "Operations",
          "Finance",
          "R&D",
          "Operations",
          "IT",
          "IT",
          "R&D",
          "Operations",
          "IT",
          "IT",
          "Marketing",
          "Finance",
          "R&D",
          "IT",
          "HR",
          "Operations",
          "Marketing",
          "Finance",
          "Marketing",
          "R&D",
          "HR",
          "HR",
          "IT",
          "Finance",
          "Operations",
          "R&D",
          "Finance",
          "R&D",
          "IT",
          "Finance",
          "R&D",
          "Finance",
          "IT",
          "Marketing",
          "R&D",
          "Finance",
          "Marketing",
          "Operations",
          "Operations",
          "Operations",
          "R&D",
          "Finance",
          "Operations",
          "HR",
          "Operations",
          "Finance",
          "Finance",
          "Marketing",
          "IT",
          "Operations",
          "R&D",
          "Marketing",
          "Marketing",
          "Marketing",
          "Marketing",
          "Marketing",
          "Operations",
          "Finance",
          "Marketing",
          "Finance",
          "R&D",
          "Finance",
          "IT",
          "R&D",
          "Finance",
          "Operations",
          "Operations",
          "IT",
          "IT",
          "Marketing",
          "R&D",
          "R&D",
          "Operations",
          "Marketing",
          "HR",
          "Operations",
          "HR",
          "Marketing",
          "IT",
          "Marketing",
          "R&D",
          "IT",
          "R&D",
          "HR",
          "Finance",
          "HR",
          "R&D",
          "Operations",
          "IT",
          "Finance",
          "Finance",
          "Finance",
          "Operations",
          "HR",
          "Operations",
          "HR",
          "IT",
          "IT",
          "Finance",
          "Marketing",
          "Marketing",
          "HR",
          "Finance",
          "IT",
          "HR",
          "HR",
          "R&D",
          "Operations",
          "Finance",
          "R&D",
          "R&D",
          "HR",
          "Marketing",
          "HR",
          "R&D",
          "R&D",
          "Marketing",
          "Finance",
          "HR",
          "IT",
          "IT",
          "Marketing",
          "IT",
          "Finance",
          "Operations",
          "Finance",
          "R&D",
          "R&D",
          "Finance",
          "Finance",
          "Finance",
          "Finance",
          "Operations",
          "HR",
          "Finance",
          "HR",
          "Operations",
          "HR",
          "Operations",
          "IT",
          "HR",
          "Finance",
          "HR",
          "IT",
          "Marketing",
          "HR",
          "Operations",
          "HR",
          "Operations",
          "Operations",
          "HR",
          "Operations",
          "Finance",
          "Marketing",
          "Operations",
          "Marketing",
          "Operations",
          "Marketing",
          "R&D",
          "Finance",
          "Marketing",
          "Operations",
          "R&D",
          "Marketing",
          "HR",
          "Marketing",
          "R&D",
          "R&D",
          "Operations",
          "R&D",
          "Marketing",
          "Marketing",
          "IT",
          "Marketing",
          "Marketing",
          "HR",
          "Operations",
          "Marketing",
          "Operations",
          "Marketing",
          "R&D",
          "IT",
          "Finance",
          "Finance",
          "IT",
          "HR",
          "Operations",
          "HR",
          "Operations",
          "HR",
          "HR",
          "Operations",
          "IT",
          "Operations",
          "Operations",
          "Operations",
          "Operations",
          "Marketing",
          "Marketing",
          "Finance",
          "Operations",
          "Finance",
          "IT",
          "Finance",
          "HR",
          "IT",
          "Marketing",
          "Finance",
          "IT",
          "Marketing",
          "Finance",
          "HR",
          "Marketing",
          "HR",
          "R&D",
          "Operations",
          "IT",
          "IT",
          "IT",
          "R&D",
          "IT",
          "HR",
          "R&D",
          "Operations",
          "HR",
          "IT",
          "Operations",
          "HR",
          "IT",
          "R&D",
          "Finance",
          "IT",
          "Marketing",
          "Finance",
          "Marketing",
          "Operations",
          "Operations",
          "Finance",
          "Marketing",
          "IT",
          "HR",
          "IT",
          "R&D",
          "Marketing",
          "R&D",
          "Operations",
          "R&D",
          "R&D",
          "IT",
          "Operations",
          "Operations",
          "Marketing",
          "Operations",
          "Operations",
          "IT",
          "HR",
          "HR",
          "Operations",
          "Marketing",
          "Operations",
          "R&D",
          "Operations",
          "HR",
          "R&D",
          "Finance",
          "IT",
          "Marketing",
          "Marketing",
          "IT"
         ],
         "xaxis": "x",
         "yaxis": "y"
        },
        {
         "alignmentgroup": "True",
         "bingroup": "x",
         "histnorm": "percent",
         "hovertemplate": "is_top_performer=True<br>department_name=%{x}<br>percent=%{y}<extra></extra>",
         "legendgroup": "True",
         "marker": {
          "color": "#EF553B",
          "pattern": {
           "shape": ""
          }
         },
         "name": "True",
         "offsetgroup": "True",
         "orientation": "v",
         "showlegend": true,
         "type": "histogram",
         "x": [
          "IT",
          "Operations",
          "IT",
          "IT",
          "HR",
          "IT",
          "R&D",
          "IT",
          "HR",
          "IT",
          "HR",
          "Marketing",
          "Marketing",
          "IT",
          "Marketing",
          "Operations",
          "Operations",
          "IT",
          "Marketing",
          "IT",
          "Finance",
          "Operations",
          "Operations",
          "Operations",
          "IT",
          "Operations",
          "Marketing",
          "Marketing",
          "Marketing",
          "Marketing",
          "Marketing",
          "IT",
          "R&D",
          "Finance",
          "HR",
          "IT",
          "Operations",
          "R&D",
          "R&D",
          "Finance",
          "Operations",
          "Marketing",
          "IT",
          "Marketing",
          "Finance",
          "Operations",
          "IT",
          "Marketing",
          "R&D",
          "Operations",
          "R&D",
          "HR",
          "Operations",
          "Finance",
          "Marketing",
          "IT",
          "Operations",
          "Marketing",
          "HR",
          "Finance",
          "Finance",
          "R&D",
          "R&D",
          "Operations",
          "R&D",
          "IT",
          "R&D",
          "Operations",
          "Operations",
          "R&D",
          "Marketing",
          "R&D",
          "Finance",
          "Marketing",
          "Finance",
          "Marketing",
          "Marketing",
          "Marketing",
          "Marketing",
          "R&D",
          "Marketing",
          "HR",
          "Finance",
          "Operations",
          "Finance",
          "Operations",
          "R&D",
          "IT",
          "Finance",
          "R&D",
          "IT",
          "R&D",
          "Finance",
          "R&D",
          "IT",
          "Finance",
          "R&D",
          "IT",
          "R&D",
          "IT",
          "IT",
          "Marketing",
          "IT",
          "IT",
          "Finance",
          "Operations",
          "HR",
          "HR",
          "IT",
          "Operations",
          "IT",
          "R&D",
          "IT",
          "IT",
          "Operations",
          "Finance",
          "Finance",
          "R&D",
          "Marketing",
          "Operations",
          "R&D",
          "Operations",
          "Operations",
          "Operations",
          "Operations",
          "R&D",
          "HR",
          "R&D",
          "IT",
          "Operations",
          "HR",
          "Operations",
          "Operations",
          "IT",
          "Operations",
          "HR",
          "Finance",
          "IT",
          "Finance",
          "Finance",
          "HR",
          "Operations",
          "Finance",
          "IT",
          "R&D",
          "Finance",
          "R&D",
          "Operations",
          "IT",
          "Finance",
          "R&D",
          "R&D",
          "Marketing",
          "IT",
          "Marketing",
          "HR",
          "Operations",
          "Operations",
          "Marketing",
          "HR",
          "IT",
          "HR",
          "Finance",
          "Finance",
          "Marketing",
          "IT",
          "Marketing",
          "IT"
         ],
         "xaxis": "x",
         "yaxis": "y"
        }
       ],
       "layout": {
        "barmode": "group",
        "legend": {
         "title": {
          "text": "is_top_performer"
         },
         "tracegroupgap": 0
        },
        "template": {
         "data": {
          "bar": [
           {
            "error_x": {
             "color": "#2a3f5f"
            },
            "error_y": {
             "color": "#2a3f5f"
            },
            "marker": {
             "line": {
              "color": "#E5ECF6",
              "width": 0.5
             },
             "pattern": {
              "fillmode": "overlay",
              "size": 10,
              "solidity": 0.2
             }
            },
            "type": "bar"
           }
          ],
          "barpolar": [
           {
            "marker": {
             "line": {
              "color": "#E5ECF6",
              "width": 0.5
             },
             "pattern": {
              "fillmode": "overlay",
              "size": 10,
              "solidity": 0.2
             }
            },
            "type": "barpolar"
           }
          ],
          "carpet": [
           {
            "aaxis": {
             "endlinecolor": "#2a3f5f",
             "gridcolor": "white",
             "linecolor": "white",
             "minorgridcolor": "white",
             "startlinecolor": "#2a3f5f"
            },
            "baxis": {
             "endlinecolor": "#2a3f5f",
             "gridcolor": "white",
             "linecolor": "white",
             "minorgridcolor": "white",
             "startlinecolor": "#2a3f5f"
            },
            "type": "carpet"
           }
          ],
          "choropleth": [
           {
            "colorbar": {
             "outlinewidth": 0,
             "ticks": ""
            },
            "type": "choropleth"
           }
          ],
          "contour": [
           {
            "colorbar": {
             "outlinewidth": 0,
             "ticks": ""
            },
            "colorscale": [
             [
              0,
              "#0d0887"
             ],
             [
              0.1111111111111111,
              "#46039f"
             ],
             [
              0.2222222222222222,
              "#7201a8"
             ],
             [
              0.3333333333333333,
              "#9c179e"
             ],
             [
              0.4444444444444444,
              "#bd3786"
             ],
             [
              0.5555555555555556,
              "#d8576b"
             ],
             [
              0.6666666666666666,
              "#ed7953"
             ],
             [
              0.7777777777777778,
              "#fb9f3a"
             ],
             [
              0.8888888888888888,
              "#fdca26"
             ],
             [
              1,
              "#f0f921"
             ]
            ],
            "type": "contour"
           }
          ],
          "contourcarpet": [
           {
            "colorbar": {
             "outlinewidth": 0,
             "ticks": ""
            },
            "type": "contourcarpet"
           }
          ],
          "heatmap": [
           {
            "colorbar": {
             "outlinewidth": 0,
             "ticks": ""
            },
            "colorscale": [
             [
              0,
              "#0d0887"
             ],
             [
              0.1111111111111111,
              "#46039f"
             ],
             [
              0.2222222222222222,
              "#7201a8"
             ],
             [
              0.3333333333333333,
              "#9c179e"
             ],
             [
              0.4444444444444444,
              "#bd3786"
             ],
             [
              0.5555555555555556,
              "#d8576b"
             ],
             [
              0.6666666666666666,
              "#ed7953"
             ],
             [
              0.7777777777777778,
              "#fb9f3a"
             ],
             [
              0.8888888888888888,
              "#fdca26"
             ],
             [
              1,
              "#f0f921"
             ]
            ],
            "type": "heatmap"
           }
          ],
          "heatmapgl": [
           {
            "colorbar": {
             "outlinewidth": 0,
             "ticks": ""
            },
            "colorscale": [
             [
              0,
              "#0d0887"
             ],
             [
              0.1111111111111111,
              "#46039f"
             ],
             [
              0.2222222222222222,
              "#7201a8"
             ],
             [
              0.3333333333333333,
              "#9c179e"
             ],
             [
              0.4444444444444444,
              "#bd3786"
             ],
             [
              0.5555555555555556,
              "#d8576b"
             ],
             [
              0.6666666666666666,
              "#ed7953"
             ],
             [
              0.7777777777777778,
              "#fb9f3a"
             ],
             [
              0.8888888888888888,
              "#fdca26"
             ],
             [
              1,
              "#f0f921"
             ]
            ],
            "type": "heatmapgl"
           }
          ],
          "histogram": [
           {
            "marker": {
             "pattern": {
              "fillmode": "overlay",
              "size": 10,
              "solidity": 0.2
             }
            },
            "type": "histogram"
           }
          ],
          "histogram2d": [
           {
            "colorbar": {
             "outlinewidth": 0,
             "ticks": ""
            },
            "colorscale": [
             [
              0,
              "#0d0887"
             ],
             [
              0.1111111111111111,
              "#46039f"
             ],
             [
              0.2222222222222222,
              "#7201a8"
             ],
             [
              0.3333333333333333,
              "#9c179e"
             ],
             [
              0.4444444444444444,
              "#bd3786"
             ],
             [
              0.5555555555555556,
              "#d8576b"
             ],
             [
              0.6666666666666666,
              "#ed7953"
             ],
             [
              0.7777777777777778,
              "#fb9f3a"
             ],
             [
              0.8888888888888888,
              "#fdca26"
             ],
             [
              1,
              "#f0f921"
             ]
            ],
            "type": "histogram2d"
           }
          ],
          "histogram2dcontour": [
           {
            "colorbar": {
             "outlinewidth": 0,
             "ticks": ""
            },
            "colorscale": [
             [
              0,
              "#0d0887"
             ],
             [
              0.1111111111111111,
              "#46039f"
             ],
             [
              0.2222222222222222,
              "#7201a8"
             ],
             [
              0.3333333333333333,
              "#9c179e"
             ],
             [
              0.4444444444444444,
              "#bd3786"
             ],
             [
              0.5555555555555556,
              "#d8576b"
             ],
             [
              0.6666666666666666,
              "#ed7953"
             ],
             [
              0.7777777777777778,
              "#fb9f3a"
             ],
             [
              0.8888888888888888,
              "#fdca26"
             ],
             [
              1,
              "#f0f921"
             ]
            ],
            "type": "histogram2dcontour"
           }
          ],
          "mesh3d": [
           {
            "colorbar": {
             "outlinewidth": 0,
             "ticks": ""
            },
            "type": "mesh3d"
           }
          ],
          "parcoords": [
           {
            "line": {
             "colorbar": {
              "outlinewidth": 0,
              "ticks": ""
             }
            },
            "type": "parcoords"
           }
          ],
          "pie": [
           {
            "automargin": true,
            "type": "pie"
           }
          ],
          "scatter": [
           {
            "fillpattern": {
             "fillmode": "overlay",
             "size": 10,
             "solidity": 0.2
            },
            "type": "scatter"
           }
          ],
          "scatter3d": [
           {
            "line": {
             "colorbar": {
              "outlinewidth": 0,
              "ticks": ""
             }
            },
            "marker": {
             "colorbar": {
              "outlinewidth": 0,
              "ticks": ""
             }
            },
            "type": "scatter3d"
           }
          ],
          "scattercarpet": [
           {
            "marker": {
             "colorbar": {
              "outlinewidth": 0,
              "ticks": ""
             }
            },
            "type": "scattercarpet"
           }
          ],
          "scattergeo": [
           {
            "marker": {
             "colorbar": {
              "outlinewidth": 0,
              "ticks": ""
             }
            },
            "type": "scattergeo"
           }
          ],
          "scattergl": [
           {
            "marker": {
             "colorbar": {
              "outlinewidth": 0,
              "ticks": ""
             }
            },
            "type": "scattergl"
           }
          ],
          "scattermapbox": [
           {
            "marker": {
             "colorbar": {
              "outlinewidth": 0,
              "ticks": ""
             }
            },
            "type": "scattermapbox"
           }
          ],
          "scatterpolar": [
           {
            "marker": {
             "colorbar": {
              "outlinewidth": 0,
              "ticks": ""
             }
            },
            "type": "scatterpolar"
           }
          ],
          "scatterpolargl": [
           {
            "marker": {
             "colorbar": {
              "outlinewidth": 0,
              "ticks": ""
             }
            },
            "type": "scatterpolargl"
           }
          ],
          "scatterternary": [
           {
            "marker": {
             "colorbar": {
              "outlinewidth": 0,
              "ticks": ""
             }
            },
            "type": "scatterternary"
           }
          ],
          "surface": [
           {
            "colorbar": {
             "outlinewidth": 0,
             "ticks": ""
            },
            "colorscale": [
             [
              0,
              "#0d0887"
             ],
             [
              0.1111111111111111,
              "#46039f"
             ],
             [
              0.2222222222222222,
              "#7201a8"
             ],
             [
              0.3333333333333333,
              "#9c179e"
             ],
             [
              0.4444444444444444,
              "#bd3786"
             ],
             [
              0.5555555555555556,
              "#d8576b"
             ],
             [
              0.6666666666666666,
              "#ed7953"
             ],
             [
              0.7777777777777778,
              "#fb9f3a"
             ],
             [
              0.8888888888888888,
              "#fdca26"
             ],
             [
              1,
              "#f0f921"
             ]
            ],
            "type": "surface"
           }
          ],
          "table": [
           {
            "cells": {
             "fill": {
              "color": "#EBF0F8"
             },
             "line": {
              "color": "white"
             }
            },
            "header": {
             "fill": {
              "color": "#C8D4E3"
             },
             "line": {
              "color": "white"
             }
            },
            "type": "table"
           }
          ]
         },
         "layout": {
          "annotationdefaults": {
           "arrowcolor": "#2a3f5f",
           "arrowhead": 0,
           "arrowwidth": 1
          },
          "autotypenumbers": "strict",
          "coloraxis": {
           "colorbar": {
            "outlinewidth": 0,
            "ticks": ""
           }
          },
          "colorscale": {
           "diverging": [
            [
             0,
             "#8e0152"
            ],
            [
             0.1,
             "#c51b7d"
            ],
            [
             0.2,
             "#de77ae"
            ],
            [
             0.3,
             "#f1b6da"
            ],
            [
             0.4,
             "#fde0ef"
            ],
            [
             0.5,
             "#f7f7f7"
            ],
            [
             0.6,
             "#e6f5d0"
            ],
            [
             0.7,
             "#b8e186"
            ],
            [
             0.8,
             "#7fbc41"
            ],
            [
             0.9,
             "#4d9221"
            ],
            [
             1,
             "#276419"
            ]
           ],
           "sequential": [
            [
             0,
             "#0d0887"
            ],
            [
             0.1111111111111111,
             "#46039f"
            ],
            [
             0.2222222222222222,
             "#7201a8"
            ],
            [
             0.3333333333333333,
             "#9c179e"
            ],
            [
             0.4444444444444444,
             "#bd3786"
            ],
            [
             0.5555555555555556,
             "#d8576b"
            ],
            [
             0.6666666666666666,
             "#ed7953"
            ],
            [
             0.7777777777777778,
             "#fb9f3a"
            ],
            [
             0.8888888888888888,
             "#fdca26"
            ],
            [
             1,
             "#f0f921"
            ]
           ],
           "sequentialminus": [
            [
             0,
             "#0d0887"
            ],
            [
             0.1111111111111111,
             "#46039f"
            ],
            [
             0.2222222222222222,
             "#7201a8"
            ],
            [
             0.3333333333333333,
             "#9c179e"
            ],
            [
             0.4444444444444444,
             "#bd3786"
            ],
            [
             0.5555555555555556,
             "#d8576b"
            ],
            [
             0.6666666666666666,
             "#ed7953"
            ],
            [
             0.7777777777777778,
             "#fb9f3a"
            ],
            [
             0.8888888888888888,
             "#fdca26"
            ],
            [
             1,
             "#f0f921"
            ]
           ]
          },
          "colorway": [
           "#636efa",
           "#EF553B",
           "#00cc96",
           "#ab63fa",
           "#FFA15A",
           "#19d3f3",
           "#FF6692",
           "#B6E880",
           "#FF97FF",
           "#FECB52"
          ],
          "font": {
           "color": "#2a3f5f"
          },
          "geo": {
           "bgcolor": "white",
           "lakecolor": "white",
           "landcolor": "#E5ECF6",
           "showlakes": true,
           "showland": true,
           "subunitcolor": "white"
          },
          "hoverlabel": {
           "align": "left"
          },
          "hovermode": "closest",
          "mapbox": {
           "style": "light"
          },
          "paper_bgcolor": "white",
          "plot_bgcolor": "#E5ECF6",
          "polar": {
           "angularaxis": {
            "gridcolor": "white",
            "linecolor": "white",
            "ticks": ""
           },
           "bgcolor": "#E5ECF6",
           "radialaxis": {
            "gridcolor": "white",
            "linecolor": "white",
            "ticks": ""
           }
          },
          "scene": {
           "xaxis": {
            "backgroundcolor": "#E5ECF6",
            "gridcolor": "white",
            "gridwidth": 2,
            "linecolor": "white",
            "showbackground": true,
            "ticks": "",
            "zerolinecolor": "white"
           },
           "yaxis": {
            "backgroundcolor": "#E5ECF6",
            "gridcolor": "white",
            "gridwidth": 2,
            "linecolor": "white",
            "showbackground": true,
            "ticks": "",
            "zerolinecolor": "white"
           },
           "zaxis": {
            "backgroundcolor": "#E5ECF6",
            "gridcolor": "white",
            "gridwidth": 2,
            "linecolor": "white",
            "showbackground": true,
            "ticks": "",
            "zerolinecolor": "white"
           }
          },
          "shapedefaults": {
           "line": {
            "color": "#2a3f5f"
           }
          },
          "ternary": {
           "aaxis": {
            "gridcolor": "white",
            "linecolor": "white",
            "ticks": ""
           },
           "baxis": {
            "gridcolor": "white",
            "linecolor": "white",
            "ticks": ""
           },
           "bgcolor": "#E5ECF6",
           "caxis": {
            "gridcolor": "white",
            "linecolor": "white",
            "ticks": ""
           }
          },
          "title": {
           "x": 0.05
          },
          "xaxis": {
           "automargin": true,
           "gridcolor": "white",
           "linecolor": "white",
           "ticks": "",
           "title": {
            "standoff": 15
           },
           "zerolinecolor": "white",
           "zerolinewidth": 2
          },
          "yaxis": {
           "automargin": true,
           "gridcolor": "white",
           "linecolor": "white",
           "ticks": "",
           "title": {
            "standoff": 15
           },
           "zerolinecolor": "white",
           "zerolinewidth": 2
          }
         }
        },
        "title": {
         "text": "Distribusi Top Performer di Setiap Departemen"
        },
        "xaxis": {
         "anchor": "y",
         "categoryorder": "total descending",
         "domain": [
          0,
          1
         ],
         "title": {
          "text": "Departemen"
         }
        },
        "yaxis": {
         "anchor": "x",
         "domain": [
          0,
          1
         ],
         "title": {
          "text": "Persentase dalam Grup (%)"
         }
        }
       }
      }
     },
     "metadata": {},
     "output_type": "display_data"
    }
   ],
   "source": [
    "# Ganti nama kolom 'name' di tabel departemen agar unik\n",
    "dim_departments_renamed = dfs['dim_departments'].rename(columns={'name': 'department_name'})\n",
    "df_dept = pd.merge(df_main, dim_departments_renamed, on='department_id', how='left')\n",
    "\n",
    "# Bar chart\n",
    "fig_dept = px.histogram(df_dept,\n",
    "                        x='department_name', \n",
    "                        color='is_top_performer',\n",
    "                        barmode='group',\n",
    "                        histnorm='percent',\n",
    "                        title='Distribusi Top Performer di Setiap Departemen')\n",
    "fig_dept.update_layout(yaxis_title=\"Persentase dalam Grup (%)\", xaxis_title=\"Departemen\")\n",
    "fig_dept.update_xaxes(categoryorder=\"total descending\")\n",
    "fig_dept.show()"
   ]
  },
  {
   "cell_type": "markdown",
   "id": "49b565ed",
   "metadata": {},
   "source": [
    "### Interpretasi"
   ]
  },
  {
   "cell_type": "markdown",
   "id": "c241287c",
   "metadata": {},
   "source": [
    "Sekarang, mari kita perluas analisis kontekstual kita. Kita tahu jabatan dan pengalaman itu penting, tapi bagaimana dengan lingkungan kerja? Apakah ada departemen tertentu yang lebih subur dalam menumbuhkan talenta terbaik?\n",
    "\n",
    "Grafik ini menjawab pertanyaan tersebut dengan sangat jelas. Kita bisa melihat bahwa Departemen IT dan Operations secara signifikan memiliki proporsi top performer (batang oranye) yang jauh lebih tinggi dibandingkan dengan proporsi mereka di populasi karyawan umum (batang biru). Sebaliknya, di Departemen HR, situasinya berbalik.\n",
    "\n",
    "Apa cerita di baliknya?\n",
    "\n",
    "Ini menunjukkan bahwa **kinerja bukanlah semata-mata hasil dari individu, tetapi juga sangat dipengaruhi oleh lingkungan**. Departemen-departemen yang unggul seperti IT dan Operations kemungkinan besar memiliki beberapa \"resep rahasia\". Mungkin gaya kepemimpinan di sana lebih efektif dalam mendorong kinerja. Bisa jadi budaya kerjanya lebih kompetitif atau lebih berorientasi pada hasil. Atau, jenis pekerjaan di sana lebih menantang dan memberikan dampak langsung pada bisnis, yang memotivasi karyawan untuk memberikan yang terbaik. Temuan ini sangat penting bagi para pemimpin dan tim HR. Ini menunjukkan bahwa kita bisa belajar dari departemen-departemen \"juara\" ini untuk mereplikasi praktik-praktik terbaik mereka baik itu dari sisi kepemimpinan, budaya, maupun jenis proyekdi seluruh organisasi."
   ]
  },
  {
   "cell_type": "markdown",
   "id": "f5af9839",
   "metadata": {},
   "source": [
    "## Distribusi Top Performer Berdasarkan 10 Jurusan Teratas"
   ]
  },
  {
   "cell_type": "code",
   "execution_count": 6,
   "id": "91e96d71",
   "metadata": {},
   "outputs": [
    {
     "data": {
      "application/vnd.plotly.v1+json": {
       "config": {
        "plotlyServerURL": "https://plot.ly"
       },
       "data": [
        {
         "alignmentgroup": "True",
         "bingroup": "x",
         "histnorm": "percent",
         "hovertemplate": "is_top_performer=False<br>major_name=%{x}<br>percent=%{y}<extra></extra>",
         "legendgroup": "False",
         "marker": {
          "color": "#636efa",
          "pattern": {
           "shape": ""
          }
         },
         "name": "False",
         "offsetgroup": "False",
         "orientation": "v",
         "showlegend": true,
         "type": "histogram",
         "x": [
          "Business",
          "Design",
          "Business",
          "Psychology",
          "Psychology",
          "Business",
          "Engineering",
          "Business",
          "Business",
          "Design",
          "Engineering",
          "Design",
          "Business",
          "Economics",
          "Design",
          "Statistics",
          "Statistics",
          "Psychology",
          "Statistics",
          "Economics",
          "Business",
          "Design",
          "Design",
          "Psychology",
          "Psychology",
          "Engineering",
          "Design",
          "Design",
          "Economics",
          "Business",
          "Engineering",
          "Economics",
          "Statistics",
          "Design",
          "Design",
          "Economics",
          "Economics",
          "Statistics",
          "Psychology",
          "Statistics",
          "Psychology",
          "Statistics",
          "Statistics",
          "Psychology",
          "Psychology",
          "Psychology",
          "Economics",
          "Engineering",
          "Engineering",
          "Psychology",
          "Design",
          "Psychology",
          "Statistics",
          "Engineering",
          "Business",
          "Business",
          "Business",
          "Design",
          "Psychology",
          "Engineering",
          "Statistics",
          "Business",
          "Economics",
          "Business",
          "Psychology",
          "Business",
          "Psychology",
          "Design",
          "Economics",
          "Business",
          "Business",
          "Design",
          "Business",
          "Economics",
          "Economics",
          "Statistics",
          "Engineering",
          "Psychology",
          "Business",
          "Design",
          "Statistics",
          "Engineering",
          "Psychology",
          "Engineering",
          "Economics",
          "Business",
          "Statistics",
          "Design",
          "Psychology",
          "Economics",
          "Statistics",
          "Business",
          "Business",
          "Engineering",
          "Statistics",
          "Engineering",
          "Engineering",
          "Psychology",
          "Economics",
          "Psychology",
          "Engineering",
          "Psychology",
          "Statistics",
          "Engineering",
          "Economics",
          "Economics",
          "Engineering",
          "Design",
          "Design",
          "Design",
          "Business",
          "Economics",
          "Statistics",
          "Economics",
          "Design",
          "Economics",
          "Economics",
          "Statistics",
          "Business",
          "Psychology",
          "Statistics",
          "Statistics",
          "Business",
          "Psychology",
          "Economics",
          "Statistics",
          "Business",
          "Psychology",
          "Economics",
          "Statistics",
          "Psychology",
          "Psychology",
          "Statistics",
          "Design",
          "Economics",
          "Statistics",
          "Business",
          "Psychology",
          "Statistics",
          "Engineering",
          "Design",
          "Business",
          "Design",
          "Statistics",
          "Psychology",
          "Engineering",
          "Engineering",
          "Psychology",
          "Design",
          "Psychology",
          "Statistics",
          "Economics",
          "Design",
          "Economics",
          "Statistics",
          "Psychology",
          "Design",
          "Statistics",
          "Business",
          "Psychology",
          "Statistics",
          "Engineering",
          "Engineering",
          "Economics",
          "Economics",
          "Engineering",
          "Economics",
          "Statistics",
          "Statistics",
          "Design",
          "Business",
          "Business",
          "Business",
          "Statistics",
          "Statistics",
          "Engineering",
          "Statistics",
          "Business",
          "Design",
          "Economics",
          "Economics",
          "Economics",
          "Engineering",
          "Engineering",
          "Economics",
          "Psychology",
          "Economics",
          "Engineering",
          "Economics",
          "Psychology",
          "Economics",
          "Economics",
          "Design",
          "Psychology",
          "Economics",
          "Psychology",
          "Engineering",
          "Business",
          "Business",
          "Engineering",
          "Engineering",
          "Design",
          "Business",
          "Engineering",
          "Psychology",
          "Business",
          "Business",
          "Economics",
          "Engineering",
          "Design",
          "Engineering",
          "Engineering",
          "Engineering",
          "Engineering",
          "Design",
          "Statistics",
          "Psychology",
          "Design",
          "Engineering",
          "Business",
          "Business",
          "Statistics",
          "Business",
          "Statistics",
          "Economics",
          "Psychology",
          "Engineering",
          "Engineering",
          "Design",
          "Psychology",
          "Engineering",
          "Psychology",
          "Statistics",
          "Psychology",
          "Psychology",
          "Statistics",
          "Statistics",
          "Engineering",
          "Design",
          "Statistics",
          "Business",
          "Statistics",
          "Engineering",
          "Business",
          "Business",
          "Engineering",
          "Economics",
          "Psychology",
          "Engineering",
          "Design",
          "Economics",
          "Economics",
          "Engineering",
          "Design",
          "Design",
          "Engineering",
          "Economics",
          "Business",
          "Business",
          "Design",
          "Statistics",
          "Statistics",
          "Statistics",
          "Engineering",
          "Design",
          "Psychology",
          "Engineering",
          "Economics",
          "Business",
          "Economics",
          "Psychology",
          "Design",
          "Psychology",
          "Economics",
          "Design",
          "Psychology",
          "Economics",
          "Economics",
          "Business",
          "Economics",
          "Business",
          "Psychology",
          "Statistics",
          "Design",
          "Business",
          "Engineering",
          "Economics",
          "Design",
          "Design",
          "Design",
          "Psychology",
          "Business",
          "Economics",
          "Psychology",
          "Engineering",
          "Engineering",
          "Economics",
          "Statistics",
          "Business",
          "Economics",
          "Business",
          "Design",
          "Statistics",
          "Psychology",
          "Design",
          "Psychology",
          "Statistics",
          "Engineering",
          "Psychology",
          "Design",
          "Economics",
          "Design",
          "Statistics",
          "Business",
          "Psychology",
          "Statistics",
          "Design",
          "Business",
          "Business",
          "Engineering",
          "Economics",
          "Economics",
          "Economics",
          "Engineering",
          "Economics",
          "Business",
          "Engineering",
          "Business",
          "Psychology",
          "Economics",
          "Psychology",
          "Engineering",
          "Engineering",
          "Business",
          "Economics",
          "Design",
          "Business",
          "Engineering",
          "Design",
          "Engineering",
          "Design",
          "Design",
          "Economics",
          "Design",
          "Statistics",
          "Statistics",
          "Economics",
          "Statistics",
          "Engineering",
          "Design",
          "Economics",
          "Psychology",
          "Design",
          "Economics",
          "Psychology",
          "Engineering",
          "Engineering",
          "Psychology",
          "Psychology",
          "Psychology",
          "Engineering",
          "Business",
          "Statistics",
          "Engineering",
          "Psychology",
          "Statistics",
          "Business",
          "Economics",
          "Engineering",
          "Statistics",
          "Psychology",
          "Psychology",
          "Economics",
          "Design",
          "Psychology",
          "Design",
          "Psychology",
          "Engineering",
          "Psychology",
          "Economics",
          "Design",
          "Engineering",
          "Engineering",
          "Business",
          "Engineering",
          "Statistics",
          "Engineering",
          "Engineering",
          "Engineering",
          "Economics",
          "Psychology",
          "Economics",
          "Design",
          "Statistics",
          "Statistics",
          "Statistics",
          "Statistics",
          "Business",
          "Statistics",
          "Engineering",
          "Statistics",
          "Statistics",
          "Statistics",
          "Psychology",
          "Statistics",
          "Design",
          "Psychology",
          "Psychology",
          "Statistics",
          "Psychology",
          "Economics",
          "Design",
          "Psychology",
          "Psychology",
          "Statistics",
          "Economics",
          "Engineering",
          "Economics",
          "Business",
          "Business",
          "Statistics",
          "Business",
          "Statistics",
          "Psychology",
          "Engineering",
          "Business",
          "Engineering",
          "Statistics",
          "Psychology",
          "Economics",
          "Engineering",
          "Engineering",
          "Economics",
          "Psychology",
          "Economics",
          "Engineering",
          "Business",
          "Economics",
          "Psychology",
          "Design",
          "Engineering",
          "Statistics",
          "Design",
          "Design",
          "Statistics",
          "Statistics",
          "Statistics",
          "Statistics",
          "Economics",
          "Engineering",
          "Economics",
          "Psychology",
          "Engineering",
          "Psychology",
          "Engineering",
          "Design",
          "Engineering",
          "Economics",
          "Economics",
          "Psychology",
          "Engineering",
          "Engineering",
          "Economics",
          "Design",
          "Statistics",
          "Psychology",
          "Engineering",
          "Design",
          "Statistics",
          "Statistics",
          "Statistics",
          "Economics",
          "Design",
          "Statistics",
          "Economics",
          "Design",
          "Business",
          "Statistics",
          "Engineering",
          "Economics",
          "Psychology",
          "Economics",
          "Statistics",
          "Psychology",
          "Engineering",
          "Statistics",
          "Statistics",
          "Psychology",
          "Economics",
          "Business",
          "Business",
          "Design",
          "Economics",
          "Statistics",
          "Statistics",
          "Business",
          "Design",
          "Engineering",
          "Design",
          "Psychology",
          "Business",
          "Statistics",
          "Design",
          "Design",
          "Statistics",
          "Psychology",
          "Business",
          "Economics",
          "Design",
          "Economics",
          "Business",
          "Psychology",
          "Engineering",
          "Business",
          "Engineering",
          "Design",
          "Design",
          "Economics",
          "Engineering",
          "Engineering",
          "Economics",
          "Design",
          "Engineering",
          "Business",
          "Economics",
          "Statistics",
          "Economics",
          "Design",
          "Design",
          "Statistics",
          "Statistics",
          "Economics",
          "Design",
          "Business",
          "Engineering",
          "Economics",
          "Design",
          "Psychology",
          "Business",
          "Engineering",
          "Business",
          "Business",
          "Economics",
          "Business",
          "Economics",
          "Statistics",
          "Engineering",
          "Economics",
          "Statistics",
          "Engineering",
          "Design",
          "Statistics",
          "Business",
          "Psychology",
          "Design",
          "Business",
          "Design",
          "Psychology",
          "Economics",
          "Statistics",
          "Psychology",
          "Engineering",
          "Statistics",
          "Business",
          "Statistics",
          "Business",
          "Design",
          "Psychology",
          "Economics",
          "Business",
          "Economics",
          "Psychology",
          "Business",
          "Design",
          "Engineering",
          "Economics",
          "Statistics",
          "Design",
          "Business",
          "Business",
          "Design",
          "Statistics",
          "Business",
          "Design",
          "Economics",
          "Engineering",
          "Statistics",
          "Design",
          "Economics",
          "Business",
          "Business",
          "Psychology",
          "Design",
          "Design",
          "Statistics",
          "Engineering",
          "Economics",
          "Psychology",
          "Statistics",
          "Design",
          "Statistics",
          "Engineering",
          "Statistics",
          "Statistics",
          "Business",
          "Statistics",
          "Design",
          "Statistics",
          "Economics",
          "Business",
          "Design",
          "Statistics",
          "Design",
          "Statistics",
          "Design",
          "Statistics",
          "Engineering",
          "Statistics",
          "Statistics",
          "Design",
          "Psychology",
          "Economics",
          "Economics",
          "Psychology",
          "Economics",
          "Economics",
          "Design",
          "Engineering",
          "Statistics",
          "Engineering",
          "Economics",
          "Business",
          "Design",
          "Economics",
          "Statistics",
          "Design",
          "Design",
          "Design",
          "Economics",
          "Psychology",
          "Design",
          "Design",
          "Business",
          "Psychology",
          "Psychology",
          "Engineering",
          "Design",
          "Design",
          "Economics",
          "Design",
          "Psychology",
          "Psychology",
          "Business",
          "Statistics",
          "Statistics",
          "Psychology",
          "Engineering",
          "Design",
          "Economics",
          "Economics",
          "Psychology",
          "Design",
          "Design",
          "Engineering",
          "Business",
          "Business",
          "Business",
          "Business",
          "Design",
          "Design",
          "Psychology",
          "Statistics",
          "Psychology",
          "Psychology",
          "Psychology",
          "Design",
          "Design",
          "Engineering",
          "Business",
          "Statistics",
          "Economics",
          "Design",
          "Statistics",
          "Design",
          "Economics",
          "Statistics",
          "Design",
          "Statistics",
          "Statistics",
          "Engineering",
          "Economics",
          "Engineering",
          "Psychology",
          "Engineering",
          "Design",
          "Engineering",
          "Statistics",
          "Business",
          "Engineering",
          "Business",
          "Psychology",
          "Psychology",
          "Psychology",
          "Engineering",
          "Psychology",
          "Engineering",
          "Engineering",
          "Business",
          "Economics",
          "Engineering",
          "Economics",
          "Economics",
          "Psychology",
          "Statistics",
          "Statistics",
          "Psychology",
          "Statistics",
          "Statistics",
          "Design",
          "Design",
          "Economics",
          "Statistics",
          "Design",
          "Economics",
          "Psychology",
          "Design",
          "Economics",
          "Statistics",
          "Psychology",
          "Economics",
          "Business",
          "Design",
          "Psychology",
          "Design",
          "Engineering",
          "Business",
          "Engineering",
          "Economics",
          "Statistics",
          "Business",
          "Statistics",
          "Design",
          "Business",
          "Economics",
          "Economics",
          "Economics",
          "Engineering",
          "Design",
          "Design",
          "Psychology",
          "Engineering",
          "Economics",
          "Statistics",
          "Business",
          "Psychology",
          "Economics",
          "Engineering",
          "Design",
          "Business",
          "Business",
          "Design",
          "Design",
          "Psychology",
          "Business",
          "Design",
          "Economics",
          "Statistics",
          "Statistics",
          "Engineering",
          "Design",
          "Design",
          "Business",
          "Psychology",
          "Business",
          "Design",
          "Design",
          "Psychology",
          "Statistics",
          "Business",
          "Economics",
          "Statistics",
          "Engineering",
          "Engineering",
          "Psychology",
          "Statistics",
          "Business",
          "Psychology",
          "Design",
          "Statistics",
          "Economics",
          "Design",
          "Business",
          "Statistics",
          "Engineering",
          "Psychology",
          "Economics",
          "Business",
          "Psychology",
          "Economics",
          "Statistics",
          "Psychology",
          "Engineering",
          "Psychology",
          "Economics",
          "Psychology",
          "Economics",
          "Design",
          "Design",
          "Economics",
          "Business",
          "Psychology",
          "Psychology",
          "Engineering",
          "Statistics",
          "Psychology",
          "Statistics",
          "Business",
          "Psychology",
          "Statistics",
          "Engineering",
          "Psychology",
          "Statistics",
          "Engineering",
          "Engineering",
          "Engineering",
          "Psychology",
          "Economics",
          "Business",
          "Statistics",
          "Engineering",
          "Business",
          "Business",
          "Business",
          "Business",
          "Engineering",
          "Economics",
          "Statistics",
          "Economics",
          "Business",
          "Design",
          "Economics",
          "Business",
          "Design",
          "Economics",
          "Economics",
          "Psychology",
          "Economics",
          "Economics",
          "Psychology",
          "Design",
          "Engineering",
          "Engineering",
          "Design",
          "Statistics",
          "Engineering",
          "Business",
          "Design",
          "Statistics",
          "Design",
          "Design",
          "Statistics",
          "Statistics",
          "Engineering",
          "Economics",
          "Psychology",
          "Psychology",
          "Engineering",
          "Design",
          "Business",
          "Design",
          "Statistics",
          "Economics",
          "Statistics",
          "Psychology",
          "Psychology",
          "Engineering",
          "Statistics",
          "Design",
          "Business",
          "Design",
          "Economics",
          "Economics",
          "Business",
          "Psychology",
          "Statistics",
          "Economics",
          "Psychology",
          "Psychology",
          "Engineering",
          "Design",
          "Engineering",
          "Psychology",
          "Statistics",
          "Business",
          "Business",
          "Statistics",
          "Engineering",
          "Business",
          "Business",
          "Statistics",
          "Statistics",
          "Psychology",
          "Economics",
          "Economics",
          "Business",
          "Design",
          "Business",
          "Economics",
          "Psychology",
          "Design",
          "Design",
          "Statistics",
          "Economics",
          "Psychology",
          "Psychology",
          "Engineering",
          "Statistics",
          "Engineering",
          "Economics",
          "Psychology",
          "Economics",
          "Engineering",
          "Engineering",
          "Economics",
          "Psychology",
          "Psychology",
          "Economics",
          "Economics",
          "Engineering",
          "Economics",
          "Design",
          "Economics",
          "Engineering",
          "Economics",
          "Design",
          "Psychology",
          "Statistics",
          "Engineering",
          "Economics",
          "Psychology",
          "Statistics",
          "Statistics",
          "Engineering",
          "Business",
          "Engineering",
          "Economics",
          "Design",
          "Psychology",
          "Engineering",
          "Engineering",
          "Engineering",
          "Design",
          "Engineering",
          "Psychology",
          "Psychology",
          "Economics",
          "Psychology",
          "Business",
          "Statistics",
          "Business",
          "Design",
          "Psychology",
          "Engineering",
          "Statistics",
          "Statistics",
          "Design",
          "Design",
          "Design",
          "Design",
          "Psychology",
          "Psychology",
          "Economics",
          "Psychology",
          "Business",
          "Engineering",
          "Psychology",
          "Statistics",
          "Economics",
          "Design",
          "Business",
          "Psychology",
          "Business",
          "Design",
          "Business",
          "Psychology",
          "Business",
          "Statistics",
          "Engineering",
          "Business",
          "Psychology",
          "Design",
          "Psychology",
          "Economics",
          "Business",
          "Economics",
          "Business",
          "Psychology",
          "Psychology",
          "Design",
          "Design",
          "Psychology",
          "Design",
          "Economics",
          "Business",
          "Business",
          "Design",
          "Economics",
          "Engineering",
          "Economics",
          "Economics",
          "Statistics",
          "Design",
          "Economics",
          "Economics",
          "Engineering",
          "Statistics",
          "Engineering",
          "Economics",
          "Economics",
          "Engineering",
          "Engineering",
          "Business",
          "Economics",
          "Business",
          "Design",
          "Psychology",
          "Statistics",
          "Business",
          "Business",
          "Economics",
          "Economics",
          "Economics",
          "Business",
          "Design",
          "Statistics",
          "Statistics",
          "Psychology",
          "Design",
          "Statistics",
          "Business",
          "Psychology",
          "Business",
          "Economics",
          "Business",
          "Economics",
          "Business",
          "Design",
          "Business",
          "Engineering",
          "Economics",
          "Statistics",
          "Economics",
          "Business",
          "Design",
          "Statistics",
          "Psychology",
          "Statistics",
          "Statistics",
          "Economics",
          "Economics",
          "Business",
          "Business",
          "Psychology",
          "Statistics",
          "Business",
          "Economics",
          "Economics",
          "Design",
          "Statistics",
          "Engineering",
          "Economics",
          "Statistics",
          "Economics",
          "Psychology",
          "Psychology",
          "Engineering",
          "Psychology",
          "Economics",
          "Engineering",
          "Economics",
          "Business",
          "Statistics",
          "Engineering",
          "Business",
          "Statistics",
          "Statistics",
          "Psychology",
          "Design",
          "Economics",
          "Statistics",
          "Economics",
          "Business",
          "Statistics",
          "Psychology",
          "Economics",
          "Psychology",
          "Psychology",
          "Statistics",
          "Design",
          "Design",
          "Statistics",
          "Statistics",
          "Economics",
          "Business",
          "Psychology",
          "Psychology",
          "Psychology",
          "Engineering",
          "Design",
          "Psychology",
          "Business",
          "Business",
          "Statistics",
          "Psychology",
          "Statistics",
          "Economics",
          "Psychology",
          "Design",
          "Economics",
          "Psychology",
          "Engineering",
          "Business",
          "Psychology",
          "Statistics",
          "Psychology",
          "Psychology",
          "Economics",
          "Psychology",
          "Design",
          "Engineering",
          "Economics",
          "Design",
          "Design",
          "Economics",
          "Business",
          "Economics",
          "Psychology",
          "Economics",
          "Statistics",
          "Design",
          "Business",
          "Economics",
          "Business",
          "Engineering",
          "Economics",
          "Psychology",
          "Engineering",
          "Design",
          "Economics",
          "Design",
          "Economics",
          "Engineering",
          "Psychology",
          "Business",
          "Statistics",
          "Psychology",
          "Design",
          "Business",
          "Psychology",
          "Engineering",
          "Economics",
          "Engineering",
          "Psychology",
          "Psychology",
          "Engineering",
          "Design",
          "Engineering",
          "Design",
          "Economics",
          "Statistics",
          "Business",
          "Economics",
          "Engineering",
          "Business",
          "Engineering",
          "Statistics",
          "Economics",
          "Statistics",
          "Design",
          "Statistics",
          "Business",
          "Business",
          "Statistics",
          "Economics",
          "Engineering",
          "Psychology",
          "Engineering",
          "Design",
          "Business",
          "Economics",
          "Economics",
          "Economics",
          "Psychology",
          "Engineering",
          "Design",
          "Design",
          "Design",
          "Psychology",
          "Business",
          "Business",
          "Psychology",
          "Business",
          "Statistics",
          "Psychology",
          "Design",
          "Engineering",
          "Engineering",
          "Business",
          "Psychology",
          "Business",
          "Design",
          "Engineering",
          "Psychology",
          "Engineering",
          "Statistics",
          "Business",
          "Design",
          "Psychology",
          "Statistics",
          "Business",
          "Business",
          "Design",
          "Engineering",
          "Statistics",
          "Psychology",
          "Statistics",
          "Economics",
          "Design",
          "Business",
          "Psychology",
          "Design",
          "Engineering",
          "Statistics",
          "Business",
          "Psychology",
          "Engineering",
          "Design",
          "Design",
          "Design",
          "Psychology",
          "Economics",
          "Economics",
          "Economics",
          "Business",
          "Statistics",
          "Psychology",
          "Design",
          "Design",
          "Statistics",
          "Statistics",
          "Design",
          "Engineering",
          "Economics",
          "Psychology",
          "Economics",
          "Statistics",
          "Economics",
          "Economics",
          "Design",
          "Psychology",
          "Psychology",
          "Economics",
          "Economics",
          "Psychology",
          "Engineering",
          "Economics",
          "Economics",
          "Engineering",
          "Business",
          "Psychology",
          "Design",
          "Business",
          "Business",
          "Business",
          "Engineering",
          "Design",
          "Statistics",
          "Business",
          "Psychology",
          "Design",
          "Business",
          "Business",
          "Engineering",
          "Business",
          "Economics",
          "Design",
          "Engineering",
          "Engineering",
          "Design",
          "Economics",
          "Psychology",
          "Statistics",
          "Statistics",
          "Economics",
          "Design",
          "Design",
          "Engineering",
          "Business",
          "Business",
          "Business",
          "Engineering",
          "Psychology",
          "Design",
          "Business",
          "Statistics",
          "Psychology",
          "Engineering",
          "Business",
          "Statistics",
          "Design",
          "Psychology",
          "Statistics",
          "Statistics",
          "Economics",
          "Psychology",
          "Statistics",
          "Business",
          "Design",
          "Psychology",
          "Statistics",
          "Statistics",
          "Engineering",
          "Business",
          "Engineering",
          "Psychology",
          "Economics",
          "Business",
          "Business",
          "Business",
          "Psychology",
          "Psychology",
          "Business",
          "Economics",
          "Engineering",
          "Engineering",
          "Statistics",
          "Economics",
          "Design",
          "Economics",
          "Business",
          "Business",
          "Design",
          "Business",
          "Design",
          "Engineering",
          "Economics",
          "Design",
          "Design",
          "Psychology",
          "Economics",
          "Statistics",
          "Economics",
          "Business",
          "Economics",
          "Engineering",
          "Engineering",
          "Economics",
          "Economics",
          "Engineering",
          "Design",
          "Design",
          "Business",
          "Statistics",
          "Design",
          "Economics",
          "Statistics",
          "Psychology",
          "Psychology",
          "Economics",
          "Design",
          "Engineering",
          "Economics",
          "Economics",
          "Psychology",
          "Engineering",
          "Psychology",
          "Design",
          "Business",
          "Statistics",
          "Design",
          "Economics",
          "Economics",
          "Design",
          "Engineering",
          "Design",
          "Statistics",
          "Psychology",
          "Engineering",
          "Engineering",
          "Economics",
          "Economics",
          "Design",
          "Statistics",
          "Psychology",
          "Economics",
          "Psychology",
          "Engineering",
          "Business",
          "Business",
          "Business",
          "Statistics",
          "Statistics",
          "Design",
          "Economics",
          "Statistics",
          "Engineering",
          "Statistics",
          "Statistics",
          "Statistics",
          "Engineering",
          "Engineering",
          "Economics",
          "Psychology",
          "Economics",
          "Economics",
          "Economics",
          "Business",
          "Business",
          "Psychology",
          "Statistics",
          "Design",
          "Engineering",
          "Psychology",
          "Design",
          "Design",
          "Engineering",
          "Business",
          "Psychology",
          "Economics",
          "Engineering",
          "Economics",
          "Psychology",
          "Design",
          "Economics",
          "Economics",
          "Engineering",
          "Design",
          "Economics",
          "Engineering",
          "Economics",
          "Psychology",
          "Economics",
          "Design",
          "Engineering",
          "Statistics",
          "Engineering",
          "Engineering",
          "Psychology",
          "Statistics",
          "Engineering",
          "Economics",
          "Business",
          "Economics",
          "Psychology",
          "Statistics",
          "Psychology",
          "Engineering",
          "Design",
          "Statistics",
          "Business",
          "Economics",
          "Statistics",
          "Business",
          "Business",
          "Psychology",
          "Business",
          "Psychology",
          "Business",
          "Design",
          "Psychology",
          "Statistics",
          "Business",
          "Business",
          "Engineering",
          "Economics",
          "Economics",
          "Economics",
          "Engineering",
          "Psychology",
          "Economics",
          "Business",
          "Psychology",
          "Psychology",
          "Business",
          "Design",
          "Statistics",
          "Design",
          "Statistics",
          "Design",
          "Psychology",
          "Statistics",
          "Engineering",
          "Economics",
          "Psychology",
          "Psychology",
          "Statistics",
          "Economics",
          "Engineering",
          "Design",
          "Business",
          "Engineering",
          "Statistics",
          "Economics",
          "Statistics",
          "Statistics",
          "Business",
          "Statistics",
          "Psychology",
          "Statistics",
          "Statistics",
          "Engineering",
          "Engineering",
          "Economics",
          "Engineering",
          "Psychology",
          "Engineering",
          "Engineering",
          "Statistics",
          "Economics",
          "Psychology",
          "Statistics",
          "Statistics",
          "Business",
          "Design",
          "Economics",
          "Engineering",
          "Design",
          "Design",
          "Economics",
          "Economics",
          "Psychology",
          "Psychology",
          "Business",
          "Statistics",
          "Design",
          "Business",
          "Psychology",
          "Economics",
          "Statistics",
          "Economics",
          "Economics",
          "Psychology",
          "Statistics",
          "Economics",
          "Psychology",
          "Design",
          "Statistics",
          "Engineering",
          "Economics",
          "Design",
          "Engineering",
          "Statistics",
          "Psychology",
          "Psychology",
          "Business",
          "Economics",
          "Statistics",
          "Statistics",
          "Engineering",
          "Statistics",
          "Psychology",
          "Design",
          "Statistics",
          "Business",
          "Economics",
          "Psychology",
          "Engineering",
          "Economics",
          "Engineering",
          "Statistics",
          "Design",
          "Business",
          "Business",
          "Economics",
          "Business",
          "Design",
          "Engineering",
          "Statistics",
          "Design",
          "Engineering",
          "Business",
          "Business",
          "Psychology",
          "Design",
          "Psychology",
          "Engineering",
          "Business",
          "Statistics",
          "Engineering",
          "Psychology",
          "Statistics",
          "Engineering",
          "Business",
          "Design",
          "Engineering",
          "Business",
          "Statistics",
          "Engineering",
          "Psychology",
          "Economics",
          "Business",
          "Economics",
          "Statistics",
          "Psychology",
          "Economics",
          "Design",
          "Design",
          "Business",
          "Business",
          "Engineering",
          "Design",
          "Psychology",
          "Engineering",
          "Psychology",
          "Psychology",
          "Business",
          "Engineering",
          "Business",
          "Engineering",
          "Business",
          "Economics",
          "Economics",
          "Economics",
          "Design",
          "Economics",
          "Statistics",
          "Business",
          "Engineering",
          "Economics",
          "Psychology",
          "Economics",
          "Engineering",
          "Design",
          "Statistics",
          "Statistics",
          "Statistics",
          "Engineering",
          "Psychology",
          "Economics",
          "Design",
          "Business",
          "Psychology",
          "Psychology",
          "Statistics",
          "Design",
          "Engineering",
          "Business",
          "Design",
          "Psychology",
          "Statistics",
          "Psychology",
          "Business",
          "Economics",
          "Design",
          "Statistics",
          "Psychology",
          "Business",
          "Business",
          "Psychology",
          "Engineering",
          "Statistics",
          "Statistics",
          "Psychology",
          "Economics",
          "Statistics",
          "Business",
          "Psychology",
          "Psychology",
          "Statistics",
          "Psychology",
          "Psychology",
          "Engineering",
          "Statistics",
          "Business",
          "Design",
          "Business",
          "Design",
          "Psychology",
          "Economics",
          "Business",
          "Statistics",
          "Engineering",
          "Economics",
          "Psychology",
          "Design",
          "Design",
          "Design",
          "Economics",
          "Economics",
          "Economics",
          "Economics",
          "Business",
          "Business",
          "Economics",
          "Psychology",
          "Design",
          "Psychology",
          "Psychology",
          "Design",
          "Statistics",
          "Psychology",
          "Design",
          "Business",
          "Business",
          "Engineering",
          "Economics",
          "Economics",
          "Statistics",
          "Psychology",
          "Business",
          "Psychology",
          "Statistics",
          "Statistics",
          "Psychology",
          "Psychology",
          "Statistics",
          "Economics",
          "Engineering",
          "Business",
          "Economics",
          "Statistics",
          "Statistics",
          "Economics",
          "Statistics",
          "Engineering",
          "Statistics",
          "Statistics",
          "Engineering",
          "Psychology",
          "Business",
          "Psychology",
          "Psychology",
          "Business",
          "Engineering",
          "Psychology",
          "Psychology",
          "Business",
          "Statistics",
          "Engineering",
          "Engineering",
          "Design",
          "Psychology",
          "Psychology",
          "Psychology",
          "Engineering",
          "Engineering",
          "Psychology",
          "Engineering",
          "Statistics",
          "Psychology",
          "Economics",
          "Design",
          "Psychology",
          "Economics",
          "Business",
          "Economics",
          "Business",
          "Economics",
          "Business",
          "Design",
          "Design",
          "Economics",
          "Psychology",
          "Design",
          "Engineering",
          "Engineering",
          "Engineering",
          "Design",
          "Statistics",
          "Design",
          "Design",
          "Design",
          "Psychology",
          "Economics",
          "Design",
          "Engineering",
          "Engineering",
          "Business",
          "Economics",
          "Engineering",
          "Design",
          "Business",
          "Engineering",
          "Psychology",
          "Economics",
          "Statistics",
          "Business",
          "Economics",
          "Business",
          "Engineering",
          "Statistics",
          "Design",
          "Economics",
          "Statistics",
          "Psychology",
          "Psychology",
          "Psychology",
          "Engineering",
          "Design",
          "Business",
          "Psychology",
          "Engineering",
          "Statistics",
          "Design",
          "Business",
          "Engineering",
          "Statistics",
          "Engineering",
          "Psychology",
          "Economics",
          "Business",
          "Statistics",
          "Statistics",
          "Engineering",
          "Psychology",
          "Design",
          "Engineering",
          "Economics",
          "Design",
          "Engineering",
          "Psychology",
          "Design",
          "Economics",
          "Business",
          "Economics",
          "Business",
          "Business",
          "Statistics",
          "Engineering",
          "Economics",
          "Business",
          "Engineering",
          "Business",
          "Business",
          "Design",
          "Economics",
          "Statistics",
          "Design",
          "Business",
          "Engineering",
          "Business",
          "Psychology"
         ],
         "xaxis": "x",
         "yaxis": "y"
        },
        {
         "alignmentgroup": "True",
         "bingroup": "x",
         "histnorm": "percent",
         "hovertemplate": "is_top_performer=True<br>major_name=%{x}<br>percent=%{y}<extra></extra>",
         "legendgroup": "True",
         "marker": {
          "color": "#EF553B",
          "pattern": {
           "shape": ""
          }
         },
         "name": "True",
         "offsetgroup": "True",
         "orientation": "v",
         "showlegend": true,
         "type": "histogram",
         "x": [
          "Engineering",
          "Business",
          "Statistics",
          "Engineering",
          "Economics",
          "Engineering",
          "Engineering",
          "Design",
          "Economics",
          "Economics",
          "Statistics",
          "Design",
          "Engineering",
          "Business",
          "Design",
          "Statistics",
          "Psychology",
          "Economics",
          "Economics",
          "Engineering",
          "Engineering",
          "Statistics",
          "Business",
          "Statistics",
          "Psychology",
          "Business",
          "Engineering",
          "Statistics",
          "Engineering",
          "Psychology",
          "Design",
          "Engineering",
          "Economics",
          "Business",
          "Psychology",
          "Business",
          "Engineering",
          "Psychology",
          "Business",
          "Design",
          "Business",
          "Economics",
          "Psychology",
          "Design",
          "Economics",
          "Design",
          "Engineering",
          "Economics",
          "Design",
          "Business",
          "Engineering",
          "Business",
          "Psychology",
          "Statistics",
          "Economics",
          "Engineering",
          "Economics",
          "Psychology",
          "Statistics",
          "Design",
          "Statistics",
          "Economics",
          "Design",
          "Engineering",
          "Economics",
          "Engineering",
          "Business",
          "Business",
          "Statistics",
          "Statistics",
          "Design",
          "Psychology",
          "Psychology",
          "Design",
          "Statistics",
          "Economics",
          "Psychology",
          "Statistics",
          "Design",
          "Business",
          "Statistics",
          "Economics",
          "Economics",
          "Engineering",
          "Design",
          "Economics",
          "Engineering",
          "Psychology",
          "Statistics",
          "Engineering",
          "Economics",
          "Business",
          "Business",
          "Design",
          "Economics",
          "Statistics",
          "Design",
          "Economics",
          "Engineering",
          "Economics",
          "Economics",
          "Statistics",
          "Statistics",
          "Engineering",
          "Statistics",
          "Engineering",
          "Engineering",
          "Economics",
          "Engineering",
          "Business",
          "Economics",
          "Economics",
          "Engineering",
          "Economics",
          "Economics",
          "Economics",
          "Psychology",
          "Statistics",
          "Psychology",
          "Psychology",
          "Psychology",
          "Engineering",
          "Economics",
          "Business",
          "Engineering",
          "Economics",
          "Psychology",
          "Engineering",
          "Economics",
          "Engineering",
          "Engineering",
          "Economics",
          "Design",
          "Business",
          "Psychology",
          "Design",
          "Economics",
          "Psychology",
          "Design",
          "Design",
          "Design",
          "Engineering",
          "Business",
          "Business",
          "Economics",
          "Business",
          "Statistics",
          "Economics",
          "Engineering",
          "Business",
          "Design",
          "Business",
          "Economics",
          "Statistics",
          "Statistics",
          "Economics",
          "Business",
          "Business",
          "Engineering",
          "Psychology",
          "Design",
          "Psychology",
          "Statistics",
          "Statistics",
          "Economics",
          "Engineering",
          "Design",
          "Engineering"
         ],
         "xaxis": "x",
         "yaxis": "y"
        }
       ],
       "layout": {
        "barmode": "group",
        "legend": {
         "title": {
          "text": "is_top_performer"
         },
         "tracegroupgap": 0
        },
        "template": {
         "data": {
          "bar": [
           {
            "error_x": {
             "color": "#2a3f5f"
            },
            "error_y": {
             "color": "#2a3f5f"
            },
            "marker": {
             "line": {
              "color": "#E5ECF6",
              "width": 0.5
             },
             "pattern": {
              "fillmode": "overlay",
              "size": 10,
              "solidity": 0.2
             }
            },
            "type": "bar"
           }
          ],
          "barpolar": [
           {
            "marker": {
             "line": {
              "color": "#E5ECF6",
              "width": 0.5
             },
             "pattern": {
              "fillmode": "overlay",
              "size": 10,
              "solidity": 0.2
             }
            },
            "type": "barpolar"
           }
          ],
          "carpet": [
           {
            "aaxis": {
             "endlinecolor": "#2a3f5f",
             "gridcolor": "white",
             "linecolor": "white",
             "minorgridcolor": "white",
             "startlinecolor": "#2a3f5f"
            },
            "baxis": {
             "endlinecolor": "#2a3f5f",
             "gridcolor": "white",
             "linecolor": "white",
             "minorgridcolor": "white",
             "startlinecolor": "#2a3f5f"
            },
            "type": "carpet"
           }
          ],
          "choropleth": [
           {
            "colorbar": {
             "outlinewidth": 0,
             "ticks": ""
            },
            "type": "choropleth"
           }
          ],
          "contour": [
           {
            "colorbar": {
             "outlinewidth": 0,
             "ticks": ""
            },
            "colorscale": [
             [
              0,
              "#0d0887"
             ],
             [
              0.1111111111111111,
              "#46039f"
             ],
             [
              0.2222222222222222,
              "#7201a8"
             ],
             [
              0.3333333333333333,
              "#9c179e"
             ],
             [
              0.4444444444444444,
              "#bd3786"
             ],
             [
              0.5555555555555556,
              "#d8576b"
             ],
             [
              0.6666666666666666,
              "#ed7953"
             ],
             [
              0.7777777777777778,
              "#fb9f3a"
             ],
             [
              0.8888888888888888,
              "#fdca26"
             ],
             [
              1,
              "#f0f921"
             ]
            ],
            "type": "contour"
           }
          ],
          "contourcarpet": [
           {
            "colorbar": {
             "outlinewidth": 0,
             "ticks": ""
            },
            "type": "contourcarpet"
           }
          ],
          "heatmap": [
           {
            "colorbar": {
             "outlinewidth": 0,
             "ticks": ""
            },
            "colorscale": [
             [
              0,
              "#0d0887"
             ],
             [
              0.1111111111111111,
              "#46039f"
             ],
             [
              0.2222222222222222,
              "#7201a8"
             ],
             [
              0.3333333333333333,
              "#9c179e"
             ],
             [
              0.4444444444444444,
              "#bd3786"
             ],
             [
              0.5555555555555556,
              "#d8576b"
             ],
             [
              0.6666666666666666,
              "#ed7953"
             ],
             [
              0.7777777777777778,
              "#fb9f3a"
             ],
             [
              0.8888888888888888,
              "#fdca26"
             ],
             [
              1,
              "#f0f921"
             ]
            ],
            "type": "heatmap"
           }
          ],
          "heatmapgl": [
           {
            "colorbar": {
             "outlinewidth": 0,
             "ticks": ""
            },
            "colorscale": [
             [
              0,
              "#0d0887"
             ],
             [
              0.1111111111111111,
              "#46039f"
             ],
             [
              0.2222222222222222,
              "#7201a8"
             ],
             [
              0.3333333333333333,
              "#9c179e"
             ],
             [
              0.4444444444444444,
              "#bd3786"
             ],
             [
              0.5555555555555556,
              "#d8576b"
             ],
             [
              0.6666666666666666,
              "#ed7953"
             ],
             [
              0.7777777777777778,
              "#fb9f3a"
             ],
             [
              0.8888888888888888,
              "#fdca26"
             ],
             [
              1,
              "#f0f921"
             ]
            ],
            "type": "heatmapgl"
           }
          ],
          "histogram": [
           {
            "marker": {
             "pattern": {
              "fillmode": "overlay",
              "size": 10,
              "solidity": 0.2
             }
            },
            "type": "histogram"
           }
          ],
          "histogram2d": [
           {
            "colorbar": {
             "outlinewidth": 0,
             "ticks": ""
            },
            "colorscale": [
             [
              0,
              "#0d0887"
             ],
             [
              0.1111111111111111,
              "#46039f"
             ],
             [
              0.2222222222222222,
              "#7201a8"
             ],
             [
              0.3333333333333333,
              "#9c179e"
             ],
             [
              0.4444444444444444,
              "#bd3786"
             ],
             [
              0.5555555555555556,
              "#d8576b"
             ],
             [
              0.6666666666666666,
              "#ed7953"
             ],
             [
              0.7777777777777778,
              "#fb9f3a"
             ],
             [
              0.8888888888888888,
              "#fdca26"
             ],
             [
              1,
              "#f0f921"
             ]
            ],
            "type": "histogram2d"
           }
          ],
          "histogram2dcontour": [
           {
            "colorbar": {
             "outlinewidth": 0,
             "ticks": ""
            },
            "colorscale": [
             [
              0,
              "#0d0887"
             ],
             [
              0.1111111111111111,
              "#46039f"
             ],
             [
              0.2222222222222222,
              "#7201a8"
             ],
             [
              0.3333333333333333,
              "#9c179e"
             ],
             [
              0.4444444444444444,
              "#bd3786"
             ],
             [
              0.5555555555555556,
              "#d8576b"
             ],
             [
              0.6666666666666666,
              "#ed7953"
             ],
             [
              0.7777777777777778,
              "#fb9f3a"
             ],
             [
              0.8888888888888888,
              "#fdca26"
             ],
             [
              1,
              "#f0f921"
             ]
            ],
            "type": "histogram2dcontour"
           }
          ],
          "mesh3d": [
           {
            "colorbar": {
             "outlinewidth": 0,
             "ticks": ""
            },
            "type": "mesh3d"
           }
          ],
          "parcoords": [
           {
            "line": {
             "colorbar": {
              "outlinewidth": 0,
              "ticks": ""
             }
            },
            "type": "parcoords"
           }
          ],
          "pie": [
           {
            "automargin": true,
            "type": "pie"
           }
          ],
          "scatter": [
           {
            "fillpattern": {
             "fillmode": "overlay",
             "size": 10,
             "solidity": 0.2
            },
            "type": "scatter"
           }
          ],
          "scatter3d": [
           {
            "line": {
             "colorbar": {
              "outlinewidth": 0,
              "ticks": ""
             }
            },
            "marker": {
             "colorbar": {
              "outlinewidth": 0,
              "ticks": ""
             }
            },
            "type": "scatter3d"
           }
          ],
          "scattercarpet": [
           {
            "marker": {
             "colorbar": {
              "outlinewidth": 0,
              "ticks": ""
             }
            },
            "type": "scattercarpet"
           }
          ],
          "scattergeo": [
           {
            "marker": {
             "colorbar": {
              "outlinewidth": 0,
              "ticks": ""
             }
            },
            "type": "scattergeo"
           }
          ],
          "scattergl": [
           {
            "marker": {
             "colorbar": {
              "outlinewidth": 0,
              "ticks": ""
             }
            },
            "type": "scattergl"
           }
          ],
          "scattermapbox": [
           {
            "marker": {
             "colorbar": {
              "outlinewidth": 0,
              "ticks": ""
             }
            },
            "type": "scattermapbox"
           }
          ],
          "scatterpolar": [
           {
            "marker": {
             "colorbar": {
              "outlinewidth": 0,
              "ticks": ""
             }
            },
            "type": "scatterpolar"
           }
          ],
          "scatterpolargl": [
           {
            "marker": {
             "colorbar": {
              "outlinewidth": 0,
              "ticks": ""
             }
            },
            "type": "scatterpolargl"
           }
          ],
          "scatterternary": [
           {
            "marker": {
             "colorbar": {
              "outlinewidth": 0,
              "ticks": ""
             }
            },
            "type": "scatterternary"
           }
          ],
          "surface": [
           {
            "colorbar": {
             "outlinewidth": 0,
             "ticks": ""
            },
            "colorscale": [
             [
              0,
              "#0d0887"
             ],
             [
              0.1111111111111111,
              "#46039f"
             ],
             [
              0.2222222222222222,
              "#7201a8"
             ],
             [
              0.3333333333333333,
              "#9c179e"
             ],
             [
              0.4444444444444444,
              "#bd3786"
             ],
             [
              0.5555555555555556,
              "#d8576b"
             ],
             [
              0.6666666666666666,
              "#ed7953"
             ],
             [
              0.7777777777777778,
              "#fb9f3a"
             ],
             [
              0.8888888888888888,
              "#fdca26"
             ],
             [
              1,
              "#f0f921"
             ]
            ],
            "type": "surface"
           }
          ],
          "table": [
           {
            "cells": {
             "fill": {
              "color": "#EBF0F8"
             },
             "line": {
              "color": "white"
             }
            },
            "header": {
             "fill": {
              "color": "#C8D4E3"
             },
             "line": {
              "color": "white"
             }
            },
            "type": "table"
           }
          ]
         },
         "layout": {
          "annotationdefaults": {
           "arrowcolor": "#2a3f5f",
           "arrowhead": 0,
           "arrowwidth": 1
          },
          "autotypenumbers": "strict",
          "coloraxis": {
           "colorbar": {
            "outlinewidth": 0,
            "ticks": ""
           }
          },
          "colorscale": {
           "diverging": [
            [
             0,
             "#8e0152"
            ],
            [
             0.1,
             "#c51b7d"
            ],
            [
             0.2,
             "#de77ae"
            ],
            [
             0.3,
             "#f1b6da"
            ],
            [
             0.4,
             "#fde0ef"
            ],
            [
             0.5,
             "#f7f7f7"
            ],
            [
             0.6,
             "#e6f5d0"
            ],
            [
             0.7,
             "#b8e186"
            ],
            [
             0.8,
             "#7fbc41"
            ],
            [
             0.9,
             "#4d9221"
            ],
            [
             1,
             "#276419"
            ]
           ],
           "sequential": [
            [
             0,
             "#0d0887"
            ],
            [
             0.1111111111111111,
             "#46039f"
            ],
            [
             0.2222222222222222,
             "#7201a8"
            ],
            [
             0.3333333333333333,
             "#9c179e"
            ],
            [
             0.4444444444444444,
             "#bd3786"
            ],
            [
             0.5555555555555556,
             "#d8576b"
            ],
            [
             0.6666666666666666,
             "#ed7953"
            ],
            [
             0.7777777777777778,
             "#fb9f3a"
            ],
            [
             0.8888888888888888,
             "#fdca26"
            ],
            [
             1,
             "#f0f921"
            ]
           ],
           "sequentialminus": [
            [
             0,
             "#0d0887"
            ],
            [
             0.1111111111111111,
             "#46039f"
            ],
            [
             0.2222222222222222,
             "#7201a8"
            ],
            [
             0.3333333333333333,
             "#9c179e"
            ],
            [
             0.4444444444444444,
             "#bd3786"
            ],
            [
             0.5555555555555556,
             "#d8576b"
            ],
            [
             0.6666666666666666,
             "#ed7953"
            ],
            [
             0.7777777777777778,
             "#fb9f3a"
            ],
            [
             0.8888888888888888,
             "#fdca26"
            ],
            [
             1,
             "#f0f921"
            ]
           ]
          },
          "colorway": [
           "#636efa",
           "#EF553B",
           "#00cc96",
           "#ab63fa",
           "#FFA15A",
           "#19d3f3",
           "#FF6692",
           "#B6E880",
           "#FF97FF",
           "#FECB52"
          ],
          "font": {
           "color": "#2a3f5f"
          },
          "geo": {
           "bgcolor": "white",
           "lakecolor": "white",
           "landcolor": "#E5ECF6",
           "showlakes": true,
           "showland": true,
           "subunitcolor": "white"
          },
          "hoverlabel": {
           "align": "left"
          },
          "hovermode": "closest",
          "mapbox": {
           "style": "light"
          },
          "paper_bgcolor": "white",
          "plot_bgcolor": "#E5ECF6",
          "polar": {
           "angularaxis": {
            "gridcolor": "white",
            "linecolor": "white",
            "ticks": ""
           },
           "bgcolor": "#E5ECF6",
           "radialaxis": {
            "gridcolor": "white",
            "linecolor": "white",
            "ticks": ""
           }
          },
          "scene": {
           "xaxis": {
            "backgroundcolor": "#E5ECF6",
            "gridcolor": "white",
            "gridwidth": 2,
            "linecolor": "white",
            "showbackground": true,
            "ticks": "",
            "zerolinecolor": "white"
           },
           "yaxis": {
            "backgroundcolor": "#E5ECF6",
            "gridcolor": "white",
            "gridwidth": 2,
            "linecolor": "white",
            "showbackground": true,
            "ticks": "",
            "zerolinecolor": "white"
           },
           "zaxis": {
            "backgroundcolor": "#E5ECF6",
            "gridcolor": "white",
            "gridwidth": 2,
            "linecolor": "white",
            "showbackground": true,
            "ticks": "",
            "zerolinecolor": "white"
           }
          },
          "shapedefaults": {
           "line": {
            "color": "#2a3f5f"
           }
          },
          "ternary": {
           "aaxis": {
            "gridcolor": "white",
            "linecolor": "white",
            "ticks": ""
           },
           "baxis": {
            "gridcolor": "white",
            "linecolor": "white",
            "ticks": ""
           },
           "bgcolor": "#E5ECF6",
           "caxis": {
            "gridcolor": "white",
            "linecolor": "white",
            "ticks": ""
           }
          },
          "title": {
           "x": 0.05
          },
          "xaxis": {
           "automargin": true,
           "gridcolor": "white",
           "linecolor": "white",
           "ticks": "",
           "title": {
            "standoff": 15
           },
           "zerolinecolor": "white",
           "zerolinewidth": 2
          },
          "yaxis": {
           "automargin": true,
           "gridcolor": "white",
           "linecolor": "white",
           "ticks": "",
           "title": {
            "standoff": 15
           },
           "zerolinecolor": "white",
           "zerolinewidth": 2
          }
         }
        },
        "title": {
         "text": "Distribusi Top Performer Berdasarkan 10 Jurusan Teratas"
        },
        "xaxis": {
         "anchor": "y",
         "categoryorder": "total descending",
         "domain": [
          0,
          1
         ],
         "title": {
          "text": "Jurusan"
         }
        },
        "yaxis": {
         "anchor": "x",
         "domain": [
          0,
          1
         ],
         "title": {
          "text": "Persentase dalam Grup (%)"
         }
        }
       }
      }
     },
     "metadata": {},
     "output_type": "display_data"
    }
   ],
   "source": [
    "# Ganti nama kolom 'name' di tabel jurusan agar unik\n",
    "dim_majors_renamed = dfs['dim_majors'].rename(columns={'name': 'major_name'})\n",
    "df_major = pd.merge(df_main, dim_majors_renamed, on='major_id', how='left')\n",
    "\n",
    "# Ambil 10 jurusan paling umum\n",
    "top_10_majors = df_major['major_name'].value_counts().head(10).index \n",
    "df_major_filtered = df_major[df_major['major_name'].isin(top_10_majors)] \n",
    "\n",
    "# Bar chart\n",
    "fig_major = px.histogram(df_major_filtered,\n",
    "                         x='major_name', \n",
    "                         color='is_top_performer',\n",
    "                         barmode='group',\n",
    "                         histnorm='percent',\n",
    "                         title='Distribusi Top Performer Berdasarkan 10 Jurusan Teratas')\n",
    "fig_major.update_layout(yaxis_title=\"Persentase dalam Grup (%)\", xaxis_title=\"Jurusan\")\n",
    "fig_major.update_xaxes(categoryorder=\"total descending\")\n",
    "fig_major.show()"
   ]
  },
  {
   "cell_type": "markdown",
   "id": "678a864d",
   "metadata": {},
   "source": [
    "### Interpretasi"
   ]
  },
  {
   "cell_type": "markdown",
   "id": "e3596563",
   "metadata": {},
   "source": [
    "Analisis selanjutnya memperlihatkan apakah ada petunjuk dari latar belakang pendidikan para talenta terbaik kita. Grafik ini menunjukkan komposisi top performer di beberapa jurusan yang paling umum di perusahaan kita. Di sini, kita menemukan pola yang sangat jelas dan bisa langsung ditindaklanjuti. Lihatlah dua jurusan di sebelah kiri, Economics dan Engineering. Proporsi top performer (batang oranye) dari kedua jurusan ini secara signifikan lebih tinggi dibandingkan dengan proporsi mereka di populasi karyawan umum. Sebaliknya, pada jurusan seperti Psychology, trennya justru berbalik.\n",
    "\n",
    "Apa cerita di balik ini?\n",
    "\n",
    "Ini bukan berarti jurusan lain tidak baik. Namun, ini adalah bukti kuat bahwa **pola pikir analitis, terstruktur, dan berorientasi bisnis yang biasanya diasah di jurusan Ekonomi dan Teknik, tampaknya menjadi kunci sukses yang sangat efektif di lingkungan kerja kita**. Karyawan dengan latar belakang ini lebih sering mencapai kinerja puncak. Ini adalah wawasan yang sangat berharga untuk strategi rekrutmen kita ke depan. Temuan ini memberikan sinyal yang jelas bahwa kita harus lebih proaktif dalam mencari dan merekrut talenta-talenta terbaik dari fakultas Ekonomi dan Teknik, karena mereka telah terbukti memiliki profil yang paling sesuai untuk menjadi top performer di perusahaan kita."
   ]
  },
  {
   "cell_type": "markdown",
   "id": "06431d15",
   "metadata": {},
   "source": [
    "# Eksplorasi Pilar Kompetensi"
   ]
  },
  {
   "cell_type": "markdown",
   "id": "84350bba",
   "metadata": {},
   "source": [
    "## Perbandingan Profil Kompetensi"
   ]
  },
  {
   "cell_type": "code",
   "execution_count": 7,
   "id": "39564bfb",
   "metadata": {},
   "outputs": [
    {
     "data": {
      "application/vnd.plotly.v1+json": {
       "config": {
        "plotlyServerURL": "https://plot.ly"
       },
       "data": [
        {
         "fill": "toself",
         "name": "Top Performer",
         "r": [
          5.241830065359477,
          4.5394736842105265,
          4.548387096774194,
          4.550335570469799,
          4.535483870967742,
          4.5816993464052285,
          4.6918238993710695,
          5.234177215189874,
          5.10625,
          5.197452229299363
         ],
         "theta": [
          "Commercial Savvy & Impact",
          "Curiosity & Experimentation",
          "Forward Thinking & Clarity",
          "Growth Drive & Resilience",
          "Insight & Decision Sharpness",
          "Lead, Inspire & Empower",
          "Quality Delivery Discipline",
          "Social Empathy & Awareness",
          "Synergy & Team Orientation",
          "Value Creation for Users"
         ],
         "type": "scatterpolar"
        },
        {
         "fill": "toself",
         "name": "Karyawan Lainnya",
         "r": [
          3.2197149643705463,
          2.965962441314554,
          3.169600938967136,
          3.132748538011696,
          3.14,
          3.181925575900768,
          3.1621140142517814,
          2.9277745155607753,
          3.149761336515513,
          3.1755634638196915
         ],
         "theta": [
          "Commercial Savvy & Impact",
          "Curiosity & Experimentation",
          "Forward Thinking & Clarity",
          "Growth Drive & Resilience",
          "Insight & Decision Sharpness",
          "Lead, Inspire & Empower",
          "Quality Delivery Discipline",
          "Social Empathy & Awareness",
          "Synergy & Team Orientation",
          "Value Creation for Users"
         ],
         "type": "scatterpolar"
        }
       ],
       "layout": {
        "polar": {
         "radialaxis": {
          "range": [
           1,
           5
          ],
          "visible": true
         }
        },
        "template": {
         "data": {
          "bar": [
           {
            "error_x": {
             "color": "#2a3f5f"
            },
            "error_y": {
             "color": "#2a3f5f"
            },
            "marker": {
             "line": {
              "color": "#E5ECF6",
              "width": 0.5
             },
             "pattern": {
              "fillmode": "overlay",
              "size": 10,
              "solidity": 0.2
             }
            },
            "type": "bar"
           }
          ],
          "barpolar": [
           {
            "marker": {
             "line": {
              "color": "#E5ECF6",
              "width": 0.5
             },
             "pattern": {
              "fillmode": "overlay",
              "size": 10,
              "solidity": 0.2
             }
            },
            "type": "barpolar"
           }
          ],
          "carpet": [
           {
            "aaxis": {
             "endlinecolor": "#2a3f5f",
             "gridcolor": "white",
             "linecolor": "white",
             "minorgridcolor": "white",
             "startlinecolor": "#2a3f5f"
            },
            "baxis": {
             "endlinecolor": "#2a3f5f",
             "gridcolor": "white",
             "linecolor": "white",
             "minorgridcolor": "white",
             "startlinecolor": "#2a3f5f"
            },
            "type": "carpet"
           }
          ],
          "choropleth": [
           {
            "colorbar": {
             "outlinewidth": 0,
             "ticks": ""
            },
            "type": "choropleth"
           }
          ],
          "contour": [
           {
            "colorbar": {
             "outlinewidth": 0,
             "ticks": ""
            },
            "colorscale": [
             [
              0,
              "#0d0887"
             ],
             [
              0.1111111111111111,
              "#46039f"
             ],
             [
              0.2222222222222222,
              "#7201a8"
             ],
             [
              0.3333333333333333,
              "#9c179e"
             ],
             [
              0.4444444444444444,
              "#bd3786"
             ],
             [
              0.5555555555555556,
              "#d8576b"
             ],
             [
              0.6666666666666666,
              "#ed7953"
             ],
             [
              0.7777777777777778,
              "#fb9f3a"
             ],
             [
              0.8888888888888888,
              "#fdca26"
             ],
             [
              1,
              "#f0f921"
             ]
            ],
            "type": "contour"
           }
          ],
          "contourcarpet": [
           {
            "colorbar": {
             "outlinewidth": 0,
             "ticks": ""
            },
            "type": "contourcarpet"
           }
          ],
          "heatmap": [
           {
            "colorbar": {
             "outlinewidth": 0,
             "ticks": ""
            },
            "colorscale": [
             [
              0,
              "#0d0887"
             ],
             [
              0.1111111111111111,
              "#46039f"
             ],
             [
              0.2222222222222222,
              "#7201a8"
             ],
             [
              0.3333333333333333,
              "#9c179e"
             ],
             [
              0.4444444444444444,
              "#bd3786"
             ],
             [
              0.5555555555555556,
              "#d8576b"
             ],
             [
              0.6666666666666666,
              "#ed7953"
             ],
             [
              0.7777777777777778,
              "#fb9f3a"
             ],
             [
              0.8888888888888888,
              "#fdca26"
             ],
             [
              1,
              "#f0f921"
             ]
            ],
            "type": "heatmap"
           }
          ],
          "heatmapgl": [
           {
            "colorbar": {
             "outlinewidth": 0,
             "ticks": ""
            },
            "colorscale": [
             [
              0,
              "#0d0887"
             ],
             [
              0.1111111111111111,
              "#46039f"
             ],
             [
              0.2222222222222222,
              "#7201a8"
             ],
             [
              0.3333333333333333,
              "#9c179e"
             ],
             [
              0.4444444444444444,
              "#bd3786"
             ],
             [
              0.5555555555555556,
              "#d8576b"
             ],
             [
              0.6666666666666666,
              "#ed7953"
             ],
             [
              0.7777777777777778,
              "#fb9f3a"
             ],
             [
              0.8888888888888888,
              "#fdca26"
             ],
             [
              1,
              "#f0f921"
             ]
            ],
            "type": "heatmapgl"
           }
          ],
          "histogram": [
           {
            "marker": {
             "pattern": {
              "fillmode": "overlay",
              "size": 10,
              "solidity": 0.2
             }
            },
            "type": "histogram"
           }
          ],
          "histogram2d": [
           {
            "colorbar": {
             "outlinewidth": 0,
             "ticks": ""
            },
            "colorscale": [
             [
              0,
              "#0d0887"
             ],
             [
              0.1111111111111111,
              "#46039f"
             ],
             [
              0.2222222222222222,
              "#7201a8"
             ],
             [
              0.3333333333333333,
              "#9c179e"
             ],
             [
              0.4444444444444444,
              "#bd3786"
             ],
             [
              0.5555555555555556,
              "#d8576b"
             ],
             [
              0.6666666666666666,
              "#ed7953"
             ],
             [
              0.7777777777777778,
              "#fb9f3a"
             ],
             [
              0.8888888888888888,
              "#fdca26"
             ],
             [
              1,
              "#f0f921"
             ]
            ],
            "type": "histogram2d"
           }
          ],
          "histogram2dcontour": [
           {
            "colorbar": {
             "outlinewidth": 0,
             "ticks": ""
            },
            "colorscale": [
             [
              0,
              "#0d0887"
             ],
             [
              0.1111111111111111,
              "#46039f"
             ],
             [
              0.2222222222222222,
              "#7201a8"
             ],
             [
              0.3333333333333333,
              "#9c179e"
             ],
             [
              0.4444444444444444,
              "#bd3786"
             ],
             [
              0.5555555555555556,
              "#d8576b"
             ],
             [
              0.6666666666666666,
              "#ed7953"
             ],
             [
              0.7777777777777778,
              "#fb9f3a"
             ],
             [
              0.8888888888888888,
              "#fdca26"
             ],
             [
              1,
              "#f0f921"
             ]
            ],
            "type": "histogram2dcontour"
           }
          ],
          "mesh3d": [
           {
            "colorbar": {
             "outlinewidth": 0,
             "ticks": ""
            },
            "type": "mesh3d"
           }
          ],
          "parcoords": [
           {
            "line": {
             "colorbar": {
              "outlinewidth": 0,
              "ticks": ""
             }
            },
            "type": "parcoords"
           }
          ],
          "pie": [
           {
            "automargin": true,
            "type": "pie"
           }
          ],
          "scatter": [
           {
            "fillpattern": {
             "fillmode": "overlay",
             "size": 10,
             "solidity": 0.2
            },
            "type": "scatter"
           }
          ],
          "scatter3d": [
           {
            "line": {
             "colorbar": {
              "outlinewidth": 0,
              "ticks": ""
             }
            },
            "marker": {
             "colorbar": {
              "outlinewidth": 0,
              "ticks": ""
             }
            },
            "type": "scatter3d"
           }
          ],
          "scattercarpet": [
           {
            "marker": {
             "colorbar": {
              "outlinewidth": 0,
              "ticks": ""
             }
            },
            "type": "scattercarpet"
           }
          ],
          "scattergeo": [
           {
            "marker": {
             "colorbar": {
              "outlinewidth": 0,
              "ticks": ""
             }
            },
            "type": "scattergeo"
           }
          ],
          "scattergl": [
           {
            "marker": {
             "colorbar": {
              "outlinewidth": 0,
              "ticks": ""
             }
            },
            "type": "scattergl"
           }
          ],
          "scattermapbox": [
           {
            "marker": {
             "colorbar": {
              "outlinewidth": 0,
              "ticks": ""
             }
            },
            "type": "scattermapbox"
           }
          ],
          "scatterpolar": [
           {
            "marker": {
             "colorbar": {
              "outlinewidth": 0,
              "ticks": ""
             }
            },
            "type": "scatterpolar"
           }
          ],
          "scatterpolargl": [
           {
            "marker": {
             "colorbar": {
              "outlinewidth": 0,
              "ticks": ""
             }
            },
            "type": "scatterpolargl"
           }
          ],
          "scatterternary": [
           {
            "marker": {
             "colorbar": {
              "outlinewidth": 0,
              "ticks": ""
             }
            },
            "type": "scatterternary"
           }
          ],
          "surface": [
           {
            "colorbar": {
             "outlinewidth": 0,
             "ticks": ""
            },
            "colorscale": [
             [
              0,
              "#0d0887"
             ],
             [
              0.1111111111111111,
              "#46039f"
             ],
             [
              0.2222222222222222,
              "#7201a8"
             ],
             [
              0.3333333333333333,
              "#9c179e"
             ],
             [
              0.4444444444444444,
              "#bd3786"
             ],
             [
              0.5555555555555556,
              "#d8576b"
             ],
             [
              0.6666666666666666,
              "#ed7953"
             ],
             [
              0.7777777777777778,
              "#fb9f3a"
             ],
             [
              0.8888888888888888,
              "#fdca26"
             ],
             [
              1,
              "#f0f921"
             ]
            ],
            "type": "surface"
           }
          ],
          "table": [
           {
            "cells": {
             "fill": {
              "color": "#EBF0F8"
             },
             "line": {
              "color": "white"
             }
            },
            "header": {
             "fill": {
              "color": "#C8D4E3"
             },
             "line": {
              "color": "white"
             }
            },
            "type": "table"
           }
          ]
         },
         "layout": {
          "annotationdefaults": {
           "arrowcolor": "#2a3f5f",
           "arrowhead": 0,
           "arrowwidth": 1
          },
          "autotypenumbers": "strict",
          "coloraxis": {
           "colorbar": {
            "outlinewidth": 0,
            "ticks": ""
           }
          },
          "colorscale": {
           "diverging": [
            [
             0,
             "#8e0152"
            ],
            [
             0.1,
             "#c51b7d"
            ],
            [
             0.2,
             "#de77ae"
            ],
            [
             0.3,
             "#f1b6da"
            ],
            [
             0.4,
             "#fde0ef"
            ],
            [
             0.5,
             "#f7f7f7"
            ],
            [
             0.6,
             "#e6f5d0"
            ],
            [
             0.7,
             "#b8e186"
            ],
            [
             0.8,
             "#7fbc41"
            ],
            [
             0.9,
             "#4d9221"
            ],
            [
             1,
             "#276419"
            ]
           ],
           "sequential": [
            [
             0,
             "#0d0887"
            ],
            [
             0.1111111111111111,
             "#46039f"
            ],
            [
             0.2222222222222222,
             "#7201a8"
            ],
            [
             0.3333333333333333,
             "#9c179e"
            ],
            [
             0.4444444444444444,
             "#bd3786"
            ],
            [
             0.5555555555555556,
             "#d8576b"
            ],
            [
             0.6666666666666666,
             "#ed7953"
            ],
            [
             0.7777777777777778,
             "#fb9f3a"
            ],
            [
             0.8888888888888888,
             "#fdca26"
            ],
            [
             1,
             "#f0f921"
            ]
           ],
           "sequentialminus": [
            [
             0,
             "#0d0887"
            ],
            [
             0.1111111111111111,
             "#46039f"
            ],
            [
             0.2222222222222222,
             "#7201a8"
            ],
            [
             0.3333333333333333,
             "#9c179e"
            ],
            [
             0.4444444444444444,
             "#bd3786"
            ],
            [
             0.5555555555555556,
             "#d8576b"
            ],
            [
             0.6666666666666666,
             "#ed7953"
            ],
            [
             0.7777777777777778,
             "#fb9f3a"
            ],
            [
             0.8888888888888888,
             "#fdca26"
            ],
            [
             1,
             "#f0f921"
            ]
           ]
          },
          "colorway": [
           "#636efa",
           "#EF553B",
           "#00cc96",
           "#ab63fa",
           "#FFA15A",
           "#19d3f3",
           "#FF6692",
           "#B6E880",
           "#FF97FF",
           "#FECB52"
          ],
          "font": {
           "color": "#2a3f5f"
          },
          "geo": {
           "bgcolor": "white",
           "lakecolor": "white",
           "landcolor": "#E5ECF6",
           "showlakes": true,
           "showland": true,
           "subunitcolor": "white"
          },
          "hoverlabel": {
           "align": "left"
          },
          "hovermode": "closest",
          "mapbox": {
           "style": "light"
          },
          "paper_bgcolor": "white",
          "plot_bgcolor": "#E5ECF6",
          "polar": {
           "angularaxis": {
            "gridcolor": "white",
            "linecolor": "white",
            "ticks": ""
           },
           "bgcolor": "#E5ECF6",
           "radialaxis": {
            "gridcolor": "white",
            "linecolor": "white",
            "ticks": ""
           }
          },
          "scene": {
           "xaxis": {
            "backgroundcolor": "#E5ECF6",
            "gridcolor": "white",
            "gridwidth": 2,
            "linecolor": "white",
            "showbackground": true,
            "ticks": "",
            "zerolinecolor": "white"
           },
           "yaxis": {
            "backgroundcolor": "#E5ECF6",
            "gridcolor": "white",
            "gridwidth": 2,
            "linecolor": "white",
            "showbackground": true,
            "ticks": "",
            "zerolinecolor": "white"
           },
           "zaxis": {
            "backgroundcolor": "#E5ECF6",
            "gridcolor": "white",
            "gridwidth": 2,
            "linecolor": "white",
            "showbackground": true,
            "ticks": "",
            "zerolinecolor": "white"
           }
          },
          "shapedefaults": {
           "line": {
            "color": "#2a3f5f"
           }
          },
          "ternary": {
           "aaxis": {
            "gridcolor": "white",
            "linecolor": "white",
            "ticks": ""
           },
           "baxis": {
            "gridcolor": "white",
            "linecolor": "white",
            "ticks": ""
           },
           "bgcolor": "#E5ECF6",
           "caxis": {
            "gridcolor": "white",
            "linecolor": "white",
            "ticks": ""
           }
          },
          "title": {
           "x": 0.05
          },
          "xaxis": {
           "automargin": true,
           "gridcolor": "white",
           "linecolor": "white",
           "ticks": "",
           "title": {
            "standoff": 15
           },
           "zerolinecolor": "white",
           "zerolinewidth": 2
          },
          "yaxis": {
           "automargin": true,
           "gridcolor": "white",
           "linecolor": "white",
           "ticks": "",
           "title": {
            "standoff": 15
           },
           "zerolinecolor": "white",
           "zerolinewidth": 2
          }
         }
        },
        "title": {
         "text": "Perbandingan Profil Kompetensi: Top Performer vs. Lainnya"
        }
       }
      }
     },
     "metadata": {},
     "output_type": "display_data"
    }
   ],
   "source": [
    "# Di sini, kita ingin membandingkan profil kompetensi kedua grup secara menyeluruh.\n",
    "\n",
    "# Menyiapkan data kompetensi terbaru\n",
    "comp_data = (\n",
    "    dfs['competencies_yearly']\n",
    "    .query(f\"year == {dfs['competencies_yearly']['year'].max()}\")\n",
    "    .merge(dfs['dim_competency_pillars'], on='pillar_code')\n",
    "    .merge(df_main[['employee_id', 'is_top_performer']], on='employee_id')\n",
    ")\n",
    "\n",
    "# Menghitung rata-rata skor per pilar untuk setiap grup\n",
    "comp_avg = comp_data.groupby(['pillar_label', 'is_top_performer'])['score'].mean().unstack()\n",
    "\n",
    "# Radar Chart\n",
    "fig_comp = go.Figure()\n",
    "\n",
    "fig_comp.add_trace(go.Scatterpolar(\n",
    "    r=comp_avg[True],\n",
    "    theta=comp_avg.index,\n",
    "    fill='toself',\n",
    "    name='Top Performer'\n",
    "))\n",
    "fig_comp.add_trace(go.Scatterpolar(\n",
    "    r=comp_avg[False],\n",
    "    theta=comp_avg.index,\n",
    "    fill='toself',\n",
    "    name='Karyawan Lainnya'\n",
    "))\n",
    "\n",
    "fig_comp.update_layout(\n",
    "    title='Perbandingan Profil Kompetensi: Top Performer vs. Lainnya',\n",
    "    polar=dict(radialaxis=dict(visible=True, range=[1, 5]))\n",
    ")\n",
    "fig_comp.show()"
   ]
  },
  {
   "cell_type": "markdown",
   "id": "b58e06ac",
   "metadata": {},
   "source": [
    "### Interpretasi"
   ]
  },
  {
   "cell_type": "markdown",
   "id": "4f203cac",
   "metadata": {},
   "source": [
    "Baik, setelah kita melihat faktor seperti jabatan, pengalaman, departemen, dan jurusan, sekarang kita masuk ke area yang paling krusial kompetensi. Pertanyaannya, apakah top performer kita memiliki profil keahlian yang berbeda?\n",
    "\n",
    "Radar chart yang tertampil memetakan profil kompetensi rata-rata dari kedua grup. Area biru merepresentasikan top performer, dan area merah adalah karyawan lainnya. Hal pertama yang langsung terlihat sangat jelas adalah area biru jauh lebih luas. Ini adalah bukti visual yang kuat bahwa **top performer kita unggul secara menyeluruh di semua pilar kompetensi yang kita ukur.**"
   ]
  },
  {
   "cell_type": "markdown",
   "id": "d0e51d82",
   "metadata": {},
   "source": [
    "## Kesenjangan Skor Kompetensi"
   ]
  },
  {
   "cell_type": "code",
   "execution_count": 8,
   "id": "0588ede3",
   "metadata": {},
   "outputs": [
    {
     "data": {
      "application/vnd.plotly.v1+json": {
       "config": {
        "plotlyServerURL": "https://plot.ly"
       },
       "data": [
        {
         "alignmentgroup": "True",
         "hovertemplate": "Pilar Kompetensi=%{x}<br>Selisih Skor Rata-rata=%{y}<extra></extra>",
         "legendgroup": "",
         "marker": {
          "color": "#636efa",
          "pattern": {
           "shape": ""
          }
         },
         "name": "",
         "offsetgroup": "",
         "orientation": "v",
         "showlegend": false,
         "textposition": "auto",
         "texttemplate": "%{y:.2f}",
         "type": "bar",
         "x": [
          "Social Empathy & Awareness",
          "Commercial Savvy & Impact",
          "Value Creation for Users",
          "Synergy & Team Orientation",
          "Curiosity & Experimentation",
          "Quality Delivery Discipline",
          "Growth Drive & Resilience",
          "Lead, Inspire & Empower",
          "Insight & Decision Sharpness",
          "Forward Thinking & Clarity"
         ],
         "xaxis": "x",
         "y": [
          2.3064026996290985,
          2.022115100988931,
          2.0218887654796713,
          1.9564886634844871,
          1.5735112428959726,
          1.529709885119288,
          1.417587032458103,
          1.3997737705044604,
          1.3954838709677415,
          1.378786157807058
         ],
         "yaxis": "y"
        }
       ],
       "layout": {
        "barmode": "relative",
        "legend": {
         "tracegroupgap": 0
        },
        "template": {
         "data": {
          "bar": [
           {
            "error_x": {
             "color": "#2a3f5f"
            },
            "error_y": {
             "color": "#2a3f5f"
            },
            "marker": {
             "line": {
              "color": "#E5ECF6",
              "width": 0.5
             },
             "pattern": {
              "fillmode": "overlay",
              "size": 10,
              "solidity": 0.2
             }
            },
            "type": "bar"
           }
          ],
          "barpolar": [
           {
            "marker": {
             "line": {
              "color": "#E5ECF6",
              "width": 0.5
             },
             "pattern": {
              "fillmode": "overlay",
              "size": 10,
              "solidity": 0.2
             }
            },
            "type": "barpolar"
           }
          ],
          "carpet": [
           {
            "aaxis": {
             "endlinecolor": "#2a3f5f",
             "gridcolor": "white",
             "linecolor": "white",
             "minorgridcolor": "white",
             "startlinecolor": "#2a3f5f"
            },
            "baxis": {
             "endlinecolor": "#2a3f5f",
             "gridcolor": "white",
             "linecolor": "white",
             "minorgridcolor": "white",
             "startlinecolor": "#2a3f5f"
            },
            "type": "carpet"
           }
          ],
          "choropleth": [
           {
            "colorbar": {
             "outlinewidth": 0,
             "ticks": ""
            },
            "type": "choropleth"
           }
          ],
          "contour": [
           {
            "colorbar": {
             "outlinewidth": 0,
             "ticks": ""
            },
            "colorscale": [
             [
              0,
              "#0d0887"
             ],
             [
              0.1111111111111111,
              "#46039f"
             ],
             [
              0.2222222222222222,
              "#7201a8"
             ],
             [
              0.3333333333333333,
              "#9c179e"
             ],
             [
              0.4444444444444444,
              "#bd3786"
             ],
             [
              0.5555555555555556,
              "#d8576b"
             ],
             [
              0.6666666666666666,
              "#ed7953"
             ],
             [
              0.7777777777777778,
              "#fb9f3a"
             ],
             [
              0.8888888888888888,
              "#fdca26"
             ],
             [
              1,
              "#f0f921"
             ]
            ],
            "type": "contour"
           }
          ],
          "contourcarpet": [
           {
            "colorbar": {
             "outlinewidth": 0,
             "ticks": ""
            },
            "type": "contourcarpet"
           }
          ],
          "heatmap": [
           {
            "colorbar": {
             "outlinewidth": 0,
             "ticks": ""
            },
            "colorscale": [
             [
              0,
              "#0d0887"
             ],
             [
              0.1111111111111111,
              "#46039f"
             ],
             [
              0.2222222222222222,
              "#7201a8"
             ],
             [
              0.3333333333333333,
              "#9c179e"
             ],
             [
              0.4444444444444444,
              "#bd3786"
             ],
             [
              0.5555555555555556,
              "#d8576b"
             ],
             [
              0.6666666666666666,
              "#ed7953"
             ],
             [
              0.7777777777777778,
              "#fb9f3a"
             ],
             [
              0.8888888888888888,
              "#fdca26"
             ],
             [
              1,
              "#f0f921"
             ]
            ],
            "type": "heatmap"
           }
          ],
          "heatmapgl": [
           {
            "colorbar": {
             "outlinewidth": 0,
             "ticks": ""
            },
            "colorscale": [
             [
              0,
              "#0d0887"
             ],
             [
              0.1111111111111111,
              "#46039f"
             ],
             [
              0.2222222222222222,
              "#7201a8"
             ],
             [
              0.3333333333333333,
              "#9c179e"
             ],
             [
              0.4444444444444444,
              "#bd3786"
             ],
             [
              0.5555555555555556,
              "#d8576b"
             ],
             [
              0.6666666666666666,
              "#ed7953"
             ],
             [
              0.7777777777777778,
              "#fb9f3a"
             ],
             [
              0.8888888888888888,
              "#fdca26"
             ],
             [
              1,
              "#f0f921"
             ]
            ],
            "type": "heatmapgl"
           }
          ],
          "histogram": [
           {
            "marker": {
             "pattern": {
              "fillmode": "overlay",
              "size": 10,
              "solidity": 0.2
             }
            },
            "type": "histogram"
           }
          ],
          "histogram2d": [
           {
            "colorbar": {
             "outlinewidth": 0,
             "ticks": ""
            },
            "colorscale": [
             [
              0,
              "#0d0887"
             ],
             [
              0.1111111111111111,
              "#46039f"
             ],
             [
              0.2222222222222222,
              "#7201a8"
             ],
             [
              0.3333333333333333,
              "#9c179e"
             ],
             [
              0.4444444444444444,
              "#bd3786"
             ],
             [
              0.5555555555555556,
              "#d8576b"
             ],
             [
              0.6666666666666666,
              "#ed7953"
             ],
             [
              0.7777777777777778,
              "#fb9f3a"
             ],
             [
              0.8888888888888888,
              "#fdca26"
             ],
             [
              1,
              "#f0f921"
             ]
            ],
            "type": "histogram2d"
           }
          ],
          "histogram2dcontour": [
           {
            "colorbar": {
             "outlinewidth": 0,
             "ticks": ""
            },
            "colorscale": [
             [
              0,
              "#0d0887"
             ],
             [
              0.1111111111111111,
              "#46039f"
             ],
             [
              0.2222222222222222,
              "#7201a8"
             ],
             [
              0.3333333333333333,
              "#9c179e"
             ],
             [
              0.4444444444444444,
              "#bd3786"
             ],
             [
              0.5555555555555556,
              "#d8576b"
             ],
             [
              0.6666666666666666,
              "#ed7953"
             ],
             [
              0.7777777777777778,
              "#fb9f3a"
             ],
             [
              0.8888888888888888,
              "#fdca26"
             ],
             [
              1,
              "#f0f921"
             ]
            ],
            "type": "histogram2dcontour"
           }
          ],
          "mesh3d": [
           {
            "colorbar": {
             "outlinewidth": 0,
             "ticks": ""
            },
            "type": "mesh3d"
           }
          ],
          "parcoords": [
           {
            "line": {
             "colorbar": {
              "outlinewidth": 0,
              "ticks": ""
             }
            },
            "type": "parcoords"
           }
          ],
          "pie": [
           {
            "automargin": true,
            "type": "pie"
           }
          ],
          "scatter": [
           {
            "fillpattern": {
             "fillmode": "overlay",
             "size": 10,
             "solidity": 0.2
            },
            "type": "scatter"
           }
          ],
          "scatter3d": [
           {
            "line": {
             "colorbar": {
              "outlinewidth": 0,
              "ticks": ""
             }
            },
            "marker": {
             "colorbar": {
              "outlinewidth": 0,
              "ticks": ""
             }
            },
            "type": "scatter3d"
           }
          ],
          "scattercarpet": [
           {
            "marker": {
             "colorbar": {
              "outlinewidth": 0,
              "ticks": ""
             }
            },
            "type": "scattercarpet"
           }
          ],
          "scattergeo": [
           {
            "marker": {
             "colorbar": {
              "outlinewidth": 0,
              "ticks": ""
             }
            },
            "type": "scattergeo"
           }
          ],
          "scattergl": [
           {
            "marker": {
             "colorbar": {
              "outlinewidth": 0,
              "ticks": ""
             }
            },
            "type": "scattergl"
           }
          ],
          "scattermapbox": [
           {
            "marker": {
             "colorbar": {
              "outlinewidth": 0,
              "ticks": ""
             }
            },
            "type": "scattermapbox"
           }
          ],
          "scatterpolar": [
           {
            "marker": {
             "colorbar": {
              "outlinewidth": 0,
              "ticks": ""
             }
            },
            "type": "scatterpolar"
           }
          ],
          "scatterpolargl": [
           {
            "marker": {
             "colorbar": {
              "outlinewidth": 0,
              "ticks": ""
             }
            },
            "type": "scatterpolargl"
           }
          ],
          "scatterternary": [
           {
            "marker": {
             "colorbar": {
              "outlinewidth": 0,
              "ticks": ""
             }
            },
            "type": "scatterternary"
           }
          ],
          "surface": [
           {
            "colorbar": {
             "outlinewidth": 0,
             "ticks": ""
            },
            "colorscale": [
             [
              0,
              "#0d0887"
             ],
             [
              0.1111111111111111,
              "#46039f"
             ],
             [
              0.2222222222222222,
              "#7201a8"
             ],
             [
              0.3333333333333333,
              "#9c179e"
             ],
             [
              0.4444444444444444,
              "#bd3786"
             ],
             [
              0.5555555555555556,
              "#d8576b"
             ],
             [
              0.6666666666666666,
              "#ed7953"
             ],
             [
              0.7777777777777778,
              "#fb9f3a"
             ],
             [
              0.8888888888888888,
              "#fdca26"
             ],
             [
              1,
              "#f0f921"
             ]
            ],
            "type": "surface"
           }
          ],
          "table": [
           {
            "cells": {
             "fill": {
              "color": "#EBF0F8"
             },
             "line": {
              "color": "white"
             }
            },
            "header": {
             "fill": {
              "color": "#C8D4E3"
             },
             "line": {
              "color": "white"
             }
            },
            "type": "table"
           }
          ]
         },
         "layout": {
          "annotationdefaults": {
           "arrowcolor": "#2a3f5f",
           "arrowhead": 0,
           "arrowwidth": 1
          },
          "autotypenumbers": "strict",
          "coloraxis": {
           "colorbar": {
            "outlinewidth": 0,
            "ticks": ""
           }
          },
          "colorscale": {
           "diverging": [
            [
             0,
             "#8e0152"
            ],
            [
             0.1,
             "#c51b7d"
            ],
            [
             0.2,
             "#de77ae"
            ],
            [
             0.3,
             "#f1b6da"
            ],
            [
             0.4,
             "#fde0ef"
            ],
            [
             0.5,
             "#f7f7f7"
            ],
            [
             0.6,
             "#e6f5d0"
            ],
            [
             0.7,
             "#b8e186"
            ],
            [
             0.8,
             "#7fbc41"
            ],
            [
             0.9,
             "#4d9221"
            ],
            [
             1,
             "#276419"
            ]
           ],
           "sequential": [
            [
             0,
             "#0d0887"
            ],
            [
             0.1111111111111111,
             "#46039f"
            ],
            [
             0.2222222222222222,
             "#7201a8"
            ],
            [
             0.3333333333333333,
             "#9c179e"
            ],
            [
             0.4444444444444444,
             "#bd3786"
            ],
            [
             0.5555555555555556,
             "#d8576b"
            ],
            [
             0.6666666666666666,
             "#ed7953"
            ],
            [
             0.7777777777777778,
             "#fb9f3a"
            ],
            [
             0.8888888888888888,
             "#fdca26"
            ],
            [
             1,
             "#f0f921"
            ]
           ],
           "sequentialminus": [
            [
             0,
             "#0d0887"
            ],
            [
             0.1111111111111111,
             "#46039f"
            ],
            [
             0.2222222222222222,
             "#7201a8"
            ],
            [
             0.3333333333333333,
             "#9c179e"
            ],
            [
             0.4444444444444444,
             "#bd3786"
            ],
            [
             0.5555555555555556,
             "#d8576b"
            ],
            [
             0.6666666666666666,
             "#ed7953"
            ],
            [
             0.7777777777777778,
             "#fb9f3a"
            ],
            [
             0.8888888888888888,
             "#fdca26"
            ],
            [
             1,
             "#f0f921"
            ]
           ]
          },
          "colorway": [
           "#636efa",
           "#EF553B",
           "#00cc96",
           "#ab63fa",
           "#FFA15A",
           "#19d3f3",
           "#FF6692",
           "#B6E880",
           "#FF97FF",
           "#FECB52"
          ],
          "font": {
           "color": "#2a3f5f"
          },
          "geo": {
           "bgcolor": "white",
           "lakecolor": "white",
           "landcolor": "#E5ECF6",
           "showlakes": true,
           "showland": true,
           "subunitcolor": "white"
          },
          "hoverlabel": {
           "align": "left"
          },
          "hovermode": "closest",
          "mapbox": {
           "style": "light"
          },
          "paper_bgcolor": "white",
          "plot_bgcolor": "#E5ECF6",
          "polar": {
           "angularaxis": {
            "gridcolor": "white",
            "linecolor": "white",
            "ticks": ""
           },
           "bgcolor": "#E5ECF6",
           "radialaxis": {
            "gridcolor": "white",
            "linecolor": "white",
            "ticks": ""
           }
          },
          "scene": {
           "xaxis": {
            "backgroundcolor": "#E5ECF6",
            "gridcolor": "white",
            "gridwidth": 2,
            "linecolor": "white",
            "showbackground": true,
            "ticks": "",
            "zerolinecolor": "white"
           },
           "yaxis": {
            "backgroundcolor": "#E5ECF6",
            "gridcolor": "white",
            "gridwidth": 2,
            "linecolor": "white",
            "showbackground": true,
            "ticks": "",
            "zerolinecolor": "white"
           },
           "zaxis": {
            "backgroundcolor": "#E5ECF6",
            "gridcolor": "white",
            "gridwidth": 2,
            "linecolor": "white",
            "showbackground": true,
            "ticks": "",
            "zerolinecolor": "white"
           }
          },
          "shapedefaults": {
           "line": {
            "color": "#2a3f5f"
           }
          },
          "ternary": {
           "aaxis": {
            "gridcolor": "white",
            "linecolor": "white",
            "ticks": ""
           },
           "baxis": {
            "gridcolor": "white",
            "linecolor": "white",
            "ticks": ""
           },
           "bgcolor": "#E5ECF6",
           "caxis": {
            "gridcolor": "white",
            "linecolor": "white",
            "ticks": ""
           }
          },
          "title": {
           "x": 0.05
          },
          "xaxis": {
           "automargin": true,
           "gridcolor": "white",
           "linecolor": "white",
           "ticks": "",
           "title": {
            "standoff": 15
           },
           "zerolinecolor": "white",
           "zerolinewidth": 2
          },
          "yaxis": {
           "automargin": true,
           "gridcolor": "white",
           "linecolor": "white",
           "ticks": "",
           "title": {
            "standoff": 15
           },
           "zerolinecolor": "white",
           "zerolinewidth": 2
          }
         }
        },
        "title": {
         "text": "Kesenjangan Skor Kompetensi (Top Performer vs. Lainnya)"
        },
        "xaxis": {
         "anchor": "y",
         "domain": [
          0,
          1
         ],
         "title": {
          "text": ""
         }
        },
        "yaxis": {
         "anchor": "x",
         "domain": [
          0,
          1
         ],
         "title": {
          "text": "Kesenjangan Skor"
         }
        }
       }
      }
     },
     "metadata": {},
     "output_type": "display_data"
    }
   ],
   "source": [
    "# Untuk memperjelas di mana letak perbedaan terbesar, kita akan menghitung selisih skor rata-rata antara Top Performer dan Karyawan Lainnya.\n",
    "\n",
    "# Mengitung selisih skor dan buat kolom baru\n",
    "comp_avg['selisih_skor'] = comp_avg[True] - comp_avg[False]\n",
    "\n",
    "# Mengurutkan berdasarkan selisih terbesar agar ceritanya lebih jelas\n",
    "df_selisih = comp_avg.sort_values(by='selisih_skor', ascending=False).reset_index()\n",
    "\n",
    "# Bar chart untuk menampilkan selisih tersebut\n",
    "fig_gap = px.bar(df_selisih,\n",
    "                 x='pillar_label',\n",
    "                 y='selisih_skor',\n",
    "                 title='Kesenjangan Skor Kompetensi (Top Performer vs. Lainnya)',\n",
    "                 labels={'pillar_label': 'Pilar Kompetensi', 'selisih_skor': 'Selisih Skor Rata-rata'},\n",
    "                 text_auto='.2f')\n",
    "\n",
    "fig_gap.update_layout(xaxis_title=\"\", yaxis_title=\"Kesenjangan Skor\")\n",
    "fig_gap.show()"
   ]
  },
  {
   "cell_type": "markdown",
   "id": "041086fd",
   "metadata": {},
   "source": [
    "### Interpretasi"
   ]
  },
  {
   "cell_type": "markdown",
   "id": "79426e35",
   "metadata": {},
   "source": [
    "Radar chart sebelumnya sudah memberi kita gambaran umum bahwa top performer unggul di semua lini. Sekarang, mari kita bedah lebih dalam. Grafik di hadapan kita ini secara spesifik mengukur seberapa besar kesenjangan skor antara top performer dan karyawan lainnya, dan hasilnya sangat mencerahkan. Temuan yang paling menonjol dan mungkin sedikit mengejutkan adalah pilar dengan gap tertinggi bukanlah murni soal strategi atau kepemimpinan, melainkan 'Social Empathy & Awareness'.\n",
    "\n",
    "Apa cerita di balik ini?\n",
    "\n",
    "Ini menunjukkan bahwa kemampuan untuk \"membaca situasi\", memahami dinamika tim, dan berempati dengan kebutuhan rekan kerja serta stakeholder adalah pembeda paling fundamental. Diikuti oleh 'Commercial Savvy & Impact' dan 'Value Creation for Users', yang keduanya sangat berorientasi pada hasil bisnis dan kepuasan pelanggan. Jadi, temuan kunci dari analisis ini adalah: **resep rahasia talenta terbaik kita bukanlah sekadar kemampuan teknis, melainkan kombinasi dari kecerdasan sosial, wawasan bisnis, dan fokus pada pelanggan**.\n",
    "\n",
    "Ini bukan lagi sekadar data, ini adalah peta jalan yang sangat jelas. Jika kita ingin \"mencetak\" lebih banyak top performer, kita harus memfokuskan investasi, pelatihan, dan program pengembangan kita pada ketiga area krusial ini. Inilah yang benar-benar memisahkan karyawan yang 'baik' dari mereka yang 'luar biasa' di perusahaan kita."
   ]
  },
  {
   "cell_type": "markdown",
   "id": "aa7f03b9",
   "metadata": {},
   "source": [
    "# Eksplorasi Faktor Psikometri"
   ]
  },
  {
   "cell_type": "markdown",
   "id": "27482773",
   "metadata": {},
   "source": [
    "## Perbandingan Skor IQ"
   ]
  },
  {
   "cell_type": "code",
   "execution_count": 9,
   "id": "e70ee1ef",
   "metadata": {},
   "outputs": [
    {
     "data": {
      "application/vnd.plotly.v1+json": {
       "config": {
        "plotlyServerURL": "https://plot.ly"
       },
       "data": [
        {
         "alignmentgroup": "True",
         "boxpoints": "all",
         "hovertemplate": "is_top_performer=%{x}<br>iq=%{y}<extra></extra>",
         "legendgroup": "False",
         "marker": {
          "color": "#636efa"
         },
         "name": "False",
         "notched": false,
         "offsetgroup": "False",
         "orientation": "v",
         "showlegend": true,
         "type": "box",
         "x": [
          false,
          false,
          false,
          false,
          false,
          false,
          false,
          false,
          false,
          false,
          false,
          false,
          false,
          false,
          false,
          false,
          false,
          false,
          false,
          false,
          false,
          false,
          false,
          false,
          false,
          false,
          false,
          false,
          false,
          false,
          false,
          false,
          false,
          false,
          false,
          false,
          false,
          false,
          false,
          false,
          false,
          false,
          false,
          false,
          false,
          false,
          false,
          false,
          false,
          false,
          false,
          false,
          false,
          false,
          false,
          false,
          false,
          false,
          false,
          false,
          false,
          false,
          false,
          false,
          false,
          false,
          false,
          false,
          false,
          false,
          false,
          false,
          false,
          false,
          false,
          false,
          false,
          false,
          false,
          false,
          false,
          false,
          false,
          false,
          false,
          false,
          false,
          false,
          false,
          false,
          false,
          false,
          false,
          false,
          false,
          false,
          false,
          false,
          false,
          false,
          false,
          false,
          false,
          false,
          false,
          false,
          false,
          false,
          false,
          false,
          false,
          false,
          false,
          false,
          false,
          false,
          false,
          false,
          false,
          false,
          false,
          false,
          false,
          false,
          false,
          false,
          false,
          false,
          false,
          false,
          false,
          false,
          false,
          false,
          false,
          false,
          false,
          false,
          false,
          false,
          false,
          false,
          false,
          false,
          false,
          false,
          false,
          false,
          false,
          false,
          false,
          false,
          false,
          false,
          false,
          false,
          false,
          false,
          false,
          false,
          false,
          false,
          false,
          false,
          false,
          false,
          false,
          false,
          false,
          false,
          false,
          false,
          false,
          false,
          false,
          false,
          false,
          false,
          false,
          false,
          false,
          false,
          false,
          false,
          false,
          false,
          false,
          false,
          false,
          false,
          false,
          false,
          false,
          false,
          false,
          false,
          false,
          false,
          false,
          false,
          false,
          false,
          false,
          false,
          false,
          false,
          false,
          false,
          false,
          false,
          false,
          false,
          false,
          false,
          false,
          false,
          false,
          false,
          false,
          false,
          false,
          false,
          false,
          false,
          false,
          false,
          false,
          false,
          false,
          false,
          false,
          false,
          false,
          false,
          false,
          false,
          false,
          false,
          false,
          false,
          false,
          false,
          false,
          false,
          false,
          false,
          false,
          false,
          false,
          false,
          false,
          false,
          false,
          false,
          false,
          false,
          false,
          false,
          false,
          false,
          false,
          false,
          false,
          false,
          false,
          false,
          false,
          false,
          false,
          false,
          false,
          false,
          false,
          false,
          false,
          false,
          false,
          false,
          false,
          false,
          false,
          false,
          false,
          false,
          false,
          false,
          false,
          false,
          false,
          false,
          false,
          false,
          false,
          false,
          false,
          false,
          false,
          false,
          false,
          false,
          false,
          false,
          false,
          false,
          false,
          false,
          false,
          false,
          false,
          false,
          false,
          false,
          false,
          false,
          false,
          false,
          false,
          false,
          false,
          false,
          false,
          false,
          false,
          false,
          false,
          false,
          false,
          false,
          false,
          false,
          false,
          false,
          false,
          false,
          false,
          false,
          false,
          false,
          false,
          false,
          false,
          false,
          false,
          false,
          false,
          false,
          false,
          false,
          false,
          false,
          false,
          false,
          false,
          false,
          false,
          false,
          false,
          false,
          false,
          false,
          false,
          false,
          false,
          false,
          false,
          false,
          false,
          false,
          false,
          false,
          false,
          false,
          false,
          false,
          false,
          false,
          false,
          false,
          false,
          false,
          false,
          false,
          false,
          false,
          false,
          false,
          false,
          false,
          false,
          false,
          false,
          false,
          false,
          false,
          false,
          false,
          false,
          false,
          false,
          false,
          false,
          false,
          false,
          false,
          false,
          false,
          false,
          false,
          false,
          false,
          false,
          false,
          false,
          false,
          false,
          false,
          false,
          false,
          false,
          false,
          false,
          false,
          false,
          false,
          false,
          false,
          false,
          false,
          false,
          false,
          false,
          false,
          false,
          false,
          false,
          false,
          false,
          false,
          false,
          false,
          false,
          false,
          false,
          false,
          false,
          false,
          false,
          false,
          false,
          false,
          false,
          false,
          false,
          false,
          false,
          false,
          false,
          false,
          false,
          false,
          false,
          false,
          false,
          false,
          false,
          false,
          false,
          false,
          false,
          false,
          false,
          false,
          false,
          false,
          false,
          false,
          false,
          false,
          false,
          false,
          false,
          false,
          false,
          false,
          false,
          false,
          false,
          false,
          false,
          false,
          false,
          false,
          false,
          false,
          false,
          false,
          false,
          false,
          false,
          false,
          false,
          false,
          false,
          false,
          false,
          false,
          false,
          false,
          false,
          false,
          false,
          false,
          false,
          false,
          false,
          false,
          false,
          false,
          false,
          false,
          false,
          false,
          false,
          false,
          false,
          false,
          false,
          false,
          false,
          false,
          false,
          false,
          false,
          false,
          false,
          false,
          false,
          false,
          false,
          false,
          false,
          false,
          false,
          false,
          false,
          false,
          false,
          false,
          false,
          false,
          false,
          false,
          false,
          false,
          false,
          false,
          false,
          false,
          false,
          false,
          false,
          false,
          false,
          false,
          false,
          false,
          false,
          false,
          false,
          false,
          false,
          false,
          false,
          false,
          false,
          false,
          false,
          false,
          false,
          false,
          false,
          false,
          false,
          false,
          false,
          false,
          false,
          false,
          false,
          false,
          false,
          false,
          false,
          false,
          false,
          false,
          false,
          false,
          false,
          false,
          false,
          false,
          false,
          false,
          false,
          false,
          false,
          false,
          false,
          false,
          false,
          false,
          false,
          false,
          false,
          false,
          false,
          false,
          false,
          false,
          false,
          false,
          false,
          false,
          false,
          false,
          false,
          false,
          false,
          false,
          false,
          false,
          false,
          false,
          false,
          false,
          false,
          false,
          false,
          false,
          false,
          false,
          false,
          false,
          false,
          false,
          false,
          false,
          false,
          false,
          false,
          false,
          false,
          false,
          false,
          false,
          false,
          false,
          false,
          false,
          false,
          false,
          false,
          false,
          false,
          false,
          false,
          false,
          false,
          false,
          false,
          false,
          false,
          false,
          false,
          false,
          false,
          false,
          false,
          false,
          false,
          false,
          false,
          false,
          false,
          false,
          false,
          false,
          false,
          false,
          false,
          false,
          false,
          false,
          false,
          false,
          false,
          false,
          false,
          false,
          false,
          false,
          false,
          false,
          false,
          false,
          false,
          false,
          false,
          false,
          false,
          false,
          false,
          false,
          false,
          false,
          false,
          false,
          false,
          false,
          false,
          false,
          false,
          false,
          false,
          false,
          false,
          false,
          false,
          false,
          false,
          false,
          false,
          false,
          false,
          false,
          false,
          false,
          false,
          false,
          false,
          false,
          false,
          false,
          false,
          false,
          false,
          false,
          false,
          false,
          false,
          false,
          false,
          false,
          false,
          false,
          false,
          false,
          false,
          false,
          false,
          false,
          false,
          false,
          false,
          false,
          false,
          false,
          false,
          false,
          false,
          false,
          false,
          false,
          false,
          false,
          false,
          false,
          false,
          false,
          false,
          false,
          false,
          false,
          false,
          false,
          false,
          false,
          false,
          false,
          false,
          false,
          false,
          false,
          false,
          false,
          false,
          false,
          false,
          false,
          false,
          false,
          false,
          false,
          false,
          false,
          false,
          false,
          false,
          false,
          false,
          false,
          false,
          false,
          false,
          false,
          false,
          false,
          false,
          false,
          false,
          false,
          false,
          false,
          false,
          false,
          false,
          false,
          false,
          false,
          false,
          false,
          false,
          false,
          false,
          false,
          false,
          false,
          false,
          false,
          false,
          false,
          false,
          false,
          false,
          false,
          false,
          false,
          false,
          false,
          false,
          false,
          false,
          false,
          false,
          false,
          false,
          false,
          false,
          false,
          false,
          false,
          false,
          false,
          false,
          false,
          false,
          false,
          false,
          false,
          false,
          false,
          false,
          false,
          false,
          false,
          false,
          false,
          false,
          false,
          false,
          false,
          false,
          false,
          false,
          false,
          false,
          false,
          false,
          false,
          false,
          false,
          false,
          false,
          false,
          false,
          false,
          false,
          false,
          false,
          false,
          false,
          false,
          false,
          false,
          false,
          false,
          false,
          false,
          false,
          false,
          false,
          false,
          false,
          false,
          false,
          false,
          false,
          false,
          false,
          false,
          false,
          false,
          false,
          false,
          false,
          false,
          false,
          false,
          false,
          false,
          false,
          false,
          false,
          false,
          false,
          false,
          false,
          false,
          false,
          false,
          false,
          false,
          false,
          false,
          false,
          false,
          false,
          false,
          false,
          false,
          false,
          false,
          false,
          false,
          false,
          false,
          false,
          false,
          false,
          false,
          false,
          false,
          false,
          false,
          false,
          false,
          false,
          false,
          false,
          false,
          false,
          false,
          false,
          false,
          false,
          false,
          false,
          false,
          false,
          false,
          false,
          false,
          false,
          false,
          false,
          false,
          false,
          false,
          false,
          false,
          false,
          false,
          false,
          false,
          false,
          false,
          false,
          false,
          false,
          false,
          false,
          false,
          false,
          false,
          false,
          false,
          false,
          false,
          false,
          false,
          false,
          false,
          false,
          false,
          false,
          false,
          false,
          false,
          false,
          false,
          false,
          false,
          false,
          false,
          false,
          false,
          false,
          false,
          false,
          false,
          false,
          false,
          false,
          false,
          false,
          false,
          false,
          false,
          false,
          false,
          false,
          false,
          false,
          false,
          false,
          false,
          false,
          false,
          false,
          false,
          false,
          false,
          false,
          false,
          false,
          false,
          false,
          false,
          false,
          false,
          false,
          false,
          false,
          false,
          false,
          false,
          false,
          false,
          false,
          false,
          false,
          false,
          false,
          false,
          false,
          false,
          false,
          false,
          false,
          false,
          false,
          false,
          false,
          false,
          false,
          false,
          false,
          false,
          false,
          false,
          false,
          false,
          false,
          false,
          false,
          false,
          false,
          false,
          false,
          false,
          false,
          false,
          false,
          false,
          false,
          false,
          false,
          false,
          false,
          false,
          false,
          false,
          false,
          false,
          false,
          false,
          false,
          false,
          false,
          false,
          false,
          false,
          false,
          false,
          false,
          false,
          false,
          false,
          false,
          false,
          false,
          false,
          false,
          false,
          false,
          false,
          false,
          false,
          false,
          false,
          false,
          false,
          false,
          false,
          false,
          false,
          false,
          false,
          false,
          false,
          false,
          false,
          false,
          false,
          false,
          false,
          false,
          false,
          false,
          false,
          false,
          false,
          false,
          false,
          false,
          false,
          false,
          false,
          false,
          false,
          false,
          false,
          false,
          false,
          false,
          false,
          false,
          false,
          false,
          false,
          false,
          false,
          false,
          false,
          false,
          false,
          false,
          false,
          false,
          false,
          false,
          false,
          false,
          false,
          false,
          false,
          false,
          false,
          false,
          false,
          false,
          false,
          false,
          false,
          false,
          false,
          false,
          false,
          false,
          false,
          false,
          false,
          false,
          false,
          false,
          false,
          false,
          false,
          false,
          false,
          false,
          false,
          false,
          false,
          false,
          false,
          false,
          false,
          false,
          false,
          false,
          false,
          false,
          false,
          false,
          false,
          false,
          false,
          false,
          false,
          false,
          false,
          false,
          false,
          false,
          false,
          false,
          false,
          false,
          false,
          false,
          false,
          false,
          false,
          false,
          false,
          false,
          false,
          false,
          false,
          false,
          false,
          false,
          false,
          false,
          false,
          false,
          false,
          false,
          false,
          false,
          false,
          false,
          false,
          false,
          false,
          false,
          false,
          false,
          false,
          false,
          false,
          false,
          false,
          false,
          false,
          false,
          false,
          false,
          false,
          false,
          false,
          false,
          false,
          false,
          false,
          false,
          false,
          false,
          false,
          false,
          false,
          false,
          false,
          false,
          false,
          false,
          false,
          false,
          false,
          false,
          false,
          false,
          false,
          false,
          false,
          false,
          false,
          false,
          false,
          false,
          false,
          false,
          false,
          false,
          false,
          false,
          false,
          false,
          false,
          false,
          false,
          false,
          false,
          false,
          false,
          false,
          false,
          false,
          false,
          false,
          false,
          false,
          false,
          false,
          false,
          false,
          false,
          false,
          false,
          false,
          false,
          false,
          false,
          false,
          false,
          false,
          false,
          false,
          false,
          false,
          false,
          false,
          false,
          false,
          false,
          false,
          false,
          false,
          false,
          false,
          false,
          false,
          false,
          false,
          false,
          false,
          false,
          false,
          false,
          false,
          false,
          false,
          false,
          false,
          false,
          false,
          false,
          false,
          false,
          false,
          false,
          false,
          false,
          false,
          false,
          false,
          false,
          false,
          false,
          false,
          false,
          false,
          false,
          false,
          false,
          false,
          false,
          false,
          false,
          false,
          false,
          false,
          false,
          false,
          false,
          false,
          false,
          false,
          false,
          false,
          false
         ],
         "x0": " ",
         "xaxis": "x",
         "y": [
          94,
          94,
          109,
          85,
          134,
          130,
          139,
          99,
          137,
          82,
          124,
          92,
          97,
          107,
          125,
          132,
          91,
          139,
          97,
          107,
          105,
          110,
          103,
          117,
          116,
          103,
          120,
          93,
          112,
          139,
          82,
          111,
          110,
          125,
          133,
          110,
          140,
          124,
          123,
          89,
          96,
          90,
          84,
          101,
          93,
          137,
          107,
          87,
          104,
          131,
          80,
          135,
          84,
          122,
          87,
          138,
          133,
          99,
          118,
          110,
          109,
          83,
          102,
          93,
          95,
          128,
          81,
          111,
          102,
          102,
          104,
          129,
          91,
          97,
          83,
          132,
          117,
          90,
          86,
          102,
          127,
          84,
          107,
          120,
          117,
          109,
          84,
          102,
          118,
          104,
          119,
          113,
          131,
          125,
          124,
          122,
          107,
          120,
          120,
          122,
          125,
          123,
          93,
          117,
          80,
          118,
          137,
          133,
          113,
          138,
          137,
          123,
          119,
          114,
          101,
          136,
          115,
          133,
          134,
          86,
          106,
          101,
          113,
          88,
          92,
          129,
          112,
          138,
          111,
          134,
          109,
          124,
          83,
          87,
          97,
          102,
          101,
          111,
          92,
          139,
          115,
          91,
          89,
          126,
          135,
          92,
          94,
          105,
          111,
          95,
          106,
          84,
          119,
          88,
          96,
          114,
          123,
          124,
          102,
          116,
          90,
          125,
          117,
          88,
          116,
          140,
          84,
          93,
          116,
          128,
          82,
          85,
          102,
          86,
          89,
          121,
          105,
          91,
          84,
          121,
          80,
          121,
          88,
          87,
          138,
          136,
          123,
          91,
          91,
          98,
          94,
          84,
          85,
          92,
          94,
          125,
          119,
          106,
          119,
          93,
          126,
          139,
          98,
          140,
          96,
          104,
          82,
          88,
          85,
          123,
          92,
          82,
          124,
          102,
          84,
          135,
          81,
          125,
          126,
          123,
          130,
          94,
          113,
          105,
          120,
          91,
          102,
          116,
          99,
          82,
          95,
          99,
          136,
          85,
          92,
          108,
          122,
          130,
          92,
          95,
          119,
          117,
          85,
          81,
          136,
          88,
          139,
          94,
          95,
          139,
          85,
          89,
          103,
          119,
          127,
          91,
          83,
          128,
          97,
          111,
          93,
          119,
          119,
          106,
          83,
          137,
          128,
          136,
          100,
          94,
          119,
          107,
          98,
          122,
          113,
          140,
          140,
          125,
          131,
          110,
          120,
          131,
          139,
          138,
          138,
          128,
          96,
          83,
          104,
          94,
          127,
          85,
          116,
          80,
          125,
          115,
          130,
          86,
          104,
          86,
          139,
          80,
          85,
          103,
          94,
          83,
          132,
          97,
          140,
          91,
          137,
          121,
          97,
          90,
          83,
          119,
          118,
          138,
          117,
          114,
          97,
          112,
          81,
          109,
          134,
          85,
          118,
          112,
          132,
          117,
          114,
          85,
          87,
          123,
          132,
          115,
          82,
          123,
          132,
          103,
          105,
          89,
          115,
          100,
          120,
          110,
          106,
          126,
          124,
          80,
          89,
          90,
          112,
          95,
          81,
          87,
          80,
          117,
          122,
          81,
          86,
          113,
          98,
          102,
          81,
          107,
          85,
          82,
          135,
          109,
          91,
          82,
          100,
          92,
          86,
          100,
          134,
          105,
          96,
          133,
          85,
          108,
          103,
          132,
          100,
          126,
          94,
          106,
          115,
          131,
          85,
          136,
          134,
          109,
          137,
          107,
          99,
          107,
          102,
          133,
          137,
          82,
          89,
          105,
          104,
          119,
          87,
          96,
          135,
          135,
          116,
          108,
          99,
          136,
          130,
          97,
          104,
          104,
          115,
          119,
          113,
          111,
          113,
          102,
          139,
          134,
          97,
          124,
          81,
          137,
          123,
          107,
          97,
          82,
          114,
          94,
          114,
          115,
          114,
          133,
          88,
          104,
          140,
          114,
          119,
          87,
          90,
          82,
          95,
          132,
          81,
          106,
          84,
          124,
          119,
          110,
          117,
          133,
          80,
          135,
          106,
          135,
          98,
          126,
          117,
          117,
          111,
          96,
          84,
          109,
          133,
          126,
          103,
          119,
          101,
          102,
          118,
          93,
          137,
          96,
          111,
          114,
          107,
          134,
          81,
          135,
          106,
          96,
          128,
          92,
          92,
          131,
          138,
          136,
          130,
          116,
          86,
          134,
          125,
          123,
          94,
          132,
          80,
          127,
          115,
          107,
          105,
          92,
          121,
          80,
          133,
          119,
          84,
          86,
          104,
          107,
          126,
          117,
          105,
          103,
          94,
          102,
          121,
          116,
          94,
          136,
          120,
          140,
          135,
          82,
          129,
          120,
          109,
          122,
          133,
          100,
          100,
          122,
          81,
          121,
          87,
          97,
          114,
          130,
          128,
          112,
          90,
          135,
          110,
          100,
          120,
          129,
          80,
          88,
          130,
          83,
          104,
          139,
          113,
          104,
          118,
          131,
          128,
          101,
          88,
          101,
          139,
          125,
          126,
          126,
          117,
          133,
          126,
          95,
          122,
          132,
          128,
          86,
          110,
          112,
          126,
          83,
          107,
          95,
          113,
          110,
          80,
          94,
          135,
          140,
          124,
          103,
          98,
          132,
          95,
          123,
          127,
          135,
          125,
          118,
          92,
          109,
          96,
          104,
          107,
          126,
          135,
          125,
          96,
          136,
          122,
          94,
          108,
          106,
          108,
          98,
          137,
          115,
          89,
          126,
          128,
          94,
          136,
          135,
          135,
          92,
          106,
          89,
          133,
          122,
          132,
          84,
          117,
          130,
          97,
          116,
          101,
          125,
          90,
          83,
          116,
          92,
          124,
          100,
          112,
          112,
          102,
          126,
          94,
          113,
          137,
          84,
          82,
          98,
          103,
          112,
          91,
          83,
          129,
          115,
          126,
          125,
          111,
          87,
          101,
          115,
          95,
          85,
          137,
          140,
          135,
          121,
          132,
          134,
          139,
          88,
          135,
          101,
          140,
          94,
          82,
          99,
          107,
          126,
          111,
          89,
          139,
          108,
          140,
          80,
          90,
          118,
          120,
          90,
          117,
          107,
          92,
          126,
          140,
          99,
          124,
          117,
          108,
          102,
          114,
          92,
          134,
          111,
          124,
          138,
          94,
          120,
          118,
          89,
          101,
          109,
          127,
          136,
          117,
          106,
          105,
          102,
          136,
          116,
          119,
          85,
          100,
          83,
          115,
          132,
          138,
          125,
          134,
          89,
          130,
          118,
          117,
          140,
          120,
          107,
          93,
          135,
          137,
          98,
          122,
          140,
          130,
          103,
          87,
          96,
          140,
          117,
          119,
          131,
          138,
          124,
          111,
          94,
          139,
          119,
          89,
          81,
          91,
          111,
          133,
          118,
          119,
          110,
          134,
          84,
          86,
          122,
          85,
          113,
          123,
          94,
          122,
          138,
          103,
          80,
          96,
          135,
          127,
          128,
          124,
          139,
          94,
          116,
          81,
          114,
          127,
          129,
          104,
          120,
          106,
          113,
          124,
          97,
          120,
          89,
          110,
          84,
          85,
          96,
          93,
          84,
          90,
          81,
          97,
          132,
          95,
          115,
          80,
          94,
          82,
          101,
          104,
          108,
          112,
          108,
          109,
          116,
          116,
          137,
          128,
          113,
          127,
          93,
          90,
          111,
          83,
          118,
          86,
          91,
          108,
          127,
          87,
          86,
          99,
          104,
          83,
          106,
          134,
          89,
          127,
          81,
          80,
          117,
          84,
          117,
          104,
          115,
          118,
          122,
          115,
          110,
          110,
          134,
          87,
          140,
          114,
          103,
          105,
          90,
          89,
          82,
          109,
          119,
          120,
          130,
          127,
          103,
          137,
          136,
          110,
          107,
          102,
          111,
          104,
          104,
          139,
          104,
          100,
          131,
          106,
          125,
          136,
          89,
          94,
          116,
          114,
          96,
          83,
          139,
          81,
          133,
          81,
          125,
          81,
          137,
          99,
          127,
          81,
          130,
          95,
          95,
          109,
          109,
          137,
          132,
          122,
          125,
          107,
          107,
          137,
          126,
          133,
          100,
          104,
          92,
          136,
          80,
          107,
          105,
          86,
          98,
          108,
          81,
          114,
          110,
          132,
          123,
          83,
          89,
          129,
          124,
          89,
          116,
          100,
          90,
          94,
          140,
          85,
          133,
          125,
          131,
          81,
          100,
          129,
          98,
          105,
          130,
          87,
          89,
          87,
          88,
          127,
          85,
          80,
          109,
          109,
          91,
          89,
          120,
          107,
          132,
          94,
          120,
          108,
          109,
          140,
          97,
          108,
          95,
          124,
          93,
          133,
          117,
          104,
          90,
          128,
          134,
          81,
          118,
          128,
          90,
          137,
          108,
          110,
          112,
          133,
          112,
          122,
          112,
          116,
          91,
          138,
          121,
          91,
          103,
          100,
          117,
          106,
          138,
          129,
          122,
          104,
          124,
          117,
          136,
          102,
          103,
          91,
          104,
          127,
          96,
          127,
          105,
          87,
          95,
          119,
          120,
          111,
          107,
          80,
          139,
          124,
          80,
          125,
          140,
          119,
          134,
          94,
          92,
          86,
          108,
          94,
          117,
          98,
          128,
          106,
          83,
          123,
          125,
          104,
          98,
          80,
          137,
          88,
          129,
          94,
          89,
          140,
          136,
          82,
          93,
          106,
          127,
          127,
          137,
          86,
          88,
          84,
          105,
          105,
          116,
          133,
          85,
          103,
          85,
          110,
          90,
          88,
          85,
          117,
          138,
          139,
          138,
          138,
          96,
          100,
          134,
          128,
          136,
          94,
          122,
          85,
          125,
          120,
          100,
          104,
          139,
          123,
          99,
          129,
          84,
          86,
          93,
          134,
          135,
          114,
          130,
          99,
          85,
          85,
          89,
          114,
          82,
          123,
          130,
          88,
          103,
          88,
          129,
          97,
          116,
          100,
          93,
          113,
          86,
          138,
          137,
          139,
          136,
          108,
          117,
          112,
          94,
          138,
          139,
          84,
          116,
          125,
          81,
          98,
          128,
          128,
          121,
          89,
          112,
          137,
          106,
          86,
          83,
          117,
          127,
          122,
          117,
          85,
          94,
          122,
          126,
          101,
          131,
          84,
          106,
          92,
          83,
          99,
          124,
          139,
          118,
          82,
          85,
          86,
          123,
          95,
          80,
          81,
          82,
          119,
          126,
          86,
          107,
          90,
          91,
          120,
          117,
          114,
          106,
          124,
          82,
          129,
          80,
          124,
          91,
          96,
          128,
          117,
          130,
          92,
          126,
          90,
          118,
          125,
          125,
          115,
          98,
          82,
          121,
          93,
          95,
          92,
          140,
          104,
          95,
          110,
          97,
          80,
          125,
          108,
          112,
          103,
          83,
          136,
          106,
          140,
          99,
          104,
          94,
          120,
          137,
          139,
          117,
          113,
          92,
          138,
          82,
          103,
          120,
          116,
          115,
          123,
          89,
          101,
          88,
          88,
          128,
          132,
          93,
          115,
          118,
          118,
          133,
          85,
          132,
          114,
          110,
          132,
          89,
          106,
          95,
          111,
          129,
          92,
          88,
          98,
          87,
          89,
          109,
          96,
          121,
          96,
          95,
          132,
          88,
          120,
          120,
          127,
          97,
          130,
          138,
          105,
          101,
          139,
          116,
          81,
          107,
          122,
          123,
          136,
          80,
          132,
          106,
          104,
          102,
          135,
          89,
          122,
          140,
          113,
          106,
          93,
          86,
          91,
          81,
          89,
          80,
          107,
          123,
          140,
          85,
          121,
          106,
          137,
          117,
          123,
          113,
          97,
          114,
          88,
          95,
          123,
          135,
          93,
          116,
          124,
          88,
          96,
          139,
          88,
          124,
          106,
          103,
          99,
          92,
          100,
          113,
          98,
          87,
          98,
          98,
          95,
          134,
          89,
          115,
          117,
          133,
          115,
          92,
          88,
          120,
          105,
          97,
          103,
          111,
          94,
          115,
          100,
          117,
          104,
          96,
          91,
          116,
          139,
          100,
          110,
          137,
          107,
          128,
          96,
          123,
          130,
          89,
          84,
          99,
          89,
          136,
          118,
          84,
          100,
          99,
          81,
          86,
          103,
          125,
          99,
          128,
          122,
          108,
          86,
          84,
          125,
          116,
          128,
          108,
          113,
          121,
          139,
          101,
          82,
          95,
          99,
          118,
          113,
          115,
          98,
          97,
          120,
          106,
          135,
          139,
          98,
          139,
          108,
          119,
          125,
          98,
          119,
          109,
          91,
          132,
          110,
          135,
          90,
          134,
          90,
          93,
          134,
          121,
          124,
          87,
          90
         ],
         "y0": " ",
         "yaxis": "y"
        },
        {
         "alignmentgroup": "True",
         "boxpoints": "all",
         "hovertemplate": "is_top_performer=%{x}<br>iq=%{y}<extra></extra>",
         "legendgroup": "True",
         "marker": {
          "color": "#EF553B"
         },
         "name": "True",
         "notched": false,
         "offsetgroup": "True",
         "orientation": "v",
         "showlegend": true,
         "type": "box",
         "x": [
          true,
          true,
          true,
          true,
          true,
          true,
          true,
          true,
          true,
          true,
          true,
          true,
          true,
          true,
          true,
          true,
          true,
          true,
          true,
          true,
          true,
          true,
          true,
          true,
          true,
          true,
          true,
          true,
          true,
          true,
          true,
          true,
          true,
          true,
          true,
          true,
          true,
          true,
          true,
          true,
          true,
          true,
          true,
          true,
          true,
          true,
          true,
          true,
          true,
          true,
          true,
          true,
          true,
          true,
          true,
          true,
          true,
          true,
          true,
          true,
          true,
          true,
          true,
          true,
          true,
          true,
          true,
          true,
          true,
          true,
          true,
          true,
          true,
          true,
          true,
          true,
          true,
          true,
          true,
          true,
          true,
          true,
          true,
          true,
          true,
          true,
          true,
          true,
          true,
          true,
          true,
          true,
          true,
          true,
          true,
          true,
          true,
          true,
          true,
          true,
          true,
          true,
          true,
          true,
          true,
          true,
          true,
          true,
          true,
          true,
          true,
          true,
          true,
          true,
          true,
          true,
          true,
          true,
          true,
          true,
          true,
          true,
          true,
          true,
          true,
          true,
          true,
          true,
          true,
          true,
          true
         ],
         "x0": " ",
         "xaxis": "x",
         "y": [
          84,
          125,
          108,
          134,
          107,
          125,
          86,
          131,
          126,
          88,
          92,
          105,
          128,
          103,
          139,
          105,
          139,
          92,
          127,
          92,
          110,
          89,
          85,
          119,
          95,
          94,
          111,
          101,
          131,
          94,
          121,
          109,
          85,
          139,
          86,
          139,
          105,
          138,
          82,
          99,
          122,
          123,
          88,
          89,
          110,
          98,
          97,
          94,
          96,
          136,
          132,
          105,
          89,
          101,
          122,
          135,
          116,
          85,
          88,
          118,
          140,
          94,
          117,
          94,
          80,
          87,
          137,
          116,
          111,
          86,
          88,
          97,
          121,
          125,
          85,
          115,
          116,
          98,
          110,
          120,
          81,
          101,
          85,
          81,
          97,
          89,
          105,
          123,
          94,
          125,
          90,
          98,
          132,
          99,
          100,
          136,
          86,
          86,
          98,
          138,
          139,
          138,
          105,
          117,
          120,
          88,
          117,
          116,
          113,
          90,
          132,
          138,
          91,
          133,
          111,
          127,
          135,
          140,
          98,
          108,
          132,
          138,
          127,
          109,
          85,
          86,
          105,
          90,
          109,
          131,
          131
         ],
         "y0": " ",
         "yaxis": "y"
        }
       ],
       "layout": {
        "boxmode": "overlay",
        "legend": {
         "title": {
          "text": "is_top_performer"
         },
         "tracegroupgap": 0
        },
        "template": {
         "data": {
          "bar": [
           {
            "error_x": {
             "color": "#2a3f5f"
            },
            "error_y": {
             "color": "#2a3f5f"
            },
            "marker": {
             "line": {
              "color": "#E5ECF6",
              "width": 0.5
             },
             "pattern": {
              "fillmode": "overlay",
              "size": 10,
              "solidity": 0.2
             }
            },
            "type": "bar"
           }
          ],
          "barpolar": [
           {
            "marker": {
             "line": {
              "color": "#E5ECF6",
              "width": 0.5
             },
             "pattern": {
              "fillmode": "overlay",
              "size": 10,
              "solidity": 0.2
             }
            },
            "type": "barpolar"
           }
          ],
          "carpet": [
           {
            "aaxis": {
             "endlinecolor": "#2a3f5f",
             "gridcolor": "white",
             "linecolor": "white",
             "minorgridcolor": "white",
             "startlinecolor": "#2a3f5f"
            },
            "baxis": {
             "endlinecolor": "#2a3f5f",
             "gridcolor": "white",
             "linecolor": "white",
             "minorgridcolor": "white",
             "startlinecolor": "#2a3f5f"
            },
            "type": "carpet"
           }
          ],
          "choropleth": [
           {
            "colorbar": {
             "outlinewidth": 0,
             "ticks": ""
            },
            "type": "choropleth"
           }
          ],
          "contour": [
           {
            "colorbar": {
             "outlinewidth": 0,
             "ticks": ""
            },
            "colorscale": [
             [
              0,
              "#0d0887"
             ],
             [
              0.1111111111111111,
              "#46039f"
             ],
             [
              0.2222222222222222,
              "#7201a8"
             ],
             [
              0.3333333333333333,
              "#9c179e"
             ],
             [
              0.4444444444444444,
              "#bd3786"
             ],
             [
              0.5555555555555556,
              "#d8576b"
             ],
             [
              0.6666666666666666,
              "#ed7953"
             ],
             [
              0.7777777777777778,
              "#fb9f3a"
             ],
             [
              0.8888888888888888,
              "#fdca26"
             ],
             [
              1,
              "#f0f921"
             ]
            ],
            "type": "contour"
           }
          ],
          "contourcarpet": [
           {
            "colorbar": {
             "outlinewidth": 0,
             "ticks": ""
            },
            "type": "contourcarpet"
           }
          ],
          "heatmap": [
           {
            "colorbar": {
             "outlinewidth": 0,
             "ticks": ""
            },
            "colorscale": [
             [
              0,
              "#0d0887"
             ],
             [
              0.1111111111111111,
              "#46039f"
             ],
             [
              0.2222222222222222,
              "#7201a8"
             ],
             [
              0.3333333333333333,
              "#9c179e"
             ],
             [
              0.4444444444444444,
              "#bd3786"
             ],
             [
              0.5555555555555556,
              "#d8576b"
             ],
             [
              0.6666666666666666,
              "#ed7953"
             ],
             [
              0.7777777777777778,
              "#fb9f3a"
             ],
             [
              0.8888888888888888,
              "#fdca26"
             ],
             [
              1,
              "#f0f921"
             ]
            ],
            "type": "heatmap"
           }
          ],
          "heatmapgl": [
           {
            "colorbar": {
             "outlinewidth": 0,
             "ticks": ""
            },
            "colorscale": [
             [
              0,
              "#0d0887"
             ],
             [
              0.1111111111111111,
              "#46039f"
             ],
             [
              0.2222222222222222,
              "#7201a8"
             ],
             [
              0.3333333333333333,
              "#9c179e"
             ],
             [
              0.4444444444444444,
              "#bd3786"
             ],
             [
              0.5555555555555556,
              "#d8576b"
             ],
             [
              0.6666666666666666,
              "#ed7953"
             ],
             [
              0.7777777777777778,
              "#fb9f3a"
             ],
             [
              0.8888888888888888,
              "#fdca26"
             ],
             [
              1,
              "#f0f921"
             ]
            ],
            "type": "heatmapgl"
           }
          ],
          "histogram": [
           {
            "marker": {
             "pattern": {
              "fillmode": "overlay",
              "size": 10,
              "solidity": 0.2
             }
            },
            "type": "histogram"
           }
          ],
          "histogram2d": [
           {
            "colorbar": {
             "outlinewidth": 0,
             "ticks": ""
            },
            "colorscale": [
             [
              0,
              "#0d0887"
             ],
             [
              0.1111111111111111,
              "#46039f"
             ],
             [
              0.2222222222222222,
              "#7201a8"
             ],
             [
              0.3333333333333333,
              "#9c179e"
             ],
             [
              0.4444444444444444,
              "#bd3786"
             ],
             [
              0.5555555555555556,
              "#d8576b"
             ],
             [
              0.6666666666666666,
              "#ed7953"
             ],
             [
              0.7777777777777778,
              "#fb9f3a"
             ],
             [
              0.8888888888888888,
              "#fdca26"
             ],
             [
              1,
              "#f0f921"
             ]
            ],
            "type": "histogram2d"
           }
          ],
          "histogram2dcontour": [
           {
            "colorbar": {
             "outlinewidth": 0,
             "ticks": ""
            },
            "colorscale": [
             [
              0,
              "#0d0887"
             ],
             [
              0.1111111111111111,
              "#46039f"
             ],
             [
              0.2222222222222222,
              "#7201a8"
             ],
             [
              0.3333333333333333,
              "#9c179e"
             ],
             [
              0.4444444444444444,
              "#bd3786"
             ],
             [
              0.5555555555555556,
              "#d8576b"
             ],
             [
              0.6666666666666666,
              "#ed7953"
             ],
             [
              0.7777777777777778,
              "#fb9f3a"
             ],
             [
              0.8888888888888888,
              "#fdca26"
             ],
             [
              1,
              "#f0f921"
             ]
            ],
            "type": "histogram2dcontour"
           }
          ],
          "mesh3d": [
           {
            "colorbar": {
             "outlinewidth": 0,
             "ticks": ""
            },
            "type": "mesh3d"
           }
          ],
          "parcoords": [
           {
            "line": {
             "colorbar": {
              "outlinewidth": 0,
              "ticks": ""
             }
            },
            "type": "parcoords"
           }
          ],
          "pie": [
           {
            "automargin": true,
            "type": "pie"
           }
          ],
          "scatter": [
           {
            "fillpattern": {
             "fillmode": "overlay",
             "size": 10,
             "solidity": 0.2
            },
            "type": "scatter"
           }
          ],
          "scatter3d": [
           {
            "line": {
             "colorbar": {
              "outlinewidth": 0,
              "ticks": ""
             }
            },
            "marker": {
             "colorbar": {
              "outlinewidth": 0,
              "ticks": ""
             }
            },
            "type": "scatter3d"
           }
          ],
          "scattercarpet": [
           {
            "marker": {
             "colorbar": {
              "outlinewidth": 0,
              "ticks": ""
             }
            },
            "type": "scattercarpet"
           }
          ],
          "scattergeo": [
           {
            "marker": {
             "colorbar": {
              "outlinewidth": 0,
              "ticks": ""
             }
            },
            "type": "scattergeo"
           }
          ],
          "scattergl": [
           {
            "marker": {
             "colorbar": {
              "outlinewidth": 0,
              "ticks": ""
             }
            },
            "type": "scattergl"
           }
          ],
          "scattermapbox": [
           {
            "marker": {
             "colorbar": {
              "outlinewidth": 0,
              "ticks": ""
             }
            },
            "type": "scattermapbox"
           }
          ],
          "scatterpolar": [
           {
            "marker": {
             "colorbar": {
              "outlinewidth": 0,
              "ticks": ""
             }
            },
            "type": "scatterpolar"
           }
          ],
          "scatterpolargl": [
           {
            "marker": {
             "colorbar": {
              "outlinewidth": 0,
              "ticks": ""
             }
            },
            "type": "scatterpolargl"
           }
          ],
          "scatterternary": [
           {
            "marker": {
             "colorbar": {
              "outlinewidth": 0,
              "ticks": ""
             }
            },
            "type": "scatterternary"
           }
          ],
          "surface": [
           {
            "colorbar": {
             "outlinewidth": 0,
             "ticks": ""
            },
            "colorscale": [
             [
              0,
              "#0d0887"
             ],
             [
              0.1111111111111111,
              "#46039f"
             ],
             [
              0.2222222222222222,
              "#7201a8"
             ],
             [
              0.3333333333333333,
              "#9c179e"
             ],
             [
              0.4444444444444444,
              "#bd3786"
             ],
             [
              0.5555555555555556,
              "#d8576b"
             ],
             [
              0.6666666666666666,
              "#ed7953"
             ],
             [
              0.7777777777777778,
              "#fb9f3a"
             ],
             [
              0.8888888888888888,
              "#fdca26"
             ],
             [
              1,
              "#f0f921"
             ]
            ],
            "type": "surface"
           }
          ],
          "table": [
           {
            "cells": {
             "fill": {
              "color": "#EBF0F8"
             },
             "line": {
              "color": "white"
             }
            },
            "header": {
             "fill": {
              "color": "#C8D4E3"
             },
             "line": {
              "color": "white"
             }
            },
            "type": "table"
           }
          ]
         },
         "layout": {
          "annotationdefaults": {
           "arrowcolor": "#2a3f5f",
           "arrowhead": 0,
           "arrowwidth": 1
          },
          "autotypenumbers": "strict",
          "coloraxis": {
           "colorbar": {
            "outlinewidth": 0,
            "ticks": ""
           }
          },
          "colorscale": {
           "diverging": [
            [
             0,
             "#8e0152"
            ],
            [
             0.1,
             "#c51b7d"
            ],
            [
             0.2,
             "#de77ae"
            ],
            [
             0.3,
             "#f1b6da"
            ],
            [
             0.4,
             "#fde0ef"
            ],
            [
             0.5,
             "#f7f7f7"
            ],
            [
             0.6,
             "#e6f5d0"
            ],
            [
             0.7,
             "#b8e186"
            ],
            [
             0.8,
             "#7fbc41"
            ],
            [
             0.9,
             "#4d9221"
            ],
            [
             1,
             "#276419"
            ]
           ],
           "sequential": [
            [
             0,
             "#0d0887"
            ],
            [
             0.1111111111111111,
             "#46039f"
            ],
            [
             0.2222222222222222,
             "#7201a8"
            ],
            [
             0.3333333333333333,
             "#9c179e"
            ],
            [
             0.4444444444444444,
             "#bd3786"
            ],
            [
             0.5555555555555556,
             "#d8576b"
            ],
            [
             0.6666666666666666,
             "#ed7953"
            ],
            [
             0.7777777777777778,
             "#fb9f3a"
            ],
            [
             0.8888888888888888,
             "#fdca26"
            ],
            [
             1,
             "#f0f921"
            ]
           ],
           "sequentialminus": [
            [
             0,
             "#0d0887"
            ],
            [
             0.1111111111111111,
             "#46039f"
            ],
            [
             0.2222222222222222,
             "#7201a8"
            ],
            [
             0.3333333333333333,
             "#9c179e"
            ],
            [
             0.4444444444444444,
             "#bd3786"
            ],
            [
             0.5555555555555556,
             "#d8576b"
            ],
            [
             0.6666666666666666,
             "#ed7953"
            ],
            [
             0.7777777777777778,
             "#fb9f3a"
            ],
            [
             0.8888888888888888,
             "#fdca26"
            ],
            [
             1,
             "#f0f921"
            ]
           ]
          },
          "colorway": [
           "#636efa",
           "#EF553B",
           "#00cc96",
           "#ab63fa",
           "#FFA15A",
           "#19d3f3",
           "#FF6692",
           "#B6E880",
           "#FF97FF",
           "#FECB52"
          ],
          "font": {
           "color": "#2a3f5f"
          },
          "geo": {
           "bgcolor": "white",
           "lakecolor": "white",
           "landcolor": "#E5ECF6",
           "showlakes": true,
           "showland": true,
           "subunitcolor": "white"
          },
          "hoverlabel": {
           "align": "left"
          },
          "hovermode": "closest",
          "mapbox": {
           "style": "light"
          },
          "paper_bgcolor": "white",
          "plot_bgcolor": "#E5ECF6",
          "polar": {
           "angularaxis": {
            "gridcolor": "white",
            "linecolor": "white",
            "ticks": ""
           },
           "bgcolor": "#E5ECF6",
           "radialaxis": {
            "gridcolor": "white",
            "linecolor": "white",
            "ticks": ""
           }
          },
          "scene": {
           "xaxis": {
            "backgroundcolor": "#E5ECF6",
            "gridcolor": "white",
            "gridwidth": 2,
            "linecolor": "white",
            "showbackground": true,
            "ticks": "",
            "zerolinecolor": "white"
           },
           "yaxis": {
            "backgroundcolor": "#E5ECF6",
            "gridcolor": "white",
            "gridwidth": 2,
            "linecolor": "white",
            "showbackground": true,
            "ticks": "",
            "zerolinecolor": "white"
           },
           "zaxis": {
            "backgroundcolor": "#E5ECF6",
            "gridcolor": "white",
            "gridwidth": 2,
            "linecolor": "white",
            "showbackground": true,
            "ticks": "",
            "zerolinecolor": "white"
           }
          },
          "shapedefaults": {
           "line": {
            "color": "#2a3f5f"
           }
          },
          "ternary": {
           "aaxis": {
            "gridcolor": "white",
            "linecolor": "white",
            "ticks": ""
           },
           "baxis": {
            "gridcolor": "white",
            "linecolor": "white",
            "ticks": ""
           },
           "bgcolor": "#E5ECF6",
           "caxis": {
            "gridcolor": "white",
            "linecolor": "white",
            "ticks": ""
           }
          },
          "title": {
           "x": 0.05
          },
          "xaxis": {
           "automargin": true,
           "gridcolor": "white",
           "linecolor": "white",
           "ticks": "",
           "title": {
            "standoff": 15
           },
           "zerolinecolor": "white",
           "zerolinewidth": 2
          },
          "yaxis": {
           "automargin": true,
           "gridcolor": "white",
           "linecolor": "white",
           "ticks": "",
           "title": {
            "standoff": 15
           },
           "zerolinecolor": "white",
           "zerolinewidth": 2
          }
         }
        },
        "title": {
         "text": "Perbandingan Skor IQ"
        },
        "xaxis": {
         "anchor": "y",
         "categoryarray": [
          false,
          true
         ],
         "categoryorder": "array",
         "domain": [
          0,
          1
         ],
         "title": {
          "text": "is_top_performer"
         }
        },
        "yaxis": {
         "anchor": "x",
         "domain": [
          0,
          1
         ],
         "title": {
          "text": "iq"
         }
        }
       }
      }
     },
     "metadata": {},
     "output_type": "display_data"
    }
   ],
   "source": [
    "# Kita akan cek dua hal utama di sini: IQ (kognitif) dan MBTI (kepribadian).\n",
    "\n",
    "# Analisis IQ\n",
    "fig_iq = px.box(df_main.dropna(subset=['iq']), # Hapus baris yg IQ-nya kosong\n",
    "                x='is_top_performer',\n",
    "                y='iq',\n",
    "                color='is_top_performer',\n",
    "                title='Perbandingan Skor IQ',\n",
    "                points=\"all\")\n",
    "fig_iq.show()"
   ]
  },
  {
   "cell_type": "markdown",
   "id": "e3476512",
   "metadata": {},
   "source": [
    "### Interpretasi"
   ]
  },
  {
   "cell_type": "markdown",
   "id": "2cacece1",
   "metadata": {},
   "source": [
    "Sekarang kita masuk ke faktor kognitif, dan di sini kita menemukan hasil yang sangat menarik dan mungkin di luar dugaan. Grafik di hadapan kita membandingkan sebaran skor IQ antara top performer dan karyawan lainnya. Jika kita perhatikan baik-baik, median atau nilai tengah skor IQ antara top performer dan karyawan lainnya **hampir identik**, yaitu di angka 108 dan 109. Jangkauan skor mereka pun sangat mirip.\n",
    "\n",
    "Apa artinya ini?\n",
    "\n",
    "Ini adalah temuan yang sangat penting karena membantah asumsi umum bahwa untuk menjadi top performer, seseorang harus memiliki IQ yang jauh lebih superior. Data kita tidak menunjukkan hal tersebut. Ini bukan berarti IQ tidak penting. Sebaliknya, ini menunjukkan bahwa ada sebuah ambang batas atau standar kemampuan kognitif yang dibutuhkan untuk bisa bekerja dengan baik di sini. Namun, setelah standar itu terpenuhi, memiliki IQ yang lebih tinggi tidak secara otomatis membuat seseorang menjadi top performer. Jadi, temuan kunci kita di sini adalah: **kemampuan kognitif adalah 'tiket masuk', bukan faktor penentu kemenangan**. Faktor-faktor lain seperti yang akan kita lihat selanjutnya kemungkinan besar memiliki peran yang jauh lebih besar dalam membedakan kinerja yang baik dari kinerja yang luar biasa."
   ]
  },
  {
   "cell_type": "markdown",
   "id": "7aca0903",
   "metadata": {},
   "source": [
    "## Perbandingan MBTI"
   ]
  },
  {
   "cell_type": "code",
   "execution_count": 10,
   "id": "7f117c63",
   "metadata": {},
   "outputs": [
    {
     "data": {
      "application/vnd.plotly.v1+json": {
       "config": {
        "plotlyServerURL": "https://plot.ly"
       },
       "data": [
        {
         "alignmentgroup": "True",
         "bingroup": "x",
         "histnorm": "percent",
         "hovertemplate": "is_top_performer=False<br>mbti=%{x}<br>percent=%{y}<extra></extra>",
         "legendgroup": "False",
         "marker": {
          "color": "#636efa",
          "pattern": {
           "shape": ""
          }
         },
         "name": "False",
         "offsetgroup": "False",
         "orientation": "v",
         "showlegend": true,
         "type": "histogram",
         "x": [
          "INTP",
          "ENTJ",
          "INTJ",
          "ESFP",
          "ESFJ",
          "INFP",
          "ISFP",
          "ENTP",
          "ISTJ",
          "ENFP",
          "ISTP",
          "ENTJ",
          "ESFJ",
          "ISTP",
          "ENFP",
          "INFP",
          "ISTP",
          "ESTJ",
          "ESTJ",
          "INFP",
          "INFP",
          "INTP",
          "ESTJ",
          "INTJ",
          "ENTJ",
          "ENFP",
          "ENFP",
          "ESFJ",
          "ISTJ",
          "ESFP",
          "ESTP",
          "ENFP",
          "ESFJ",
          "ESFP",
          "ISTJ",
          "ISTJ",
          "ISTJ",
          "ESFJ",
          "INTP",
          "INFP",
          "ISFJ",
          "INFJ",
          "INTJ",
          "ENTP",
          "INTJ",
          "ENTP",
          "ISTP",
          "ESFP",
          "ESTP",
          "ISFP",
          "ENTJ",
          "INTJ",
          "INTP",
          "INFJ",
          "ENFJ",
          "ENTP",
          "INFP",
          "ESTJ",
          "INTJ",
          "ESFP",
          "ENFJ",
          "ISTP",
          "ISTJ",
          "ENFJ",
          "ENFP",
          "INTP",
          "ENTJ",
          "ENTJ",
          "ISTJ",
          "ENFP",
          "ISFP",
          "ESTJ",
          "ENFP",
          "ENTJ",
          "ENTP",
          "INFJ",
          "ISFJ",
          "ENTJ",
          "INFJ",
          "ENTJ",
          "ESTJ",
          "ESTJ",
          "INTJ",
          "ISTP",
          "ENFJ",
          "ENFJ",
          "ISFP",
          "ISTP",
          "ESFP",
          "INFP",
          "ENFJ",
          "ENTP",
          "INTJ",
          "ENFJ",
          "ISFP",
          "INFJ",
          "ISTJ",
          "INTJ",
          "INFJ",
          "ESTP",
          "ESTJ",
          "ESFP",
          "ENTP",
          "ISFP",
          "ESTP",
          "ENTP",
          "INTP",
          "ESTP",
          "ISFP",
          "ENTP",
          "INTJ",
          "INFP",
          "ESFJ",
          "ESFJ",
          "ISFJ",
          "ENTP",
          "ISFP",
          "ENFJ",
          "ESTP",
          "ESFP",
          "ENFP",
          "INFP",
          "INTP",
          "ESFJ",
          "INTP",
          "ESTJ",
          "ENFP",
          "INTP",
          "ENFJ",
          "ESFP",
          "ENTP",
          "ESFJ",
          "ISTJ",
          "INTJ",
          "INFJ",
          "INTP",
          "ENTP",
          "ESTP",
          "ENFJ",
          "ENTP",
          "ISFP",
          "ESTP",
          "ISTJ",
          "ESFP",
          "INFJ",
          "ISFJ",
          "ENTP",
          "INTP",
          "ESFJ",
          "ESFJ",
          "ENTP",
          "INTJ",
          "ESFJ",
          "ESTJ",
          "INTJ",
          "ESFJ",
          "ENTP",
          "INTP",
          "ENTJ",
          "INFJ",
          "ENFP",
          "INFP",
          "ENFJ",
          "INFP",
          "ENFJ",
          "INTP",
          "INFJ",
          "ISFP",
          "ENFJ",
          "ISFJ",
          "INFJ",
          "ESTJ",
          "ISTJ",
          "ISFJ",
          "ENFP",
          "ESFP",
          "ISFJ",
          "INFJ",
          "INTJ",
          "ESTJ",
          "ESFP",
          "ESTJ",
          "ISTJ",
          "INTJ",
          "INTP",
          "ENTJ",
          "INTP",
          "ENFP",
          "INFP",
          "INTP",
          "ESTP",
          "ENTJ",
          "INTP",
          "ESFJ",
          "INTJ",
          "ENFP",
          "ENFJ",
          "ENTP",
          "ISTJ",
          "ISFJ",
          "ESFP",
          "ESTJ",
          "ENFP",
          "ENTJ",
          "ESFP",
          "ISFP",
          "ESFJ",
          "ESFJ",
          "ISFP",
          "ENFP",
          "ISTJ",
          "ESFP",
          "ISFP",
          "INTJ",
          "ISTJ",
          "ESTJ",
          "ENFJ",
          "ISFJ",
          "ENFP",
          "ISTP",
          "ENFJ",
          "INTP",
          "ESTJ",
          "INFP",
          "ISFJ",
          "INFJ",
          "INFP",
          "ESTP",
          "INFP",
          "ISFJ",
          "ESFJ",
          "ESTP",
          "ENTP",
          "ISFP",
          "ENFP",
          "ENTP",
          "ISFP",
          "ISTP",
          "ISFJ",
          "INFJ",
          "ENFJ",
          "ESFJ",
          "ENFJ",
          "ESFP",
          "ISTJ",
          "ENTJ",
          "ESFJ",
          "ESTJ",
          "INTJ",
          "ESFP",
          "ISFJ",
          "INFP",
          "ESTJ",
          "ISTP",
          "ISTP",
          "ISTP",
          "ENFJ",
          "INFJ",
          "INFJ",
          "INTP",
          "ISFP",
          "INFP",
          "ESFP",
          "ENTJ",
          "ENFJ",
          "ENTP",
          "INTP",
          "ENFP",
          "ESTJ",
          "ESTJ",
          "ESFJ",
          "ESFP",
          "ENTP",
          "ESFP",
          "INTP",
          "INTJ",
          "INTJ",
          "ISFP",
          "ISFP",
          "ISFP",
          "ENFP",
          "ISFP",
          "INFJ",
          "ISTP",
          "ENFP",
          "ISTP",
          "INTP",
          "ENFJ",
          "ENTP",
          "ISTP",
          "ESTP",
          "ISFP",
          "ENFJ",
          "INFP",
          "ISTJ",
          "ENTJ",
          "ESFJ",
          "INFP",
          "INTP",
          "ESFJ",
          "INFP",
          "INTJ",
          "INTP",
          "ESFP",
          "INTJ",
          "ENTJ",
          "INFJ",
          "ESTP",
          "INTJ",
          "ISTJ",
          "ENFJ",
          "INFP",
          "ENTJ",
          "ENTJ",
          "ENFJ",
          "ESFJ",
          "INTP",
          "ESTP",
          "INFP",
          "ESTP",
          "ISFJ",
          "ESTP",
          "INTJ",
          "ISTP",
          "ESFJ",
          "ENTJ",
          "ENFJ",
          "INTP",
          "ENFJ",
          "INFP",
          "ISTP",
          "INFP",
          "ISTP",
          "ESTP",
          "ESTJ",
          "ENFP",
          "ISFP",
          "ISFJ",
          "ENFJ",
          "ISFP",
          "INTP",
          "ENFJ",
          "INFJ",
          "ESFJ",
          "ISTP",
          "ESFJ",
          "ESTJ",
          "ISTP",
          "ESFP",
          "ISTJ",
          "ENFP",
          "INFP",
          "ENFJ",
          "ESFJ",
          "ISTP",
          "INTP",
          "ESTJ",
          "ESFP",
          "ISFJ",
          "ISTJ",
          "INTP",
          "ENFJ",
          "ISTP",
          "ESFP",
          "ENTJ",
          "ESFJ",
          "INTJ",
          "ISFJ",
          "INTJ",
          "ENFJ",
          "ISFJ",
          "ISFJ",
          "ENFJ",
          "INTP",
          "ESTP",
          "INFP",
          "INFJ",
          "ISTP",
          "ESFJ",
          "ESFJ",
          "ESFJ",
          "INTP",
          "ENTJ",
          "ESFJ",
          "INFJ",
          "ENTJ",
          "ENTJ",
          "INFP",
          "ISTP",
          "ESFP",
          "INTJ",
          "ESFP",
          "INFJ",
          "INTJ",
          "ISTP",
          "INFTJ",
          "ESTJ",
          "ISTJ",
          "ESFP",
          "ESFJ",
          "ISFJ",
          "ESTJ",
          "ISFJ",
          "ISTP",
          "INTJ",
          "ESTJ",
          "INTJ",
          "ISTP",
          "ESFJ",
          "ESFP",
          "ENTJ",
          "ENFJ",
          "ENTJ",
          "ENFP",
          "ENFP",
          "ENTP",
          "ESFJ",
          "ENTP",
          "ESFJ",
          "ENTP",
          "ENTJ",
          "ISTP",
          "ESFJ",
          "ENFP",
          "ISTJ",
          "ESFJ",
          "INTJ",
          "ISTP",
          "ISTP",
          "INTP",
          "ENTJ",
          "ISFJ",
          "ENFP",
          "ENFP",
          "ESTJ",
          "INTP",
          "ENTJ",
          "ENTJ",
          "INTJ",
          "INFJ",
          "ENTJ",
          "ISFP",
          "INTP",
          "ENTP",
          "INFJ",
          "ESTP",
          "ISTP",
          "ENTJ",
          "ENFJ",
          "ESFP",
          "INFJ",
          "INTP",
          "ESFJ",
          "INTP",
          "ISTP",
          "INTJ",
          "ENTJ",
          "INTJ",
          "ISTP",
          "ISFJ",
          "INFJ",
          "ESFJ",
          "ISFJ",
          "ISFP",
          "ESFJ",
          "ENTP",
          "ENFJ",
          "ENTP",
          "INTP",
          "ESTJ",
          "ESTP",
          "ISFJ",
          "INTP",
          "INTJ",
          "ENTJ",
          "ENTP",
          "ENFP",
          "ENTJ",
          "ESTJ",
          "ISTJ",
          "ISFP",
          "ENTP",
          "ESFP",
          "ENTP",
          "INFP",
          "INTP",
          "ENFJ",
          "ESFP",
          "ENTJ",
          "ENFJ",
          "INFP",
          "ESTP",
          "INFP",
          "INFP",
          "ENFP",
          "ENFP",
          "ENTJ",
          "INFJ",
          "INFJ",
          "ENTP",
          "INFP",
          "ESFJ",
          "INTJ",
          "ENFJ",
          "ENFP",
          "ENTJ",
          "ENFP",
          "INTJ",
          "ENTP",
          "ISFP",
          "ESFP",
          "ESTJ",
          "INTJ",
          "INFP",
          "ISTJ",
          "ISFP",
          "ESTP",
          "ISTJ",
          "ISTP",
          "ENFJ",
          "ENTP",
          "ENFP",
          "ISFJ",
          "ESFP",
          "ESTP",
          "ESFP",
          "ESTP",
          "ENFJ",
          "ISTJ",
          "ISTJ",
          "ENTP",
          "ENFP",
          "ENTP",
          "ENTJ",
          "ENTJ",
          "ENTJ",
          "ISFJ",
          "INTP",
          "ESTJ",
          "ISFP",
          "ENTP",
          "ENTP",
          "ESFJ",
          "INTP",
          "ENTP",
          "INTP",
          "ENFJ",
          "ISFP",
          "ESTJ",
          "ENFP",
          "ENFJ",
          "ISFJ",
          "ESFJ",
          "INFJ",
          "ISTJ",
          "ESTP",
          "ISTJ",
          "ESTP",
          "ENFJ",
          "INFJ",
          "ISFJ",
          "ESFP",
          "ISFJ",
          "ENFP",
          "INFP",
          "ENTP",
          "ENFP",
          "ESFP",
          "ENFJ",
          "ISTJ",
          "ENTP",
          "ESFP",
          "ISTP",
          "ISTJ",
          "ISFJ",
          "INTJ",
          "INTJ",
          "ESTJ",
          "ISFP",
          "ISFJ",
          "ENTP",
          "ENTJ",
          "ESTJ",
          "ISFJ",
          "ESTP",
          "ESTJ",
          "ESTJ",
          "ISFP",
          "ESTJ",
          "ESTJ",
          "ENTJ",
          "INTP",
          "INFP",
          "ENFP",
          "ESTP",
          "ESFJ",
          "ISFJ",
          "ESFP",
          "INFJ",
          "ENFP",
          "ENFP",
          "ESFJ",
          "ENFP",
          "ISFP",
          "ENFP",
          "ISTP",
          "INTP",
          "ENTJ",
          "ISFJ",
          "ESTP",
          "ENTJ",
          "ESFP",
          "ISTJ",
          "INFP",
          "ENTP",
          "INTJ",
          "ESTJ",
          "INTP",
          "ISFJ",
          "ENFP",
          "ESTJ",
          "INTP",
          "ENTP",
          "ESTJ",
          "INFP",
          "ESTP",
          "ENTJ",
          "ESTP",
          "ENFJ",
          "ESTP",
          "ISFP",
          "ESFP",
          "INFP",
          "ISTP",
          "ESFP",
          "INFP",
          "ISFP",
          "ESFJ",
          "INFJ",
          "ISTJ",
          "ISFJ",
          "ESFP",
          "ENFP",
          "ESTJ",
          "ENTJ",
          "ISTP",
          "ENFP",
          "ESFJ",
          "ENTP",
          "ENFJ",
          "ESTP",
          "ENFJ",
          "ENFJ",
          "ISTP",
          "INTJ",
          "INTP",
          "ENTJ",
          "ESFJ",
          "ISTP",
          "ESTP",
          "ESTP",
          "ISFJ",
          "ESTJ",
          "ESTJ",
          "ENTP",
          "INFP",
          "ISFJ",
          "ENTJ",
          "ENFP",
          "INFP",
          "ESFJ",
          "ESTJ",
          "ESFP",
          "ENFP",
          "INFTJ",
          "ENTP",
          "INFJ",
          "ESFP",
          "ENFP",
          "ISTP",
          "ENTJ",
          "INTP",
          "ENFJ",
          "ESTJ",
          "INTJ",
          "ESFJ",
          "INFP",
          "ISFJ",
          "ENTJ",
          "INFP",
          "ISTP",
          "INTJ",
          "ENFP",
          "INFP",
          "ENTJ",
          "INTP",
          "INTP",
          "ESFJ",
          "INFP",
          "INFJ",
          "ENTP",
          "ENTJ",
          "ISTJ",
          "ISFJ",
          "INTP",
          "ENFP",
          "INFJ",
          "ESTP",
          "ESTP",
          "ESFP",
          "INTJ",
          "INTP",
          "ESFP",
          "INFJ",
          "INTP",
          "INFJ",
          "ESTP",
          "ENTJ",
          "ESTJ",
          "ISTJ",
          "ISFP",
          "ESFJ",
          "ESFP",
          "ENTP",
          "ISFP",
          "ENTJ",
          "ESTJ",
          "ENFP",
          "INFP",
          "ISTJ",
          "ENFJ",
          "INTP",
          "ESFP",
          "ISFP",
          "ESTP",
          "ISTP",
          "ISTP",
          "ESFP",
          "ISFP",
          "ISFP",
          "INTJ",
          "ENFP",
          "ESTP",
          "ENFJ",
          "ISFJ",
          "ISFP",
          "ISTJ",
          "ISTJ",
          "ESFJ",
          "ISTP",
          "INTP",
          "ESTP",
          "ESFJ",
          "ISTJ",
          "ESFJ",
          "ENFP",
          "ISFP",
          "INFP",
          "ENTP",
          "ISFP",
          "INFJ",
          "ENTP",
          "ISTJ",
          "ESFJ",
          "ISTJ",
          "ENTJ",
          "INFJ",
          "INFJ",
          "ENTJ",
          "ENFP",
          "ISFJ",
          "ESTP",
          "ENTJ",
          "ESFP",
          "ENTP",
          "INFP",
          "ENTP",
          "ENFJ",
          "ISTP",
          "ISFP",
          "ENTJ",
          "ENTP",
          "INTP",
          "INFP",
          "ISTP",
          "ESFP",
          "ESFJ",
          "ESTJ",
          "INTP",
          "ENTJ",
          "ESFJ",
          "ESFP",
          "INFJ",
          "ESTJ",
          "ESTJ",
          "ENFJ",
          "ENTJ",
          "ISFP",
          "ISFP",
          "ENFJ",
          "ESTP",
          "ENFJ",
          "ENFP",
          "ISTJ",
          "ESFJ",
          "ISFJ",
          "INFP",
          "ESTP",
          "ISFJ",
          "ENFJ",
          "ENFJ",
          "ENFJ",
          "ENFP",
          "ESTJ",
          "ENTJ",
          "ISFP",
          "ESTP",
          "ISTP",
          "ENTP",
          "ENTJ",
          "ISTP",
          "ENFP",
          "ISFP",
          "ESTP",
          "INFP",
          "ESTJ",
          "ISFP",
          "ISFJ",
          "INFJ",
          "ENTP",
          "ISFJ",
          "ISTP",
          "INFP",
          "INFP",
          "INTP",
          "ENTP",
          "ISFJ",
          "INTJ",
          "ENFJ",
          "ENTJ",
          "INFJ",
          "ISFJ",
          "ENTP",
          "ISTJ",
          "INTJ",
          "ENTP",
          "ENTP",
          "ISFP",
          "ISTP",
          "INTP",
          "ESTJ",
          "ISFJ",
          "ESTJ",
          "INFP",
          "INFJ",
          "ISTJ",
          "INFJ",
          "INTJ",
          "ESTJ",
          "ESTJ",
          "ISTP",
          "ISFJ",
          "ESFP",
          "INFJ",
          "ISFP",
          "ISFP",
          "ENFP",
          "ISFJ",
          "INTP",
          "ESFJ",
          "ISTP",
          "ENTP",
          "ESTP",
          "ENFP",
          "INTP",
          "ISFP",
          "ESFJ",
          "ENTP",
          "ESTJ",
          "INTJ",
          "ISFJ",
          "ISTP",
          "ISTJ",
          "ISFJ",
          "INFP",
          "ISTJ",
          "ESFJ",
          "INTP",
          "ENTJ",
          "ENTJ",
          "ENFJ",
          "ENFP",
          "ENFP",
          "ISTJ",
          "ISFP",
          "INTP",
          "INFJ",
          "ENFJ",
          "ISTJ",
          "INFP",
          "ISTP",
          "ESFJ",
          "INTP",
          "ENFP",
          "ENFJ",
          "ESTP",
          "ISFJ",
          "ISFJ",
          "ENTP",
          "ENTJ",
          "ISTP",
          "ISFJ",
          "ENFP",
          "ENTP",
          "ESFJ",
          "INFJ",
          "INFJ",
          "ESFP",
          "INTP",
          "ESTJ",
          "ENTJ",
          "INTP",
          "ESTJ",
          "ENFP",
          "ISTP",
          "ENFJ",
          "ESTP",
          "INTJ",
          "INTJ",
          "ISTJ",
          "ENFP",
          "ISTP",
          "ENFP",
          "ENFJ",
          "ENFP",
          "INFJ",
          "ENFP",
          "INFP",
          "INFP",
          "INFP",
          "ENTJ",
          "INTJ",
          "ESFJ",
          "ENFP",
          "ENTJ",
          "ENFJ",
          "ESFP",
          "INTJ",
          "ENFP",
          "ENTP",
          "ESFJ",
          "ESTP",
          "ISFJ",
          "ESFP",
          "ENFJ",
          "ENTJ",
          "ISFJ",
          "ESTJ",
          "ENTJ",
          "INTP",
          "ENFP",
          "ENFP",
          "ISFJ",
          "INFP",
          "INTP",
          "ISFJ",
          "INTJ",
          "ESFP",
          "ESTJ",
          "ISTP",
          "ESTJ",
          "ISFP",
          "INFJ",
          "ENTJ",
          "ISFJ",
          "ESTJ",
          "INTJ",
          "INFP",
          "ISTJ",
          "ESTJ",
          "ISFP",
          "ENFJ",
          "ENFJ",
          "ISFJ",
          "ENFP",
          "ESTP",
          "ENFJ",
          "ISFP",
          "ISTP",
          "ISTP",
          "INTJ",
          "ENTP",
          "ISTP",
          "ENFP",
          "INTJ",
          "ESFP",
          "ESTJ",
          "ENTJ",
          "ENTP",
          "ENTP",
          "ESFP",
          "ESFJ",
          "ESTP",
          "ENTJ",
          "ESFJ",
          "ENFJ",
          "ISFJ",
          "ENFJ",
          "ENFP",
          "ESFP",
          "INFJ",
          "ENFP",
          "INFJ",
          "INFP",
          "INFJ",
          "INFJ",
          "ISTJ",
          "ISFP",
          "INTP",
          "ESFP",
          "ENTP",
          "ISTP",
          "ISFJ",
          "ESFJ",
          "ISTP",
          "INFP",
          "ESFP",
          "ENFJ",
          "ISTJ",
          "ENFP",
          "ENTJ",
          "ENFP",
          "INFJ",
          "ENTP",
          "ENFP",
          "ISFP",
          "ENFJ",
          "ESFJ",
          "ENFJ",
          "ENTJ",
          "ENFJ",
          "ISTJ",
          "INFJ",
          "ISTJ",
          "ENTJ",
          "ESFJ",
          "INTP",
          "INTJ",
          "ESFP",
          "ISFJ",
          "ISFJ",
          "ISTJ",
          "ESTP",
          "ENTJ",
          "ESFP",
          "ESTP",
          "INFP",
          "INTP",
          "ISTP",
          "ISFP",
          "ENFP",
          "INFJ",
          "ENTP",
          "ESFJ",
          "INTP",
          "ISTJ",
          "ENFP",
          "INFP",
          "ESTJ",
          "INTJ",
          "INFP",
          "ENFP",
          "ESFP",
          "INFJ",
          "INFJ",
          "INTP",
          "ENFP",
          "ENFP",
          "ISFP",
          "ESFJ",
          "INTP",
          "INTP",
          "ISFJ",
          "ESTP",
          "INFP",
          "ESTJ",
          "ENTJ",
          "ENFP",
          "ESFJ",
          "ENFP",
          "INTJ",
          "ESTP",
          "ISTP",
          "ESFJ",
          "INFP",
          "ESFP",
          "INTP",
          "INTP",
          "INTJ",
          "ESFJ",
          "ISTJ",
          "ISTJ",
          "INTP",
          "INFP",
          "ISTP",
          "INTP",
          "ENFP",
          "ESTP",
          "INFP",
          "INFJ",
          "ENTP",
          "ISFJ",
          "ISTJ",
          "INTJ",
          "INFJ",
          "ENFP",
          "ENFP",
          "ESTP",
          "ESFP",
          "ESTP",
          "ENTP",
          "INTP",
          "ENFJ",
          "INTJ",
          "ESFJ",
          "ENTJ",
          "ISTP",
          "ISFJ",
          "ISTJ",
          "ISFP",
          "ESTP",
          "INTJ",
          "INTP",
          "INTJ",
          "INFP",
          "INTJ",
          "INFP",
          "ISTJ",
          "ENFP",
          "INTJ",
          "ISTP",
          "INTJ",
          "ESTJ",
          "ISTP",
          "ESFJ",
          "ENFP",
          "INTJ",
          "INFP",
          "INFP",
          "ISFJ",
          "ISTP",
          "ENFJ",
          "ENTJ",
          "ISFJ",
          "INFP",
          "INFP",
          "ISFJ",
          "ISFP",
          "ISTP",
          "INTJ",
          "ISFP",
          "ENFP",
          "ISFJ",
          "ENFJ",
          "INTP",
          "ESFP",
          "ISTP",
          "INTP",
          "ENFP",
          "ESTJ",
          "ESTP",
          "ENTP",
          "INFP",
          "ISTP",
          "INFP",
          "ENTJ",
          "ISFP",
          "ISTJ",
          "ISFP",
          "ENFP",
          "ESFP",
          "ESFJ",
          "ENTP",
          "ISFP",
          "ESTP",
          "INFP",
          "INTP",
          "INFJ",
          "ESTJ",
          "ENFP",
          "ENFJ",
          "ESTP",
          "ENFP",
          "ISTJ",
          "ENFP",
          "INTP",
          "ISTJ",
          "ENTP",
          "ISFJ",
          "ESTJ",
          "ESTJ",
          "ESTP",
          "ISTP",
          "INFJ",
          "ESTP",
          "ENTP",
          "ESTJ",
          "ENTP",
          "ENFJ",
          "INTP",
          "INFJ",
          "ENFJ",
          "ESTP",
          "ISTP",
          "ENFP",
          "ENTJ",
          "ENFP",
          "ESTP",
          "INFP",
          "INFJ",
          "ESTP",
          "ENFP",
          "ENTJ",
          "INFJ",
          "ENFJ",
          "ENFJ",
          "ESFP",
          "ESTJ",
          "ENFJ",
          "ENTJ",
          "ISFJ",
          "ISFJ",
          "ISFP",
          "INFJ",
          "ISFP",
          "ESFP",
          "INTJ",
          "ENFJ",
          "ESTJ",
          "ESFJ",
          "ISFP",
          "ESTP",
          "ENTP",
          "ESFJ",
          "INTJ",
          "INTP",
          "ESFP",
          "ESFJ",
          "ESFP",
          "ESTJ",
          "ENFP",
          "ISFP",
          "INTJ",
          "INFP",
          "INFP",
          "ISTJ",
          "INFJ",
          "ESFJ",
          "ISFP",
          "ESTJ",
          "ENFJ",
          "ESFJ",
          "INTJ",
          "INTP",
          "INFJ",
          "ENFP",
          "ENTJ",
          "ENTJ",
          "ESFJ",
          "ENTP",
          "ENFJ",
          "INTJ",
          "ENFJ",
          "ENFJ",
          "ESTP",
          "ENFP",
          "INTP",
          "INFP",
          "ESFP",
          "ESFJ",
          "INTP",
          "INTJ",
          "INTP",
          "ESTP",
          "ISFP",
          "INFJ",
          "INTJ",
          "ISTJ",
          "ENFJ",
          "ESFP",
          "ENFP",
          "INFJ",
          "ISFJ",
          "INTP",
          "ISFJ",
          "ESTP",
          "ENTP",
          "ESFJ",
          "ESFP",
          "ESFP",
          "ESFP",
          "ESFP",
          "ISTJ",
          "INFJ",
          "INFTJ",
          "INFP",
          "ENFP",
          "ISTJ",
          "ISTJ",
          "ISFP",
          "ESTP",
          "INTJ",
          "ISTP",
          "ISTP",
          "ISFJ",
          "ENFP",
          "ENFP",
          "ESTP",
          "ISTP",
          "ESTP",
          "ESFP",
          "INTP",
          "ENTJ",
          "INFJ",
          "ISFP",
          "ISTP",
          "INTP",
          "INFP",
          "ESFP",
          "ISTP",
          "ENFP",
          "ESFJ",
          "ESFP",
          "ENFJ",
          "ENTP",
          "ENTJ",
          "INFJ",
          "ISTP",
          "INTJ",
          "ESFP",
          "ESFP",
          "INTP",
          "ISTP",
          "ESTJ",
          "ISTJ",
          "INFP",
          "ISTJ",
          "INFP",
          "ESTJ",
          "ESFJ",
          "ISTP",
          "ISTP",
          "ISTJ",
          "ESTJ",
          "ISTP",
          "ENTJ",
          "ISTJ",
          "INTP",
          "ESFP",
          "ENFP",
          "ESFP",
          "ISFP",
          "ISFJ",
          "INTP",
          "ISFJ",
          "ENFJ",
          "ENFP",
          "INFP",
          "ENFJ",
          "ESTJ",
          "ISFJ",
          "ISFJ",
          "ISTJ",
          "ENTJ",
          "ENTJ",
          "ISTP",
          "INTP",
          "ISTJ",
          "INTP",
          "ENTP",
          "ESTJ",
          "ENFP",
          "ISTJ",
          "ISTP",
          "ENFP",
          "INFP",
          "INFJ",
          "ENFP",
          "ISTJ",
          "ESTP",
          "ENFJ",
          "INTJ",
          "ENTJ",
          "INFP",
          "ENTJ",
          "ISTP",
          "ESFP",
          "ESTP",
          "INTP",
          "INTP",
          "ISFJ",
          "INFJ",
          "ESTJ",
          "ISTJ",
          "INTP",
          "INFJ",
          "INTP",
          "INFP",
          "INFP",
          "INFP",
          "INFP",
          "ISTJ",
          "ENFP",
          "INFJ",
          "ISTP",
          "INTJ",
          "ISTJ",
          "ESTJ",
          "ENTJ",
          "INFJ",
          "INFP",
          "INTJ",
          "ENFP",
          "ISFP",
          "ISFJ",
          "ESFJ",
          "ESTP",
          "ISTJ",
          "ENTJ",
          "ESFJ",
          "ENFP",
          "ENFJ",
          "INFJ",
          "INTP",
          "ESFP",
          "ENTP",
          "INFP",
          "INTP",
          "ENTP",
          "ISTJ",
          "INFP",
          "ENTP",
          "INTP",
          "ESFP",
          "ENFP",
          "ENTP",
          "INTJ",
          "ENFJ",
          "ENTP",
          "INFP",
          "ISTJ",
          "INFP",
          "ESTP",
          "INFJ",
          "INFP",
          "INTJ",
          "ENFJ",
          "INFP",
          "ENFJ",
          "ISTJ",
          "ESFP",
          "ENTJ",
          "ESFP",
          "ISTJ",
          "ESFJ",
          "INTP",
          "ESTJ",
          "INFJ",
          "ENFJ",
          "ISFJ",
          "ISFJ",
          "ISFP",
          "ISFP",
          "ISFP",
          "ISTJ",
          "INTJ",
          "ESFJ",
          "ENFJ",
          "ENTP",
          "INFJ",
          "ISTP",
          "ESTJ",
          "INTP",
          "INTP",
          "ENFP",
          "ESFP",
          "ESTJ",
          "ISTJ",
          "ENFJ",
          "ISTJ",
          "ENFJ",
          "ESFJ",
          "ISFP",
          "INFP",
          "ISFJ",
          "ESFJ",
          "ISTJ",
          "ENTJ",
          "INFJ",
          "ESTP",
          "ISFJ",
          "ENTP",
          "INTJ",
          "ISFP",
          "ENTP",
          "INFP",
          "INFJ",
          "ESFJ",
          "INTP",
          "ENTJ",
          "ENTJ",
          "ESFP",
          "INFP",
          "ESTP",
          "ENFJ",
          "ISFJ",
          "ESFP",
          "ENFJ",
          "ISTJ",
          "ESTJ",
          "ESTP",
          "ENTP",
          "INTP",
          "ESTJ",
          "INTJ",
          "ISFJ",
          "ENFP",
          "ENFP",
          "ISFP",
          "INTJ",
          "INTP",
          "ENFJ",
          "ISTJ",
          "ISTJ",
          "ISFP",
          "ISFP",
          "INFJ",
          "INTJ",
          "ENFJ",
          "ISFJ",
          "INTJ",
          "INFP",
          "ENFP",
          "ESTP",
          "ENFP",
          "INFP",
          "ESFP",
          "ISTP",
          "ESTJ",
          "ENTP",
          "ENFP",
          "INFP",
          "ESFJ",
          "ISTP",
          "ENFP",
          "ENFP",
          "INTJ",
          "ISFP",
          "ISTJ",
          "INFP",
          "ESFP",
          "INFJ",
          "ENTP",
          "ISTP",
          "ESTJ",
          "INTP",
          "ISFJ",
          "ISFJ",
          "ENTJ",
          "ISTP",
          "ISTJ",
          "INTP",
          "ESFP",
          "ISFJ",
          "ISTJ",
          "ESFJ",
          "ISFP",
          "ENFP",
          "ISTJ",
          "ESTP",
          "ENFP",
          "INFP",
          "INTP",
          "INTP",
          "INFJ",
          "ENFJ",
          "ENTJ",
          "ENTP",
          "ESFJ",
          "ENFJ",
          "ISFP",
          "INTJ",
          "ENFJ",
          "ENFP",
          "ISFJ",
          "INFP",
          "ISFP",
          "ISFP",
          "ENFP",
          "ISFP",
          "ESTJ",
          "ENFJ",
          "ENTJ",
          "ESTJ",
          "ENFJ",
          "ENTP",
          "ENTP",
          "ISFP",
          "ESTP",
          "ISFP",
          "INFP",
          "INTP",
          "ENFJ",
          "ISTJ",
          "ISFJ",
          "ENTP",
          "INTJ",
          "ENFP",
          "ISTJ",
          "INFJ",
          "ENFJ",
          "ISTJ",
          "ESTJ",
          "ISTP",
          "ENTJ",
          "ENTP",
          "INFJ",
          "ENTJ",
          "ENFP",
          "ISFP",
          "INTP",
          "ENFJ",
          "ISTP",
          "INFJ",
          "ENFJ",
          "ISFP",
          "ISFP",
          "INTP",
          "ESFJ",
          "ISFJ",
          "ESTJ",
          "ENTP",
          "ENFJ",
          "ISTP",
          "ENTP",
          "ESFP",
          "ESFP",
          "ENFP",
          "ESFP",
          "ISFP",
          "ENTJ",
          "ISTP",
          "ESFP",
          "ESTP",
          "ESTJ",
          "ISTJ",
          "INTP",
          "ESFJ",
          "ISTP",
          "ISFP",
          "ENFJ",
          "ENTP",
          "INFJ",
          "INTP",
          "ESTP",
          "INTJ",
          "ENFJ",
          "INTJ",
          "ESFJ",
          "INFJ",
          "INFP",
          "ESFJ",
          "INFP",
          "ENTP",
          "INTP",
          "INFP",
          "ISTP",
          "INFJ",
          "INTP",
          "ENFJ",
          "ISFP",
          "ISTJ",
          "ESFJ",
          "ISFJ",
          "INFP",
          "ESFJ",
          "INFJ",
          "ISFP",
          "ENFP",
          "INFJ",
          "INFJ",
          "ENTJ",
          "ISFJ",
          "ESFP",
          "ENFJ",
          "ENTP",
          "INTP",
          "ISTP",
          "INFP",
          "ESFP",
          "ENTP",
          "ESFP",
          "ISTJ",
          "ESFP",
          "ISFJ",
          "ENTJ",
          "ESFJ"
         ],
         "xaxis": "x",
         "yaxis": "y"
        },
        {
         "alignmentgroup": "True",
         "bingroup": "x",
         "histnorm": "percent",
         "hovertemplate": "is_top_performer=True<br>mbti=%{x}<br>percent=%{y}<extra></extra>",
         "legendgroup": "True",
         "marker": {
          "color": "#EF553B",
          "pattern": {
           "shape": ""
          }
         },
         "name": "True",
         "offsetgroup": "True",
         "orientation": "v",
         "showlegend": true,
         "type": "histogram",
         "x": [
          "ESTJ",
          "ENFP",
          "ISFJ",
          "ESTP",
          "ESFJ",
          "ISFP",
          "ISTJ",
          "ISTJ",
          "ISTJ",
          "ENTP",
          "INTP",
          "ESTJ",
          "INFJ",
          "ENTP",
          "ISFP",
          "ENFP",
          "ESFJ",
          "INTP",
          "ISTP",
          "ENFP",
          "ENTJ",
          "ENTJ",
          "ISFP",
          "ISFP",
          "ENTJ",
          "ESFP",
          "ISTJ",
          "ENTP",
          "ISTJ",
          "ISTP",
          "INTP",
          "ENTJ",
          "ISFJ",
          "ISFP",
          "ESTP",
          "ENFJ",
          "ENFJ",
          "ISFJ",
          "ESFP",
          "ENFJ",
          "ISTP",
          "ENTJ",
          "ISTP",
          "ISTP",
          "INFP",
          "ISFP",
          "ISFJ",
          "ESTP",
          "INTJ",
          "ENTJ",
          "ENTP",
          "ISTP",
          "ISTP",
          "ENFJ",
          "ESTP",
          "INTJ",
          "ISFP",
          "ISTP",
          "ENFP",
          "ISFJ",
          "ENFJ",
          "ISTP",
          "ENFJ",
          "ISFP",
          "ISFP",
          "INFJ",
          "ISFP",
          "INTJ",
          "ESFJ",
          "ENFJ",
          "ESTP",
          "ESTJ",
          "ISTJ",
          "INTJ",
          "ESFJ",
          "INFP",
          "ESTJ",
          "ESTP",
          "INFJ",
          "ESFJ",
          "ISFP",
          "INTP",
          "ENTP",
          "INTP",
          "ESTJ",
          "ENFP",
          "ISFP",
          "ENFP",
          "ESTJ",
          "ENFP",
          "ENTJ",
          "INFJ",
          "ISFJ",
          "ISFJ",
          "ENFP",
          "ISTP",
          "ISTJ",
          "ENFP",
          "INFP",
          "ENFP",
          "ENTP",
          "ESFP",
          "ISFP",
          "ENTP",
          "INTJ",
          "ENTJ",
          "ESTJ",
          "ESTP",
          "ISTJ",
          "ISFJ",
          "ESFJ",
          "INFP",
          "INTP",
          "INFJ",
          "ESTP",
          "ENTP",
          "INTJ",
          "ENFJ",
          "ENFP",
          "ESFJ",
          "ENFP",
          "ESFJ",
          "INFP",
          "ISFJ",
          "ENTP",
          "ENTP",
          "ENFP",
          "ESTP",
          "INFP",
          "ENFP",
          "ISTP",
          "INTP",
          "ISTP",
          "ENTJ",
          "ENFP",
          "ISTP",
          "ENFJ",
          "ESFJ",
          "INFJ",
          "INTJ",
          "ENTP",
          "ENTP",
          "ESTJ",
          "ENFP",
          "ESFJ",
          "INFP",
          "ESFJ",
          "ESFP",
          "ENFJ",
          "ENTP",
          "ISFP",
          "ISTJ",
          "ISFP",
          "ISTJ"
         ],
         "xaxis": "x",
         "yaxis": "y"
        }
       ],
       "layout": {
        "barmode": "group",
        "legend": {
         "title": {
          "text": "is_top_performer"
         },
         "tracegroupgap": 0
        },
        "template": {
         "data": {
          "bar": [
           {
            "error_x": {
             "color": "#2a3f5f"
            },
            "error_y": {
             "color": "#2a3f5f"
            },
            "marker": {
             "line": {
              "color": "#E5ECF6",
              "width": 0.5
             },
             "pattern": {
              "fillmode": "overlay",
              "size": 10,
              "solidity": 0.2
             }
            },
            "type": "bar"
           }
          ],
          "barpolar": [
           {
            "marker": {
             "line": {
              "color": "#E5ECF6",
              "width": 0.5
             },
             "pattern": {
              "fillmode": "overlay",
              "size": 10,
              "solidity": 0.2
             }
            },
            "type": "barpolar"
           }
          ],
          "carpet": [
           {
            "aaxis": {
             "endlinecolor": "#2a3f5f",
             "gridcolor": "white",
             "linecolor": "white",
             "minorgridcolor": "white",
             "startlinecolor": "#2a3f5f"
            },
            "baxis": {
             "endlinecolor": "#2a3f5f",
             "gridcolor": "white",
             "linecolor": "white",
             "minorgridcolor": "white",
             "startlinecolor": "#2a3f5f"
            },
            "type": "carpet"
           }
          ],
          "choropleth": [
           {
            "colorbar": {
             "outlinewidth": 0,
             "ticks": ""
            },
            "type": "choropleth"
           }
          ],
          "contour": [
           {
            "colorbar": {
             "outlinewidth": 0,
             "ticks": ""
            },
            "colorscale": [
             [
              0,
              "#0d0887"
             ],
             [
              0.1111111111111111,
              "#46039f"
             ],
             [
              0.2222222222222222,
              "#7201a8"
             ],
             [
              0.3333333333333333,
              "#9c179e"
             ],
             [
              0.4444444444444444,
              "#bd3786"
             ],
             [
              0.5555555555555556,
              "#d8576b"
             ],
             [
              0.6666666666666666,
              "#ed7953"
             ],
             [
              0.7777777777777778,
              "#fb9f3a"
             ],
             [
              0.8888888888888888,
              "#fdca26"
             ],
             [
              1,
              "#f0f921"
             ]
            ],
            "type": "contour"
           }
          ],
          "contourcarpet": [
           {
            "colorbar": {
             "outlinewidth": 0,
             "ticks": ""
            },
            "type": "contourcarpet"
           }
          ],
          "heatmap": [
           {
            "colorbar": {
             "outlinewidth": 0,
             "ticks": ""
            },
            "colorscale": [
             [
              0,
              "#0d0887"
             ],
             [
              0.1111111111111111,
              "#46039f"
             ],
             [
              0.2222222222222222,
              "#7201a8"
             ],
             [
              0.3333333333333333,
              "#9c179e"
             ],
             [
              0.4444444444444444,
              "#bd3786"
             ],
             [
              0.5555555555555556,
              "#d8576b"
             ],
             [
              0.6666666666666666,
              "#ed7953"
             ],
             [
              0.7777777777777778,
              "#fb9f3a"
             ],
             [
              0.8888888888888888,
              "#fdca26"
             ],
             [
              1,
              "#f0f921"
             ]
            ],
            "type": "heatmap"
           }
          ],
          "heatmapgl": [
           {
            "colorbar": {
             "outlinewidth": 0,
             "ticks": ""
            },
            "colorscale": [
             [
              0,
              "#0d0887"
             ],
             [
              0.1111111111111111,
              "#46039f"
             ],
             [
              0.2222222222222222,
              "#7201a8"
             ],
             [
              0.3333333333333333,
              "#9c179e"
             ],
             [
              0.4444444444444444,
              "#bd3786"
             ],
             [
              0.5555555555555556,
              "#d8576b"
             ],
             [
              0.6666666666666666,
              "#ed7953"
             ],
             [
              0.7777777777777778,
              "#fb9f3a"
             ],
             [
              0.8888888888888888,
              "#fdca26"
             ],
             [
              1,
              "#f0f921"
             ]
            ],
            "type": "heatmapgl"
           }
          ],
          "histogram": [
           {
            "marker": {
             "pattern": {
              "fillmode": "overlay",
              "size": 10,
              "solidity": 0.2
             }
            },
            "type": "histogram"
           }
          ],
          "histogram2d": [
           {
            "colorbar": {
             "outlinewidth": 0,
             "ticks": ""
            },
            "colorscale": [
             [
              0,
              "#0d0887"
             ],
             [
              0.1111111111111111,
              "#46039f"
             ],
             [
              0.2222222222222222,
              "#7201a8"
             ],
             [
              0.3333333333333333,
              "#9c179e"
             ],
             [
              0.4444444444444444,
              "#bd3786"
             ],
             [
              0.5555555555555556,
              "#d8576b"
             ],
             [
              0.6666666666666666,
              "#ed7953"
             ],
             [
              0.7777777777777778,
              "#fb9f3a"
             ],
             [
              0.8888888888888888,
              "#fdca26"
             ],
             [
              1,
              "#f0f921"
             ]
            ],
            "type": "histogram2d"
           }
          ],
          "histogram2dcontour": [
           {
            "colorbar": {
             "outlinewidth": 0,
             "ticks": ""
            },
            "colorscale": [
             [
              0,
              "#0d0887"
             ],
             [
              0.1111111111111111,
              "#46039f"
             ],
             [
              0.2222222222222222,
              "#7201a8"
             ],
             [
              0.3333333333333333,
              "#9c179e"
             ],
             [
              0.4444444444444444,
              "#bd3786"
             ],
             [
              0.5555555555555556,
              "#d8576b"
             ],
             [
              0.6666666666666666,
              "#ed7953"
             ],
             [
              0.7777777777777778,
              "#fb9f3a"
             ],
             [
              0.8888888888888888,
              "#fdca26"
             ],
             [
              1,
              "#f0f921"
             ]
            ],
            "type": "histogram2dcontour"
           }
          ],
          "mesh3d": [
           {
            "colorbar": {
             "outlinewidth": 0,
             "ticks": ""
            },
            "type": "mesh3d"
           }
          ],
          "parcoords": [
           {
            "line": {
             "colorbar": {
              "outlinewidth": 0,
              "ticks": ""
             }
            },
            "type": "parcoords"
           }
          ],
          "pie": [
           {
            "automargin": true,
            "type": "pie"
           }
          ],
          "scatter": [
           {
            "fillpattern": {
             "fillmode": "overlay",
             "size": 10,
             "solidity": 0.2
            },
            "type": "scatter"
           }
          ],
          "scatter3d": [
           {
            "line": {
             "colorbar": {
              "outlinewidth": 0,
              "ticks": ""
             }
            },
            "marker": {
             "colorbar": {
              "outlinewidth": 0,
              "ticks": ""
             }
            },
            "type": "scatter3d"
           }
          ],
          "scattercarpet": [
           {
            "marker": {
             "colorbar": {
              "outlinewidth": 0,
              "ticks": ""
             }
            },
            "type": "scattercarpet"
           }
          ],
          "scattergeo": [
           {
            "marker": {
             "colorbar": {
              "outlinewidth": 0,
              "ticks": ""
             }
            },
            "type": "scattergeo"
           }
          ],
          "scattergl": [
           {
            "marker": {
             "colorbar": {
              "outlinewidth": 0,
              "ticks": ""
             }
            },
            "type": "scattergl"
           }
          ],
          "scattermapbox": [
           {
            "marker": {
             "colorbar": {
              "outlinewidth": 0,
              "ticks": ""
             }
            },
            "type": "scattermapbox"
           }
          ],
          "scatterpolar": [
           {
            "marker": {
             "colorbar": {
              "outlinewidth": 0,
              "ticks": ""
             }
            },
            "type": "scatterpolar"
           }
          ],
          "scatterpolargl": [
           {
            "marker": {
             "colorbar": {
              "outlinewidth": 0,
              "ticks": ""
             }
            },
            "type": "scatterpolargl"
           }
          ],
          "scatterternary": [
           {
            "marker": {
             "colorbar": {
              "outlinewidth": 0,
              "ticks": ""
             }
            },
            "type": "scatterternary"
           }
          ],
          "surface": [
           {
            "colorbar": {
             "outlinewidth": 0,
             "ticks": ""
            },
            "colorscale": [
             [
              0,
              "#0d0887"
             ],
             [
              0.1111111111111111,
              "#46039f"
             ],
             [
              0.2222222222222222,
              "#7201a8"
             ],
             [
              0.3333333333333333,
              "#9c179e"
             ],
             [
              0.4444444444444444,
              "#bd3786"
             ],
             [
              0.5555555555555556,
              "#d8576b"
             ],
             [
              0.6666666666666666,
              "#ed7953"
             ],
             [
              0.7777777777777778,
              "#fb9f3a"
             ],
             [
              0.8888888888888888,
              "#fdca26"
             ],
             [
              1,
              "#f0f921"
             ]
            ],
            "type": "surface"
           }
          ],
          "table": [
           {
            "cells": {
             "fill": {
              "color": "#EBF0F8"
             },
             "line": {
              "color": "white"
             }
            },
            "header": {
             "fill": {
              "color": "#C8D4E3"
             },
             "line": {
              "color": "white"
             }
            },
            "type": "table"
           }
          ]
         },
         "layout": {
          "annotationdefaults": {
           "arrowcolor": "#2a3f5f",
           "arrowhead": 0,
           "arrowwidth": 1
          },
          "autotypenumbers": "strict",
          "coloraxis": {
           "colorbar": {
            "outlinewidth": 0,
            "ticks": ""
           }
          },
          "colorscale": {
           "diverging": [
            [
             0,
             "#8e0152"
            ],
            [
             0.1,
             "#c51b7d"
            ],
            [
             0.2,
             "#de77ae"
            ],
            [
             0.3,
             "#f1b6da"
            ],
            [
             0.4,
             "#fde0ef"
            ],
            [
             0.5,
             "#f7f7f7"
            ],
            [
             0.6,
             "#e6f5d0"
            ],
            [
             0.7,
             "#b8e186"
            ],
            [
             0.8,
             "#7fbc41"
            ],
            [
             0.9,
             "#4d9221"
            ],
            [
             1,
             "#276419"
            ]
           ],
           "sequential": [
            [
             0,
             "#0d0887"
            ],
            [
             0.1111111111111111,
             "#46039f"
            ],
            [
             0.2222222222222222,
             "#7201a8"
            ],
            [
             0.3333333333333333,
             "#9c179e"
            ],
            [
             0.4444444444444444,
             "#bd3786"
            ],
            [
             0.5555555555555556,
             "#d8576b"
            ],
            [
             0.6666666666666666,
             "#ed7953"
            ],
            [
             0.7777777777777778,
             "#fb9f3a"
            ],
            [
             0.8888888888888888,
             "#fdca26"
            ],
            [
             1,
             "#f0f921"
            ]
           ],
           "sequentialminus": [
            [
             0,
             "#0d0887"
            ],
            [
             0.1111111111111111,
             "#46039f"
            ],
            [
             0.2222222222222222,
             "#7201a8"
            ],
            [
             0.3333333333333333,
             "#9c179e"
            ],
            [
             0.4444444444444444,
             "#bd3786"
            ],
            [
             0.5555555555555556,
             "#d8576b"
            ],
            [
             0.6666666666666666,
             "#ed7953"
            ],
            [
             0.7777777777777778,
             "#fb9f3a"
            ],
            [
             0.8888888888888888,
             "#fdca26"
            ],
            [
             1,
             "#f0f921"
            ]
           ]
          },
          "colorway": [
           "#636efa",
           "#EF553B",
           "#00cc96",
           "#ab63fa",
           "#FFA15A",
           "#19d3f3",
           "#FF6692",
           "#B6E880",
           "#FF97FF",
           "#FECB52"
          ],
          "font": {
           "color": "#2a3f5f"
          },
          "geo": {
           "bgcolor": "white",
           "lakecolor": "white",
           "landcolor": "#E5ECF6",
           "showlakes": true,
           "showland": true,
           "subunitcolor": "white"
          },
          "hoverlabel": {
           "align": "left"
          },
          "hovermode": "closest",
          "mapbox": {
           "style": "light"
          },
          "paper_bgcolor": "white",
          "plot_bgcolor": "#E5ECF6",
          "polar": {
           "angularaxis": {
            "gridcolor": "white",
            "linecolor": "white",
            "ticks": ""
           },
           "bgcolor": "#E5ECF6",
           "radialaxis": {
            "gridcolor": "white",
            "linecolor": "white",
            "ticks": ""
           }
          },
          "scene": {
           "xaxis": {
            "backgroundcolor": "#E5ECF6",
            "gridcolor": "white",
            "gridwidth": 2,
            "linecolor": "white",
            "showbackground": true,
            "ticks": "",
            "zerolinecolor": "white"
           },
           "yaxis": {
            "backgroundcolor": "#E5ECF6",
            "gridcolor": "white",
            "gridwidth": 2,
            "linecolor": "white",
            "showbackground": true,
            "ticks": "",
            "zerolinecolor": "white"
           },
           "zaxis": {
            "backgroundcolor": "#E5ECF6",
            "gridcolor": "white",
            "gridwidth": 2,
            "linecolor": "white",
            "showbackground": true,
            "ticks": "",
            "zerolinecolor": "white"
           }
          },
          "shapedefaults": {
           "line": {
            "color": "#2a3f5f"
           }
          },
          "ternary": {
           "aaxis": {
            "gridcolor": "white",
            "linecolor": "white",
            "ticks": ""
           },
           "baxis": {
            "gridcolor": "white",
            "linecolor": "white",
            "ticks": ""
           },
           "bgcolor": "#E5ECF6",
           "caxis": {
            "gridcolor": "white",
            "linecolor": "white",
            "ticks": ""
           }
          },
          "title": {
           "x": 0.05
          },
          "xaxis": {
           "automargin": true,
           "gridcolor": "white",
           "linecolor": "white",
           "ticks": "",
           "title": {
            "standoff": 15
           },
           "zerolinecolor": "white",
           "zerolinewidth": 2
          },
          "yaxis": {
           "automargin": true,
           "gridcolor": "white",
           "linecolor": "white",
           "ticks": "",
           "title": {
            "standoff": 15
           },
           "zerolinecolor": "white",
           "zerolinewidth": 2
          }
         }
        },
        "title": {
         "text": "Distribusi Tipe MBTI per Grup"
        },
        "xaxis": {
         "anchor": "y",
         "categoryorder": "total descending",
         "domain": [
          0,
          1
         ],
         "title": {
          "text": "mbti"
         }
        },
        "yaxis": {
         "anchor": "x",
         "domain": [
          0,
          1
         ],
         "title": {
          "text": "Persentase dalam Grup (%)"
         }
        }
       }
      }
     },
     "metadata": {},
     "output_type": "display_data"
    }
   ],
   "source": [
    "# Analisis MBTI\n",
    "fig_mbti = px.histogram(df_main.dropna(subset=['mbti']),\n",
    "                        x='mbti',\n",
    "                        color='is_top_performer',\n",
    "                        barmode='group',\n",
    "                        histnorm='percent',\n",
    "                        title='Distribusi Tipe MBTI per Grup')\n",
    "fig_mbti.update_layout(yaxis_title=\"Persentase dalam Grup (%)\", xaxis={'categoryorder':'total descending'})\n",
    "fig_mbti.show()"
   ]
  },
  {
   "cell_type": "markdown",
   "id": "2ba47cd7",
   "metadata": {},
   "source": [
    "### Interpretasi"
   ]
  },
  {
   "cell_type": "markdown",
   "id": "cfb3db89",
   "metadata": {},
   "source": [
    "Jika bukan IQ yang menjadi pembeda utama, lalu apa? Mari kita lihat profil kepribadian mereka. Grafik ini menunjukkan tipe-tipe MBTI mana yang lebih dominan di masing-masing grup. Di sini, kita melihat pola yang sangat jelas. Tipe-tipe seperti ENFP, ISFP, dan ISTP menunjukkan proporsi yang jauh lebih tinggi di kalangan top performer (batang oranye) dibandingkan dengan populasi karyawan lainnya. Sebaliknya, tipe-tipe yang cenderung lebih introvert dan intuitif seperti INTP dan INTJ justru jauh lebih jarang kita temukan di grup berkinerja puncak.\n",
    "\n",
    "Apa cerita di balik pola ini?\n",
    "\n",
    "Ini menunjukkan bahwa ada gaya kerja dan interaksi tertentu yang tampaknya sangat cocok dengan budaya dan tuntutan pekerjaan di perusahaan kita. Dominasi tipe ENFP dan ISFP bisa mengindikasikan bahwa kreativitas, kemampuan beradaptasi, dan kecerdasan emosional dalam berinteraksi dengan orang lain adalah kunci sukses. Kehadiran ISTP juga menyoroti pentingnya pendekatan yang praktis, logis, dan berorientasi pada penyelesaian masalah secara langsung. Jadi, temuan kunci kita di sini adalah: **kesuksesan tidak hanya ditentukan oleh kecerdasan, tetapi juga oleh kecocokan profil kepribadian**. Kita tampaknya lebih menghargai talenta yang adaptif, berorientasi pada tindakan praktis, dan mampu berkolaborasi secara efektif, daripada mereka yang cenderung bekerja secara teoretis dan mandiri."
   ]
  },
  {
   "cell_type": "markdown",
   "id": "a9c68592",
   "metadata": {},
   "source": [
    "# Eksplorasi Faktor Perilaku"
   ]
  },
  {
   "cell_type": "code",
   "execution_count": 11,
   "id": "b45a9fd2",
   "metadata": {},
   "outputs": [
    {
     "data": {
      "application/vnd.plotly.v1+json": {
       "config": {
        "plotlyServerURL": "https://plot.ly"
       },
       "data": [
        {
         "alignmentgroup": "True",
         "hovertemplate": "Tema Bakat (Strength)=%{x}<br>Jumlah Karyawan=%{y}<extra></extra>",
         "legendgroup": "",
         "marker": {
          "color": "#FF6347",
          "pattern": {
           "shape": ""
          }
         },
         "name": "",
         "offsetgroup": "",
         "orientation": "v",
         "showlegend": false,
         "textposition": "auto",
         "texttemplate": "%{y}",
         "type": "bar",
         "x": [
          "Futuristic",
          "Restorative",
          "Self-Assurance",
          "Intellection",
          "Activator",
          "Analytical",
          "Positivity",
          "Belief",
          "Focus",
          "Empathy"
         ],
         "xaxis": "x",
         "y": [
          34,
          33,
          31,
          30,
          29,
          26,
          25,
          25,
          24,
          24
         ],
         "yaxis": "y"
        }
       ],
       "layout": {
        "barmode": "relative",
        "legend": {
         "tracegroupgap": 0
        },
        "template": {
         "data": {
          "bar": [
           {
            "error_x": {
             "color": "#2a3f5f"
            },
            "error_y": {
             "color": "#2a3f5f"
            },
            "marker": {
             "line": {
              "color": "#E5ECF6",
              "width": 0.5
             },
             "pattern": {
              "fillmode": "overlay",
              "size": 10,
              "solidity": 0.2
             }
            },
            "type": "bar"
           }
          ],
          "barpolar": [
           {
            "marker": {
             "line": {
              "color": "#E5ECF6",
              "width": 0.5
             },
             "pattern": {
              "fillmode": "overlay",
              "size": 10,
              "solidity": 0.2
             }
            },
            "type": "barpolar"
           }
          ],
          "carpet": [
           {
            "aaxis": {
             "endlinecolor": "#2a3f5f",
             "gridcolor": "white",
             "linecolor": "white",
             "minorgridcolor": "white",
             "startlinecolor": "#2a3f5f"
            },
            "baxis": {
             "endlinecolor": "#2a3f5f",
             "gridcolor": "white",
             "linecolor": "white",
             "minorgridcolor": "white",
             "startlinecolor": "#2a3f5f"
            },
            "type": "carpet"
           }
          ],
          "choropleth": [
           {
            "colorbar": {
             "outlinewidth": 0,
             "ticks": ""
            },
            "type": "choropleth"
           }
          ],
          "contour": [
           {
            "colorbar": {
             "outlinewidth": 0,
             "ticks": ""
            },
            "colorscale": [
             [
              0,
              "#0d0887"
             ],
             [
              0.1111111111111111,
              "#46039f"
             ],
             [
              0.2222222222222222,
              "#7201a8"
             ],
             [
              0.3333333333333333,
              "#9c179e"
             ],
             [
              0.4444444444444444,
              "#bd3786"
             ],
             [
              0.5555555555555556,
              "#d8576b"
             ],
             [
              0.6666666666666666,
              "#ed7953"
             ],
             [
              0.7777777777777778,
              "#fb9f3a"
             ],
             [
              0.8888888888888888,
              "#fdca26"
             ],
             [
              1,
              "#f0f921"
             ]
            ],
            "type": "contour"
           }
          ],
          "contourcarpet": [
           {
            "colorbar": {
             "outlinewidth": 0,
             "ticks": ""
            },
            "type": "contourcarpet"
           }
          ],
          "heatmap": [
           {
            "colorbar": {
             "outlinewidth": 0,
             "ticks": ""
            },
            "colorscale": [
             [
              0,
              "#0d0887"
             ],
             [
              0.1111111111111111,
              "#46039f"
             ],
             [
              0.2222222222222222,
              "#7201a8"
             ],
             [
              0.3333333333333333,
              "#9c179e"
             ],
             [
              0.4444444444444444,
              "#bd3786"
             ],
             [
              0.5555555555555556,
              "#d8576b"
             ],
             [
              0.6666666666666666,
              "#ed7953"
             ],
             [
              0.7777777777777778,
              "#fb9f3a"
             ],
             [
              0.8888888888888888,
              "#fdca26"
             ],
             [
              1,
              "#f0f921"
             ]
            ],
            "type": "heatmap"
           }
          ],
          "heatmapgl": [
           {
            "colorbar": {
             "outlinewidth": 0,
             "ticks": ""
            },
            "colorscale": [
             [
              0,
              "#0d0887"
             ],
             [
              0.1111111111111111,
              "#46039f"
             ],
             [
              0.2222222222222222,
              "#7201a8"
             ],
             [
              0.3333333333333333,
              "#9c179e"
             ],
             [
              0.4444444444444444,
              "#bd3786"
             ],
             [
              0.5555555555555556,
              "#d8576b"
             ],
             [
              0.6666666666666666,
              "#ed7953"
             ],
             [
              0.7777777777777778,
              "#fb9f3a"
             ],
             [
              0.8888888888888888,
              "#fdca26"
             ],
             [
              1,
              "#f0f921"
             ]
            ],
            "type": "heatmapgl"
           }
          ],
          "histogram": [
           {
            "marker": {
             "pattern": {
              "fillmode": "overlay",
              "size": 10,
              "solidity": 0.2
             }
            },
            "type": "histogram"
           }
          ],
          "histogram2d": [
           {
            "colorbar": {
             "outlinewidth": 0,
             "ticks": ""
            },
            "colorscale": [
             [
              0,
              "#0d0887"
             ],
             [
              0.1111111111111111,
              "#46039f"
             ],
             [
              0.2222222222222222,
              "#7201a8"
             ],
             [
              0.3333333333333333,
              "#9c179e"
             ],
             [
              0.4444444444444444,
              "#bd3786"
             ],
             [
              0.5555555555555556,
              "#d8576b"
             ],
             [
              0.6666666666666666,
              "#ed7953"
             ],
             [
              0.7777777777777778,
              "#fb9f3a"
             ],
             [
              0.8888888888888888,
              "#fdca26"
             ],
             [
              1,
              "#f0f921"
             ]
            ],
            "type": "histogram2d"
           }
          ],
          "histogram2dcontour": [
           {
            "colorbar": {
             "outlinewidth": 0,
             "ticks": ""
            },
            "colorscale": [
             [
              0,
              "#0d0887"
             ],
             [
              0.1111111111111111,
              "#46039f"
             ],
             [
              0.2222222222222222,
              "#7201a8"
             ],
             [
              0.3333333333333333,
              "#9c179e"
             ],
             [
              0.4444444444444444,
              "#bd3786"
             ],
             [
              0.5555555555555556,
              "#d8576b"
             ],
             [
              0.6666666666666666,
              "#ed7953"
             ],
             [
              0.7777777777777778,
              "#fb9f3a"
             ],
             [
              0.8888888888888888,
              "#fdca26"
             ],
             [
              1,
              "#f0f921"
             ]
            ],
            "type": "histogram2dcontour"
           }
          ],
          "mesh3d": [
           {
            "colorbar": {
             "outlinewidth": 0,
             "ticks": ""
            },
            "type": "mesh3d"
           }
          ],
          "parcoords": [
           {
            "line": {
             "colorbar": {
              "outlinewidth": 0,
              "ticks": ""
             }
            },
            "type": "parcoords"
           }
          ],
          "pie": [
           {
            "automargin": true,
            "type": "pie"
           }
          ],
          "scatter": [
           {
            "fillpattern": {
             "fillmode": "overlay",
             "size": 10,
             "solidity": 0.2
            },
            "type": "scatter"
           }
          ],
          "scatter3d": [
           {
            "line": {
             "colorbar": {
              "outlinewidth": 0,
              "ticks": ""
             }
            },
            "marker": {
             "colorbar": {
              "outlinewidth": 0,
              "ticks": ""
             }
            },
            "type": "scatter3d"
           }
          ],
          "scattercarpet": [
           {
            "marker": {
             "colorbar": {
              "outlinewidth": 0,
              "ticks": ""
             }
            },
            "type": "scattercarpet"
           }
          ],
          "scattergeo": [
           {
            "marker": {
             "colorbar": {
              "outlinewidth": 0,
              "ticks": ""
             }
            },
            "type": "scattergeo"
           }
          ],
          "scattergl": [
           {
            "marker": {
             "colorbar": {
              "outlinewidth": 0,
              "ticks": ""
             }
            },
            "type": "scattergl"
           }
          ],
          "scattermapbox": [
           {
            "marker": {
             "colorbar": {
              "outlinewidth": 0,
              "ticks": ""
             }
            },
            "type": "scattermapbox"
           }
          ],
          "scatterpolar": [
           {
            "marker": {
             "colorbar": {
              "outlinewidth": 0,
              "ticks": ""
             }
            },
            "type": "scatterpolar"
           }
          ],
          "scatterpolargl": [
           {
            "marker": {
             "colorbar": {
              "outlinewidth": 0,
              "ticks": ""
             }
            },
            "type": "scatterpolargl"
           }
          ],
          "scatterternary": [
           {
            "marker": {
             "colorbar": {
              "outlinewidth": 0,
              "ticks": ""
             }
            },
            "type": "scatterternary"
           }
          ],
          "surface": [
           {
            "colorbar": {
             "outlinewidth": 0,
             "ticks": ""
            },
            "colorscale": [
             [
              0,
              "#0d0887"
             ],
             [
              0.1111111111111111,
              "#46039f"
             ],
             [
              0.2222222222222222,
              "#7201a8"
             ],
             [
              0.3333333333333333,
              "#9c179e"
             ],
             [
              0.4444444444444444,
              "#bd3786"
             ],
             [
              0.5555555555555556,
              "#d8576b"
             ],
             [
              0.6666666666666666,
              "#ed7953"
             ],
             [
              0.7777777777777778,
              "#fb9f3a"
             ],
             [
              0.8888888888888888,
              "#fdca26"
             ],
             [
              1,
              "#f0f921"
             ]
            ],
            "type": "surface"
           }
          ],
          "table": [
           {
            "cells": {
             "fill": {
              "color": "#EBF0F8"
             },
             "line": {
              "color": "white"
             }
            },
            "header": {
             "fill": {
              "color": "#C8D4E3"
             },
             "line": {
              "color": "white"
             }
            },
            "type": "table"
           }
          ]
         },
         "layout": {
          "annotationdefaults": {
           "arrowcolor": "#2a3f5f",
           "arrowhead": 0,
           "arrowwidth": 1
          },
          "autotypenumbers": "strict",
          "coloraxis": {
           "colorbar": {
            "outlinewidth": 0,
            "ticks": ""
           }
          },
          "colorscale": {
           "diverging": [
            [
             0,
             "#8e0152"
            ],
            [
             0.1,
             "#c51b7d"
            ],
            [
             0.2,
             "#de77ae"
            ],
            [
             0.3,
             "#f1b6da"
            ],
            [
             0.4,
             "#fde0ef"
            ],
            [
             0.5,
             "#f7f7f7"
            ],
            [
             0.6,
             "#e6f5d0"
            ],
            [
             0.7,
             "#b8e186"
            ],
            [
             0.8,
             "#7fbc41"
            ],
            [
             0.9,
             "#4d9221"
            ],
            [
             1,
             "#276419"
            ]
           ],
           "sequential": [
            [
             0,
             "#0d0887"
            ],
            [
             0.1111111111111111,
             "#46039f"
            ],
            [
             0.2222222222222222,
             "#7201a8"
            ],
            [
             0.3333333333333333,
             "#9c179e"
            ],
            [
             0.4444444444444444,
             "#bd3786"
            ],
            [
             0.5555555555555556,
             "#d8576b"
            ],
            [
             0.6666666666666666,
             "#ed7953"
            ],
            [
             0.7777777777777778,
             "#fb9f3a"
            ],
            [
             0.8888888888888888,
             "#fdca26"
            ],
            [
             1,
             "#f0f921"
            ]
           ],
           "sequentialminus": [
            [
             0,
             "#0d0887"
            ],
            [
             0.1111111111111111,
             "#46039f"
            ],
            [
             0.2222222222222222,
             "#7201a8"
            ],
            [
             0.3333333333333333,
             "#9c179e"
            ],
            [
             0.4444444444444444,
             "#bd3786"
            ],
            [
             0.5555555555555556,
             "#d8576b"
            ],
            [
             0.6666666666666666,
             "#ed7953"
            ],
            [
             0.7777777777777778,
             "#fb9f3a"
            ],
            [
             0.8888888888888888,
             "#fdca26"
            ],
            [
             1,
             "#f0f921"
            ]
           ]
          },
          "colorway": [
           "#636efa",
           "#EF553B",
           "#00cc96",
           "#ab63fa",
           "#FFA15A",
           "#19d3f3",
           "#FF6692",
           "#B6E880",
           "#FF97FF",
           "#FECB52"
          ],
          "font": {
           "color": "#2a3f5f"
          },
          "geo": {
           "bgcolor": "white",
           "lakecolor": "white",
           "landcolor": "#E5ECF6",
           "showlakes": true,
           "showland": true,
           "subunitcolor": "white"
          },
          "hoverlabel": {
           "align": "left"
          },
          "hovermode": "closest",
          "mapbox": {
           "style": "light"
          },
          "paper_bgcolor": "white",
          "plot_bgcolor": "#E5ECF6",
          "polar": {
           "angularaxis": {
            "gridcolor": "white",
            "linecolor": "white",
            "ticks": ""
           },
           "bgcolor": "#E5ECF6",
           "radialaxis": {
            "gridcolor": "white",
            "linecolor": "white",
            "ticks": ""
           }
          },
          "scene": {
           "xaxis": {
            "backgroundcolor": "#E5ECF6",
            "gridcolor": "white",
            "gridwidth": 2,
            "linecolor": "white",
            "showbackground": true,
            "ticks": "",
            "zerolinecolor": "white"
           },
           "yaxis": {
            "backgroundcolor": "#E5ECF6",
            "gridcolor": "white",
            "gridwidth": 2,
            "linecolor": "white",
            "showbackground": true,
            "ticks": "",
            "zerolinecolor": "white"
           },
           "zaxis": {
            "backgroundcolor": "#E5ECF6",
            "gridcolor": "white",
            "gridwidth": 2,
            "linecolor": "white",
            "showbackground": true,
            "ticks": "",
            "zerolinecolor": "white"
           }
          },
          "shapedefaults": {
           "line": {
            "color": "#2a3f5f"
           }
          },
          "ternary": {
           "aaxis": {
            "gridcolor": "white",
            "linecolor": "white",
            "ticks": ""
           },
           "baxis": {
            "gridcolor": "white",
            "linecolor": "white",
            "ticks": ""
           },
           "bgcolor": "#E5ECF6",
           "caxis": {
            "gridcolor": "white",
            "linecolor": "white",
            "ticks": ""
           }
          },
          "title": {
           "x": 0.05
          },
          "xaxis": {
           "automargin": true,
           "gridcolor": "white",
           "linecolor": "white",
           "ticks": "",
           "title": {
            "standoff": 15
           },
           "zerolinecolor": "white",
           "zerolinewidth": 2
          },
          "yaxis": {
           "automargin": true,
           "gridcolor": "white",
           "linecolor": "white",
           "ticks": "",
           "title": {
            "standoff": 15
           },
           "zerolinecolor": "white",
           "zerolinewidth": 2
          }
         }
        },
        "title": {
         "text": "10 Bakat Paling Dominan di Kalangan Top Performer"
        },
        "xaxis": {
         "anchor": "y",
         "categoryorder": "total descending",
         "domain": [
          0,
          1
         ],
         "title": {
          "text": "Tema Bakat (Strength)"
         }
        },
        "yaxis": {
         "anchor": "x",
         "domain": [
          0,
          1
         ],
         "title": {
          "text": "Jumlah Karyawan"
         }
        }
       }
      }
     },
     "metadata": {},
     "output_type": "display_data"
    },
    {
     "data": {
      "application/vnd.plotly.v1+json": {
       "config": {
        "plotlyServerURL": "https://plot.ly"
       },
       "data": [
        {
         "alignmentgroup": "True",
         "hovertemplate": "Tema Bakat (Strength)=%{x}<br>Jumlah Karyawan=%{y}<extra></extra>",
         "legendgroup": "",
         "marker": {
          "color": "#636efa",
          "pattern": {
           "shape": ""
          }
         },
         "name": "",
         "offsetgroup": "",
         "orientation": "v",
         "showlegend": false,
         "textposition": "auto",
         "texttemplate": "%{y}",
         "type": "bar",
         "x": [
          "Positivity",
          "Arranger",
          "Learner",
          "Woo",
          "Strategic",
          "Adaptability",
          "Self-Assurance",
          "Analytical",
          "Command",
          "Achiever"
         ],
         "xaxis": "x",
         "y": [
          274,
          272,
          271,
          267,
          265,
          264,
          262,
          261,
          260,
          260
         ],
         "yaxis": "y"
        }
       ],
       "layout": {
        "barmode": "relative",
        "legend": {
         "tracegroupgap": 0
        },
        "template": {
         "data": {
          "bar": [
           {
            "error_x": {
             "color": "#2a3f5f"
            },
            "error_y": {
             "color": "#2a3f5f"
            },
            "marker": {
             "line": {
              "color": "#E5ECF6",
              "width": 0.5
             },
             "pattern": {
              "fillmode": "overlay",
              "size": 10,
              "solidity": 0.2
             }
            },
            "type": "bar"
           }
          ],
          "barpolar": [
           {
            "marker": {
             "line": {
              "color": "#E5ECF6",
              "width": 0.5
             },
             "pattern": {
              "fillmode": "overlay",
              "size": 10,
              "solidity": 0.2
             }
            },
            "type": "barpolar"
           }
          ],
          "carpet": [
           {
            "aaxis": {
             "endlinecolor": "#2a3f5f",
             "gridcolor": "white",
             "linecolor": "white",
             "minorgridcolor": "white",
             "startlinecolor": "#2a3f5f"
            },
            "baxis": {
             "endlinecolor": "#2a3f5f",
             "gridcolor": "white",
             "linecolor": "white",
             "minorgridcolor": "white",
             "startlinecolor": "#2a3f5f"
            },
            "type": "carpet"
           }
          ],
          "choropleth": [
           {
            "colorbar": {
             "outlinewidth": 0,
             "ticks": ""
            },
            "type": "choropleth"
           }
          ],
          "contour": [
           {
            "colorbar": {
             "outlinewidth": 0,
             "ticks": ""
            },
            "colorscale": [
             [
              0,
              "#0d0887"
             ],
             [
              0.1111111111111111,
              "#46039f"
             ],
             [
              0.2222222222222222,
              "#7201a8"
             ],
             [
              0.3333333333333333,
              "#9c179e"
             ],
             [
              0.4444444444444444,
              "#bd3786"
             ],
             [
              0.5555555555555556,
              "#d8576b"
             ],
             [
              0.6666666666666666,
              "#ed7953"
             ],
             [
              0.7777777777777778,
              "#fb9f3a"
             ],
             [
              0.8888888888888888,
              "#fdca26"
             ],
             [
              1,
              "#f0f921"
             ]
            ],
            "type": "contour"
           }
          ],
          "contourcarpet": [
           {
            "colorbar": {
             "outlinewidth": 0,
             "ticks": ""
            },
            "type": "contourcarpet"
           }
          ],
          "heatmap": [
           {
            "colorbar": {
             "outlinewidth": 0,
             "ticks": ""
            },
            "colorscale": [
             [
              0,
              "#0d0887"
             ],
             [
              0.1111111111111111,
              "#46039f"
             ],
             [
              0.2222222222222222,
              "#7201a8"
             ],
             [
              0.3333333333333333,
              "#9c179e"
             ],
             [
              0.4444444444444444,
              "#bd3786"
             ],
             [
              0.5555555555555556,
              "#d8576b"
             ],
             [
              0.6666666666666666,
              "#ed7953"
             ],
             [
              0.7777777777777778,
              "#fb9f3a"
             ],
             [
              0.8888888888888888,
              "#fdca26"
             ],
             [
              1,
              "#f0f921"
             ]
            ],
            "type": "heatmap"
           }
          ],
          "heatmapgl": [
           {
            "colorbar": {
             "outlinewidth": 0,
             "ticks": ""
            },
            "colorscale": [
             [
              0,
              "#0d0887"
             ],
             [
              0.1111111111111111,
              "#46039f"
             ],
             [
              0.2222222222222222,
              "#7201a8"
             ],
             [
              0.3333333333333333,
              "#9c179e"
             ],
             [
              0.4444444444444444,
              "#bd3786"
             ],
             [
              0.5555555555555556,
              "#d8576b"
             ],
             [
              0.6666666666666666,
              "#ed7953"
             ],
             [
              0.7777777777777778,
              "#fb9f3a"
             ],
             [
              0.8888888888888888,
              "#fdca26"
             ],
             [
              1,
              "#f0f921"
             ]
            ],
            "type": "heatmapgl"
           }
          ],
          "histogram": [
           {
            "marker": {
             "pattern": {
              "fillmode": "overlay",
              "size": 10,
              "solidity": 0.2
             }
            },
            "type": "histogram"
           }
          ],
          "histogram2d": [
           {
            "colorbar": {
             "outlinewidth": 0,
             "ticks": ""
            },
            "colorscale": [
             [
              0,
              "#0d0887"
             ],
             [
              0.1111111111111111,
              "#46039f"
             ],
             [
              0.2222222222222222,
              "#7201a8"
             ],
             [
              0.3333333333333333,
              "#9c179e"
             ],
             [
              0.4444444444444444,
              "#bd3786"
             ],
             [
              0.5555555555555556,
              "#d8576b"
             ],
             [
              0.6666666666666666,
              "#ed7953"
             ],
             [
              0.7777777777777778,
              "#fb9f3a"
             ],
             [
              0.8888888888888888,
              "#fdca26"
             ],
             [
              1,
              "#f0f921"
             ]
            ],
            "type": "histogram2d"
           }
          ],
          "histogram2dcontour": [
           {
            "colorbar": {
             "outlinewidth": 0,
             "ticks": ""
            },
            "colorscale": [
             [
              0,
              "#0d0887"
             ],
             [
              0.1111111111111111,
              "#46039f"
             ],
             [
              0.2222222222222222,
              "#7201a8"
             ],
             [
              0.3333333333333333,
              "#9c179e"
             ],
             [
              0.4444444444444444,
              "#bd3786"
             ],
             [
              0.5555555555555556,
              "#d8576b"
             ],
             [
              0.6666666666666666,
              "#ed7953"
             ],
             [
              0.7777777777777778,
              "#fb9f3a"
             ],
             [
              0.8888888888888888,
              "#fdca26"
             ],
             [
              1,
              "#f0f921"
             ]
            ],
            "type": "histogram2dcontour"
           }
          ],
          "mesh3d": [
           {
            "colorbar": {
             "outlinewidth": 0,
             "ticks": ""
            },
            "type": "mesh3d"
           }
          ],
          "parcoords": [
           {
            "line": {
             "colorbar": {
              "outlinewidth": 0,
              "ticks": ""
             }
            },
            "type": "parcoords"
           }
          ],
          "pie": [
           {
            "automargin": true,
            "type": "pie"
           }
          ],
          "scatter": [
           {
            "fillpattern": {
             "fillmode": "overlay",
             "size": 10,
             "solidity": 0.2
            },
            "type": "scatter"
           }
          ],
          "scatter3d": [
           {
            "line": {
             "colorbar": {
              "outlinewidth": 0,
              "ticks": ""
             }
            },
            "marker": {
             "colorbar": {
              "outlinewidth": 0,
              "ticks": ""
             }
            },
            "type": "scatter3d"
           }
          ],
          "scattercarpet": [
           {
            "marker": {
             "colorbar": {
              "outlinewidth": 0,
              "ticks": ""
             }
            },
            "type": "scattercarpet"
           }
          ],
          "scattergeo": [
           {
            "marker": {
             "colorbar": {
              "outlinewidth": 0,
              "ticks": ""
             }
            },
            "type": "scattergeo"
           }
          ],
          "scattergl": [
           {
            "marker": {
             "colorbar": {
              "outlinewidth": 0,
              "ticks": ""
             }
            },
            "type": "scattergl"
           }
          ],
          "scattermapbox": [
           {
            "marker": {
             "colorbar": {
              "outlinewidth": 0,
              "ticks": ""
             }
            },
            "type": "scattermapbox"
           }
          ],
          "scatterpolar": [
           {
            "marker": {
             "colorbar": {
              "outlinewidth": 0,
              "ticks": ""
             }
            },
            "type": "scatterpolar"
           }
          ],
          "scatterpolargl": [
           {
            "marker": {
             "colorbar": {
              "outlinewidth": 0,
              "ticks": ""
             }
            },
            "type": "scatterpolargl"
           }
          ],
          "scatterternary": [
           {
            "marker": {
             "colorbar": {
              "outlinewidth": 0,
              "ticks": ""
             }
            },
            "type": "scatterternary"
           }
          ],
          "surface": [
           {
            "colorbar": {
             "outlinewidth": 0,
             "ticks": ""
            },
            "colorscale": [
             [
              0,
              "#0d0887"
             ],
             [
              0.1111111111111111,
              "#46039f"
             ],
             [
              0.2222222222222222,
              "#7201a8"
             ],
             [
              0.3333333333333333,
              "#9c179e"
             ],
             [
              0.4444444444444444,
              "#bd3786"
             ],
             [
              0.5555555555555556,
              "#d8576b"
             ],
             [
              0.6666666666666666,
              "#ed7953"
             ],
             [
              0.7777777777777778,
              "#fb9f3a"
             ],
             [
              0.8888888888888888,
              "#fdca26"
             ],
             [
              1,
              "#f0f921"
             ]
            ],
            "type": "surface"
           }
          ],
          "table": [
           {
            "cells": {
             "fill": {
              "color": "#EBF0F8"
             },
             "line": {
              "color": "white"
             }
            },
            "header": {
             "fill": {
              "color": "#C8D4E3"
             },
             "line": {
              "color": "white"
             }
            },
            "type": "table"
           }
          ]
         },
         "layout": {
          "annotationdefaults": {
           "arrowcolor": "#2a3f5f",
           "arrowhead": 0,
           "arrowwidth": 1
          },
          "autotypenumbers": "strict",
          "coloraxis": {
           "colorbar": {
            "outlinewidth": 0,
            "ticks": ""
           }
          },
          "colorscale": {
           "diverging": [
            [
             0,
             "#8e0152"
            ],
            [
             0.1,
             "#c51b7d"
            ],
            [
             0.2,
             "#de77ae"
            ],
            [
             0.3,
             "#f1b6da"
            ],
            [
             0.4,
             "#fde0ef"
            ],
            [
             0.5,
             "#f7f7f7"
            ],
            [
             0.6,
             "#e6f5d0"
            ],
            [
             0.7,
             "#b8e186"
            ],
            [
             0.8,
             "#7fbc41"
            ],
            [
             0.9,
             "#4d9221"
            ],
            [
             1,
             "#276419"
            ]
           ],
           "sequential": [
            [
             0,
             "#0d0887"
            ],
            [
             0.1111111111111111,
             "#46039f"
            ],
            [
             0.2222222222222222,
             "#7201a8"
            ],
            [
             0.3333333333333333,
             "#9c179e"
            ],
            [
             0.4444444444444444,
             "#bd3786"
            ],
            [
             0.5555555555555556,
             "#d8576b"
            ],
            [
             0.6666666666666666,
             "#ed7953"
            ],
            [
             0.7777777777777778,
             "#fb9f3a"
            ],
            [
             0.8888888888888888,
             "#fdca26"
            ],
            [
             1,
             "#f0f921"
            ]
           ],
           "sequentialminus": [
            [
             0,
             "#0d0887"
            ],
            [
             0.1111111111111111,
             "#46039f"
            ],
            [
             0.2222222222222222,
             "#7201a8"
            ],
            [
             0.3333333333333333,
             "#9c179e"
            ],
            [
             0.4444444444444444,
             "#bd3786"
            ],
            [
             0.5555555555555556,
             "#d8576b"
            ],
            [
             0.6666666666666666,
             "#ed7953"
            ],
            [
             0.7777777777777778,
             "#fb9f3a"
            ],
            [
             0.8888888888888888,
             "#fdca26"
            ],
            [
             1,
             "#f0f921"
            ]
           ]
          },
          "colorway": [
           "#636efa",
           "#EF553B",
           "#00cc96",
           "#ab63fa",
           "#FFA15A",
           "#19d3f3",
           "#FF6692",
           "#B6E880",
           "#FF97FF",
           "#FECB52"
          ],
          "font": {
           "color": "#2a3f5f"
          },
          "geo": {
           "bgcolor": "white",
           "lakecolor": "white",
           "landcolor": "#E5ECF6",
           "showlakes": true,
           "showland": true,
           "subunitcolor": "white"
          },
          "hoverlabel": {
           "align": "left"
          },
          "hovermode": "closest",
          "mapbox": {
           "style": "light"
          },
          "paper_bgcolor": "white",
          "plot_bgcolor": "#E5ECF6",
          "polar": {
           "angularaxis": {
            "gridcolor": "white",
            "linecolor": "white",
            "ticks": ""
           },
           "bgcolor": "#E5ECF6",
           "radialaxis": {
            "gridcolor": "white",
            "linecolor": "white",
            "ticks": ""
           }
          },
          "scene": {
           "xaxis": {
            "backgroundcolor": "#E5ECF6",
            "gridcolor": "white",
            "gridwidth": 2,
            "linecolor": "white",
            "showbackground": true,
            "ticks": "",
            "zerolinecolor": "white"
           },
           "yaxis": {
            "backgroundcolor": "#E5ECF6",
            "gridcolor": "white",
            "gridwidth": 2,
            "linecolor": "white",
            "showbackground": true,
            "ticks": "",
            "zerolinecolor": "white"
           },
           "zaxis": {
            "backgroundcolor": "#E5ECF6",
            "gridcolor": "white",
            "gridwidth": 2,
            "linecolor": "white",
            "showbackground": true,
            "ticks": "",
            "zerolinecolor": "white"
           }
          },
          "shapedefaults": {
           "line": {
            "color": "#2a3f5f"
           }
          },
          "ternary": {
           "aaxis": {
            "gridcolor": "white",
            "linecolor": "white",
            "ticks": ""
           },
           "baxis": {
            "gridcolor": "white",
            "linecolor": "white",
            "ticks": ""
           },
           "bgcolor": "#E5ECF6",
           "caxis": {
            "gridcolor": "white",
            "linecolor": "white",
            "ticks": ""
           }
          },
          "title": {
           "x": 0.05
          },
          "xaxis": {
           "automargin": true,
           "gridcolor": "white",
           "linecolor": "white",
           "ticks": "",
           "title": {
            "standoff": 15
           },
           "zerolinecolor": "white",
           "zerolinewidth": 2
          },
          "yaxis": {
           "automargin": true,
           "gridcolor": "white",
           "linecolor": "white",
           "ticks": "",
           "title": {
            "standoff": 15
           },
           "zerolinecolor": "white",
           "zerolinewidth": 2
          }
         }
        },
        "title": {
         "text": "10 Bakat Paling Umum di Kalangan Karyawan Lainnya"
        },
        "xaxis": {
         "anchor": "y",
         "categoryorder": "total descending",
         "domain": [
          0,
          1
         ],
         "title": {
          "text": "Tema Bakat (Strength)"
         }
        },
        "yaxis": {
         "anchor": "x",
         "domain": [
          0,
          1
         ],
         "title": {
          "text": "Jumlah Karyawan"
         }
        }
       }
      }
     },
     "metadata": {},
     "output_type": "display_data"
    }
   ],
   "source": [
    "# Pertanyaan: Apa bakat alami yang menjadi \"signature\" atau ciri khas dari Top Performer?\n",
    "\n",
    "# Membuat data 5 bakat teratas dari tiap karyawan.\n",
    "df_top5_strengths = (\n",
    "    dfs['strengths']\n",
    "    .query(\"rank <= 5\")\n",
    "    .merge(df_main[['employee_id', 'is_top_performer']], on='employee_id')\n",
    ")\n",
    "\n",
    "# Menghitung frekuensi 10 bakat teratas KHUSUS untuk Top Performer.\n",
    "top_performer_strengths = (\n",
    "    df_top5_strengths.query(\"is_top_performer == True\")['theme']\n",
    "    .value_counts()\n",
    "    .head(10)\n",
    "    .reset_index(name='count')\n",
    ")\n",
    "\n",
    "# Menghitung frekuensi 10 bakat teratas KHUSUS untuk Karyawan Lainnya.\n",
    "other_strengths = (\n",
    "    df_top5_strengths.query(\"is_top_performer == False\")['theme']\n",
    "    .value_counts()\n",
    "    .head(10)\n",
    "    .reset_index(name='count')\n",
    ")\n",
    "\n",
    "# Bar chart 10 Bakat Paling Dominan di Kalangan Top Performer\n",
    "fig_top = px.bar(top_performer_strengths,\n",
    "                 x='theme',\n",
    "                 y='count',\n",
    "                 title='10 Bakat Paling Dominan di Kalangan Top Performer',\n",
    "                 labels={'theme': 'Tema Bakat (Strength)', 'count': 'Jumlah Karyawan'},\n",
    "                 text_auto=True,\n",
    "                 color_discrete_sequence=['#FF6347'])\n",
    "fig_top.update_layout(xaxis={'categoryorder':'total descending'})\n",
    "fig_top.show()\n",
    "\n",
    "# Bar chart 10 Bakat Paling Umum di Kalangan Karyawan Lainnya\n",
    "fig_other = px.bar(other_strengths,\n",
    "                   x='theme',\n",
    "                   y='count',\n",
    "                   title='10 Bakat Paling Umum di Kalangan Karyawan Lainnya',\n",
    "                   labels={'theme': 'Tema Bakat (Strength)', 'count': 'Jumlah Karyawan'},\n",
    "                   text_auto=True)\n",
    "fig_other.update_layout(xaxis={'categoryorder':'total descending'})\n",
    "fig_other.show()"
   ]
  },
  {
   "cell_type": "markdown",
   "id": "823cdb74",
   "metadata": {},
   "source": [
    "### Interpretasi"
   ]
  },
  {
   "cell_type": "markdown",
   "id": "a90a7c39",
   "metadata": {},
   "source": [
    "Kita sampai pada bagian investigasi bakat alami. Untuk benar-benar memahami apa yang menjadi \"mesin pendorong\" top performer kita, saya telah memisahkan data mereka. Grafik di hadapan kita menunjukkan DNA kesuksesan di perusahaan kita.\n",
    "\n",
    "Grafik pertama (oranye) secara spesifik menunjukkan 10 bakat yang paling dominan di kalangan Top Performer. Hasilnya sangat tajam. Kita bisa lihat dengan jelas bahwa 'Futuristic', 'Restorative', dan 'Self-Assurance' adalah tiga bakat yang mendominasi profil mereka. Jika kita bandingkan dengan grafik kedua (biru), yang menunjukkan profil karyawan lainnya, kita melihat cerita yang berbeda. Di sana, bakat seperti 'Positivity', 'Arranger', dan 'Learner' lebih menonjol. Ini adalah bakat-bakat yang sangat baik, namun memiliki fokus yang berbeda.\n",
    "\n",
    "Apa cerita di balik perbedaan ini?\n",
    "\n",
    "Ini adalah temuan kita yang paling penting. Ini menunjukkan bahwa talenta terbaik kita memiliki \"DNA\" atau \"signature\" bakat yang sangat spesifik, yang berpusat pada dua domain utama:\n",
    "\n",
    "1. Pemikiran Visioner & Pemecahan Masalah: Bakat seperti 'Futuristic' (visi ke depan) dan 'Restorative' (dorongan alami untuk memperbaiki masalah) menunjukkan bahwa mereka adalah \"pemikir\" yang proaktif dan solutif.\n",
    "2. Keyakinan & Eksekusi: Bakat seperti 'Self-Assurance' (keyakinan diri) dan 'Activator' (dorongan untuk memulai tindakan) menunjukkan bahwa mereka tidak hanya berpikir, tetapi juga berani dan mampu untuk bertindak.\n",
    "\n",
    "Jadi, kesimpulan akhir kita adalah: **Top performer kita adalah individu yang secara alami mampu melihat masa depan, terdorong untuk memperbaiki apa yang rusak, dan memiliki kepercayaan diri untuk mengambil tindakan. Inilah kombinasi bakat yang menjadi pembeda paling kuat, dan ini akan menjadi inti dari Success Formula yang akan kita bangun.**"
   ]
  },
  {
   "cell_type": "markdown",
   "id": "fe902a65",
   "metadata": {},
   "source": [
    "# Peta Korelasi Antar Variabel"
   ]
  },
  {
   "cell_type": "code",
   "execution_count": 12,
   "id": "447d9f50",
   "metadata": {},
   "outputs": [
    {
     "data": {
      "application/vnd.plotly.v1+json": {
       "config": {
        "plotlyServerURL": "https://plot.ly"
       },
       "data": [
        {
         "coloraxis": "coloraxis",
         "hovertemplate": "x: %{x}<br>y: %{y}<br>color: %{z}<extra></extra>",
         "name": "0",
         "texttemplate": "%{z:.2f}",
         "type": "heatmap",
         "x": [
          "rating",
          "iq",
          "years_of_service_months",
          "pauli",
          "faxtor",
          "Papi_A",
          "Papi_B",
          "Papi_C",
          "Papi_D",
          "Papi_E",
          "Papi_F",
          "Papi_G",
          "Papi_I",
          "Papi_K",
          "Papi_L",
          "Papi_N",
          "Papi_O",
          "Papi_P",
          "Papi_R",
          "Papi_S",
          "Papi_T",
          "Papi_V",
          "Papi_W",
          "Papi_X",
          "Papi_Z"
         ],
         "xaxis": "x",
         "y": [
          "rating"
         ],
         "yaxis": "y",
         "z": [
          [
           1,
           -0.005338338189926352,
           0.025282824844658353,
           0.05672242117248892,
           -0.004488370916207741,
           -0.017161463348479747,
           -0.019206301422742524,
           -0.017891789080886757,
           0.018108534563695815,
           -0.040545234635449345,
           0.028638257269304083,
           -0.008163288238241936,
           0.011234209388510392,
           0.01293808442319521,
           -0.026280012172625572,
           -0.015227862500642073,
           -0.011816132788869595,
           0.041024997501563,
           -0.011383781121352528,
           -0.0463199803529817,
           -0.013040895648169749,
           -0.003219466416930732,
           0.0012861228766109355,
           0.0007423850658266132,
           -0.010196445326865889
          ]
         ]
        }
       ],
       "layout": {
        "coloraxis": {
         "colorscale": [
          [
           0,
           "rgb(5,48,97)"
          ],
          [
           0.1,
           "rgb(33,102,172)"
          ],
          [
           0.2,
           "rgb(67,147,195)"
          ],
          [
           0.3,
           "rgb(146,197,222)"
          ],
          [
           0.4,
           "rgb(209,229,240)"
          ],
          [
           0.5,
           "rgb(247,247,247)"
          ],
          [
           0.6,
           "rgb(253,219,199)"
          ],
          [
           0.7,
           "rgb(244,165,130)"
          ],
          [
           0.8,
           "rgb(214,96,77)"
          ],
          [
           0.9,
           "rgb(178,24,43)"
          ],
          [
           1,
           "rgb(103,0,31)"
          ]
         ]
        },
        "template": {
         "data": {
          "bar": [
           {
            "error_x": {
             "color": "#2a3f5f"
            },
            "error_y": {
             "color": "#2a3f5f"
            },
            "marker": {
             "line": {
              "color": "#E5ECF6",
              "width": 0.5
             },
             "pattern": {
              "fillmode": "overlay",
              "size": 10,
              "solidity": 0.2
             }
            },
            "type": "bar"
           }
          ],
          "barpolar": [
           {
            "marker": {
             "line": {
              "color": "#E5ECF6",
              "width": 0.5
             },
             "pattern": {
              "fillmode": "overlay",
              "size": 10,
              "solidity": 0.2
             }
            },
            "type": "barpolar"
           }
          ],
          "carpet": [
           {
            "aaxis": {
             "endlinecolor": "#2a3f5f",
             "gridcolor": "white",
             "linecolor": "white",
             "minorgridcolor": "white",
             "startlinecolor": "#2a3f5f"
            },
            "baxis": {
             "endlinecolor": "#2a3f5f",
             "gridcolor": "white",
             "linecolor": "white",
             "minorgridcolor": "white",
             "startlinecolor": "#2a3f5f"
            },
            "type": "carpet"
           }
          ],
          "choropleth": [
           {
            "colorbar": {
             "outlinewidth": 0,
             "ticks": ""
            },
            "type": "choropleth"
           }
          ],
          "contour": [
           {
            "colorbar": {
             "outlinewidth": 0,
             "ticks": ""
            },
            "colorscale": [
             [
              0,
              "#0d0887"
             ],
             [
              0.1111111111111111,
              "#46039f"
             ],
             [
              0.2222222222222222,
              "#7201a8"
             ],
             [
              0.3333333333333333,
              "#9c179e"
             ],
             [
              0.4444444444444444,
              "#bd3786"
             ],
             [
              0.5555555555555556,
              "#d8576b"
             ],
             [
              0.6666666666666666,
              "#ed7953"
             ],
             [
              0.7777777777777778,
              "#fb9f3a"
             ],
             [
              0.8888888888888888,
              "#fdca26"
             ],
             [
              1,
              "#f0f921"
             ]
            ],
            "type": "contour"
           }
          ],
          "contourcarpet": [
           {
            "colorbar": {
             "outlinewidth": 0,
             "ticks": ""
            },
            "type": "contourcarpet"
           }
          ],
          "heatmap": [
           {
            "colorbar": {
             "outlinewidth": 0,
             "ticks": ""
            },
            "colorscale": [
             [
              0,
              "#0d0887"
             ],
             [
              0.1111111111111111,
              "#46039f"
             ],
             [
              0.2222222222222222,
              "#7201a8"
             ],
             [
              0.3333333333333333,
              "#9c179e"
             ],
             [
              0.4444444444444444,
              "#bd3786"
             ],
             [
              0.5555555555555556,
              "#d8576b"
             ],
             [
              0.6666666666666666,
              "#ed7953"
             ],
             [
              0.7777777777777778,
              "#fb9f3a"
             ],
             [
              0.8888888888888888,
              "#fdca26"
             ],
             [
              1,
              "#f0f921"
             ]
            ],
            "type": "heatmap"
           }
          ],
          "heatmapgl": [
           {
            "colorbar": {
             "outlinewidth": 0,
             "ticks": ""
            },
            "colorscale": [
             [
              0,
              "#0d0887"
             ],
             [
              0.1111111111111111,
              "#46039f"
             ],
             [
              0.2222222222222222,
              "#7201a8"
             ],
             [
              0.3333333333333333,
              "#9c179e"
             ],
             [
              0.4444444444444444,
              "#bd3786"
             ],
             [
              0.5555555555555556,
              "#d8576b"
             ],
             [
              0.6666666666666666,
              "#ed7953"
             ],
             [
              0.7777777777777778,
              "#fb9f3a"
             ],
             [
              0.8888888888888888,
              "#fdca26"
             ],
             [
              1,
              "#f0f921"
             ]
            ],
            "type": "heatmapgl"
           }
          ],
          "histogram": [
           {
            "marker": {
             "pattern": {
              "fillmode": "overlay",
              "size": 10,
              "solidity": 0.2
             }
            },
            "type": "histogram"
           }
          ],
          "histogram2d": [
           {
            "colorbar": {
             "outlinewidth": 0,
             "ticks": ""
            },
            "colorscale": [
             [
              0,
              "#0d0887"
             ],
             [
              0.1111111111111111,
              "#46039f"
             ],
             [
              0.2222222222222222,
              "#7201a8"
             ],
             [
              0.3333333333333333,
              "#9c179e"
             ],
             [
              0.4444444444444444,
              "#bd3786"
             ],
             [
              0.5555555555555556,
              "#d8576b"
             ],
             [
              0.6666666666666666,
              "#ed7953"
             ],
             [
              0.7777777777777778,
              "#fb9f3a"
             ],
             [
              0.8888888888888888,
              "#fdca26"
             ],
             [
              1,
              "#f0f921"
             ]
            ],
            "type": "histogram2d"
           }
          ],
          "histogram2dcontour": [
           {
            "colorbar": {
             "outlinewidth": 0,
             "ticks": ""
            },
            "colorscale": [
             [
              0,
              "#0d0887"
             ],
             [
              0.1111111111111111,
              "#46039f"
             ],
             [
              0.2222222222222222,
              "#7201a8"
             ],
             [
              0.3333333333333333,
              "#9c179e"
             ],
             [
              0.4444444444444444,
              "#bd3786"
             ],
             [
              0.5555555555555556,
              "#d8576b"
             ],
             [
              0.6666666666666666,
              "#ed7953"
             ],
             [
              0.7777777777777778,
              "#fb9f3a"
             ],
             [
              0.8888888888888888,
              "#fdca26"
             ],
             [
              1,
              "#f0f921"
             ]
            ],
            "type": "histogram2dcontour"
           }
          ],
          "mesh3d": [
           {
            "colorbar": {
             "outlinewidth": 0,
             "ticks": ""
            },
            "type": "mesh3d"
           }
          ],
          "parcoords": [
           {
            "line": {
             "colorbar": {
              "outlinewidth": 0,
              "ticks": ""
             }
            },
            "type": "parcoords"
           }
          ],
          "pie": [
           {
            "automargin": true,
            "type": "pie"
           }
          ],
          "scatter": [
           {
            "fillpattern": {
             "fillmode": "overlay",
             "size": 10,
             "solidity": 0.2
            },
            "type": "scatter"
           }
          ],
          "scatter3d": [
           {
            "line": {
             "colorbar": {
              "outlinewidth": 0,
              "ticks": ""
             }
            },
            "marker": {
             "colorbar": {
              "outlinewidth": 0,
              "ticks": ""
             }
            },
            "type": "scatter3d"
           }
          ],
          "scattercarpet": [
           {
            "marker": {
             "colorbar": {
              "outlinewidth": 0,
              "ticks": ""
             }
            },
            "type": "scattercarpet"
           }
          ],
          "scattergeo": [
           {
            "marker": {
             "colorbar": {
              "outlinewidth": 0,
              "ticks": ""
             }
            },
            "type": "scattergeo"
           }
          ],
          "scattergl": [
           {
            "marker": {
             "colorbar": {
              "outlinewidth": 0,
              "ticks": ""
             }
            },
            "type": "scattergl"
           }
          ],
          "scattermapbox": [
           {
            "marker": {
             "colorbar": {
              "outlinewidth": 0,
              "ticks": ""
             }
            },
            "type": "scattermapbox"
           }
          ],
          "scatterpolar": [
           {
            "marker": {
             "colorbar": {
              "outlinewidth": 0,
              "ticks": ""
             }
            },
            "type": "scatterpolar"
           }
          ],
          "scatterpolargl": [
           {
            "marker": {
             "colorbar": {
              "outlinewidth": 0,
              "ticks": ""
             }
            },
            "type": "scatterpolargl"
           }
          ],
          "scatterternary": [
           {
            "marker": {
             "colorbar": {
              "outlinewidth": 0,
              "ticks": ""
             }
            },
            "type": "scatterternary"
           }
          ],
          "surface": [
           {
            "colorbar": {
             "outlinewidth": 0,
             "ticks": ""
            },
            "colorscale": [
             [
              0,
              "#0d0887"
             ],
             [
              0.1111111111111111,
              "#46039f"
             ],
             [
              0.2222222222222222,
              "#7201a8"
             ],
             [
              0.3333333333333333,
              "#9c179e"
             ],
             [
              0.4444444444444444,
              "#bd3786"
             ],
             [
              0.5555555555555556,
              "#d8576b"
             ],
             [
              0.6666666666666666,
              "#ed7953"
             ],
             [
              0.7777777777777778,
              "#fb9f3a"
             ],
             [
              0.8888888888888888,
              "#fdca26"
             ],
             [
              1,
              "#f0f921"
             ]
            ],
            "type": "surface"
           }
          ],
          "table": [
           {
            "cells": {
             "fill": {
              "color": "#EBF0F8"
             },
             "line": {
              "color": "white"
             }
            },
            "header": {
             "fill": {
              "color": "#C8D4E3"
             },
             "line": {
              "color": "white"
             }
            },
            "type": "table"
           }
          ]
         },
         "layout": {
          "annotationdefaults": {
           "arrowcolor": "#2a3f5f",
           "arrowhead": 0,
           "arrowwidth": 1
          },
          "autotypenumbers": "strict",
          "coloraxis": {
           "colorbar": {
            "outlinewidth": 0,
            "ticks": ""
           }
          },
          "colorscale": {
           "diverging": [
            [
             0,
             "#8e0152"
            ],
            [
             0.1,
             "#c51b7d"
            ],
            [
             0.2,
             "#de77ae"
            ],
            [
             0.3,
             "#f1b6da"
            ],
            [
             0.4,
             "#fde0ef"
            ],
            [
             0.5,
             "#f7f7f7"
            ],
            [
             0.6,
             "#e6f5d0"
            ],
            [
             0.7,
             "#b8e186"
            ],
            [
             0.8,
             "#7fbc41"
            ],
            [
             0.9,
             "#4d9221"
            ],
            [
             1,
             "#276419"
            ]
           ],
           "sequential": [
            [
             0,
             "#0d0887"
            ],
            [
             0.1111111111111111,
             "#46039f"
            ],
            [
             0.2222222222222222,
             "#7201a8"
            ],
            [
             0.3333333333333333,
             "#9c179e"
            ],
            [
             0.4444444444444444,
             "#bd3786"
            ],
            [
             0.5555555555555556,
             "#d8576b"
            ],
            [
             0.6666666666666666,
             "#ed7953"
            ],
            [
             0.7777777777777778,
             "#fb9f3a"
            ],
            [
             0.8888888888888888,
             "#fdca26"
            ],
            [
             1,
             "#f0f921"
            ]
           ],
           "sequentialminus": [
            [
             0,
             "#0d0887"
            ],
            [
             0.1111111111111111,
             "#46039f"
            ],
            [
             0.2222222222222222,
             "#7201a8"
            ],
            [
             0.3333333333333333,
             "#9c179e"
            ],
            [
             0.4444444444444444,
             "#bd3786"
            ],
            [
             0.5555555555555556,
             "#d8576b"
            ],
            [
             0.6666666666666666,
             "#ed7953"
            ],
            [
             0.7777777777777778,
             "#fb9f3a"
            ],
            [
             0.8888888888888888,
             "#fdca26"
            ],
            [
             1,
             "#f0f921"
            ]
           ]
          },
          "colorway": [
           "#636efa",
           "#EF553B",
           "#00cc96",
           "#ab63fa",
           "#FFA15A",
           "#19d3f3",
           "#FF6692",
           "#B6E880",
           "#FF97FF",
           "#FECB52"
          ],
          "font": {
           "color": "#2a3f5f"
          },
          "geo": {
           "bgcolor": "white",
           "lakecolor": "white",
           "landcolor": "#E5ECF6",
           "showlakes": true,
           "showland": true,
           "subunitcolor": "white"
          },
          "hoverlabel": {
           "align": "left"
          },
          "hovermode": "closest",
          "mapbox": {
           "style": "light"
          },
          "paper_bgcolor": "white",
          "plot_bgcolor": "#E5ECF6",
          "polar": {
           "angularaxis": {
            "gridcolor": "white",
            "linecolor": "white",
            "ticks": ""
           },
           "bgcolor": "#E5ECF6",
           "radialaxis": {
            "gridcolor": "white",
            "linecolor": "white",
            "ticks": ""
           }
          },
          "scene": {
           "xaxis": {
            "backgroundcolor": "#E5ECF6",
            "gridcolor": "white",
            "gridwidth": 2,
            "linecolor": "white",
            "showbackground": true,
            "ticks": "",
            "zerolinecolor": "white"
           },
           "yaxis": {
            "backgroundcolor": "#E5ECF6",
            "gridcolor": "white",
            "gridwidth": 2,
            "linecolor": "white",
            "showbackground": true,
            "ticks": "",
            "zerolinecolor": "white"
           },
           "zaxis": {
            "backgroundcolor": "#E5ECF6",
            "gridcolor": "white",
            "gridwidth": 2,
            "linecolor": "white",
            "showbackground": true,
            "ticks": "",
            "zerolinecolor": "white"
           }
          },
          "shapedefaults": {
           "line": {
            "color": "#2a3f5f"
           }
          },
          "ternary": {
           "aaxis": {
            "gridcolor": "white",
            "linecolor": "white",
            "ticks": ""
           },
           "baxis": {
            "gridcolor": "white",
            "linecolor": "white",
            "ticks": ""
           },
           "bgcolor": "#E5ECF6",
           "caxis": {
            "gridcolor": "white",
            "linecolor": "white",
            "ticks": ""
           }
          },
          "title": {
           "x": 0.05
          },
          "xaxis": {
           "automargin": true,
           "gridcolor": "white",
           "linecolor": "white",
           "ticks": "",
           "title": {
            "standoff": 15
           },
           "zerolinecolor": "white",
           "zerolinewidth": 2
          },
          "yaxis": {
           "automargin": true,
           "gridcolor": "white",
           "linecolor": "white",
           "ticks": "",
           "title": {
            "standoff": 15
           },
           "zerolinecolor": "white",
           "zerolinewidth": 2
          }
         }
        },
        "title": {
         "text": "Heatmap Korelasi: Faktor Apa yang Paling Berhubungan dengan Kinerja?"
        },
        "xaxis": {
         "anchor": "y",
         "domain": [
          0,
          1
         ]
        },
        "yaxis": {
         "anchor": "x",
         "autorange": "reversed",
         "domain": [
          0,
          1
         ]
        }
       }
      }
     },
     "metadata": {},
     "output_type": "display_data"
    }
   ],
   "source": [
    "# Menyiapkan data numerik\n",
    "df_papi_pivot = dfs['papi_scores'].pivot(\n",
    "    index='employee_id',\n",
    "    columns='scale_code',\n",
    "    values='score'\n",
    ")\n",
    "df_numeric = df_main[['employee_id', 'rating', 'iq', 'years_of_service_months', 'pauli', 'faxtor']].copy()\n",
    "df_corr = pd.merge(df_numeric, df_papi_pivot, on='employee_id', how='inner').set_index('employee_id')\n",
    "correlation_matrix = df_corr.corr()\n",
    "\n",
    "# Heatmap\n",
    "fig_corr = px.imshow(correlation_matrix.loc['rating':'rating', :],\n",
    "                     color_continuous_scale='RdBu_r',\n",
    "                     title='Heatmap Korelasi: Faktor Apa yang Paling Berhubungan dengan Kinerja?',\n",
    "                     text_auto='.2f',\n",
    "                     aspect=\"auto\")\n",
    "fig_corr.show()"
   ]
  },
  {
   "cell_type": "markdown",
   "id": "0d40f705",
   "metadata": {},
   "source": [
    "### Interpretasi"
   ]
  },
  {
   "cell_type": "markdown",
   "id": "bf21af16",
   "metadata": {},
   "source": [
    "Setelah kita melihat berbagai faktor secara terpisah, saya ingin menguji sebuah hipotesis yang umum \"Apakah ada satu 'angka ajaib' seperti IQ, masa kerja, atau preferensi kerja tertentu dari tes PAPI yang bisa secara langsung memprediksi kinerja tinggi?\"\n",
    "\n",
    "Untuk menjawabnya, saya membuat heatmap korelasi ini. Warna merah pekat menandakan hubungan positif yang kuat, sementara biru pekat menandakan hubungan negatif yang kuat. Namun, seperti yang bisa kita lihat di sepanjang baris rating kinerja, semua warnanya netral, dan semua angkanya mendekati nol.\n",
    "\n",
    "Apa artinya ini bagi kita?\n",
    "\n",
    "Ini adalah salah satu temuan kita yang paling penting: **Tidak ada jalan pintas atau 'angka ajaib' menuju kinerja puncak.**\n",
    "\n",
    "Data ini membuktikan bahwa kesuksesan di perusahaan kita tidak ditentukan oleh satu faktor numerik tunggal. Seseorang tidak dijamin menjadi top performer hanya karena IQ-nya tinggi, masa kerjanya lama, atau memiliki skor PAPI tertentu. Temuan ini sangat berharga karena mengarahkan kita menjauh dari asumsi yang terlalu sederhana dan memaksa kita untuk melihat gambaran yang lebih kompleks. Ini memperkuat bukti dari analisis kita sebelumnya bahwa kesuksesan adalah hasil dari kombinasi berbagai faktor: kompetensi strategis yang tepat, bakat alami yang khas, dan lingkungan kerja yang mendukung."
   ]
  },
  {
   "cell_type": "markdown",
   "id": "e26a3773",
   "metadata": {},
   "source": [
    "# Analisis Interaksi Variabel"
   ]
  },
  {
   "cell_type": "code",
   "execution_count": 13,
   "id": "bae69155",
   "metadata": {},
   "outputs": [
    {
     "data": {
      "application/vnd.plotly.v1+json": {
       "config": {
        "plotlyServerURL": "https://plot.ly"
       },
       "data": [
        {
         "branchvalues": "total",
         "domain": {
          "x": [
           0,
           1
          ],
          "y": [
           0,
           1
          ]
         },
         "hovertemplate": "labels=%{label}<br>count=%{value}<br>parent=%{parent}<br>id=%{id}<extra></extra>",
         "ids": [
          "Karyawan Lainnya/III/ENFJ",
          "Top Performer/III/ENFJ",
          "Karyawan Lainnya/IV/ENFJ",
          "Top Performer/IV/ENFJ",
          "Karyawan Lainnya/V/ENFJ",
          "Top Performer/V/ENFJ",
          "Karyawan Lainnya/III/ENFP",
          "Top Performer/III/ENFP",
          "Karyawan Lainnya/IV/ENFP",
          "Top Performer/IV/ENFP",
          "Karyawan Lainnya/V/ENFP",
          "Top Performer/V/ENFP",
          "Karyawan Lainnya/III/ENTJ",
          "Top Performer/III/ENTJ",
          "Karyawan Lainnya/IV/ENTJ",
          "Top Performer/IV/ENTJ",
          "Karyawan Lainnya/V/ENTJ",
          "Top Performer/V/ENTJ",
          "Karyawan Lainnya/III/ENTP",
          "Top Performer/III/ENTP",
          "Karyawan Lainnya/IV/ENTP",
          "Top Performer/IV/ENTP",
          "Karyawan Lainnya/V/ENTP",
          "Top Performer/V/ENTP",
          "Karyawan Lainnya/III/ESFJ",
          "Top Performer/III/ESFJ",
          "Karyawan Lainnya/IV/ESFJ",
          "Top Performer/IV/ESFJ",
          "Karyawan Lainnya/V/ESFJ",
          "Top Performer/V/ESFJ",
          "Karyawan Lainnya/III/ESFP",
          "Top Performer/III/ESFP",
          "Karyawan Lainnya/IV/ESFP",
          "Karyawan Lainnya/V/ESFP",
          "Top Performer/V/ESFP",
          "Karyawan Lainnya/III/ESTJ",
          "Top Performer/III/ESTJ",
          "Karyawan Lainnya/IV/ESTJ",
          "Top Performer/IV/ESTJ",
          "Karyawan Lainnya/V/ESTJ",
          "Top Performer/V/ESTJ",
          "Karyawan Lainnya/III/ESTP",
          "Top Performer/III/ESTP",
          "Karyawan Lainnya/IV/ESTP",
          "Top Performer/IV/ESTP",
          "Karyawan Lainnya/V/ESTP",
          "Top Performer/V/ESTP",
          "Karyawan Lainnya/III/INFJ",
          "Top Performer/III/INFJ",
          "Karyawan Lainnya/IV/INFJ",
          "Top Performer/IV/INFJ",
          "Karyawan Lainnya/V/INFJ",
          "Top Performer/V/INFJ",
          "Karyawan Lainnya/III/INFP",
          "Top Performer/III/INFP",
          "Karyawan Lainnya/IV/INFP",
          "Top Performer/IV/INFP",
          "Karyawan Lainnya/V/INFP",
          "Top Performer/V/INFP",
          "Karyawan Lainnya/III/INFTJ",
          "Karyawan Lainnya/V/INFTJ",
          "Karyawan Lainnya/III/INTJ",
          "Top Performer/III/INTJ",
          "Karyawan Lainnya/IV/INTJ",
          "Top Performer/IV/INTJ",
          "Karyawan Lainnya/V/INTJ",
          "Top Performer/V/INTJ",
          "Karyawan Lainnya/III/INTP",
          "Top Performer/III/INTP",
          "Karyawan Lainnya/IV/INTP",
          "Top Performer/IV/INTP",
          "Karyawan Lainnya/V/INTP",
          "Top Performer/V/INTP",
          "Karyawan Lainnya/III/ISFJ",
          "Top Performer/III/ISFJ",
          "Karyawan Lainnya/IV/ISFJ",
          "Top Performer/IV/ISFJ",
          "Karyawan Lainnya/V/ISFJ",
          "Top Performer/V/ISFJ",
          "Karyawan Lainnya/III/ISFP",
          "Top Performer/III/ISFP",
          "Karyawan Lainnya/IV/ISFP",
          "Top Performer/IV/ISFP",
          "Karyawan Lainnya/V/ISFP",
          "Top Performer/V/ISFP",
          "Karyawan Lainnya/III/ISTJ",
          "Top Performer/III/ISTJ",
          "Karyawan Lainnya/IV/ISTJ",
          "Top Performer/IV/ISTJ",
          "Karyawan Lainnya/V/ISTJ",
          "Top Performer/V/ISTJ",
          "Karyawan Lainnya/III/ISTP",
          "Top Performer/III/ISTP",
          "Karyawan Lainnya/IV/ISTP",
          "Top Performer/IV/ISTP",
          "Karyawan Lainnya/V/ISTP",
          "Top Performer/V/ISTP",
          "Karyawan Lainnya/III",
          "Top Performer/III",
          "Karyawan Lainnya/IV",
          "Top Performer/IV",
          "Karyawan Lainnya/V",
          "Top Performer/V",
          "Karyawan Lainnya",
          "Top Performer"
         ],
         "labels": [
          "ENFJ",
          "ENFJ",
          "ENFJ",
          "ENFJ",
          "ENFJ",
          "ENFJ",
          "ENFP",
          "ENFP",
          "ENFP",
          "ENFP",
          "ENFP",
          "ENFP",
          "ENTJ",
          "ENTJ",
          "ENTJ",
          "ENTJ",
          "ENTJ",
          "ENTJ",
          "ENTP",
          "ENTP",
          "ENTP",
          "ENTP",
          "ENTP",
          "ENTP",
          "ESFJ",
          "ESFJ",
          "ESFJ",
          "ESFJ",
          "ESFJ",
          "ESFJ",
          "ESFP",
          "ESFP",
          "ESFP",
          "ESFP",
          "ESFP",
          "ESTJ",
          "ESTJ",
          "ESTJ",
          "ESTJ",
          "ESTJ",
          "ESTJ",
          "ESTP",
          "ESTP",
          "ESTP",
          "ESTP",
          "ESTP",
          "ESTP",
          "INFJ",
          "INFJ",
          "INFJ",
          "INFJ",
          "INFJ",
          "INFJ",
          "INFP",
          "INFP",
          "INFP",
          "INFP",
          "INFP",
          "INFP",
          "INFTJ",
          "INFTJ",
          "INTJ",
          "INTJ",
          "INTJ",
          "INTJ",
          "INTJ",
          "INTJ",
          "INTP",
          "INTP",
          "INTP",
          "INTP",
          "INTP",
          "INTP",
          "ISFJ",
          "ISFJ",
          "ISFJ",
          "ISFJ",
          "ISFJ",
          "ISFJ",
          "ISFP",
          "ISFP",
          "ISFP",
          "ISFP",
          "ISFP",
          "ISFP",
          "ISTJ",
          "ISTJ",
          "ISTJ",
          "ISTJ",
          "ISTJ",
          "ISTJ",
          "ISTP",
          "ISTP",
          "ISTP",
          "ISTP",
          "ISTP",
          "ISTP",
          "III",
          "III",
          "IV",
          "IV",
          "V",
          "V",
          "Karyawan Lainnya",
          "Top Performer"
         ],
         "name": "",
         "parents": [
          "Karyawan Lainnya/III",
          "Top Performer/III",
          "Karyawan Lainnya/IV",
          "Top Performer/IV",
          "Karyawan Lainnya/V",
          "Top Performer/V",
          "Karyawan Lainnya/III",
          "Top Performer/III",
          "Karyawan Lainnya/IV",
          "Top Performer/IV",
          "Karyawan Lainnya/V",
          "Top Performer/V",
          "Karyawan Lainnya/III",
          "Top Performer/III",
          "Karyawan Lainnya/IV",
          "Top Performer/IV",
          "Karyawan Lainnya/V",
          "Top Performer/V",
          "Karyawan Lainnya/III",
          "Top Performer/III",
          "Karyawan Lainnya/IV",
          "Top Performer/IV",
          "Karyawan Lainnya/V",
          "Top Performer/V",
          "Karyawan Lainnya/III",
          "Top Performer/III",
          "Karyawan Lainnya/IV",
          "Top Performer/IV",
          "Karyawan Lainnya/V",
          "Top Performer/V",
          "Karyawan Lainnya/III",
          "Top Performer/III",
          "Karyawan Lainnya/IV",
          "Karyawan Lainnya/V",
          "Top Performer/V",
          "Karyawan Lainnya/III",
          "Top Performer/III",
          "Karyawan Lainnya/IV",
          "Top Performer/IV",
          "Karyawan Lainnya/V",
          "Top Performer/V",
          "Karyawan Lainnya/III",
          "Top Performer/III",
          "Karyawan Lainnya/IV",
          "Top Performer/IV",
          "Karyawan Lainnya/V",
          "Top Performer/V",
          "Karyawan Lainnya/III",
          "Top Performer/III",
          "Karyawan Lainnya/IV",
          "Top Performer/IV",
          "Karyawan Lainnya/V",
          "Top Performer/V",
          "Karyawan Lainnya/III",
          "Top Performer/III",
          "Karyawan Lainnya/IV",
          "Top Performer/IV",
          "Karyawan Lainnya/V",
          "Top Performer/V",
          "Karyawan Lainnya/III",
          "Karyawan Lainnya/V",
          "Karyawan Lainnya/III",
          "Top Performer/III",
          "Karyawan Lainnya/IV",
          "Top Performer/IV",
          "Karyawan Lainnya/V",
          "Top Performer/V",
          "Karyawan Lainnya/III",
          "Top Performer/III",
          "Karyawan Lainnya/IV",
          "Top Performer/IV",
          "Karyawan Lainnya/V",
          "Top Performer/V",
          "Karyawan Lainnya/III",
          "Top Performer/III",
          "Karyawan Lainnya/IV",
          "Top Performer/IV",
          "Karyawan Lainnya/V",
          "Top Performer/V",
          "Karyawan Lainnya/III",
          "Top Performer/III",
          "Karyawan Lainnya/IV",
          "Top Performer/IV",
          "Karyawan Lainnya/V",
          "Top Performer/V",
          "Karyawan Lainnya/III",
          "Top Performer/III",
          "Karyawan Lainnya/IV",
          "Top Performer/IV",
          "Karyawan Lainnya/V",
          "Top Performer/V",
          "Karyawan Lainnya/III",
          "Top Performer/III",
          "Karyawan Lainnya/IV",
          "Top Performer/IV",
          "Karyawan Lainnya/V",
          "Top Performer/V",
          "Karyawan Lainnya",
          "Top Performer",
          "Karyawan Lainnya",
          "Top Performer",
          "Karyawan Lainnya",
          "Top Performer",
          "",
          ""
         ],
         "type": "sunburst",
         "values": [
          39,
          1,
          38,
          4,
          43,
          5,
          45,
          4,
          38,
          7,
          51,
          5,
          32,
          5,
          36,
          1,
          41,
          3,
          35,
          4,
          38,
          5,
          32,
          4,
          45,
          1,
          36,
          6,
          26,
          4,
          36,
          2,
          33,
          36,
          2,
          34,
          3,
          25,
          4,
          38,
          1,
          22,
          1,
          30,
          7,
          35,
          1,
          29,
          1,
          35,
          1,
          34,
          4,
          46,
          3,
          35,
          3,
          35,
          1,
          2,
          1,
          36,
          3,
          30,
          3,
          30,
          1,
          42,
          4,
          37,
          1,
          45,
          2,
          31,
          2,
          36,
          3,
          35,
          4,
          26,
          3,
          34,
          9,
          40,
          3,
          38,
          4,
          30,
          4,
          34,
          2,
          37,
          5,
          43,
          3,
          22,
          5,
          575,
          46,
          554,
          61,
          578,
          47,
          1707,
          154
         ]
        }
       ],
       "layout": {
        "legend": {
         "tracegroupgap": 0
        },
        "template": {
         "data": {
          "bar": [
           {
            "error_x": {
             "color": "#2a3f5f"
            },
            "error_y": {
             "color": "#2a3f5f"
            },
            "marker": {
             "line": {
              "color": "#E5ECF6",
              "width": 0.5
             },
             "pattern": {
              "fillmode": "overlay",
              "size": 10,
              "solidity": 0.2
             }
            },
            "type": "bar"
           }
          ],
          "barpolar": [
           {
            "marker": {
             "line": {
              "color": "#E5ECF6",
              "width": 0.5
             },
             "pattern": {
              "fillmode": "overlay",
              "size": 10,
              "solidity": 0.2
             }
            },
            "type": "barpolar"
           }
          ],
          "carpet": [
           {
            "aaxis": {
             "endlinecolor": "#2a3f5f",
             "gridcolor": "white",
             "linecolor": "white",
             "minorgridcolor": "white",
             "startlinecolor": "#2a3f5f"
            },
            "baxis": {
             "endlinecolor": "#2a3f5f",
             "gridcolor": "white",
             "linecolor": "white",
             "minorgridcolor": "white",
             "startlinecolor": "#2a3f5f"
            },
            "type": "carpet"
           }
          ],
          "choropleth": [
           {
            "colorbar": {
             "outlinewidth": 0,
             "ticks": ""
            },
            "type": "choropleth"
           }
          ],
          "contour": [
           {
            "colorbar": {
             "outlinewidth": 0,
             "ticks": ""
            },
            "colorscale": [
             [
              0,
              "#0d0887"
             ],
             [
              0.1111111111111111,
              "#46039f"
             ],
             [
              0.2222222222222222,
              "#7201a8"
             ],
             [
              0.3333333333333333,
              "#9c179e"
             ],
             [
              0.4444444444444444,
              "#bd3786"
             ],
             [
              0.5555555555555556,
              "#d8576b"
             ],
             [
              0.6666666666666666,
              "#ed7953"
             ],
             [
              0.7777777777777778,
              "#fb9f3a"
             ],
             [
              0.8888888888888888,
              "#fdca26"
             ],
             [
              1,
              "#f0f921"
             ]
            ],
            "type": "contour"
           }
          ],
          "contourcarpet": [
           {
            "colorbar": {
             "outlinewidth": 0,
             "ticks": ""
            },
            "type": "contourcarpet"
           }
          ],
          "heatmap": [
           {
            "colorbar": {
             "outlinewidth": 0,
             "ticks": ""
            },
            "colorscale": [
             [
              0,
              "#0d0887"
             ],
             [
              0.1111111111111111,
              "#46039f"
             ],
             [
              0.2222222222222222,
              "#7201a8"
             ],
             [
              0.3333333333333333,
              "#9c179e"
             ],
             [
              0.4444444444444444,
              "#bd3786"
             ],
             [
              0.5555555555555556,
              "#d8576b"
             ],
             [
              0.6666666666666666,
              "#ed7953"
             ],
             [
              0.7777777777777778,
              "#fb9f3a"
             ],
             [
              0.8888888888888888,
              "#fdca26"
             ],
             [
              1,
              "#f0f921"
             ]
            ],
            "type": "heatmap"
           }
          ],
          "heatmapgl": [
           {
            "colorbar": {
             "outlinewidth": 0,
             "ticks": ""
            },
            "colorscale": [
             [
              0,
              "#0d0887"
             ],
             [
              0.1111111111111111,
              "#46039f"
             ],
             [
              0.2222222222222222,
              "#7201a8"
             ],
             [
              0.3333333333333333,
              "#9c179e"
             ],
             [
              0.4444444444444444,
              "#bd3786"
             ],
             [
              0.5555555555555556,
              "#d8576b"
             ],
             [
              0.6666666666666666,
              "#ed7953"
             ],
             [
              0.7777777777777778,
              "#fb9f3a"
             ],
             [
              0.8888888888888888,
              "#fdca26"
             ],
             [
              1,
              "#f0f921"
             ]
            ],
            "type": "heatmapgl"
           }
          ],
          "histogram": [
           {
            "marker": {
             "pattern": {
              "fillmode": "overlay",
              "size": 10,
              "solidity": 0.2
             }
            },
            "type": "histogram"
           }
          ],
          "histogram2d": [
           {
            "colorbar": {
             "outlinewidth": 0,
             "ticks": ""
            },
            "colorscale": [
             [
              0,
              "#0d0887"
             ],
             [
              0.1111111111111111,
              "#46039f"
             ],
             [
              0.2222222222222222,
              "#7201a8"
             ],
             [
              0.3333333333333333,
              "#9c179e"
             ],
             [
              0.4444444444444444,
              "#bd3786"
             ],
             [
              0.5555555555555556,
              "#d8576b"
             ],
             [
              0.6666666666666666,
              "#ed7953"
             ],
             [
              0.7777777777777778,
              "#fb9f3a"
             ],
             [
              0.8888888888888888,
              "#fdca26"
             ],
             [
              1,
              "#f0f921"
             ]
            ],
            "type": "histogram2d"
           }
          ],
          "histogram2dcontour": [
           {
            "colorbar": {
             "outlinewidth": 0,
             "ticks": ""
            },
            "colorscale": [
             [
              0,
              "#0d0887"
             ],
             [
              0.1111111111111111,
              "#46039f"
             ],
             [
              0.2222222222222222,
              "#7201a8"
             ],
             [
              0.3333333333333333,
              "#9c179e"
             ],
             [
              0.4444444444444444,
              "#bd3786"
             ],
             [
              0.5555555555555556,
              "#d8576b"
             ],
             [
              0.6666666666666666,
              "#ed7953"
             ],
             [
              0.7777777777777778,
              "#fb9f3a"
             ],
             [
              0.8888888888888888,
              "#fdca26"
             ],
             [
              1,
              "#f0f921"
             ]
            ],
            "type": "histogram2dcontour"
           }
          ],
          "mesh3d": [
           {
            "colorbar": {
             "outlinewidth": 0,
             "ticks": ""
            },
            "type": "mesh3d"
           }
          ],
          "parcoords": [
           {
            "line": {
             "colorbar": {
              "outlinewidth": 0,
              "ticks": ""
             }
            },
            "type": "parcoords"
           }
          ],
          "pie": [
           {
            "automargin": true,
            "type": "pie"
           }
          ],
          "scatter": [
           {
            "fillpattern": {
             "fillmode": "overlay",
             "size": 10,
             "solidity": 0.2
            },
            "type": "scatter"
           }
          ],
          "scatter3d": [
           {
            "line": {
             "colorbar": {
              "outlinewidth": 0,
              "ticks": ""
             }
            },
            "marker": {
             "colorbar": {
              "outlinewidth": 0,
              "ticks": ""
             }
            },
            "type": "scatter3d"
           }
          ],
          "scattercarpet": [
           {
            "marker": {
             "colorbar": {
              "outlinewidth": 0,
              "ticks": ""
             }
            },
            "type": "scattercarpet"
           }
          ],
          "scattergeo": [
           {
            "marker": {
             "colorbar": {
              "outlinewidth": 0,
              "ticks": ""
             }
            },
            "type": "scattergeo"
           }
          ],
          "scattergl": [
           {
            "marker": {
             "colorbar": {
              "outlinewidth": 0,
              "ticks": ""
             }
            },
            "type": "scattergl"
           }
          ],
          "scattermapbox": [
           {
            "marker": {
             "colorbar": {
              "outlinewidth": 0,
              "ticks": ""
             }
            },
            "type": "scattermapbox"
           }
          ],
          "scatterpolar": [
           {
            "marker": {
             "colorbar": {
              "outlinewidth": 0,
              "ticks": ""
             }
            },
            "type": "scatterpolar"
           }
          ],
          "scatterpolargl": [
           {
            "marker": {
             "colorbar": {
              "outlinewidth": 0,
              "ticks": ""
             }
            },
            "type": "scatterpolargl"
           }
          ],
          "scatterternary": [
           {
            "marker": {
             "colorbar": {
              "outlinewidth": 0,
              "ticks": ""
             }
            },
            "type": "scatterternary"
           }
          ],
          "surface": [
           {
            "colorbar": {
             "outlinewidth": 0,
             "ticks": ""
            },
            "colorscale": [
             [
              0,
              "#0d0887"
             ],
             [
              0.1111111111111111,
              "#46039f"
             ],
             [
              0.2222222222222222,
              "#7201a8"
             ],
             [
              0.3333333333333333,
              "#9c179e"
             ],
             [
              0.4444444444444444,
              "#bd3786"
             ],
             [
              0.5555555555555556,
              "#d8576b"
             ],
             [
              0.6666666666666666,
              "#ed7953"
             ],
             [
              0.7777777777777778,
              "#fb9f3a"
             ],
             [
              0.8888888888888888,
              "#fdca26"
             ],
             [
              1,
              "#f0f921"
             ]
            ],
            "type": "surface"
           }
          ],
          "table": [
           {
            "cells": {
             "fill": {
              "color": "#EBF0F8"
             },
             "line": {
              "color": "white"
             }
            },
            "header": {
             "fill": {
              "color": "#C8D4E3"
             },
             "line": {
              "color": "white"
             }
            },
            "type": "table"
           }
          ]
         },
         "layout": {
          "annotationdefaults": {
           "arrowcolor": "#2a3f5f",
           "arrowhead": 0,
           "arrowwidth": 1
          },
          "autotypenumbers": "strict",
          "coloraxis": {
           "colorbar": {
            "outlinewidth": 0,
            "ticks": ""
           }
          },
          "colorscale": {
           "diverging": [
            [
             0,
             "#8e0152"
            ],
            [
             0.1,
             "#c51b7d"
            ],
            [
             0.2,
             "#de77ae"
            ],
            [
             0.3,
             "#f1b6da"
            ],
            [
             0.4,
             "#fde0ef"
            ],
            [
             0.5,
             "#f7f7f7"
            ],
            [
             0.6,
             "#e6f5d0"
            ],
            [
             0.7,
             "#b8e186"
            ],
            [
             0.8,
             "#7fbc41"
            ],
            [
             0.9,
             "#4d9221"
            ],
            [
             1,
             "#276419"
            ]
           ],
           "sequential": [
            [
             0,
             "#0d0887"
            ],
            [
             0.1111111111111111,
             "#46039f"
            ],
            [
             0.2222222222222222,
             "#7201a8"
            ],
            [
             0.3333333333333333,
             "#9c179e"
            ],
            [
             0.4444444444444444,
             "#bd3786"
            ],
            [
             0.5555555555555556,
             "#d8576b"
            ],
            [
             0.6666666666666666,
             "#ed7953"
            ],
            [
             0.7777777777777778,
             "#fb9f3a"
            ],
            [
             0.8888888888888888,
             "#fdca26"
            ],
            [
             1,
             "#f0f921"
            ]
           ],
           "sequentialminus": [
            [
             0,
             "#0d0887"
            ],
            [
             0.1111111111111111,
             "#46039f"
            ],
            [
             0.2222222222222222,
             "#7201a8"
            ],
            [
             0.3333333333333333,
             "#9c179e"
            ],
            [
             0.4444444444444444,
             "#bd3786"
            ],
            [
             0.5555555555555556,
             "#d8576b"
            ],
            [
             0.6666666666666666,
             "#ed7953"
            ],
            [
             0.7777777777777778,
             "#fb9f3a"
            ],
            [
             0.8888888888888888,
             "#fdca26"
            ],
            [
             1,
             "#f0f921"
            ]
           ]
          },
          "colorway": [
           "#636efa",
           "#EF553B",
           "#00cc96",
           "#ab63fa",
           "#FFA15A",
           "#19d3f3",
           "#FF6692",
           "#B6E880",
           "#FF97FF",
           "#FECB52"
          ],
          "font": {
           "color": "#2a3f5f"
          },
          "geo": {
           "bgcolor": "white",
           "lakecolor": "white",
           "landcolor": "#E5ECF6",
           "showlakes": true,
           "showland": true,
           "subunitcolor": "white"
          },
          "hoverlabel": {
           "align": "left"
          },
          "hovermode": "closest",
          "mapbox": {
           "style": "light"
          },
          "paper_bgcolor": "white",
          "plot_bgcolor": "#E5ECF6",
          "polar": {
           "angularaxis": {
            "gridcolor": "white",
            "linecolor": "white",
            "ticks": ""
           },
           "bgcolor": "#E5ECF6",
           "radialaxis": {
            "gridcolor": "white",
            "linecolor": "white",
            "ticks": ""
           }
          },
          "scene": {
           "xaxis": {
            "backgroundcolor": "#E5ECF6",
            "gridcolor": "white",
            "gridwidth": 2,
            "linecolor": "white",
            "showbackground": true,
            "ticks": "",
            "zerolinecolor": "white"
           },
           "yaxis": {
            "backgroundcolor": "#E5ECF6",
            "gridcolor": "white",
            "gridwidth": 2,
            "linecolor": "white",
            "showbackground": true,
            "ticks": "",
            "zerolinecolor": "white"
           },
           "zaxis": {
            "backgroundcolor": "#E5ECF6",
            "gridcolor": "white",
            "gridwidth": 2,
            "linecolor": "white",
            "showbackground": true,
            "ticks": "",
            "zerolinecolor": "white"
           }
          },
          "shapedefaults": {
           "line": {
            "color": "#2a3f5f"
           }
          },
          "ternary": {
           "aaxis": {
            "gridcolor": "white",
            "linecolor": "white",
            "ticks": ""
           },
           "baxis": {
            "gridcolor": "white",
            "linecolor": "white",
            "ticks": ""
           },
           "bgcolor": "#E5ECF6",
           "caxis": {
            "gridcolor": "white",
            "linecolor": "white",
            "ticks": ""
           }
          },
          "title": {
           "x": 0.05
          },
          "xaxis": {
           "automargin": true,
           "gridcolor": "white",
           "linecolor": "white",
           "ticks": "",
           "title": {
            "standoff": 15
           },
           "zerolinecolor": "white",
           "zerolinewidth": 2
          },
          "yaxis": {
           "automargin": true,
           "gridcolor": "white",
           "linecolor": "white",
           "ticks": "",
           "title": {
            "standoff": 15
           },
           "zerolinecolor": "white",
           "zerolinewidth": 2
          }
         }
        },
        "title": {
         "text": "Peta Komposisi Karyawan: Interaksi Antara Status, Jenjang, dan Tipe MBTI"
        }
       }
      }
     },
     "metadata": {},
     "output_type": "display_data"
    }
   ],
   "source": [
    "# Menyiapkan data\n",
    "df_sunburst = df_main.dropna(subset=['name_x', 'mbti']).copy()\n",
    "\n",
    "# Membuat label yang lebih deskriptif untuk legenda\n",
    "df_sunburst['Status'] = df_sunburst['is_top_performer'].map({True: 'Top Performer', False: 'Karyawan Lainnya'})\n",
    "\n",
    "# Sunburst Chart\n",
    "fig_sunburst = px.sunburst(\n",
    "    df_sunburst,\n",
    "    path=['Status', 'name_x', 'mbti'],\n",
    "    title='Peta Komposisi Karyawan: Interaksi Antara Status, Jenjang, dan Tipe MBTI'\n",
    ")\n",
    "fig_sunburst.show()"
   ]
  },
  {
   "cell_type": "markdown",
   "id": "7119cbac",
   "metadata": {},
   "source": [
    "### Interpretasi"
   ]
  },
  {
   "cell_type": "markdown",
   "id": "aaf51148",
   "metadata": {},
   "source": [
    "Semua analisis kita sebelumnya telah menunjukkan faktor-faktor individual yang penting. Sekarang, mari kita gabungkan semuanya untuk melihat gambaran besarnya. Grafik di hadapan kita ini adalah sebuah sunburst chart, yang bisa kita anggap sebagai \"Peta DNA\" organisasi kita.\n",
    "\n",
    "- Lingkaran pusat membagi semua karyawan menjadi dua kelompok: Top Performer (oranye) dan Karyawan Lainnya (biru).\n",
    "- Lingkaran tengah memecah setiap kelompok berdasarkan jenjang jabatan mereka.\n",
    "- Lingkaran terluar memecah lagi berdasarkan tipe kepribadian MBTI.\n",
    "\n",
    "Dengan visualisasi ini, kita bisa menavigasi \"DNA\" organisasi kita. Jika kita fokus pada segmen 'Top Performer' yang kecil namun sangat penting itu, kita bisa langsung melihat bahwa irisan untuk 'Jenjang Jabatan IV' adalah yang paling besar. Ini mengkonfirmasi temuan kita sebelumnya bahwa level ini adalah \"sarang\" bagi para talenta terbaik."
   ]
  },
  {
   "cell_type": "markdown",
   "id": "6ad1b639",
   "metadata": {},
   "source": [
    "#  Faktor Pendorong Utama Kinerja (Success Formula)"
   ]
  },
  {
   "cell_type": "code",
   "execution_count": 14,
   "id": "875b8aea",
   "metadata": {},
   "outputs": [
    {
     "name": "stderr",
     "output_type": "stream",
     "text": [
      "C:\\Users\\ASUS\\AppData\\Local\\Temp\\ipykernel_23028\\1467748489.py:12: FutureWarning:\n",
      "\n",
      "A value is trying to be set on a copy of a DataFrame or Series through chained assignment using an inplace method.\n",
      "The behavior will change in pandas 3.0. This inplace method will never work because the intermediate object on which we are setting values always behaves as a copy.\n",
      "\n",
      "For example, when doing 'df[col].method(value, inplace=True)', try using 'df.method({col: value}, inplace=True)' or df[col] = df[col].method(value) instead, to perform the operation inplace on the original object.\n",
      "\n",
      "\n",
      "\n"
     ]
    },
    {
     "data": {
      "application/vnd.plotly.v1+json": {
       "config": {
        "plotlyServerURL": "https://plot.ly"
       },
       "data": [
        {
         "alignmentgroup": "True",
         "hovertemplate": "importance=%{x}<br>feature=%{y}<extra></extra>",
         "legendgroup": "",
         "marker": {
          "color": "#636efa",
          "pattern": {
           "shape": ""
          }
         },
         "name": "",
         "offsetgroup": "",
         "orientation": "h",
         "showlegend": false,
         "textposition": "auto",
         "texttemplate": "%{x:.3f}",
         "type": "bar",
         "x": [
          0.04161780421381289,
          0.037960946107815995,
          0.033342123838162104,
          0.029397025873648546,
          0.029049837877920235,
          0.02875030350386973,
          0.02828372929054629,
          0.02813144168727857,
          0.028127810773100722,
          0.026787331554877888
         ],
         "xaxis": "x",
         "y": [
          "QDD",
          "STO",
          "SEA",
          "LIE",
          "iq",
          "CSI",
          "years_of_service_months",
          "VCU",
          "FTC",
          "GDR"
         ],
         "yaxis": "y"
        }
       ],
       "layout": {
        "barmode": "relative",
        "legend": {
         "tracegroupgap": 0
        },
        "template": {
         "data": {
          "bar": [
           {
            "error_x": {
             "color": "#2a3f5f"
            },
            "error_y": {
             "color": "#2a3f5f"
            },
            "marker": {
             "line": {
              "color": "#E5ECF6",
              "width": 0.5
             },
             "pattern": {
              "fillmode": "overlay",
              "size": 10,
              "solidity": 0.2
             }
            },
            "type": "bar"
           }
          ],
          "barpolar": [
           {
            "marker": {
             "line": {
              "color": "#E5ECF6",
              "width": 0.5
             },
             "pattern": {
              "fillmode": "overlay",
              "size": 10,
              "solidity": 0.2
             }
            },
            "type": "barpolar"
           }
          ],
          "carpet": [
           {
            "aaxis": {
             "endlinecolor": "#2a3f5f",
             "gridcolor": "white",
             "linecolor": "white",
             "minorgridcolor": "white",
             "startlinecolor": "#2a3f5f"
            },
            "baxis": {
             "endlinecolor": "#2a3f5f",
             "gridcolor": "white",
             "linecolor": "white",
             "minorgridcolor": "white",
             "startlinecolor": "#2a3f5f"
            },
            "type": "carpet"
           }
          ],
          "choropleth": [
           {
            "colorbar": {
             "outlinewidth": 0,
             "ticks": ""
            },
            "type": "choropleth"
           }
          ],
          "contour": [
           {
            "colorbar": {
             "outlinewidth": 0,
             "ticks": ""
            },
            "colorscale": [
             [
              0,
              "#0d0887"
             ],
             [
              0.1111111111111111,
              "#46039f"
             ],
             [
              0.2222222222222222,
              "#7201a8"
             ],
             [
              0.3333333333333333,
              "#9c179e"
             ],
             [
              0.4444444444444444,
              "#bd3786"
             ],
             [
              0.5555555555555556,
              "#d8576b"
             ],
             [
              0.6666666666666666,
              "#ed7953"
             ],
             [
              0.7777777777777778,
              "#fb9f3a"
             ],
             [
              0.8888888888888888,
              "#fdca26"
             ],
             [
              1,
              "#f0f921"
             ]
            ],
            "type": "contour"
           }
          ],
          "contourcarpet": [
           {
            "colorbar": {
             "outlinewidth": 0,
             "ticks": ""
            },
            "type": "contourcarpet"
           }
          ],
          "heatmap": [
           {
            "colorbar": {
             "outlinewidth": 0,
             "ticks": ""
            },
            "colorscale": [
             [
              0,
              "#0d0887"
             ],
             [
              0.1111111111111111,
              "#46039f"
             ],
             [
              0.2222222222222222,
              "#7201a8"
             ],
             [
              0.3333333333333333,
              "#9c179e"
             ],
             [
              0.4444444444444444,
              "#bd3786"
             ],
             [
              0.5555555555555556,
              "#d8576b"
             ],
             [
              0.6666666666666666,
              "#ed7953"
             ],
             [
              0.7777777777777778,
              "#fb9f3a"
             ],
             [
              0.8888888888888888,
              "#fdca26"
             ],
             [
              1,
              "#f0f921"
             ]
            ],
            "type": "heatmap"
           }
          ],
          "heatmapgl": [
           {
            "colorbar": {
             "outlinewidth": 0,
             "ticks": ""
            },
            "colorscale": [
             [
              0,
              "#0d0887"
             ],
             [
              0.1111111111111111,
              "#46039f"
             ],
             [
              0.2222222222222222,
              "#7201a8"
             ],
             [
              0.3333333333333333,
              "#9c179e"
             ],
             [
              0.4444444444444444,
              "#bd3786"
             ],
             [
              0.5555555555555556,
              "#d8576b"
             ],
             [
              0.6666666666666666,
              "#ed7953"
             ],
             [
              0.7777777777777778,
              "#fb9f3a"
             ],
             [
              0.8888888888888888,
              "#fdca26"
             ],
             [
              1,
              "#f0f921"
             ]
            ],
            "type": "heatmapgl"
           }
          ],
          "histogram": [
           {
            "marker": {
             "pattern": {
              "fillmode": "overlay",
              "size": 10,
              "solidity": 0.2
             }
            },
            "type": "histogram"
           }
          ],
          "histogram2d": [
           {
            "colorbar": {
             "outlinewidth": 0,
             "ticks": ""
            },
            "colorscale": [
             [
              0,
              "#0d0887"
             ],
             [
              0.1111111111111111,
              "#46039f"
             ],
             [
              0.2222222222222222,
              "#7201a8"
             ],
             [
              0.3333333333333333,
              "#9c179e"
             ],
             [
              0.4444444444444444,
              "#bd3786"
             ],
             [
              0.5555555555555556,
              "#d8576b"
             ],
             [
              0.6666666666666666,
              "#ed7953"
             ],
             [
              0.7777777777777778,
              "#fb9f3a"
             ],
             [
              0.8888888888888888,
              "#fdca26"
             ],
             [
              1,
              "#f0f921"
             ]
            ],
            "type": "histogram2d"
           }
          ],
          "histogram2dcontour": [
           {
            "colorbar": {
             "outlinewidth": 0,
             "ticks": ""
            },
            "colorscale": [
             [
              0,
              "#0d0887"
             ],
             [
              0.1111111111111111,
              "#46039f"
             ],
             [
              0.2222222222222222,
              "#7201a8"
             ],
             [
              0.3333333333333333,
              "#9c179e"
             ],
             [
              0.4444444444444444,
              "#bd3786"
             ],
             [
              0.5555555555555556,
              "#d8576b"
             ],
             [
              0.6666666666666666,
              "#ed7953"
             ],
             [
              0.7777777777777778,
              "#fb9f3a"
             ],
             [
              0.8888888888888888,
              "#fdca26"
             ],
             [
              1,
              "#f0f921"
             ]
            ],
            "type": "histogram2dcontour"
           }
          ],
          "mesh3d": [
           {
            "colorbar": {
             "outlinewidth": 0,
             "ticks": ""
            },
            "type": "mesh3d"
           }
          ],
          "parcoords": [
           {
            "line": {
             "colorbar": {
              "outlinewidth": 0,
              "ticks": ""
             }
            },
            "type": "parcoords"
           }
          ],
          "pie": [
           {
            "automargin": true,
            "type": "pie"
           }
          ],
          "scatter": [
           {
            "fillpattern": {
             "fillmode": "overlay",
             "size": 10,
             "solidity": 0.2
            },
            "type": "scatter"
           }
          ],
          "scatter3d": [
           {
            "line": {
             "colorbar": {
              "outlinewidth": 0,
              "ticks": ""
             }
            },
            "marker": {
             "colorbar": {
              "outlinewidth": 0,
              "ticks": ""
             }
            },
            "type": "scatter3d"
           }
          ],
          "scattercarpet": [
           {
            "marker": {
             "colorbar": {
              "outlinewidth": 0,
              "ticks": ""
             }
            },
            "type": "scattercarpet"
           }
          ],
          "scattergeo": [
           {
            "marker": {
             "colorbar": {
              "outlinewidth": 0,
              "ticks": ""
             }
            },
            "type": "scattergeo"
           }
          ],
          "scattergl": [
           {
            "marker": {
             "colorbar": {
              "outlinewidth": 0,
              "ticks": ""
             }
            },
            "type": "scattergl"
           }
          ],
          "scattermapbox": [
           {
            "marker": {
             "colorbar": {
              "outlinewidth": 0,
              "ticks": ""
             }
            },
            "type": "scattermapbox"
           }
          ],
          "scatterpolar": [
           {
            "marker": {
             "colorbar": {
              "outlinewidth": 0,
              "ticks": ""
             }
            },
            "type": "scatterpolar"
           }
          ],
          "scatterpolargl": [
           {
            "marker": {
             "colorbar": {
              "outlinewidth": 0,
              "ticks": ""
             }
            },
            "type": "scatterpolargl"
           }
          ],
          "scatterternary": [
           {
            "marker": {
             "colorbar": {
              "outlinewidth": 0,
              "ticks": ""
             }
            },
            "type": "scatterternary"
           }
          ],
          "surface": [
           {
            "colorbar": {
             "outlinewidth": 0,
             "ticks": ""
            },
            "colorscale": [
             [
              0,
              "#0d0887"
             ],
             [
              0.1111111111111111,
              "#46039f"
             ],
             [
              0.2222222222222222,
              "#7201a8"
             ],
             [
              0.3333333333333333,
              "#9c179e"
             ],
             [
              0.4444444444444444,
              "#bd3786"
             ],
             [
              0.5555555555555556,
              "#d8576b"
             ],
             [
              0.6666666666666666,
              "#ed7953"
             ],
             [
              0.7777777777777778,
              "#fb9f3a"
             ],
             [
              0.8888888888888888,
              "#fdca26"
             ],
             [
              1,
              "#f0f921"
             ]
            ],
            "type": "surface"
           }
          ],
          "table": [
           {
            "cells": {
             "fill": {
              "color": "#EBF0F8"
             },
             "line": {
              "color": "white"
             }
            },
            "header": {
             "fill": {
              "color": "#C8D4E3"
             },
             "line": {
              "color": "white"
             }
            },
            "type": "table"
           }
          ]
         },
         "layout": {
          "annotationdefaults": {
           "arrowcolor": "#2a3f5f",
           "arrowhead": 0,
           "arrowwidth": 1
          },
          "autotypenumbers": "strict",
          "coloraxis": {
           "colorbar": {
            "outlinewidth": 0,
            "ticks": ""
           }
          },
          "colorscale": {
           "diverging": [
            [
             0,
             "#8e0152"
            ],
            [
             0.1,
             "#c51b7d"
            ],
            [
             0.2,
             "#de77ae"
            ],
            [
             0.3,
             "#f1b6da"
            ],
            [
             0.4,
             "#fde0ef"
            ],
            [
             0.5,
             "#f7f7f7"
            ],
            [
             0.6,
             "#e6f5d0"
            ],
            [
             0.7,
             "#b8e186"
            ],
            [
             0.8,
             "#7fbc41"
            ],
            [
             0.9,
             "#4d9221"
            ],
            [
             1,
             "#276419"
            ]
           ],
           "sequential": [
            [
             0,
             "#0d0887"
            ],
            [
             0.1111111111111111,
             "#46039f"
            ],
            [
             0.2222222222222222,
             "#7201a8"
            ],
            [
             0.3333333333333333,
             "#9c179e"
            ],
            [
             0.4444444444444444,
             "#bd3786"
            ],
            [
             0.5555555555555556,
             "#d8576b"
            ],
            [
             0.6666666666666666,
             "#ed7953"
            ],
            [
             0.7777777777777778,
             "#fb9f3a"
            ],
            [
             0.8888888888888888,
             "#fdca26"
            ],
            [
             1,
             "#f0f921"
            ]
           ],
           "sequentialminus": [
            [
             0,
             "#0d0887"
            ],
            [
             0.1111111111111111,
             "#46039f"
            ],
            [
             0.2222222222222222,
             "#7201a8"
            ],
            [
             0.3333333333333333,
             "#9c179e"
            ],
            [
             0.4444444444444444,
             "#bd3786"
            ],
            [
             0.5555555555555556,
             "#d8576b"
            ],
            [
             0.6666666666666666,
             "#ed7953"
            ],
            [
             0.7777777777777778,
             "#fb9f3a"
            ],
            [
             0.8888888888888888,
             "#fdca26"
            ],
            [
             1,
             "#f0f921"
            ]
           ]
          },
          "colorway": [
           "#636efa",
           "#EF553B",
           "#00cc96",
           "#ab63fa",
           "#FFA15A",
           "#19d3f3",
           "#FF6692",
           "#B6E880",
           "#FF97FF",
           "#FECB52"
          ],
          "font": {
           "color": "#2a3f5f"
          },
          "geo": {
           "bgcolor": "white",
           "lakecolor": "white",
           "landcolor": "#E5ECF6",
           "showlakes": true,
           "showland": true,
           "subunitcolor": "white"
          },
          "hoverlabel": {
           "align": "left"
          },
          "hovermode": "closest",
          "mapbox": {
           "style": "light"
          },
          "paper_bgcolor": "white",
          "plot_bgcolor": "#E5ECF6",
          "polar": {
           "angularaxis": {
            "gridcolor": "white",
            "linecolor": "white",
            "ticks": ""
           },
           "bgcolor": "#E5ECF6",
           "radialaxis": {
            "gridcolor": "white",
            "linecolor": "white",
            "ticks": ""
           }
          },
          "scene": {
           "xaxis": {
            "backgroundcolor": "#E5ECF6",
            "gridcolor": "white",
            "gridwidth": 2,
            "linecolor": "white",
            "showbackground": true,
            "ticks": "",
            "zerolinecolor": "white"
           },
           "yaxis": {
            "backgroundcolor": "#E5ECF6",
            "gridcolor": "white",
            "gridwidth": 2,
            "linecolor": "white",
            "showbackground": true,
            "ticks": "",
            "zerolinecolor": "white"
           },
           "zaxis": {
            "backgroundcolor": "#E5ECF6",
            "gridcolor": "white",
            "gridwidth": 2,
            "linecolor": "white",
            "showbackground": true,
            "ticks": "",
            "zerolinecolor": "white"
           }
          },
          "shapedefaults": {
           "line": {
            "color": "#2a3f5f"
           }
          },
          "ternary": {
           "aaxis": {
            "gridcolor": "white",
            "linecolor": "white",
            "ticks": ""
           },
           "baxis": {
            "gridcolor": "white",
            "linecolor": "white",
            "ticks": ""
           },
           "bgcolor": "#E5ECF6",
           "caxis": {
            "gridcolor": "white",
            "linecolor": "white",
            "ticks": ""
           }
          },
          "title": {
           "x": 0.05
          },
          "xaxis": {
           "automargin": true,
           "gridcolor": "white",
           "linecolor": "white",
           "ticks": "",
           "title": {
            "standoff": 15
           },
           "zerolinecolor": "white",
           "zerolinewidth": 2
          },
          "yaxis": {
           "automargin": true,
           "gridcolor": "white",
           "linecolor": "white",
           "ticks": "",
           "title": {
            "standoff": 15
           },
           "zerolinecolor": "white",
           "zerolinewidth": 2
          }
         }
        },
        "title": {
         "text": "Peringkat Faktor Pendorong Utama Kinerja Tinggi"
        },
        "xaxis": {
         "anchor": "y",
         "domain": [
          0,
          1
         ],
         "title": {
          "text": "importance"
         }
        },
        "yaxis": {
         "anchor": "x",
         "autorange": "reversed",
         "domain": [
          0,
          1
         ],
         "title": {
          "text": ""
         }
        }
       }
      }
     },
     "metadata": {},
     "output_type": "display_data"
    }
   ],
   "source": [
    "# Persiapan Data untuk Model Feature Importance\n",
    "df_model = df_main.copy()\n",
    "df_model = pd.merge(df_model, dim_departments_renamed, on='department_id', how='left')\n",
    "df_model = pd.merge(df_model, dim_majors_renamed, on='major_id', how='left')\n",
    "\n",
    "# Menambahkan data 5 bakat teratas (seperti sebelumnya, tapi isi nilai kosong dengan 0)\n",
    "df_top5_strengths = dfs['strengths'].query(\"rank <= 5\")\n",
    "df_strengths_pivot = pd.crosstab(df_top5_strengths['employee_id'], df_top5_strengths['theme'])\n",
    "df_model = pd.merge(df_model, df_strengths_pivot, on='employee_id', how='left')\n",
    "for theme in df_strengths_pivot.columns:\n",
    "    if theme in df_model.columns:\n",
    "        df_model[theme].fillna(0, inplace=True)\n",
    "\n",
    "df_competencies_pivot = dfs['competencies_yearly'].pivot_table(\n",
    "    index='employee_id', columns='pillar_code', values='score', aggfunc='mean'\n",
    ")\n",
    "df_model = pd.merge(df_model, df_competencies_pivot, on='employee_id', how='left')\n",
    "\n",
    "df_papi_pivot = dfs['papi_scores'].pivot_table(\n",
    "    index='employee_id', columns='scale_code', values='score', aggfunc='mean'\n",
    ")\n",
    "df_model = pd.merge(df_model, df_papi_pivot, on='employee_id', how='left')\n",
    "\n",
    "# Definisi target dan fitur\n",
    "target = 'is_top_performer'\n",
    "df_model.dropna(subset=[target], inplace=True)\n",
    "\n",
    "# Definisikan semua kolom fitur yang akan digunakan\n",
    "features = [\n",
    "    # Kontekstual & Demografis\n",
    "    'name_x', 'years_of_service_months', 'name_y', 'department_name', 'major_name',\n",
    "    # Psikometri\n",
    "    'iq', 'mbti', 'disc',\n",
    "] + list(df_strengths_pivot.columns) \\\n",
    "  + list(df_competencies_pivot.columns) \\\n",
    "  + list(df_papi_pivot.columns)\n",
    "\n",
    "features = [f for f in features if f in df_model.columns]\n",
    "\n",
    "X = df_model[features]\n",
    "y = df_model[target]\n",
    "\n",
    "# Preprocessing \n",
    "categorical_features = X.select_dtypes(include=['object', 'category']).columns\n",
    "numerical_features = X.select_dtypes(include=np.number).columns\n",
    "\n",
    "numerical_transformer = SimpleImputer(strategy='median')\n",
    "categorical_transformer = Pipeline(steps=[\n",
    "    ('imputer', SimpleImputer(strategy='most_frequent')),\n",
    "    ('onehot', OneHotEncoder(handle_unknown='ignore'))\n",
    "])\n",
    "\n",
    "preprocessor = ColumnTransformer(\n",
    "    transformers=[\n",
    "        ('num', numerical_transformer, numerical_features),\n",
    "        ('cat', categorical_transformer, categorical_features)\n",
    "    ])\n",
    "\n",
    "# Latih Model dengan Penanganan Imbalance\n",
    "model = Pipeline(steps=[('preprocessor', preprocessor),\n",
    "                      ('classifier', RandomForestClassifier(n_estimators=100, random_state=42, class_weight='balanced'))])\n",
    "\n",
    "model.fit(X, y)\n",
    "\n",
    "# Ekstrak dan Tampilkan Hasil\n",
    "importances = model.named_steps['classifier'].feature_importances_\n",
    "try:\n",
    "    cat_feature_names = model.named_steps['preprocessor'].named_transformers_['cat']['onehot'].get_feature_names_out(categorical_features)\n",
    "    feature_names = numerical_features.tolist() + list(cat_feature_names)\n",
    "except AttributeError: # Fallback untuk versi scikit-learn yang lebih lama\n",
    "    cat_feature_names = model.named_steps['preprocessor'].named_transformers_['cat']['onehot'].get_feature_names(categorical_features)\n",
    "    feature_names = numerical_features.tolist() + list(cat_feature_names)\n",
    "\n",
    "feature_importance_df = pd.DataFrame({\n",
    "    'feature': feature_names,\n",
    "    'importance': importances\n",
    "}).sort_values('importance', ascending=False)\n",
    "\n",
    "\n",
    "# Bar chart untuk menampilkan 10 fitur teratas\n",
    "fig_importance = px.bar(feature_importance_df.head(10),\n",
    "                        x='importance',\n",
    "                        y='feature',\n",
    "                        orientation='h',\n",
    "                        title='Peringkat Faktor Pendorong Utama Kinerja Tinggi',\n",
    "                        text_auto='.3f')\n",
    "fig_importance.update_layout(yaxis=dict(autorange=\"reversed\"), yaxis_title=\"\")\n",
    "fig_importance.show()"
   ]
  },
  {
   "cell_type": "markdown",
   "id": "83087553",
   "metadata": {},
   "source": [
    "### Interpretasi"
   ]
  },
  {
   "cell_type": "markdown",
   "id": "00ae67aa",
   "metadata": {},
   "source": [
    "Kita sampai pada puncak dari analisis kita. Setelah melihat setiap faktor secara terpisah, sekarang kita akan menjawab pertanyaan paling penting: \"Dari semua faktor ini, mana yang paling berpengaruh dalam menentukan seorang top performer?\"\n",
    "\n",
    "Untuk menjawabnya, saya membangun sebuah model prediktif yang menunjukkan petunjuk atau faktor mana yang paling sering ia gunakan untuk menebak dengan benar. Ini adalah daftar peringkat faktor pendorong kinerja tinggi, diurutkan dari yang paling berpengaruh di atas. Hasilnya sangat jelas dan bisa langsung ditindaklanjuti. Kita bisa lihat bahwa empat dari lima faktor teratas adalah pilar kompetensi, yaitu QDD, STO, SEA, dan LIE.\n",
    "\n",
    "Apa cerita di balik ini?\n",
    "\n",
    "Ini adalah DNA kesuksesan di perusahaan kita, yang diungkapkan secara kuantitatif. Temuan ini membuktikan bahwa:\n",
    "\n",
    "1. Kompetensi adalah Raja: Jauh di atas faktor lain, penguasaan pada pilar-pilar kompetensi spesifik inilah yang menjadi pembeda paling kuat. Ini mengkonfirmasi temuan dari radar chart kita, namun sekarang dengan bobot yang terukur.\n",
    "2. IQ Adalah Faktor Pendukung Penting: iq muncul di peringkat kelima, menunjukkan bahwa kemampuan kognitif tetap menjadi faktor yang sangat relevan, namun tidak sepenting penguasaan kompetensi kunci.\n",
    "3. Pengalaman Memiliki Peran: years_of_service_months juga masuk dalam 10 besar, memvalidasi analisis awal kita bahwa pengalaman memang berkontribusi terhadap kinerja puncak.\n",
    "\n",
    "Ini bukan lagi sekadar korelasi atau perbandingan. Ini adalah peta jalan kuantitatif yang menunjukkan di mana kita harus memfokuskan upaya kita. Peringkat inilah yang akan menjadi dasar paling kuat dan dapat dipertanggungjawabkan untuk menentukan bobot dalam Success Formula kita."
   ]
  },
  {
   "cell_type": "markdown",
   "id": "ff2db5f0",
   "metadata": {},
   "source": [
    "### Success Formula"
   ]
  },
  {
   "cell_type": "markdown",
   "id": "9e882b0d",
   "metadata": {},
   "source": [
    "Dari sini, Success Formula kita dapat dijelaskan melalui beberapa komponen utama, diurutkan berdasarkan tingkat kepentingannya:\n",
    "\n",
    "1. Kompetensi Inti (Bobot Sangat Tinggi):\n",
    "\n",
    "- Justifikasi: Analisis Feature Importance secara konsisten menempatkan pilar-pilar kompetensi seperti QDD dan STO di peringkat teratas. Ini adalah pembeda paling kuat. Contoh Variabel: Skor QDD, Skor STO, Skor SEA.\n",
    "\n",
    "2. Karakteristik Individu (Bobot Tinggi):\n",
    "\n",
    "- Justifikasi: Faktor psikometri seperti iq dan bakat alami tertentu (strengths) muncul sebagai prediktor kuat setelah kompetensi. Contoh Variabel: Skor iq, Kehadiran bakat 'Futuristic', Kehadiran bakat 'Restorative'.\n",
    "\n",
    "3. Konteks Organisasional & Pengalaman (Bobot Menengah):\n",
    "\n",
    "- Justifikasi: Masa kerja (years_of_service_months) dan berada di departemen tertentu (misalnya, IT) secara konsisten menunjukkan pengaruh yang signifikan dalam analisis. Contoh Variabel: years_of_service_months, department_name_IT."
   ]
  }
 ],
 "metadata": {
  "kernelspec": {
   "display_name": "Python 3",
   "language": "python",
   "name": "python3"
  },
  "language_info": {
   "codemirror_mode": {
    "name": "ipython",
    "version": 3
   },
   "file_extension": ".py",
   "mimetype": "text/x-python",
   "name": "python",
   "nbconvert_exporter": "python",
   "pygments_lexer": "ipython3",
   "version": "3.10.11"
  }
 },
 "nbformat": 4,
 "nbformat_minor": 5
}
